{
 "cells": [
  {
   "cell_type": "markdown",
   "metadata": {},
   "source": [
    "# Load Data"
   ]
  },
  {
   "cell_type": "markdown",
   "metadata": {},
   "source": [
    "# Run tuning"
   ]
  },
  {
   "cell_type": "code",
   "execution_count": null,
   "metadata": {},
   "outputs": [],
   "source": [
    "import optuna\n",
    "import numpy as np\n",
    "from xgboost import XGBRegressor\n",
    "from sklearn.model_selection import LeaveOneOut, cross_val_score\n",
    "\n",
    "# Define the objective function for the Optuna study\n",
    "def objective(trial):\n",
    "    # Define the hyperparameter space\n",
    "    params = {\n",
    "        'max_depth': trial.suggest_int('max_depth', 3, 7),\n",
    "        'eta': trial.suggest_float('eta', 0.01, 0.32),\n",
    "        'subsample': trial.suggest_categorical('subsample', [0.7, 0.8, 0.9]),\n",
    "        'colsample_bytree': trial.suggest_categorical('colsample_bytree', [0.7, 0.8, 0.9]),\n",
    "        'objective': 'reg:squarederror',\n",
    "        'eval_metric': 'mae',\n",
    "    }\n",
    "    \n",
    "    # Initialize the model with the current set of hyperparameters\n",
    "    model = XGBRegressor(**params)\n",
    "    \n",
    "    # Use LeaveOneOut as the cross-validation strategy\n",
    "    loo = LeaveOneOut()\n",
    "    \n",
    "    # Calculate the cross-validated scores\n",
    "    scores = cross_val_score(model, X_train, y_train, cv=loo, scoring='neg_mean_absolute_error')\n",
    "    \n",
    "    # The objective is to maximize the negative mean absolute error (as Optuna minimizes the objective function)\n",
    "    return np.mean(scores)\n",
    "\n",
    "# Create an Optuna study and optimize the objective function\n",
    "study = optuna.create_study(direction='maximize')\n",
    "study.optimize(objective, n_trials=100)  # Adjust n_trials to your preference\n",
    "\n",
    "# Print the best parameters and the best score\n",
    "print(f\"Best parameters found: {study.best_params}\")\n",
    "print(f\"Best MAE score: {study.best_value}\")"
   ]
  }
 ],
 "metadata": {
  "language_info": {
   "name": "python"
  }
 },
 "nbformat": 4,
 "nbformat_minor": 2
}
