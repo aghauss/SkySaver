{
 "cells": [
  {
   "cell_type": "markdown",
   "metadata": {},
   "source": [
    "# Load Data"
   ]
  },
  {
   "cell_type": "code",
   "execution_count": 6,
   "metadata": {},
   "outputs": [],
   "source": [
    "import pandas as pd\n",
    "df_batch1 = pd.read_csv(\"../data/4.processed_data/Query4_results_test_processed.csv\")\n",
    "df_batch2 = pd.read_csv(\"../data/4.processed_data/Query1503_results_conv_processed.csv\")\n",
    "combined_df = pd.concat([df_batch1, df_batch2], ignore_index=True)"
   ]
  },
  {
   "cell_type": "markdown",
   "metadata": {},
   "source": [
    "# Run tuning"
   ]
  },
  {
   "cell_type": "code",
   "execution_count": 4,
   "metadata": {},
   "outputs": [
    {
     "name": "stderr",
     "output_type": "stream",
     "text": [
      "[I 2024-03-17 13:45:19,295] A new study created in memory with name: no-name-022f0505-da72-476b-b721-38a0e34b74e9\n",
      "[I 2024-03-17 13:48:57,112] Trial 0 finished with value: -0.9773205825228116 and parameters: {'max_depth': 4, 'eta': 0.1621228208753755, 'subsample': 0.8, 'colsample_bytree': 0.8}. Best is trial 0 with value: -0.9773205825228116.\n",
      "[I 2024-03-17 13:53:56,724] Trial 1 finished with value: -0.4435390041125549 and parameters: {'max_depth': 6, 'eta': 0.14516580413734517, 'subsample': 0.8, 'colsample_bytree': 0.8}. Best is trial 1 with value: -0.4435390041125549.\n",
      "[I 2024-03-17 13:59:52,559] Trial 2 finished with value: -0.0645182095263273 and parameters: {'max_depth': 8, 'eta': 0.2636706431797748, 'subsample': 0.8, 'colsample_bytree': 0.8}. Best is trial 2 with value: -0.0645182095263273.\n",
      "Exception ignored on calling ctypes callback function: <bound method DataIter._next_wrapper of <xgboost.data.SingleBatchInternalIter object at 0x161bc4c80>>\n",
      "Traceback (most recent call last):\n",
      "  File \"/Users/aghauss/Library/Caches/pypoetry/virtualenvs/playwright-trial-uIq0qThi-py3.12/lib/python3.12/site-packages/xgboost/core.py\", line 641, in _next_wrapper\n",
      "    return self._handle_exception(lambda: self.next(input_data), 0)\n",
      "           ^^^^^^^^^^^^^^^^^^^^^^^^^^^^^^^^^^^^^^^^^^^^^^^^^^^^^^^^\n",
      "  File \"/Users/aghauss/Library/Caches/pypoetry/virtualenvs/playwright-trial-uIq0qThi-py3.12/lib/python3.12/site-packages/xgboost/core.py\", line 557, in _handle_exception\n",
      "    return fn()\n",
      "           ^^^^\n",
      "  File \"/Users/aghauss/Library/Caches/pypoetry/virtualenvs/playwright-trial-uIq0qThi-py3.12/lib/python3.12/site-packages/xgboost/core.py\", line 641, in <lambda>\n",
      "    return self._handle_exception(lambda: self.next(input_data), 0)\n",
      "                                          ^^^^^^^^^^^^^^^^^^^^^\n",
      "  File \"/Users/aghauss/Library/Caches/pypoetry/virtualenvs/playwright-trial-uIq0qThi-py3.12/lib/python3.12/site-packages/xgboost/data.py\", line 1280, in next\n",
      "    input_data(**self.kwargs)\n",
      "  File \"/Users/aghauss/Library/Caches/pypoetry/virtualenvs/playwright-trial-uIq0qThi-py3.12/lib/python3.12/site-packages/xgboost/core.py\", line 730, in inner_f\n",
      "    return func(**kwargs)\n",
      "           ^^^^^^^^^^^^^^\n",
      "  File \"/Users/aghauss/Library/Caches/pypoetry/virtualenvs/playwright-trial-uIq0qThi-py3.12/lib/python3.12/site-packages/xgboost/core.py\", line 624, in input_data\n",
      "    new, cat_codes, feature_names, feature_types = _proxy_transform(\n",
      "                                                   ^^^^^^^^^^^^^^^^^\n",
      "  File \"/Users/aghauss/Library/Caches/pypoetry/virtualenvs/playwright-trial-uIq0qThi-py3.12/lib/python3.12/site-packages/xgboost/data.py\", line 1318, in _proxy_transform\n",
      "    arr, _ = _ensure_np_dtype(arr, arr.dtype)\n",
      "             ^^^^^^^^^^^^^^^^^^^^^^^^^^^^^^^^\n",
      "  File \"/Users/aghauss/Library/Caches/pypoetry/virtualenvs/playwright-trial-uIq0qThi-py3.12/lib/python3.12/site-packages/xgboost/data.py\", line 176, in _ensure_np_dtype\n",
      "    data = data.astype(dtype, copy=False)\n",
      "           ^^^^^^^^^^^^^^^^^^^^^^^^^^^^^^\n",
      "KeyboardInterrupt: \n"
     ]
    }
   ],
   "source": [
    "import optuna\n",
    "import numpy as np\n",
    "from xgboost import XGBRegressor\n",
    "from sklearn.model_selection import LeaveOneOut, cross_val_score\n",
    "import pandas as pd\n",
    "\n",
    "\n",
    "X = pd.get_dummies(combined_df[['Journey_route','days_until_departure','Detected_Country','Detected_Currency']])\n",
    "y = combined_df['average_savings_for_Journey_route_in_Detected_Country']\n",
    "\n",
    "\n",
    "# Define the objective function for the Optuna study\n",
    "def objective(trial):\n",
    "    # Define the hyperparameter space\n",
    "    params = {\n",
    "        'max_depth': trial.suggest_int('max_depth', 3, 8),\n",
    "        'eta': trial.suggest_float('eta', 0.01, 0.38),\n",
    "        'subsample': trial.suggest_categorical('subsample', [0.8, 0.9]),\n",
    "        'colsample_bytree': trial.suggest_categorical('colsample_bytree', [0.7, 0.8, 0.9]),\n",
    "        'objective': 'reg:squarederror',\n",
    "        'eval_metric': 'mae',\n",
    "    }\n",
    "    \n",
    "    # Initialize the model with the current set of hyperparameters\n",
    "    model = XGBRegressor(**params)\n",
    "    \n",
    "    # Use LeaveOneOut as the cross-validation strategy\n",
    "    loo = LeaveOneOut()\n",
    "    \n",
    "    # Calculate the cross-validated scores\n",
    "    scores = cross_val_score(model, X, y, cv=loo, scoring='neg_mean_absolute_error')\n",
    "    \n",
    "    # The objective is to maximize the negative mean absolute error (as Optuna minimizes the objective function)\n",
    "    return np.mean(scores)\n",
    "\n",
    "# Create an Optuna study and optimize the objective function\n",
    "study = optuna.create_study(direction='maximize')\n",
    "study.optimize(objective, n_trials=20)  # Adjust n_trials to your preference\n",
    "\n",
    "# Print the best parameters and the best score\n",
    "print(f\"Best parameters found: {study.best_params}\")\n",
    "print(f\"Best MAE score: -{study.best_value}\")"
   ]
  },
  {
   "cell_type": "code",
   "execution_count": null,
   "metadata": {},
   "outputs": [],
   "source": []
  }
 ],
 "metadata": {
  "kernelspec": {
   "display_name": "playwright-trial-uIq0qThi-py3.12",
   "language": "python",
   "name": "python3"
  },
  "language_info": {
   "codemirror_mode": {
    "name": "ipython",
    "version": 3
   },
   "file_extension": ".py",
   "mimetype": "text/x-python",
   "name": "python",
   "nbconvert_exporter": "python",
   "pygments_lexer": "ipython3",
   "version": "3.12.1"
  }
 },
 "nbformat": 4,
 "nbformat_minor": 2
}
