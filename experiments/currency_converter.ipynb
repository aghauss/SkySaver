{
 "cells": [
  {
   "cell_type": "code",
   "execution_count": 3,
   "metadata": {},
   "outputs": [
    {
     "name": "stdout",
     "output_type": "stream",
     "text": [
      "Failed to fetch rate for JOD: Currency Rates Source Not Ready\n",
      "{\n",
      "    \"CHF\": 1.1345485196501948,\n",
      "    \"TRY\": 0.032438522553027406,\n",
      "    \"PLN\": 0.24811059907834102,\n",
      "    \"GBP\": 1.2578704514923194,\n",
      "    \"AUD\": 0.6519343706484229,\n",
      "    \"BRL\": 0.20107934492353083,\n",
      "    \"IDR\": 6.395294279751362e-05,\n",
      "    \"EUR\": 1.0768,\n",
      "    \"ALL\": 1.0892,\n",
      "    \"JPY\": 0.006651840869780084,\n",
      "    \"BDT\": 0.01208803967424657,\n",
      "    \"USD\": 1.0\n",
      "}\n"
     ]
    }
   ],
   "source": [
    "from forex_python.converter import CurrencyRates\n",
    "import json\n",
    "\n",
    "# Initialize the CurrencyRates object\n",
    "c = CurrencyRates()\n",
    "\n",
    "# List of currencies you want to get the conversion rate for\n",
    "currencies = ['CHF', 'TRY', 'PLN', 'GBP', 'JOD', 'AUD', 'BRL', 'IDR', 'EUR', 'ALL', 'JPY', 'BDT']\n",
    "\n",
    "# Dictionary to store conversion rates\n",
    "conversion_rates = {}\n",
    "\n",
    "# Fetch and store the conversion rate for each currency to USD\n",
    "for currency in currencies:\n",
    "    try:\n",
    "        rate = c.get_rate(currency, 'USD')\n",
    "        conversion_rates[currency] = rate\n",
    "    except Exception as e:\n",
    "        print(f\"Failed to fetch rate for {currency}: {e}\")\n",
    "\n",
    "# Add USD to USD conversion rate\n",
    "conversion_rates['USD'] = 1.0\n",
    "\n",
    "# Print the conversion rates\n",
    "print(json.dumps(conversion_rates, indent=4))\n",
    "\n"
   ]
  },
  {
   "cell_type": "code",
   "execution_count": null,
   "metadata": {},
   "outputs": [],
   "source": []
  }
 ],
 "metadata": {
  "kernelspec": {
   "display_name": "playwright-trial-uIq0qThi-py3.12",
   "language": "python",
   "name": "python3"
  },
  "language_info": {
   "codemirror_mode": {
    "name": "ipython",
    "version": 3
   },
   "file_extension": ".py",
   "mimetype": "text/x-python",
   "name": "python",
   "nbconvert_exporter": "python",
   "pygments_lexer": "ipython3",
   "version": "3.12.1"
  }
 },
 "nbformat": 4,
 "nbformat_minor": 2
}
