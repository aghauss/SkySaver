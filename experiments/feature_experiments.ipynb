{
 "cells": [
  {
   "cell_type": "markdown",
   "metadata": {},
   "source": [
    "# Notebook to experiment with different features"
   ]
  },
  {
   "cell_type": "code",
   "execution_count": 1,
   "metadata": {},
   "outputs": [],
   "source": [
    "import pandas as pd\n",
    "df_1 = pd.read_csv('../data/4.processed_data/Query4_results_test_processed.csv')\n",
    "df_2 = pd.read_csv('../data/4.processed_data/Query1503_results_conv_processed.csv')\n",
    "df_3 = pd.read_csv('../data/4.processed_data/Query1603_results_test_processed.csv')\n",
    "df = pd.concat([df_1,df_2,df_3])"
   ]
  },
  {
   "cell_type": "markdown",
   "metadata": {},
   "source": [
    "## Baseline Target: \"mean_savings_for_Journey_route_in_Detected_Country\" "
   ]
  },
  {
   "cell_type": "markdown",
   "metadata": {},
   "source": [
    "### With no changes"
   ]
  },
  {
   "cell_type": "code",
   "execution_count": 2,
   "metadata": {},
   "outputs": [],
   "source": [
    "# Calculate the average of rel_diff_to_min_price_FlightID for each Journey_ID and Detected_Country\n",
    "mean_savings_journeyID = df.groupby(['Journey_ID', 'Detected_Country'])['rel_diff_to_min_price_FlightID'].mean().reset_index(name='mean_savings_for_JourneyID_in_Detected_Country')\n",
    "# Merge the average_savings DataFrame back into df_reduced\n",
    "df = df.merge(mean_savings_journeyID, on=['Journey_ID', 'Detected_Country'], how='left')"
   ]
  },
  {
   "cell_type": "code",
   "execution_count": 3,
   "metadata": {},
   "outputs": [
    {
     "data": {
      "text/plain": [
       "count    5806.000000\n",
       "mean        3.090059\n",
       "std         7.462736\n",
       "min         0.000000\n",
       "25%         0.655104\n",
       "50%         2.108359\n",
       "75%         3.941099\n",
       "max       169.333250\n",
       "Name: mean_savings_for_JourneyID_in_Detected_Country, dtype: float64"
      ]
     },
     "execution_count": 3,
     "metadata": {},
     "output_type": "execute_result"
    }
   ],
   "source": [
    "df.mean_savings_for_JourneyID_in_Detected_Country.describe()"
   ]
  },
  {
   "cell_type": "markdown",
   "metadata": {},
   "source": [
    "### Trimmed Mean"
   ]
  },
  {
   "cell_type": "code",
   "execution_count": 4,
   "metadata": {},
   "outputs": [],
   "source": [
    "import pandas as pd\n",
    "from scipy.stats import trim_mean\n",
    "\n",
    "# Assuming df is your DataFrame and it's already defined\n",
    "\n",
    "# Calculate the trimmed mean of rel_diff_to_min_price_FlightID for each Journey_ID and Detected_Country\n",
    "trimmed_average_savings_journeyID = df.groupby(['Journey_ID', 'Detected_Country'])['rel_diff_to_min_price_FlightID'].apply(lambda x: trim_mean(x, proportiontocut=0.1)).reset_index(name='trimmed_mean_savings_for_JourneyID_in_Detected_Country')\n",
    "\n",
    "# Merge the trimmed_average_savings DataFrame back into df\n",
    "df = df.merge(trimmed_average_savings_journeyID, on=['Journey_ID', 'Detected_Country'], how='left')\n"
   ]
  },
  {
   "cell_type": "code",
   "execution_count": 5,
   "metadata": {},
   "outputs": [
    {
     "data": {
      "text/plain": [
       "count    5806.000000\n",
       "mean        3.080453\n",
       "std         7.462026\n",
       "min         0.000000\n",
       "25%         0.655104\n",
       "50%         2.108359\n",
       "75%         3.940695\n",
       "max       169.333250\n",
       "Name: trimmed_mean_savings_for_JourneyID_in_Detected_Country, dtype: float64"
      ]
     },
     "execution_count": 5,
     "metadata": {},
     "output_type": "execute_result"
    }
   ],
   "source": [
    "df.trimmed_mean_savings_for_JourneyID_in_Detected_Country.describe()"
   ]
  },
  {
   "cell_type": "markdown",
   "metadata": {},
   "source": [
    "### Log of mean savings"
   ]
  },
  {
   "cell_type": "code",
   "execution_count": 6,
   "metadata": {},
   "outputs": [],
   "source": [
    "import numpy as np\n",
    "\n",
    "# Apply log transformation with a small constant to avoid log(0)\n",
    "df['log_mean_savings_for_JourneyID_in_Detected_Country'] = np.log(df['mean_savings_for_JourneyID_in_Detected_Country'] + 1)\n"
   ]
  },
  {
   "cell_type": "code",
   "execution_count": 7,
   "metadata": {},
   "outputs": [
    {
     "data": {
      "text/plain": [
       "count    5806.000000\n",
       "mean        1.061073\n",
       "std         0.740117\n",
       "min         0.000000\n",
       "25%         0.503864\n",
       "50%         1.134095\n",
       "75%         1.597588\n",
       "max         5.137757\n",
       "Name: log_mean_savings_for_JourneyID_in_Detected_Country, dtype: float64"
      ]
     },
     "execution_count": 7,
     "metadata": {},
     "output_type": "execute_result"
    }
   ],
   "source": [
    "df.log_mean_savings_for_JourneyID_in_Detected_Country.describe()"
   ]
  },
  {
   "cell_type": "markdown",
   "metadata": {},
   "source": [
    "# Target 2 \"mean_savings_for_Journey_route_in_Detected_Country\""
   ]
  },
  {
   "cell_type": "code",
   "execution_count": 8,
   "metadata": {},
   "outputs": [],
   "source": [
    "# Calculate the average of rel_diff_to_min_price_FlightID for each Journey_ID and Detected_Country\n",
    "mean_savings_journey_route = df.groupby(['Journey_route', 'Detected_Country'])['rel_diff_to_min_price_FlightID'].mean().reset_index(name='mean_savings_for_Journey_route_in_Detected_Country')\n",
    "# Merge the average_savings DataFrame back into df_reduced\n",
    "df = df.merge(mean_savings_journey_route, on=['Journey_route', 'Detected_Country'], how='left')"
   ]
  },
  {
   "cell_type": "markdown",
   "metadata": {},
   "source": [
    "### With no changes"
   ]
  },
  {
   "cell_type": "code",
   "execution_count": 9,
   "metadata": {},
   "outputs": [
    {
     "data": {
      "text/plain": [
       "count    5806.000000\n",
       "mean        3.090059\n",
       "std         4.027117\n",
       "min         0.000000\n",
       "25%         1.499970\n",
       "50%         2.469589\n",
       "75%         3.941347\n",
       "max        95.490787\n",
       "Name: mean_savings_for_Journey_route_in_Detected_Country, dtype: float64"
      ]
     },
     "execution_count": 9,
     "metadata": {},
     "output_type": "execute_result"
    }
   ],
   "source": [
    "df.mean_savings_for_Journey_route_in_Detected_Country.describe()"
   ]
  },
  {
   "cell_type": "markdown",
   "metadata": {},
   "source": [
    "### Trimmed "
   ]
  },
  {
   "cell_type": "code",
   "execution_count": 10,
   "metadata": {},
   "outputs": [],
   "source": [
    "import pandas as pd\n",
    "from scipy.stats import trim_mean\n",
    "\n",
    "# Assuming df is your DataFrame and it's already defined\n",
    "\n",
    "# Calculate the trimmed mean of rel_diff_to_min_price_FlightID for each Journey_ID and Detected_Country\n",
    "trimmed_average_savings_journey_route = df.groupby(['Journey_route', 'Detected_Country'])['rel_diff_to_min_price_FlightID'].apply(lambda x: trim_mean(x, proportiontocut=0.1)).reset_index(name='trimmed_mean_savings_for_Journey_route_in_Detected_Country')\n",
    "\n",
    "# Merge the trimmed_average_savings DataFrame back into df\n",
    "df = df.merge(trimmed_average_savings_journey_route, on=['Journey_route', 'Detected_Country'], how='left')"
   ]
  },
  {
   "cell_type": "markdown",
   "metadata": {},
   "source": [
    "### Log"
   ]
  },
  {
   "cell_type": "code",
   "execution_count": 11,
   "metadata": {},
   "outputs": [],
   "source": [
    "import numpy as np\n",
    "\n",
    "# Apply log transformation with a small constant to avoid log(0)\n",
    "df['log_mean_savings_for_Journey_route_in_Detected_Country'] = np.log(df['trimmed_mean_savings_for_Journey_route_in_Detected_Country'] + 1)"
   ]
  },
  {
   "cell_type": "code",
   "execution_count": 12,
   "metadata": {},
   "outputs": [
    {
     "data": {
      "text/plain": [
       "count    5806.000000\n",
       "mean        1.127865\n",
       "std         0.502468\n",
       "min         0.000000\n",
       "25%         0.823209\n",
       "50%         1.106425\n",
       "75%         1.566289\n",
       "max         4.569448\n",
       "Name: log_mean_savings_for_Journey_route_in_Detected_Country, dtype: float64"
      ]
     },
     "execution_count": 12,
     "metadata": {},
     "output_type": "execute_result"
    }
   ],
   "source": [
    "df.log_mean_savings_for_Journey_route_in_Detected_Country.describe()"
   ]
  },
  {
   "cell_type": "markdown",
   "metadata": {},
   "source": [
    "# Target 3: \"median_savings_for_Journey_route_in_Detected_Country\""
   ]
  },
  {
   "cell_type": "code",
   "execution_count": 13,
   "metadata": {},
   "outputs": [],
   "source": [
    "median_savings_Journey_route_train = df.groupby(['Journey_route','Detected_Country'])['rel_diff_to_min_price_FlightID'].median().reset_index(name='median_savings_for_Journey_route_country')\n",
    "\n",
    "df = df.merge(median_savings_Journey_route_train, on=['Journey_route', 'Detected_Country'], how='left')\n"
   ]
  },
  {
   "cell_type": "markdown",
   "metadata": {},
   "source": [
    "## Target 4: \"normalized_mean_savings\""
   ]
  },
  {
   "cell_type": "code",
   "execution_count": 14,
   "metadata": {},
   "outputs": [
    {
     "data": {
      "text/plain": [
       "Index(['airline_code', 'departure_airport_code', 'destination_airport_code',\n",
       "       'ticket_price', 'departure_date', 'arrival_date', 'First_flight',\n",
       "       'first_flight_code', 'last_flight_code', 'Detected_Language',\n",
       "       'Detected_Country', 'Detected_Currency', 'Flight_ID', 'Price_in_USD',\n",
       "       'commute_time', 'query_date', 'days_until_departure',\n",
       "       'FlightID_in_Countries_Count', 'departure_date_day', 'arrival_date_day',\n",
       "       'Journey_route', 'Journey_ID', 'max_price_FlightID',\n",
       "       'min_price_FlightID', 'max_price_diff_FlightID',\n",
       "       'max_rel_price_diff_FlightID', 'abs_diff_to_min_price_FlightID',\n",
       "       'rel_diff_to_min_price_FlightID', 'rel_price_score_FlightID',\n",
       "       'max_price_JourneyID', 'min_price_JourneyID', 'max_abs_diff_JourneyID',\n",
       "       'max_rel_diff_Journey', 'abs_diff_to_min_price_JourneyID',\n",
       "       'rel_diff_to_min_price_JourneyID', 'rel_price_score_JourneyID',\n",
       "       'max_journey_same_country', 'min_journey_same_country',\n",
       "       'max_abs_diff_perIDGroup_Journey_same_country',\n",
       "       'max_rel_diff_perIDGroup_Journey_same_country',\n",
       "       'price_diff_loc_to_glob_Journey_min',\n",
       "       'rel_price_diff_loc_to_glob_Journey_min', 'Cheapest_Location_Journey',\n",
       "       'Cheapest_Location_Flight',\n",
       "       'average_savings_for_Journey_route_in_Detected_Country',\n",
       "       'Mode_Cheapest_Location_Journey',\n",
       "       'mean_savings_for_JourneyID_in_Detected_Country',\n",
       "       'trimmed_mean_savings_for_JourneyID_in_Detected_Country',\n",
       "       'log_mean_savings_for_JourneyID_in_Detected_Country',\n",
       "       'mean_savings_for_Journey_route_in_Detected_Country',\n",
       "       'trimmed_mean_savings_for_Journey_route_in_Detected_Country',\n",
       "       'log_mean_savings_for_Journey_route_in_Detected_Country',\n",
       "       'median_savings_for_Journey_route_country'],\n",
       "      dtype='object')"
      ]
     },
     "execution_count": 14,
     "metadata": {},
     "output_type": "execute_result"
    }
   ],
   "source": [
    "df.columns"
   ]
  },
  {
   "cell_type": "code",
   "execution_count": 15,
   "metadata": {},
   "outputs": [],
   "source": [
    "df['normalized_mean_savings'] = df[['mean_savings_for_JourneyID_in_Detected_Country', 'median_savings_for_Journey_route_country']].mean(axis=1)"
   ]
  },
  {
   "cell_type": "code",
   "execution_count": 16,
   "metadata": {},
   "outputs": [
    {
     "data": {
      "text/plain": [
       "count    5806.000000\n",
       "mean        2.630391\n",
       "std         4.413457\n",
       "min         0.000000\n",
       "25%         0.751915\n",
       "50%         1.981605\n",
       "75%         3.716443\n",
       "max       107.490743\n",
       "Name: normalized_mean_savings, dtype: float64"
      ]
     },
     "execution_count": 16,
     "metadata": {},
     "output_type": "execute_result"
    }
   ],
   "source": [
    "df.normalized_mean_savings.describe()"
   ]
  }
 ],
 "metadata": {
  "kernelspec": {
   "display_name": "playwright-trial-uIq0qThi-py3.12",
   "language": "python",
   "name": "python3"
  },
  "language_info": {
   "codemirror_mode": {
    "name": "ipython",
    "version": 3
   },
   "file_extension": ".py",
   "mimetype": "text/x-python",
   "name": "python",
   "nbconvert_exporter": "python",
   "pygments_lexer": "ipython3",
   "version": "3.12.1"
  }
 },
 "nbformat": 4,
 "nbformat_minor": 2
}
