{
 "cells": [
  {
   "cell_type": "markdown",
   "metadata": {},
   "source": [
    "# Imports"
   ]
  },
  {
   "cell_type": "code",
   "execution_count": 1,
   "metadata": {},
   "outputs": [],
   "source": [
    "import pandas as pd\n",
    "import numpy as np\n",
    "import ast\n",
    "from datetime import datetime"
   ]
  },
  {
   "cell_type": "markdown",
   "metadata": {},
   "source": [
    "# Helper functions"
   ]
  },
  {
   "cell_type": "code",
   "execution_count": 2,
   "metadata": {},
   "outputs": [],
   "source": [
    "conversion_rates = {\n",
    "    'CHF': 1.14,  # 1 CHF = 1.134556 USD as of Feb 20, 2024, according to X-Rates\n",
    "    'TRY': 0.032,   # 1 TRY = 0.03230 USD as of Feb 21, 2024, according to Wise\n",
    "    'PLN': 0.25,  # 1 PLN = 0.250338 USD as of Feb 21, 2024, according to Xe.com\n",
    "    'GBP': 1.26,      # Example rate, adjust with the actual rate when available\n",
    "    'JOD': 1.41,      # Example rate, adjust with the actual rate when available\n",
    "    'AUD' : 0.66,\n",
    "    'BRL' : 0.2,\n",
    "    'IDR' : 0.000064,\n",
    "    'USD' : 1.0,\n",
    "    'EUR' : 1.08,\n",
    "    'ALL' : 0.010,\n",
    "    'JPY' : 0.0066,\n",
    "    'BDT' : 0.0091,\n",
    "}\n",
    "\n"
   ]
  },
  {
   "cell_type": "code",
   "execution_count": 3,
   "metadata": {},
   "outputs": [],
   "source": [
    "def convert_to_usd(row, price_col_name, currency_col_name):\n",
    "    price = row[price_col_name]\n",
    "    currency = row[currency_col_name]\n",
    "    price = row['ticket_price']\n",
    "    conversion_rate = conversion_rates.get(currency)\n",
    "\n",
    "    # Check if conversion_rate is None\n",
    "    if conversion_rate is None:\n",
    "        # Handle the error (e.g., return 0, raise an exception, or use a default conversion rate)\n",
    "        raise ValueError(f\"Conversion rate for currency '{currency}' is not available.\")\n",
    "        # Alternatively, you can return 0 or some default value instead of raising an error\n",
    "        # return 0\n",
    "    \n",
    "    return price * conversion_rate\n"
   ]
  },
  {
   "cell_type": "code",
   "execution_count": 4,
   "metadata": {},
   "outputs": [],
   "source": [
    "def clean_fifth_element(lst):\n",
    "    cleaned_lst = []\n",
    "    for item in lst:\n",
    "        if len(item) >= 5:\n",
    "            fifth_element = item[4]\n",
    "            if isinstance(fifth_element, int):\n",
    "                cleaned_lst.append(fifth_element)\n",
    "            else:\n",
    "                try:\n",
    "                    cleaned_lst.append(int(fifth_element))\n",
    "                except ValueError:\n",
    "                    # If the fifth element cannot be converted to an integer, replace it with 0\n",
    "                    cleaned_lst.append(0)\n",
    "        else:\n",
    "            cleaned_lst.append(0)  # If the list is too short, consider the fifth element as 0\n",
    "    return cleaned_lst\n",
    "\n"
   ]
  },
  {
   "cell_type": "code",
   "execution_count": 5,
   "metadata": {},
   "outputs": [],
   "source": [
    "def convert_list_to_datetime(date_list):\n",
    "    # Convert 'null' strings to 0 and other elements to integers\n",
    "    date_list = [0 if element == 'null' else int(element) for element in date_list]\n",
    "    \n",
    "    try:\n",
    "        if len(date_list) == 5:\n",
    "            # If all components are present, unpack the list directly into datetime\n",
    "            return datetime(*date_list)\n",
    "        elif len(date_list) == 4:\n",
    "            # If the minute is missing (or any single component), append 0 for minutes and then convert\n",
    "            return datetime(*(date_list + [0]))\n",
    "        else:\n",
    "            # Return None for lists of unexpected length to indicate an issue\n",
    "            return None\n",
    "    except TypeError:\n",
    "        # Handle cases where the list contents cannot be directly unpacked into datetime\n",
    "        return None\n",
    "\n",
    "\n"
   ]
  },
  {
   "cell_type": "code",
   "execution_count": 6,
   "metadata": {},
   "outputs": [],
   "source": [
    "def clean_fifth_element(lst):\n",
    "    cleaned_lst = []\n",
    "    for item in lst:\n",
    "        if len(item) >= 5:\n",
    "            fifth_element = item[4]\n",
    "            if isinstance(fifth_element, int):\n",
    "                cleaned_lst.append(item[:4] + [fifth_element] + item[5:])\n",
    "            else:\n",
    "                try:\n",
    "                    cleaned_lst.append(item[:4] + [int(fifth_element)] + item[5:])\n",
    "                except ValueError:\n",
    "                    # If the fifth element cannot be converted to an integer, replace it with 0\n",
    "                    cleaned_lst.append(item[:4] + [0] + item[5:])\n",
    "        else:\n",
    "            # If the list is too short, consider the fifth element as 0\n",
    "            cleaned_lst.append(item[:4] + [0])\n",
    "    return cleaned_lst\n",
    "\n"
   ]
  },
  {
   "cell_type": "markdown",
   "metadata": {},
   "source": [
    "# Read and Clean Dataset"
   ]
  },
  {
   "cell_type": "code",
   "execution_count": 7,
   "metadata": {},
   "outputs": [],
   "source": [
    "df = pd.read_csv('../data/query_results/Query4_results_test.csv')"
   ]
  },
  {
   "cell_type": "code",
   "execution_count": 8,
   "metadata": {},
   "outputs": [],
   "source": [
    "for i in ['arrival_date','departure_date']:\n",
    "    df[i] = df[i].apply(ast.literal_eval)"
   ]
  },
  {
   "cell_type": "code",
   "execution_count": 9,
   "metadata": {},
   "outputs": [],
   "source": [
    "df['arrival_date'] = clean_fifth_element(df['arrival_date'])\n",
    "df['departure_date'] = clean_fifth_element(df['departure_date'])"
   ]
  },
  {
   "cell_type": "code",
   "execution_count": 10,
   "metadata": {},
   "outputs": [],
   "source": [
    "for i in ['arrival_date','departure_date']:\n",
    "    df[i] = df[i].apply(convert_list_to_datetime)"
   ]
  },
  {
   "cell_type": "markdown",
   "metadata": {},
   "source": [
    "**Create identifier (FlightID) for identical flights**"
   ]
  },
  {
   "cell_type": "code",
   "execution_count": 11,
   "metadata": {},
   "outputs": [],
   "source": [
    "df['Flight_ID'] = df[['airline_code', 'departure_airport_code', 'destination_airport_code','First_flight','last_flight_code','arrival_date','departure_date', 'departure_time','selling_airline','arrival_time','first_flight_code']].astype(str).agg('-'.join, axis=1)"
   ]
  },
  {
   "cell_type": "code",
   "execution_count": 12,
   "metadata": {},
   "outputs": [],
   "source": [
    "df = df.drop(['departure_time','selling_airline','arrival_time'], axis = 1)"
   ]
  },
  {
   "cell_type": "markdown",
   "metadata": {},
   "source": [
    "**Remove duplicates**"
   ]
  },
  {
   "cell_type": "code",
   "execution_count": 13,
   "metadata": {},
   "outputs": [],
   "source": [
    "df[\"Duplicate_checker\"] = df['Flight_ID'] + df['Detected_Country'] + df[\"Detected_Language\"] + df[\"Detected_Country\"] + str(df[\"ticket_price\"])"
   ]
  },
  {
   "cell_type": "code",
   "execution_count": 14,
   "metadata": {},
   "outputs": [],
   "source": [
    "df_reduced = df.drop_duplicates(subset='Duplicate_checker', keep='first').copy()"
   ]
  },
  {
   "cell_type": "code",
   "execution_count": 15,
   "metadata": {},
   "outputs": [],
   "source": [
    "df_reduced = df_reduced.drop(['Duplicate_checker'], axis = 1)"
   ]
  },
  {
   "cell_type": "markdown",
   "metadata": {},
   "source": [
    "**Remove NaN and erroneous rows**"
   ]
  },
  {
   "cell_type": "code",
   "execution_count": 16,
   "metadata": {},
   "outputs": [],
   "source": [
    "df_reduced.dropna(subset=['Detected_Currency', 'ticket_price', 'Detected_Country'], inplace=True)"
   ]
  },
  {
   "cell_type": "code",
   "execution_count": 17,
   "metadata": {},
   "outputs": [],
   "source": [
    "df_reduced = df_reduced[df_reduced['ticket_price'] >= 10]"
   ]
  },
  {
   "cell_type": "markdown",
   "metadata": {},
   "source": [
    "# Feature engineering"
   ]
  },
  {
   "cell_type": "code",
   "execution_count": 18,
   "metadata": {},
   "outputs": [],
   "source": [
    "df_reduced['Price_in_USD'] = df_reduced.apply(lambda row: convert_to_usd(row, 'ticket_price', 'Detected_Currency'), axis=1)"
   ]
  },
  {
   "cell_type": "markdown",
   "metadata": {},
   "source": [
    "Creating commutime time"
   ]
  },
  {
   "cell_type": "code",
   "execution_count": 19,
   "metadata": {},
   "outputs": [],
   "source": [
    "df_reduced['commute_time'] = (df_reduced['arrival_date'] - df_reduced['departure_date']).dt.total_seconds() / 60"
   ]
  },
  {
   "cell_type": "code",
   "execution_count": 20,
   "metadata": {},
   "outputs": [],
   "source": [
    "df_reduced['query_date'] = pd.Timestamp('2024-02-15')"
   ]
  },
  {
   "cell_type": "code",
   "execution_count": 21,
   "metadata": {},
   "outputs": [],
   "source": [
    "df_reduced['days_until_departure'] = (df_reduced['departure_date'] - df_reduced['query_date']).dt.days"
   ]
  },
  {
   "cell_type": "markdown",
   "metadata": {},
   "source": [
    "**Eliminating queries with little country variance**"
   ]
  },
  {
   "cell_type": "code",
   "execution_count": 22,
   "metadata": {},
   "outputs": [],
   "source": [
    "# Count the number of different countries available per Flight_ID\n",
    "country_count_per_flight = df_reduced.groupby('Flight_ID')['Detected_Country'].nunique().reset_index(name='FlightID_in_Countries_Count')\n",
    "\n",
    "# Merge this count back into the original dataframe\n",
    "df_reduced = df_reduced.merge(country_count_per_flight, on='Flight_ID')\n"
   ]
  },
  {
   "cell_type": "code",
   "execution_count": 23,
   "metadata": {},
   "outputs": [],
   "source": [
    "df_reduced = df_reduced[df_reduced['FlightID_in_Countries_Count'] >= 8]"
   ]
  },
  {
   "cell_type": "markdown",
   "metadata": {},
   "source": [
    "**Creating Journey_ID: Identifier for identical journeys (same departure and destination airport) on same days**"
   ]
  },
  {
   "cell_type": "markdown",
   "metadata": {},
   "source": [
    "Extracting departure and arrival days"
   ]
  },
  {
   "cell_type": "code",
   "execution_count": 24,
   "metadata": {},
   "outputs": [],
   "source": [
    "df_reduced[\"departure_date_day\"] = df_reduced[\"departure_date\"].dt.strftime('%d-%m-%Y')\n",
    "df_reduced[\"arrival_date_day\"] = df_reduced[\"arrival_date\"].dt.strftime('%d-%m-%Y')"
   ]
  },
  {
   "cell_type": "markdown",
   "metadata": {},
   "source": [
    "Creating column for whole Journey"
   ]
  },
  {
   "cell_type": "code",
   "execution_count": 25,
   "metadata": {},
   "outputs": [],
   "source": [
    "df_reduced[\"Journey_route\"] = df_reduced[\"departure_airport_code\"] + \"-\" + df_reduced[\"destination_airport_code\"]"
   ]
  },
  {
   "cell_type": "code",
   "execution_count": 26,
   "metadata": {},
   "outputs": [],
   "source": [
    "df_reduced[\"Journey_ID\"] = df_reduced[\"Journey_route\"] + \": \" + df_reduced[\"departure_date_day\"] + \" \"  + df_reduced[\"arrival_date_day\"]"
   ]
  },
  {
   "cell_type": "markdown",
   "metadata": {},
   "source": [
    "**Creating Variables that analyse price differences between identical Flights**"
   ]
  },
  {
   "cell_type": "code",
   "execution_count": 27,
   "metadata": {},
   "outputs": [],
   "source": [
    "# Group by Flight_ID and calculate max, min prices and their absolute difference\n",
    "price_stats = df_reduced.groupby('Flight_ID')['Price_in_USD'].agg(['max', 'min'])\n",
    "price_stats['max_price_diff_FlightID'] = price_stats['max'] - price_stats['min']\n",
    "price_stats.columns = ['max_price_FlightID', 'min_price_FlightID', 'max_price_diff_FlightID']\n",
    "# Calculate the relative difference as a percentage of the min price\n",
    "price_stats['max_rel_price_diff_FlightID'] = (price_stats['max_price_diff_FlightID'] / price_stats['min_price_FlightID']) * 100"
   ]
  },
  {
   "cell_type": "code",
   "execution_count": 28,
   "metadata": {},
   "outputs": [],
   "source": [
    "df_reduced = pd.merge(df_reduced, price_stats, on='Flight_ID', how='left')"
   ]
  },
  {
   "cell_type": "code",
   "execution_count": 29,
   "metadata": {},
   "outputs": [
    {
     "data": {
      "text/plain": [
       "Index(['airline_code', 'departure_airport_code', 'destination_airport_code',\n",
       "       'ticket_price', 'departure_date', 'arrival_date', 'First_flight',\n",
       "       'first_flight_code', 'last_flight_code', 'Detected_Language',\n",
       "       'Detected_Country', 'Detected_Currency', 'Flight_ID', 'Price_in_USD',\n",
       "       'commute_time', 'query_date', 'days_until_departure',\n",
       "       'FlightID_in_Countries_Count', 'departure_date_day', 'arrival_date_day',\n",
       "       'Journey_route', 'Journey_ID', 'max_price_FlightID',\n",
       "       'min_price_FlightID', 'max_price_diff_FlightID',\n",
       "       'max_rel_price_diff_FlightID'],\n",
       "      dtype='object')"
      ]
     },
     "execution_count": 29,
     "metadata": {},
     "output_type": "execute_result"
    }
   ],
   "source": [
    "df_reduced.columns"
   ]
  },
  {
   "cell_type": "code",
   "execution_count": 30,
   "metadata": {},
   "outputs": [],
   "source": [
    "df_reduced[\"abs_diff_to_min_price_FlightID\"] = df_reduced[\"Price_in_USD\"] - df_reduced[\"min_price_FlightID\"]\n",
    "df_reduced[\"rel_diff_to_min_price_FlightID\"] = ((df_reduced[\"Price_in_USD\"] /df_reduced[\"min_price_FlightID\"] ) -1) * 100\n",
    "df_reduced['rel_price_score_FlightID'] = df_reduced['rel_diff_to_min_price_FlightID'] / df_reduced['max_rel_price_diff_FlightID']"
   ]
  },
  {
   "cell_type": "markdown",
   "metadata": {},
   "source": [
    "**Creating Variables that analyse price differences between identical Journey**"
   ]
  },
  {
   "cell_type": "code",
   "execution_count": 31,
   "metadata": {},
   "outputs": [],
   "source": [
    "# Group by Flight_ID and calculate max, min prices and their absolute difference\n",
    "price_stats_journey = df_reduced.groupby('Journey_ID')['Price_in_USD'].agg(['max', 'min'])\n",
    "price_stats_journey['max_abs_diff_JourneyID'] = price_stats_journey['max'] - price_stats_journey['min']\n",
    "price_stats_journey.columns = ['max_price_JourneyID', 'min_price_JourneyID', 'max_abs_diff_JourneyID']\n",
    "price_stats_journey['max_rel_diff_Journey'] = (price_stats_journey['max_abs_diff_JourneyID'] / price_stats_journey['min_price_JourneyID']) * 100"
   ]
  },
  {
   "cell_type": "code",
   "execution_count": 32,
   "metadata": {},
   "outputs": [],
   "source": [
    "df_reduced = pd.merge(df_reduced, price_stats_journey, on='Journey_ID', how='left')"
   ]
  },
  {
   "cell_type": "code",
   "execution_count": 33,
   "metadata": {},
   "outputs": [],
   "source": [
    "df_reduced[\"abs_diff_to_min_price_JourneyID\"] = df_reduced[\"Price_in_USD\"] - df_reduced[\"min_price_JourneyID\"]\n",
    "df_reduced[\"rel_diff_to_min_price_JourneyID\"] = ((df_reduced[\"Price_in_USD\"] /df_reduced[\"min_price_JourneyID\"] ) -1) * 100\n",
    "df_reduced['rel_price_score_JourneyID'] = df_reduced['rel_diff_to_min_price_JourneyID'] / df_reduced['max_rel_diff_Journey']"
   ]
  },
  {
   "cell_type": "code",
   "execution_count": 34,
   "metadata": {},
   "outputs": [
    {
     "data": {
      "text/plain": [
       "Index(['airline_code', 'departure_airport_code', 'destination_airport_code',\n",
       "       'ticket_price', 'departure_date', 'arrival_date', 'First_flight',\n",
       "       'first_flight_code', 'last_flight_code', 'Detected_Language',\n",
       "       'Detected_Country', 'Detected_Currency', 'Flight_ID', 'Price_in_USD',\n",
       "       'commute_time', 'query_date', 'days_until_departure',\n",
       "       'FlightID_in_Countries_Count', 'departure_date_day', 'arrival_date_day',\n",
       "       'Journey_route', 'Journey_ID', 'max_price_FlightID',\n",
       "       'min_price_FlightID', 'max_price_diff_FlightID',\n",
       "       'max_rel_price_diff_FlightID', 'abs_diff_to_min_price_FlightID',\n",
       "       'rel_diff_to_min_price_FlightID', 'rel_price_score_FlightID',\n",
       "       'max_price_JourneyID', 'min_price_JourneyID', 'max_abs_diff_JourneyID',\n",
       "       'max_rel_diff_Journey', 'abs_diff_to_min_price_JourneyID',\n",
       "       'rel_diff_to_min_price_JourneyID', 'rel_price_score_JourneyID'],\n",
       "      dtype='object')"
      ]
     },
     "execution_count": 34,
     "metadata": {},
     "output_type": "execute_result"
    }
   ],
   "source": [
    "df_reduced.columns"
   ]
  },
  {
   "cell_type": "code",
   "execution_count": 35,
   "metadata": {},
   "outputs": [
    {
     "data": {
      "text/plain": [
       "63.9389926174011"
      ]
     },
     "execution_count": 35,
     "metadata": {},
     "output_type": "execute_result"
    }
   ],
   "source": [
    "df_reduced.rel_diff_to_min_price_JourneyID.mean()"
   ]
  },
  {
   "cell_type": "markdown",
   "metadata": {},
   "source": [
    "**Creating Variables that analyse price differences between identical Journey within the same query-country**"
   ]
  },
  {
   "cell_type": "code",
   "execution_count": 36,
   "metadata": {},
   "outputs": [],
   "source": [
    "price_stats_journey_same_country = df_reduced.groupby(['Journey_ID', 'Detected_Country'])['Price_in_USD'].agg(['max', 'min'])\n",
    "price_stats_journey_same_country['max_abs_diff_perIDGroup_Journey_same_country'] = price_stats_journey_same_country['max'] - price_stats_journey_same_country['min']\n",
    "price_stats_journey_same_country.columns = ['max_journey_same_country', 'min_journey_same_country', 'max_abs_diff_perIDGroup_Journey_same_country']\n",
    "price_stats_journey_same_country['max_rel_diff_perIDGroup_Journey_same_country'] = (price_stats_journey_same_country['max_abs_diff_perIDGroup_Journey_same_country'] / price_stats_journey_same_country['min_journey_same_country']) * 100"
   ]
  },
  {
   "cell_type": "code",
   "execution_count": 37,
   "metadata": {},
   "outputs": [
    {
     "data": {
      "text/html": [
       "<div>\n",
       "<style scoped>\n",
       "    .dataframe tbody tr th:only-of-type {\n",
       "        vertical-align: middle;\n",
       "    }\n",
       "\n",
       "    .dataframe tbody tr th {\n",
       "        vertical-align: top;\n",
       "    }\n",
       "\n",
       "    .dataframe thead th {\n",
       "        text-align: right;\n",
       "    }\n",
       "</style>\n",
       "<table border=\"1\" class=\"dataframe\">\n",
       "  <thead>\n",
       "    <tr style=\"text-align: right;\">\n",
       "      <th></th>\n",
       "      <th></th>\n",
       "      <th>max_journey_same_country</th>\n",
       "      <th>min_journey_same_country</th>\n",
       "      <th>max_abs_diff_perIDGroup_Journey_same_country</th>\n",
       "      <th>max_rel_diff_perIDGroup_Journey_same_country</th>\n",
       "    </tr>\n",
       "    <tr>\n",
       "      <th>Journey_ID</th>\n",
       "      <th>Detected_Country</th>\n",
       "      <th></th>\n",
       "      <th></th>\n",
       "      <th></th>\n",
       "      <th></th>\n",
       "    </tr>\n",
       "  </thead>\n",
       "  <tbody>\n",
       "    <tr>\n",
       "      <th rowspan=\"5\" valign=\"top\">BWI-LUX: 26-02-2024 27-02-2024</th>\n",
       "      <th>Australia</th>\n",
       "      <td>4064.940000</td>\n",
       "      <td>3678.18000</td>\n",
       "      <td>386.760000</td>\n",
       "      <td>10.514983</td>\n",
       "    </tr>\n",
       "    <tr>\n",
       "      <th>Brasil</th>\n",
       "      <td>4004.600000</td>\n",
       "      <td>3623.20000</td>\n",
       "      <td>381.400000</td>\n",
       "      <td>10.526606</td>\n",
       "    </tr>\n",
       "    <tr>\n",
       "      <th>Deutschland</th>\n",
       "      <td>4032.720000</td>\n",
       "      <td>3649.32000</td>\n",
       "      <td>383.400000</td>\n",
       "      <td>10.506067</td>\n",
       "    </tr>\n",
       "    <tr>\n",
       "      <th>Indonesia</th>\n",
       "      <td>4044.615232</td>\n",
       "      <td>3659.44608</td>\n",
       "      <td>385.169152</td>\n",
       "      <td>10.525340</td>\n",
       "    </tr>\n",
       "    <tr>\n",
       "      <th>Polska</th>\n",
       "      <td>4032.750000</td>\n",
       "      <td>3648.75000</td>\n",
       "      <td>384.000000</td>\n",
       "      <td>10.524152</td>\n",
       "    </tr>\n",
       "    <tr>\n",
       "      <th>...</th>\n",
       "      <th>...</th>\n",
       "      <td>...</td>\n",
       "      <td>...</td>\n",
       "      <td>...</td>\n",
       "      <td>...</td>\n",
       "    </tr>\n",
       "    <tr>\n",
       "      <th rowspan=\"5\" valign=\"top\">ZAG-NRT: 05-11-2024 07-11-2024</th>\n",
       "      <th>Polska</th>\n",
       "      <td>1022.000000</td>\n",
       "      <td>1022.00000</td>\n",
       "      <td>0.000000</td>\n",
       "      <td>0.000000</td>\n",
       "    </tr>\n",
       "    <tr>\n",
       "      <th>Schweiz</th>\n",
       "      <td>1029.420000</td>\n",
       "      <td>1029.42000</td>\n",
       "      <td>0.000000</td>\n",
       "      <td>0.000000</td>\n",
       "    </tr>\n",
       "    <tr>\n",
       "      <th>Shqipëri</th>\n",
       "      <td>985.100000</td>\n",
       "      <td>985.10000</td>\n",
       "      <td>0.000000</td>\n",
       "      <td>0.000000</td>\n",
       "    </tr>\n",
       "    <tr>\n",
       "      <th>Türkiye</th>\n",
       "      <td>1020.416000</td>\n",
       "      <td>1020.41600</td>\n",
       "      <td>0.000000</td>\n",
       "      <td>0.000000</td>\n",
       "    </tr>\n",
       "    <tr>\n",
       "      <th>বাংলাদেশ</th>\n",
       "      <td>1023.922900</td>\n",
       "      <td>1023.92290</td>\n",
       "      <td>0.000000</td>\n",
       "      <td>0.000000</td>\n",
       "    </tr>\n",
       "  </tbody>\n",
       "</table>\n",
       "<p>565 rows × 4 columns</p>\n",
       "</div>"
      ],
      "text/plain": [
       "                                                 max_journey_same_country  \\\n",
       "Journey_ID                     Detected_Country                             \n",
       "BWI-LUX: 26-02-2024 27-02-2024 Australia                      4064.940000   \n",
       "                               Brasil                         4004.600000   \n",
       "                               Deutschland                    4032.720000   \n",
       "                               Indonesia                      4044.615232   \n",
       "                               Polska                         4032.750000   \n",
       "...                                                                   ...   \n",
       "ZAG-NRT: 05-11-2024 07-11-2024 Polska                         1022.000000   \n",
       "                               Schweiz                        1029.420000   \n",
       "                               Shqipëri                        985.100000   \n",
       "                               Türkiye                        1020.416000   \n",
       "                               বাংলাদেশ                       1023.922900   \n",
       "\n",
       "                                                 min_journey_same_country  \\\n",
       "Journey_ID                     Detected_Country                             \n",
       "BWI-LUX: 26-02-2024 27-02-2024 Australia                       3678.18000   \n",
       "                               Brasil                          3623.20000   \n",
       "                               Deutschland                     3649.32000   \n",
       "                               Indonesia                       3659.44608   \n",
       "                               Polska                          3648.75000   \n",
       "...                                                                   ...   \n",
       "ZAG-NRT: 05-11-2024 07-11-2024 Polska                          1022.00000   \n",
       "                               Schweiz                         1029.42000   \n",
       "                               Shqipëri                         985.10000   \n",
       "                               Türkiye                         1020.41600   \n",
       "                               বাংলাদেশ                        1023.92290   \n",
       "\n",
       "                                                 max_abs_diff_perIDGroup_Journey_same_country  \\\n",
       "Journey_ID                     Detected_Country                                                 \n",
       "BWI-LUX: 26-02-2024 27-02-2024 Australia                                           386.760000   \n",
       "                               Brasil                                              381.400000   \n",
       "                               Deutschland                                         383.400000   \n",
       "                               Indonesia                                           385.169152   \n",
       "                               Polska                                              384.000000   \n",
       "...                                                                                       ...   \n",
       "ZAG-NRT: 05-11-2024 07-11-2024 Polska                                                0.000000   \n",
       "                               Schweiz                                               0.000000   \n",
       "                               Shqipëri                                              0.000000   \n",
       "                               Türkiye                                               0.000000   \n",
       "                               বাংলাদেশ                                              0.000000   \n",
       "\n",
       "                                                 max_rel_diff_perIDGroup_Journey_same_country  \n",
       "Journey_ID                     Detected_Country                                                \n",
       "BWI-LUX: 26-02-2024 27-02-2024 Australia                                            10.514983  \n",
       "                               Brasil                                               10.526606  \n",
       "                               Deutschland                                          10.506067  \n",
       "                               Indonesia                                            10.525340  \n",
       "                               Polska                                               10.524152  \n",
       "...                                                                                       ...  \n",
       "ZAG-NRT: 05-11-2024 07-11-2024 Polska                                                0.000000  \n",
       "                               Schweiz                                               0.000000  \n",
       "                               Shqipëri                                              0.000000  \n",
       "                               Türkiye                                               0.000000  \n",
       "                               বাংলাদেশ                                              0.000000  \n",
       "\n",
       "[565 rows x 4 columns]"
      ]
     },
     "execution_count": 37,
     "metadata": {},
     "output_type": "execute_result"
    }
   ],
   "source": [
    "price_stats_journey_same_country"
   ]
  },
  {
   "cell_type": "code",
   "execution_count": 38,
   "metadata": {},
   "outputs": [],
   "source": [
    "df_reduced = pd.merge(df_reduced, price_stats_journey_same_country, on=['Journey_ID','Detected_Country'], how='left')"
   ]
  },
  {
   "cell_type": "code",
   "execution_count": 39,
   "metadata": {},
   "outputs": [
    {
     "data": {
      "text/plain": [
       "Index(['airline_code', 'departure_airport_code', 'destination_airport_code',\n",
       "       'ticket_price', 'departure_date', 'arrival_date', 'First_flight',\n",
       "       'first_flight_code', 'last_flight_code', 'Detected_Language',\n",
       "       'Detected_Country', 'Detected_Currency', 'Flight_ID', 'Price_in_USD',\n",
       "       'commute_time', 'query_date', 'days_until_departure',\n",
       "       'FlightID_in_Countries_Count', 'departure_date_day', 'arrival_date_day',\n",
       "       'Journey_route', 'Journey_ID', 'max_price_FlightID',\n",
       "       'min_price_FlightID', 'max_price_diff_FlightID',\n",
       "       'max_rel_price_diff_FlightID', 'abs_diff_to_min_price_FlightID',\n",
       "       'rel_diff_to_min_price_FlightID', 'rel_price_score_FlightID',\n",
       "       'max_price_JourneyID', 'min_price_JourneyID', 'max_abs_diff_JourneyID',\n",
       "       'max_rel_diff_Journey', 'abs_diff_to_min_price_JourneyID',\n",
       "       'rel_diff_to_min_price_JourneyID', 'rel_price_score_JourneyID',\n",
       "       'max_journey_same_country', 'min_journey_same_country',\n",
       "       'max_abs_diff_perIDGroup_Journey_same_country',\n",
       "       'max_rel_diff_perIDGroup_Journey_same_country'],\n",
       "      dtype='object')"
      ]
     },
     "execution_count": 39,
     "metadata": {},
     "output_type": "execute_result"
    }
   ],
   "source": [
    "df_reduced.columns"
   ]
  },
  {
   "cell_type": "code",
   "execution_count": 40,
   "metadata": {},
   "outputs": [],
   "source": [
    "df_reduced[\"price_diff_loc_to_glob_Journey_min\"] = df_reduced[\"min_journey_same_country\"] - df_reduced[\"min_price_JourneyID\"]"
   ]
  },
  {
   "cell_type": "code",
   "execution_count": 41,
   "metadata": {},
   "outputs": [],
   "source": [
    "df_reduced[\"rel_price_diff_loc_to_glob_Journey_min\"] = (df_reduced[\"price_diff_loc_to_glob_Journey_min\"] / df_reduced[\"min_price_JourneyID\"]) * 100"
   ]
  },
  {
   "cell_type": "code",
   "execution_count": 42,
   "metadata": {},
   "outputs": [
    {
     "name": "stdout",
     "output_type": "stream",
     "text": [
      "Detected_Country\n",
      "Australia              7.035948\n",
      "Brasil                 3.084377\n",
      "Deutschland            3.859205\n",
      "Indonesia              3.959648\n",
      "Palestine              4.120533\n",
      "Polska                 3.835188\n",
      "Schweiz                4.383528\n",
      "Shqipëri               0.358481\n",
      "Türkiye                3.597201\n",
      "United Kingdom         7.392782\n",
      "Vereinigte Staaten     4.479632\n",
      "বাংলাদেশ               3.802642\n",
      "日本                    17.559797\n",
      "Name: rel_price_diff_loc_to_glob_Journey_min, dtype: float64\n"
     ]
    }
   ],
   "source": [
    "# Group by 'Detected_Country' and calculate the mean of 'rel_price_diff_loc_to_glob_Journey_min'\n",
    "grouped_means = df_reduced.groupby('Detected_Country')['rel_price_diff_loc_to_glob_Journey_min'].mean()\n",
    "\n",
    "# Display the result\n",
    "print(grouped_means)\n"
   ]
  },
  {
   "cell_type": "code",
   "execution_count": 43,
   "metadata": {},
   "outputs": [
    {
     "data": {
      "text/plain": [
       "Journey_ID                      Detected_Country\n",
       "BWI-LUX: 26-02-2024 27-02-2024  Australia           10.514983\n",
       "                                Brasil              10.526606\n",
       "                                Deutschland         10.506067\n",
       "                                Indonesia           10.525340\n",
       "                                Polska              10.524152\n",
       "                                                      ...    \n",
       "ZAG-NRT: 05-11-2024 07-11-2024  Polska               0.000000\n",
       "                                Schweiz              0.000000\n",
       "                                Shqipëri             0.000000\n",
       "                                Türkiye              0.000000\n",
       "                                বাংলাদেশ             0.000000\n",
       "Length: 565, dtype: float64"
      ]
     },
     "execution_count": 43,
     "metadata": {},
     "output_type": "execute_result"
    }
   ],
   "source": [
    "(price_stats_journey_same_country['max_abs_diff_perIDGroup_Journey_same_country'] / price_stats_journey_same_country['min_journey_same_country']) * 100"
   ]
  },
  {
   "cell_type": "code",
   "execution_count": 44,
   "metadata": {},
   "outputs": [
    {
     "data": {
      "text/plain": [
       "1327.7550782660333"
      ]
     },
     "execution_count": 44,
     "metadata": {},
     "output_type": "execute_result"
    }
   ],
   "source": [
    "df_reduced.Price_in_USD.mean()"
   ]
  },
  {
   "cell_type": "code",
   "execution_count": 45,
   "metadata": {},
   "outputs": [
    {
     "data": {
      "text/plain": [
       "20.64999999999992"
      ]
     },
     "execution_count": 45,
     "metadata": {},
     "output_type": "execute_result"
    }
   ],
   "source": [
    "df_reduced.price_diff_loc_to_glob_Journey_min.median()"
   ]
  },
  {
   "cell_type": "code",
   "execution_count": 46,
   "metadata": {},
   "outputs": [
    {
     "data": {
      "text/plain": [
       "Index(['airline_code', 'departure_airport_code', 'destination_airport_code',\n",
       "       'ticket_price', 'departure_date', 'arrival_date', 'First_flight',\n",
       "       'first_flight_code', 'last_flight_code', 'Detected_Language',\n",
       "       'Detected_Country', 'Detected_Currency', 'Flight_ID', 'Price_in_USD',\n",
       "       'commute_time', 'query_date', 'days_until_departure',\n",
       "       'FlightID_in_Countries_Count', 'departure_date_day', 'arrival_date_day',\n",
       "       'Journey_route', 'Journey_ID', 'max_price_FlightID',\n",
       "       'min_price_FlightID', 'max_price_diff_FlightID',\n",
       "       'max_rel_price_diff_FlightID', 'abs_diff_to_min_price_FlightID',\n",
       "       'rel_diff_to_min_price_FlightID', 'rel_price_score_FlightID',\n",
       "       'max_price_JourneyID', 'min_price_JourneyID', 'max_abs_diff_JourneyID',\n",
       "       'max_rel_diff_Journey', 'abs_diff_to_min_price_JourneyID',\n",
       "       'rel_diff_to_min_price_JourneyID', 'rel_price_score_JourneyID',\n",
       "       'max_journey_same_country', 'min_journey_same_country',\n",
       "       'max_abs_diff_perIDGroup_Journey_same_country',\n",
       "       'max_rel_diff_perIDGroup_Journey_same_country',\n",
       "       'price_diff_loc_to_glob_Journey_min',\n",
       "       'rel_price_diff_loc_to_glob_Journey_min'],\n",
       "      dtype='object')"
      ]
     },
     "execution_count": 46,
     "metadata": {},
     "output_type": "execute_result"
    }
   ],
   "source": [
    "df_reduced.columns"
   ]
  },
  {
   "cell_type": "code",
   "execution_count": 47,
   "metadata": {},
   "outputs": [],
   "source": [
    "\n",
    "# Step 1: Filter to get rows where Price_in_USD equals the min for each Flight_ID\n",
    "cheapest_mask_journey = df_reduced['Price_in_USD'] == df_reduced['min_price_JourneyID']\n",
    "cheapest_journeys = df_reduced[cheapest_mask_journey]\n",
    "\n",
    "# Group by Flight_ID and select the first Detected_Country name alphabetically\n",
    "cheapest_locations_journey = cheapest_journeys.groupby('Journey_ID')['Detected_Country'].min().reset_index()\n",
    "\n",
    "# Rename the column for clarity\n",
    "cheapest_locations_journey.rename(columns={'Detected_Country': 'Cheapest_Location_Journey'}, inplace=True)\n",
    "\n",
    "# Step 2: Merge this information back with the original DataFrame\n",
    "df_reduced = df_reduced.merge(cheapest_locations_journey, on='Journey_ID', how='left')\n"
   ]
  },
  {
   "cell_type": "code",
   "execution_count": 48,
   "metadata": {},
   "outputs": [
    {
     "data": {
      "text/plain": [
       "Cheapest_Location_Journey\n",
       "Shqipëri          2054\n",
       "Brasil             242\n",
       "日本                 220\n",
       "United Kingdom      10\n",
       "Name: count, dtype: int64"
      ]
     },
     "execution_count": 48,
     "metadata": {},
     "output_type": "execute_result"
    }
   ],
   "source": [
    "df_reduced.Cheapest_Location_Journey.value_counts()"
   ]
  },
  {
   "cell_type": "code",
   "execution_count": 49,
   "metadata": {},
   "outputs": [
    {
     "data": {
      "text/plain": [
       "Index(['airline_code', 'departure_airport_code', 'destination_airport_code',\n",
       "       'ticket_price', 'departure_date', 'arrival_date', 'First_flight',\n",
       "       'first_flight_code', 'last_flight_code', 'Detected_Language',\n",
       "       'Detected_Country', 'Detected_Currency', 'Flight_ID', 'Price_in_USD',\n",
       "       'commute_time', 'query_date', 'days_until_departure',\n",
       "       'FlightID_in_Countries_Count', 'departure_date_day', 'arrival_date_day',\n",
       "       'Journey_route', 'Journey_ID', 'max_price_FlightID',\n",
       "       'min_price_FlightID', 'max_price_diff_FlightID',\n",
       "       'max_rel_price_diff_FlightID', 'abs_diff_to_min_price_FlightID',\n",
       "       'rel_diff_to_min_price_FlightID', 'rel_price_score_FlightID',\n",
       "       'max_price_JourneyID', 'min_price_JourneyID', 'max_abs_diff_JourneyID',\n",
       "       'max_rel_diff_Journey', 'abs_diff_to_min_price_JourneyID',\n",
       "       'rel_diff_to_min_price_JourneyID', 'rel_price_score_JourneyID',\n",
       "       'max_journey_same_country', 'min_journey_same_country',\n",
       "       'max_abs_diff_perIDGroup_Journey_same_country',\n",
       "       'max_rel_diff_perIDGroup_Journey_same_country',\n",
       "       'price_diff_loc_to_glob_Journey_min',\n",
       "       'rel_price_diff_loc_to_glob_Journey_min', 'Cheapest_Location_Journey'],\n",
       "      dtype='object')"
      ]
     },
     "execution_count": 49,
     "metadata": {},
     "output_type": "execute_result"
    }
   ],
   "source": [
    "df_reduced.columns"
   ]
  },
  {
   "cell_type": "code",
   "execution_count": 50,
   "metadata": {},
   "outputs": [],
   "source": [
    "\n",
    "# Step 1: Filter to get rows where Price_in_USD equals the min for each Flight_ID\n",
    "cheapest_mask = df_reduced['Price_in_USD'] == df_reduced['min_price_FlightID']\n",
    "cheapest_flights = df_reduced[cheapest_mask]\n",
    "\n",
    "# Group by Flight_ID and select the first Detected_Country name alphabetically\n",
    "cheapest_locations = cheapest_flights.groupby('Flight_ID')['Detected_Country'].min().reset_index()\n",
    "\n",
    "# Rename the column for clarity\n",
    "cheapest_locations.rename(columns={'Detected_Country': 'Cheapest_Location_Flight'}, inplace=True)\n",
    "\n",
    "# Step 2: Merge this information back with the original DataFrame\n",
    "df_reduced = df_reduced.merge(cheapest_locations, on='Flight_ID', how='left')\n"
   ]
  },
  {
   "cell_type": "code",
   "execution_count": 51,
   "metadata": {},
   "outputs": [
    {
     "data": {
      "text/plain": [
       "Cheapest_Location_Flight\n",
       "Shqipëri          2167\n",
       "Brasil             259\n",
       "日本                  90\n",
       "United Kingdom      10\n",
       "Name: count, dtype: int64"
      ]
     },
     "execution_count": 51,
     "metadata": {},
     "output_type": "execute_result"
    }
   ],
   "source": [
    "df_reduced.Cheapest_Location_Flight.value_counts()"
   ]
  },
  {
   "cell_type": "markdown",
   "metadata": {},
   "source": [
    "# Descriptive Statistics"
   ]
  },
  {
   "cell_type": "markdown",
   "metadata": {},
   "source": [
    "**_These countries are connected with higher Prices for identical flights_**"
   ]
  },
  {
   "cell_type": "code",
   "execution_count": 52,
   "metadata": {},
   "outputs": [
    {
     "data": {
      "text/html": [
       "<div>\n",
       "<style scoped>\n",
       "    .dataframe tbody tr th:only-of-type {\n",
       "        vertical-align: middle;\n",
       "    }\n",
       "\n",
       "    .dataframe tbody tr th {\n",
       "        vertical-align: top;\n",
       "    }\n",
       "\n",
       "    .dataframe thead th {\n",
       "        text-align: right;\n",
       "    }\n",
       "</style>\n",
       "<table border=\"1\" class=\"dataframe\">\n",
       "  <thead>\n",
       "    <tr style=\"text-align: right;\">\n",
       "      <th></th>\n",
       "      <th>airline_code</th>\n",
       "      <th>departure_airport_code</th>\n",
       "      <th>destination_airport_code</th>\n",
       "      <th>ticket_price</th>\n",
       "      <th>departure_date</th>\n",
       "      <th>arrival_date</th>\n",
       "      <th>First_flight</th>\n",
       "      <th>first_flight_code</th>\n",
       "      <th>last_flight_code</th>\n",
       "      <th>Detected_Language</th>\n",
       "      <th>...</th>\n",
       "      <th>rel_diff_to_min_price_JourneyID</th>\n",
       "      <th>rel_price_score_JourneyID</th>\n",
       "      <th>max_journey_same_country</th>\n",
       "      <th>min_journey_same_country</th>\n",
       "      <th>max_abs_diff_perIDGroup_Journey_same_country</th>\n",
       "      <th>max_rel_diff_perIDGroup_Journey_same_country</th>\n",
       "      <th>price_diff_loc_to_glob_Journey_min</th>\n",
       "      <th>rel_price_diff_loc_to_glob_Journey_min</th>\n",
       "      <th>Cheapest_Location_Journey</th>\n",
       "      <th>Cheapest_Location_Flight</th>\n",
       "    </tr>\n",
       "  </thead>\n",
       "  <tbody>\n",
       "    <tr>\n",
       "      <th>0</th>\n",
       "      <td>AA</td>\n",
       "      <td>CLT</td>\n",
       "      <td>CUN</td>\n",
       "      <td>383</td>\n",
       "      <td>2024-06-26 07:15:00</td>\n",
       "      <td>2024-06-26 09:10:00</td>\n",
       "      <td>CLT-CUN</td>\n",
       "      <td>AA881</td>\n",
       "      <td>AA881</td>\n",
       "      <td>Deutsch</td>\n",
       "      <td>...</td>\n",
       "      <td>4.097040</td>\n",
       "      <td>0.065677</td>\n",
       "      <td>641.520</td>\n",
       "      <td>413.6400</td>\n",
       "      <td>227.8800</td>\n",
       "      <td>55.091384</td>\n",
       "      <td>16.2800</td>\n",
       "      <td>4.097040</td>\n",
       "      <td>Shqipëri</td>\n",
       "      <td>Shqipëri</td>\n",
       "    </tr>\n",
       "    <tr>\n",
       "      <th>1</th>\n",
       "      <td>AA</td>\n",
       "      <td>CLT</td>\n",
       "      <td>CUN</td>\n",
       "      <td>383</td>\n",
       "      <td>2024-06-26 11:50:00</td>\n",
       "      <td>2024-06-26 13:54:00</td>\n",
       "      <td>CLT-CUN</td>\n",
       "      <td>AA886</td>\n",
       "      <td>AA886</td>\n",
       "      <td>Deutsch</td>\n",
       "      <td>...</td>\n",
       "      <td>4.097040</td>\n",
       "      <td>0.065677</td>\n",
       "      <td>641.520</td>\n",
       "      <td>413.6400</td>\n",
       "      <td>227.8800</td>\n",
       "      <td>55.091384</td>\n",
       "      <td>16.2800</td>\n",
       "      <td>4.097040</td>\n",
       "      <td>Shqipëri</td>\n",
       "      <td>Shqipëri</td>\n",
       "    </tr>\n",
       "    <tr>\n",
       "      <th>2</th>\n",
       "      <td>AA</td>\n",
       "      <td>CLT</td>\n",
       "      <td>CUN</td>\n",
       "      <td>383</td>\n",
       "      <td>2024-06-26 13:05:00</td>\n",
       "      <td>2024-06-26 14:59:00</td>\n",
       "      <td>CLT-CUN</td>\n",
       "      <td>AA1778</td>\n",
       "      <td>AA1778</td>\n",
       "      <td>Deutsch</td>\n",
       "      <td>...</td>\n",
       "      <td>4.097040</td>\n",
       "      <td>0.065677</td>\n",
       "      <td>641.520</td>\n",
       "      <td>413.6400</td>\n",
       "      <td>227.8800</td>\n",
       "      <td>55.091384</td>\n",
       "      <td>16.2800</td>\n",
       "      <td>4.097040</td>\n",
       "      <td>Shqipëri</td>\n",
       "      <td>Shqipëri</td>\n",
       "    </tr>\n",
       "    <tr>\n",
       "      <th>3</th>\n",
       "      <td>AA</td>\n",
       "      <td>CLT</td>\n",
       "      <td>CUN</td>\n",
       "      <td>410</td>\n",
       "      <td>2024-06-26 09:05:00</td>\n",
       "      <td>2024-06-26 11:13:00</td>\n",
       "      <td>CLT-CUN</td>\n",
       "      <td>AA895</td>\n",
       "      <td>AA895</td>\n",
       "      <td>Deutsch</td>\n",
       "      <td>...</td>\n",
       "      <td>11.435474</td>\n",
       "      <td>0.183315</td>\n",
       "      <td>641.520</td>\n",
       "      <td>413.6400</td>\n",
       "      <td>227.8800</td>\n",
       "      <td>55.091384</td>\n",
       "      <td>16.2800</td>\n",
       "      <td>4.097040</td>\n",
       "      <td>Shqipëri</td>\n",
       "      <td>Shqipëri</td>\n",
       "    </tr>\n",
       "    <tr>\n",
       "      <th>4</th>\n",
       "      <td>UA</td>\n",
       "      <td>CLT</td>\n",
       "      <td>CUN</td>\n",
       "      <td>401</td>\n",
       "      <td>2024-06-26 10:07:00</td>\n",
       "      <td>2024-06-26 15:51:00</td>\n",
       "      <td>CLT-IAD</td>\n",
       "      <td>UA1361</td>\n",
       "      <td>UA1618</td>\n",
       "      <td>Deutsch</td>\n",
       "      <td>...</td>\n",
       "      <td>8.989330</td>\n",
       "      <td>0.144102</td>\n",
       "      <td>641.520</td>\n",
       "      <td>413.6400</td>\n",
       "      <td>227.8800</td>\n",
       "      <td>55.091384</td>\n",
       "      <td>16.2800</td>\n",
       "      <td>4.097040</td>\n",
       "      <td>Shqipëri</td>\n",
       "      <td>Shqipëri</td>\n",
       "    </tr>\n",
       "    <tr>\n",
       "      <th>...</th>\n",
       "      <td>...</td>\n",
       "      <td>...</td>\n",
       "      <td>...</td>\n",
       "      <td>...</td>\n",
       "      <td>...</td>\n",
       "      <td>...</td>\n",
       "      <td>...</td>\n",
       "      <td>...</td>\n",
       "      <td>...</td>\n",
       "      <td>...</td>\n",
       "      <td>...</td>\n",
       "      <td>...</td>\n",
       "      <td>...</td>\n",
       "      <td>...</td>\n",
       "      <td>...</td>\n",
       "      <td>...</td>\n",
       "      <td>...</td>\n",
       "      <td>...</td>\n",
       "      <td>...</td>\n",
       "      <td>...</td>\n",
       "      <td>...</td>\n",
       "    </tr>\n",
       "    <tr>\n",
       "      <th>2521</th>\n",
       "      <td>DL</td>\n",
       "      <td>DFW</td>\n",
       "      <td>BWI</td>\n",
       "      <td>50327</td>\n",
       "      <td>2024-12-15 17:45:00</td>\n",
       "      <td>2024-12-16 00:45:00</td>\n",
       "      <td>DFW-ATL</td>\n",
       "      <td>DL32</td>\n",
       "      <td>DL2590</td>\n",
       "      <td>Shqip</td>\n",
       "      <td>...</td>\n",
       "      <td>0.000000</td>\n",
       "      <td>0.000000</td>\n",
       "      <td>503.270</td>\n",
       "      <td>503.2700</td>\n",
       "      <td>0.0000</td>\n",
       "      <td>0.000000</td>\n",
       "      <td>0.0000</td>\n",
       "      <td>0.000000</td>\n",
       "      <td>Shqipëri</td>\n",
       "      <td>Shqipëri</td>\n",
       "    </tr>\n",
       "    <tr>\n",
       "      <th>2522</th>\n",
       "      <td>AA</td>\n",
       "      <td>DFW</td>\n",
       "      <td>BWI</td>\n",
       "      <td>52722</td>\n",
       "      <td>2024-12-15 14:25:00</td>\n",
       "      <td>2024-12-15 18:17:00</td>\n",
       "      <td>DFW-BWI</td>\n",
       "      <td>AA1213</td>\n",
       "      <td>AA1213</td>\n",
       "      <td>Shqip</td>\n",
       "      <td>...</td>\n",
       "      <td>17.562324</td>\n",
       "      <td>0.467030</td>\n",
       "      <td>589.510</td>\n",
       "      <td>448.4600</td>\n",
       "      <td>141.0500</td>\n",
       "      <td>31.452080</td>\n",
       "      <td>0.0000</td>\n",
       "      <td>0.000000</td>\n",
       "      <td>Shqipëri</td>\n",
       "      <td>Shqipëri</td>\n",
       "    </tr>\n",
       "    <tr>\n",
       "      <th>2523</th>\n",
       "      <td>DL</td>\n",
       "      <td>DFW</td>\n",
       "      <td>BWI</td>\n",
       "      <td>58951</td>\n",
       "      <td>2024-12-15 09:40:00</td>\n",
       "      <td>2024-12-15 15:25:00</td>\n",
       "      <td>DFW-ATL</td>\n",
       "      <td>DL839</td>\n",
       "      <td>DL2799</td>\n",
       "      <td>Shqip</td>\n",
       "      <td>...</td>\n",
       "      <td>31.452080</td>\n",
       "      <td>0.836397</td>\n",
       "      <td>589.510</td>\n",
       "      <td>448.4600</td>\n",
       "      <td>141.0500</td>\n",
       "      <td>31.452080</td>\n",
       "      <td>0.0000</td>\n",
       "      <td>0.000000</td>\n",
       "      <td>Shqipëri</td>\n",
       "      <td>Shqipëri</td>\n",
       "    </tr>\n",
       "    <tr>\n",
       "      <th>2524</th>\n",
       "      <td>BA</td>\n",
       "      <td>LHR</td>\n",
       "      <td>CDG</td>\n",
       "      <td>16122</td>\n",
       "      <td>2024-11-13 13:05:00</td>\n",
       "      <td>2024-11-13 15:25:00</td>\n",
       "      <td>LHR-CDG</td>\n",
       "      <td>NaN</td>\n",
       "      <td>BA314</td>\n",
       "      <td>日本語</td>\n",
       "      <td>...</td>\n",
       "      <td>3.426516</td>\n",
       "      <td>0.124918</td>\n",
       "      <td>124.245</td>\n",
       "      <td>106.4052</td>\n",
       "      <td>17.8398</td>\n",
       "      <td>16.765910</td>\n",
       "      <td>3.5252</td>\n",
       "      <td>3.426516</td>\n",
       "      <td>Shqipëri</td>\n",
       "      <td>Shqipëri</td>\n",
       "    </tr>\n",
       "    <tr>\n",
       "      <th>2525</th>\n",
       "      <td>AF</td>\n",
       "      <td>LHR</td>\n",
       "      <td>CDG</td>\n",
       "      <td>18825</td>\n",
       "      <td>2024-11-13 06:20:00</td>\n",
       "      <td>2024-11-13 08:40:00</td>\n",
       "      <td>LHR-CDG</td>\n",
       "      <td>AF1381</td>\n",
       "      <td>AF1381</td>\n",
       "      <td>日本語</td>\n",
       "      <td>...</td>\n",
       "      <td>20.766913</td>\n",
       "      <td>0.757087</td>\n",
       "      <td>124.245</td>\n",
       "      <td>106.4052</td>\n",
       "      <td>17.8398</td>\n",
       "      <td>16.765910</td>\n",
       "      <td>3.5252</td>\n",
       "      <td>3.426516</td>\n",
       "      <td>Shqipëri</td>\n",
       "      <td>Shqipëri</td>\n",
       "    </tr>\n",
       "  </tbody>\n",
       "</table>\n",
       "<p>2526 rows × 44 columns</p>\n",
       "</div>"
      ],
      "text/plain": [
       "     airline_code departure_airport_code destination_airport_code  \\\n",
       "0              AA                    CLT                      CUN   \n",
       "1              AA                    CLT                      CUN   \n",
       "2              AA                    CLT                      CUN   \n",
       "3              AA                    CLT                      CUN   \n",
       "4              UA                    CLT                      CUN   \n",
       "...           ...                    ...                      ...   \n",
       "2521           DL                    DFW                      BWI   \n",
       "2522           AA                    DFW                      BWI   \n",
       "2523           DL                    DFW                      BWI   \n",
       "2524           BA                    LHR                      CDG   \n",
       "2525           AF                    LHR                      CDG   \n",
       "\n",
       "      ticket_price      departure_date        arrival_date First_flight  \\\n",
       "0              383 2024-06-26 07:15:00 2024-06-26 09:10:00      CLT-CUN   \n",
       "1              383 2024-06-26 11:50:00 2024-06-26 13:54:00      CLT-CUN   \n",
       "2              383 2024-06-26 13:05:00 2024-06-26 14:59:00      CLT-CUN   \n",
       "3              410 2024-06-26 09:05:00 2024-06-26 11:13:00      CLT-CUN   \n",
       "4              401 2024-06-26 10:07:00 2024-06-26 15:51:00      CLT-IAD   \n",
       "...            ...                 ...                 ...          ...   \n",
       "2521         50327 2024-12-15 17:45:00 2024-12-16 00:45:00      DFW-ATL   \n",
       "2522         52722 2024-12-15 14:25:00 2024-12-15 18:17:00      DFW-BWI   \n",
       "2523         58951 2024-12-15 09:40:00 2024-12-15 15:25:00      DFW-ATL   \n",
       "2524         16122 2024-11-13 13:05:00 2024-11-13 15:25:00      LHR-CDG   \n",
       "2525         18825 2024-11-13 06:20:00 2024-11-13 08:40:00      LHR-CDG   \n",
       "\n",
       "     first_flight_code last_flight_code Detected_Language  ...  \\\n",
       "0                AA881            AA881           Deutsch  ...   \n",
       "1                AA886            AA886           Deutsch  ...   \n",
       "2               AA1778           AA1778           Deutsch  ...   \n",
       "3                AA895            AA895           Deutsch  ...   \n",
       "4               UA1361           UA1618           Deutsch  ...   \n",
       "...                ...              ...               ...  ...   \n",
       "2521              DL32           DL2590             Shqip  ...   \n",
       "2522            AA1213           AA1213             Shqip  ...   \n",
       "2523             DL839           DL2799             Shqip  ...   \n",
       "2524               NaN            BA314               日本語  ...   \n",
       "2525            AF1381           AF1381               日本語  ...   \n",
       "\n",
       "     rel_diff_to_min_price_JourneyID rel_price_score_JourneyID  \\\n",
       "0                           4.097040                  0.065677   \n",
       "1                           4.097040                  0.065677   \n",
       "2                           4.097040                  0.065677   \n",
       "3                          11.435474                  0.183315   \n",
       "4                           8.989330                  0.144102   \n",
       "...                              ...                       ...   \n",
       "2521                        0.000000                  0.000000   \n",
       "2522                       17.562324                  0.467030   \n",
       "2523                       31.452080                  0.836397   \n",
       "2524                        3.426516                  0.124918   \n",
       "2525                       20.766913                  0.757087   \n",
       "\n",
       "     max_journey_same_country  min_journey_same_country  \\\n",
       "0                     641.520                  413.6400   \n",
       "1                     641.520                  413.6400   \n",
       "2                     641.520                  413.6400   \n",
       "3                     641.520                  413.6400   \n",
       "4                     641.520                  413.6400   \n",
       "...                       ...                       ...   \n",
       "2521                  503.270                  503.2700   \n",
       "2522                  589.510                  448.4600   \n",
       "2523                  589.510                  448.4600   \n",
       "2524                  124.245                  106.4052   \n",
       "2525                  124.245                  106.4052   \n",
       "\n",
       "      max_abs_diff_perIDGroup_Journey_same_country  \\\n",
       "0                                         227.8800   \n",
       "1                                         227.8800   \n",
       "2                                         227.8800   \n",
       "3                                         227.8800   \n",
       "4                                         227.8800   \n",
       "...                                            ...   \n",
       "2521                                        0.0000   \n",
       "2522                                      141.0500   \n",
       "2523                                      141.0500   \n",
       "2524                                       17.8398   \n",
       "2525                                       17.8398   \n",
       "\n",
       "     max_rel_diff_perIDGroup_Journey_same_country  \\\n",
       "0                                       55.091384   \n",
       "1                                       55.091384   \n",
       "2                                       55.091384   \n",
       "3                                       55.091384   \n",
       "4                                       55.091384   \n",
       "...                                           ...   \n",
       "2521                                     0.000000   \n",
       "2522                                    31.452080   \n",
       "2523                                    31.452080   \n",
       "2524                                    16.765910   \n",
       "2525                                    16.765910   \n",
       "\n",
       "      price_diff_loc_to_glob_Journey_min  \\\n",
       "0                                16.2800   \n",
       "1                                16.2800   \n",
       "2                                16.2800   \n",
       "3                                16.2800   \n",
       "4                                16.2800   \n",
       "...                                  ...   \n",
       "2521                              0.0000   \n",
       "2522                              0.0000   \n",
       "2523                              0.0000   \n",
       "2524                              3.5252   \n",
       "2525                              3.5252   \n",
       "\n",
       "      rel_price_diff_loc_to_glob_Journey_min Cheapest_Location_Journey  \\\n",
       "0                                   4.097040                  Shqipëri   \n",
       "1                                   4.097040                  Shqipëri   \n",
       "2                                   4.097040                  Shqipëri   \n",
       "3                                   4.097040                  Shqipëri   \n",
       "4                                   4.097040                  Shqipëri   \n",
       "...                                      ...                       ...   \n",
       "2521                                0.000000                  Shqipëri   \n",
       "2522                                0.000000                  Shqipëri   \n",
       "2523                                0.000000                  Shqipëri   \n",
       "2524                                3.426516                  Shqipëri   \n",
       "2525                                3.426516                  Shqipëri   \n",
       "\n",
       "     Cheapest_Location_Flight  \n",
       "0                    Shqipëri  \n",
       "1                    Shqipëri  \n",
       "2                    Shqipëri  \n",
       "3                    Shqipëri  \n",
       "4                    Shqipëri  \n",
       "...                       ...  \n",
       "2521                 Shqipëri  \n",
       "2522                 Shqipëri  \n",
       "2523                 Shqipëri  \n",
       "2524                 Shqipëri  \n",
       "2525                 Shqipëri  \n",
       "\n",
       "[2526 rows x 44 columns]"
      ]
     },
     "execution_count": 52,
     "metadata": {},
     "output_type": "execute_result"
    }
   ],
   "source": [
    "df_reduced"
   ]
  },
  {
   "cell_type": "code",
   "execution_count": 53,
   "metadata": {},
   "outputs": [
    {
     "ename": "KeyError",
     "evalue": "'price_score_perIDGroup'",
     "output_type": "error",
     "traceback": [
      "\u001b[0;31m---------------------------------------------------------------------------\u001b[0m",
      "\u001b[0;31mKeyError\u001b[0m                                  Traceback (most recent call last)",
      "File \u001b[0;32m~/Library/Caches/pypoetry/virtualenvs/playwright-trial-uIq0qThi-py3.12/lib/python3.12/site-packages/pandas/core/indexes/base.py:3802\u001b[0m, in \u001b[0;36mIndex.get_loc\u001b[0;34m(self, key)\u001b[0m\n\u001b[1;32m   3801\u001b[0m \u001b[38;5;28;01mtry\u001b[39;00m:\n\u001b[0;32m-> 3802\u001b[0m     \u001b[38;5;28;01mreturn\u001b[39;00m \u001b[38;5;28;43mself\u001b[39;49m\u001b[38;5;241;43m.\u001b[39;49m\u001b[43m_engine\u001b[49m\u001b[38;5;241;43m.\u001b[39;49m\u001b[43mget_loc\u001b[49m\u001b[43m(\u001b[49m\u001b[43mcasted_key\u001b[49m\u001b[43m)\u001b[49m\n\u001b[1;32m   3803\u001b[0m \u001b[38;5;28;01mexcept\u001b[39;00m \u001b[38;5;167;01mKeyError\u001b[39;00m \u001b[38;5;28;01mas\u001b[39;00m err:\n",
      "File \u001b[0;32mindex.pyx:153\u001b[0m, in \u001b[0;36mpandas._libs.index.IndexEngine.get_loc\u001b[0;34m()\u001b[0m\n",
      "File \u001b[0;32mindex.pyx:182\u001b[0m, in \u001b[0;36mpandas._libs.index.IndexEngine.get_loc\u001b[0;34m()\u001b[0m\n",
      "File \u001b[0;32mpandas/_libs/hashtable_class_helper.pxi:7081\u001b[0m, in \u001b[0;36mpandas._libs.hashtable.PyObjectHashTable.get_item\u001b[0;34m()\u001b[0m\n",
      "File \u001b[0;32mpandas/_libs/hashtable_class_helper.pxi:7089\u001b[0m, in \u001b[0;36mpandas._libs.hashtable.PyObjectHashTable.get_item\u001b[0;34m()\u001b[0m\n",
      "\u001b[0;31mKeyError\u001b[0m: 'price_score_perIDGroup'",
      "\nThe above exception was the direct cause of the following exception:\n",
      "\u001b[0;31mKeyError\u001b[0m                                  Traceback (most recent call last)",
      "Cell \u001b[0;32mIn[53], line 1\u001b[0m\n\u001b[0;32m----> 1\u001b[0m temp_df_exp \u001b[38;5;241m=\u001b[39m df_reduced[\u001b[43mdf_reduced\u001b[49m\u001b[43m[\u001b[49m\u001b[38;5;124;43m'\u001b[39;49m\u001b[38;5;124;43mprice_score_perIDGroup\u001b[39;49m\u001b[38;5;124;43m'\u001b[39;49m\u001b[43m]\u001b[49m \u001b[38;5;241m>\u001b[39m \u001b[38;5;241m0.8\u001b[39m]\n\u001b[1;32m      2\u001b[0m temp_df_exp\u001b[38;5;241m.\u001b[39mDetected_Country\u001b[38;5;241m.\u001b[39mvalue_counts()\n",
      "File \u001b[0;32m~/Library/Caches/pypoetry/virtualenvs/playwright-trial-uIq0qThi-py3.12/lib/python3.12/site-packages/pandas/core/frame.py:4090\u001b[0m, in \u001b[0;36mDataFrame.__getitem__\u001b[0;34m(self, key)\u001b[0m\n\u001b[1;32m   4088\u001b[0m \u001b[38;5;28;01mif\u001b[39;00m \u001b[38;5;28mself\u001b[39m\u001b[38;5;241m.\u001b[39mcolumns\u001b[38;5;241m.\u001b[39mnlevels \u001b[38;5;241m>\u001b[39m \u001b[38;5;241m1\u001b[39m:\n\u001b[1;32m   4089\u001b[0m     \u001b[38;5;28;01mreturn\u001b[39;00m \u001b[38;5;28mself\u001b[39m\u001b[38;5;241m.\u001b[39m_getitem_multilevel(key)\n\u001b[0;32m-> 4090\u001b[0m indexer \u001b[38;5;241m=\u001b[39m \u001b[38;5;28;43mself\u001b[39;49m\u001b[38;5;241;43m.\u001b[39;49m\u001b[43mcolumns\u001b[49m\u001b[38;5;241;43m.\u001b[39;49m\u001b[43mget_loc\u001b[49m\u001b[43m(\u001b[49m\u001b[43mkey\u001b[49m\u001b[43m)\u001b[49m\n\u001b[1;32m   4091\u001b[0m \u001b[38;5;28;01mif\u001b[39;00m is_integer(indexer):\n\u001b[1;32m   4092\u001b[0m     indexer \u001b[38;5;241m=\u001b[39m [indexer]\n",
      "File \u001b[0;32m~/Library/Caches/pypoetry/virtualenvs/playwright-trial-uIq0qThi-py3.12/lib/python3.12/site-packages/pandas/core/indexes/base.py:3809\u001b[0m, in \u001b[0;36mIndex.get_loc\u001b[0;34m(self, key)\u001b[0m\n\u001b[1;32m   3804\u001b[0m     \u001b[38;5;28;01mif\u001b[39;00m \u001b[38;5;28misinstance\u001b[39m(casted_key, \u001b[38;5;28mslice\u001b[39m) \u001b[38;5;129;01mor\u001b[39;00m (\n\u001b[1;32m   3805\u001b[0m         \u001b[38;5;28misinstance\u001b[39m(casted_key, abc\u001b[38;5;241m.\u001b[39mIterable)\n\u001b[1;32m   3806\u001b[0m         \u001b[38;5;129;01mand\u001b[39;00m \u001b[38;5;28many\u001b[39m(\u001b[38;5;28misinstance\u001b[39m(x, \u001b[38;5;28mslice\u001b[39m) \u001b[38;5;28;01mfor\u001b[39;00m x \u001b[38;5;129;01min\u001b[39;00m casted_key)\n\u001b[1;32m   3807\u001b[0m     ):\n\u001b[1;32m   3808\u001b[0m         \u001b[38;5;28;01mraise\u001b[39;00m InvalidIndexError(key)\n\u001b[0;32m-> 3809\u001b[0m     \u001b[38;5;28;01mraise\u001b[39;00m \u001b[38;5;167;01mKeyError\u001b[39;00m(key) \u001b[38;5;28;01mfrom\u001b[39;00m \u001b[38;5;21;01merr\u001b[39;00m\n\u001b[1;32m   3810\u001b[0m \u001b[38;5;28;01mexcept\u001b[39;00m \u001b[38;5;167;01mTypeError\u001b[39;00m:\n\u001b[1;32m   3811\u001b[0m     \u001b[38;5;66;03m# If we have a listlike key, _check_indexing_error will raise\u001b[39;00m\n\u001b[1;32m   3812\u001b[0m     \u001b[38;5;66;03m#  InvalidIndexError. Otherwise we fall through and re-raise\u001b[39;00m\n\u001b[1;32m   3813\u001b[0m     \u001b[38;5;66;03m#  the TypeError.\u001b[39;00m\n\u001b[1;32m   3814\u001b[0m     \u001b[38;5;28mself\u001b[39m\u001b[38;5;241m.\u001b[39m_check_indexing_error(key)\n",
      "\u001b[0;31mKeyError\u001b[0m: 'price_score_perIDGroup'"
     ]
    }
   ],
   "source": [
    "temp_df_exp = df_reduced[df_reduced['price_score_perIDGroup'] > 0.8]\n",
    "temp_df_exp.Detected_Country.value_counts()"
   ]
  },
  {
   "cell_type": "markdown",
   "metadata": {},
   "source": [
    "**_These countries are connected with lower prices for identical flights_**"
   ]
  },
  {
   "cell_type": "code",
   "execution_count": null,
   "metadata": {},
   "outputs": [],
   "source": [
    "temp_df_cheap = df_reduced[(df_reduced['max_rel_diff_perIDGroup'] > 4) & (df_reduced['price_score_perIDGroup'] < 0.2)]\n",
    "temp_df_cheap.Detected_Country.value_counts()"
   ]
  },
  {
   "cell_type": "markdown",
   "metadata": {},
   "source": [
    "Distribution shows tendency of having more \"expensive\" flights (flights close to max-price) and less variation in general"
   ]
  },
  {
   "cell_type": "code",
   "execution_count": null,
   "metadata": {},
   "outputs": [],
   "source": [
    "import pandas as pd\n",
    "import matplotlib.pyplot as plt\n",
    "\n",
    "# Assuming df_reduced is your DataFrame\n",
    "# Plotting the histogram\n",
    "df_reduced['price_score_perIDGroup'].plot.hist(bins=10, range=(0, 1), edgecolor='black')\n",
    "\n",
    "plt.title('Distribution of flights prices their respective min and max')\n",
    "plt.xlabel('Price Score per ID Group')\n",
    "plt.ylabel('Frequency')\n",
    "plt.grid(axis='y', alpha=0.75)  # Optional: Add grid lines for better readability\n",
    "\n",
    "plt.show()"
   ]
  },
  {
   "cell_type": "markdown",
   "metadata": {},
   "source": [
    "** Average indicates that the average maximum relative difference increases with Price**"
   ]
  },
  {
   "cell_type": "code",
   "execution_count": null,
   "metadata": {},
   "outputs": [],
   "source": [
    "df_reduced.columns"
   ]
  },
  {
   "cell_type": "code",
   "execution_count": null,
   "metadata": {},
   "outputs": [],
   "source": [
    "import pandas as pd\n",
    "import seaborn as sns\n",
    "import matplotlib.pyplot as plt\n",
    "\n",
    "# Define the bins and labels for 'Price_in_USD'\n",
    "bins = [0, 100, 500, 1000, float('inf')]\n",
    "labels = ['<100', '100-500', '500-1000', '>1000']\n",
    "\n",
    "# Bin 'Price_in_USD' into the defined categories\n",
    "df_reduced['Price_Category'] = pd.cut(df_reduced['Price_in_USD'], bins=bins, labels=labels)\n",
    "\n",
    "# Group by the new 'Price_Category' and calculate the mean 'rel_diff' for each category\n",
    "avg_rel_diff_by_price_cat = df_reduced.groupby('Price_Category', observed=True)['max_rel_diff_perIDGroup'].mean().reset_index()\n",
    "\n",
    "# Plotting\n",
    "plt.figure(figsize=(10, 6))\n",
    "sns.barplot(data=avg_rel_diff_by_price_cat, x='Price_Category', y='max_rel_diff_perIDGroup')\n",
    "plt.title('Average Relative Difference for Flights by Price Category')\n",
    "plt.xlabel('Price in USD Category')\n",
    "plt.ylabel('Average Relative Difference (%)')\n",
    "plt.tight_layout()\n",
    "plt.show()\n"
   ]
  },
  {
   "cell_type": "markdown",
   "metadata": {},
   "source": [
    "** Median doesnt show this effect **"
   ]
  },
  {
   "cell_type": "code",
   "execution_count": null,
   "metadata": {},
   "outputs": [],
   "source": [
    "import pandas as pd\n",
    "import seaborn as sns\n",
    "import matplotlib.pyplot as plt\n",
    "\n",
    "# Define the bins and labels for 'Price_in_USD'\n",
    "bins = [0, 100, 500, 1000, float('inf')]\n",
    "labels = ['<100', '100-500', '500-1000', '>1000']\n",
    "\n",
    "# Bin 'Price_in_USD' into the defined categories\n",
    "df_reduced['Price_Category'] = pd.cut(df_reduced['Price_in_USD'], bins=bins, labels=labels)\n",
    "\n",
    "# Group by the new 'Price_Category' and calculate the mean 'rel_diff' for each category\n",
    "avg_rel_diff_by_price_cat = df_reduced.groupby('Price_Category', observed=True)['max_rel_diff_perIDGroup'].median().reset_index()\n",
    "\n",
    "# Plotting\n",
    "plt.figure(figsize=(10, 6))\n",
    "sns.barplot(data=avg_rel_diff_by_price_cat, x='Price_Category', y='max_rel_diff_perIDGroup')\n",
    "plt.title('Median Relative Difference in Price by Price Category')\n",
    "plt.xlabel('Price in USD Category')\n",
    "plt.ylabel('Average Relative Difference (%)')\n",
    "plt.tight_layout()\n",
    "plt.show()"
   ]
  },
  {
   "cell_type": "markdown",
   "metadata": {},
   "source": [
    "**The average price spread grows with commute time**"
   ]
  },
  {
   "cell_type": "code",
   "execution_count": null,
   "metadata": {},
   "outputs": [],
   "source": [
    "# Adjust bins based on the new categories in minutes\n",
    "bins = [-float('inf'), 120, 240, 480,750, float('inf')]\n",
    "labels = ['<2h', '2-4h', '4-6h','6-8' ,'>8h']\n",
    "\n",
    "# Bin 'commute_time' into categories directly, no need to convert to hours since it's already in minutes\n",
    "df_reduced['Commute_Time_Category'] = pd.cut(df_reduced['commute_time'], bins=bins, labels=labels)\n",
    "\n",
    "# Group by the new 'Commute_Time_Category' and calculate the mean 'max_rel_diff_perIDGroup' for each category\n",
    "avg_rel_diff_by_commute_cat = df_reduced.groupby('Commute_Time_Category', observed = True)['max_rel_diff_perIDGroup'].mean().reset_index()\n",
    "\n",
    "# Plotting the average relative difference by commute time category\n",
    "plt.figure(figsize=(10, 6))\n",
    "sns.barplot(data=avg_rel_diff_by_commute_cat, x='Commute_Time_Category', y='max_rel_diff_perIDGroup')\n",
    "plt.title('Average Relative Difference in Price by Commute Time Category')\n",
    "plt.xlabel('Commute Time Category')\n",
    "plt.ylabel('Average Relative Difference (%)')\n",
    "plt.tight_layout()\n",
    "plt.show()\n"
   ]
  },
  {
   "cell_type": "markdown",
   "metadata": {},
   "source": [
    "**Most Airlines seem to have an average price-spread in between of 3.5 and 4.5**"
   ]
  },
  {
   "cell_type": "code",
   "execution_count": null,
   "metadata": {},
   "outputs": [],
   "source": [
    "import pandas as pd\n",
    "import matplotlib.pyplot as plt\n",
    "import seaborn as sns\n",
    "\n",
    "# Step 1: Calculate the conditional mean of 'rel_diff' for each airline\n",
    "avg_rel_diff_per_airline = df_reduced.groupby('airline_code', observed=True)['max_rel_diff_perIDGroup'].mean().reset_index()\n",
    "\n",
    "# Define bins and labels for the categorized means\n",
    "bins = [0.5, 1.5, 2.5, 3.5, 4.5, 5.5, float('inf')]\n",
    "labels = [ '0.5-1.5', '1.5-2.5', '2.5-3.5', '3.5-4.5', '4.5-5.5', '>5.5']\n",
    "\n",
    "# Step 2: Categorize these averages into the specified bins\n",
    "avg_rel_diff_per_airline['avg_rel_diff_bin'] = pd.cut(avg_rel_diff_per_airline['max_rel_diff_perIDGroup'], bins=bins, labels=labels)\n",
    "\n",
    "# Step 3: Count how many airlines fall into each bin\n",
    "airlines_per_bin = avg_rel_diff_per_airline['avg_rel_diff_bin'].value_counts().sort_index()\n",
    "\n",
    "# Plotting the result\n",
    "airlines_per_bin.plot(kind='bar', figsize=(10, 6), color='skyblue')\n",
    "plt.title('Number of Airlines by Average Relative Difference Bin')\n",
    "plt.xlabel('Average Relative Difference Bin')\n",
    "plt.ylabel('Number of Airlines')\n",
    "plt.xticks(rotation=45)\n",
    "plt.grid(axis='y', linestyle='--')\n",
    "plt.show()\n"
   ]
  },
  {
   "cell_type": "markdown",
   "metadata": {},
   "source": [
    "**Which airlines change their prices based on location**"
   ]
  },
  {
   "cell_type": "code",
   "execution_count": null,
   "metadata": {},
   "outputs": [],
   "source": [
    "# Group airlines by their average 'rel_diff' bin\n",
    "grouped_airlines = avg_rel_diff_per_airline.groupby('avg_rel_diff_bin')['airline_code'].apply(list)\n",
    "\n",
    "# Convert to a DataFrame for a nicer display, if desired\n",
    "grouped_airlines_df = grouped_airlines.reset_index().rename(columns={'airline_code': 'Airlines'})\n",
    "\n",
    "\n",
    "# Display the DataFrame\n",
    "print(grouped_airlines_df)\n"
   ]
  },
  {
   "cell_type": "code",
   "execution_count": null,
   "metadata": {},
   "outputs": [],
   "source": [
    "avg_rel_diff_per_airline"
   ]
  },
  {
   "cell_type": "markdown",
   "metadata": {},
   "source": [
    "Which countries are the cheapest?"
   ]
  },
  {
   "cell_type": "code",
   "execution_count": null,
   "metadata": {},
   "outputs": [],
   "source": [
    "cheap_df = df_reduced[(df_reduced['min'] == df_reduced['Price_in_USD'] )]\n",
    "\n",
    "# Get the distribution of 'Detected_Country' in the filtered DataFrame\n",
    "country_distribution = cheap_df['Detected_Country'].value_counts()\n",
    "\n",
    "# Display the distribution\n",
    "print(country_distribution)\n"
   ]
  },
  {
   "cell_type": "markdown",
   "metadata": {},
   "source": [
    "**Which countries are more expensive**"
   ]
  },
  {
   "cell_type": "code",
   "execution_count": null,
   "metadata": {},
   "outputs": [],
   "source": [
    "\n",
    "expensive_df = df_reduced[(df_reduced['max'] == df_reduced['Price_in_USD'])]\n",
    "\n",
    "# Get the distribution of 'Detected_Country' in the filtered DataFrame\n",
    "country_distribution = expensive_df['Detected_Country'].value_counts()\n",
    "\n",
    "# Display the distribution\n",
    "print(country_distribution)\n"
   ]
  },
  {
   "cell_type": "code",
   "execution_count": null,
   "metadata": {},
   "outputs": [],
   "source": [
    "df_reduced.columns"
   ]
  },
  {
   "cell_type": "code",
   "execution_count": null,
   "metadata": {},
   "outputs": [],
   "source": [
    "from scipy.stats import kruskal\n",
    "import pandas as pd\n",
    "\n",
    "# Assuming df_reduced exists and has 'departure_airport_code' and 'rel_diff'\n",
    "\n",
    "# Group data by 'departure_airport_code' and extract 'rel_diff' values\n",
    "groups = df_reduced.groupby('departure_airport_code')['max_rel_diff_perIDGroup'].apply(list)\n",
    "\n",
    "# Perform Kruskal-Wallis H-test\n",
    "stat, p = kruskal(*groups)\n",
    "\n",
    "print(f'Statistic: {stat}, P-value: {p}')\n",
    "\n",
    "# Interpret the results\n",
    "alpha = 0.05  # Set a significance level\n",
    "if p < alpha:\n",
    "    print(\"Reject the null hypothesis - suggest the median 'rel_diff' differs across departure airports.\")\n",
    "else:\n",
    "    print(\"Fail to reject the null hypothesis - no evidence that the median 'rel_diff' differs across departure airports.\")\n"
   ]
  },
  {
   "cell_type": "markdown",
   "metadata": {},
   "source": [
    "# Statistical Testing"
   ]
  },
  {
   "cell_type": "code",
   "execution_count": null,
   "metadata": {},
   "outputs": [],
   "source": [
    "from scipy.stats import f_oneway\n",
    "\n",
    "# Assuming 'flight_data' is your DataFrame containing flight information\n",
    "# 'Price' is the column containing flight prices, and 'Country' is the column containing country information\n",
    "\n",
    "# Extract prices for each country\n",
    "prices_by_country = [group['Price_in_USD'].values for name, group in df_reduced.groupby('Flight_ID')]\n",
    "\n",
    "# Perform ANOVA test\n",
    "f_statistic, p_value = f_oneway(*prices_by_country)\n",
    "\n",
    "# Interpret the results\n",
    "alpha = 0.05  # Significance level\n",
    "print(\"ANOVA results:\")\n",
    "print(\"F-statistic:\", f_statistic)\n",
    "print(\"p-value:\", p_value)\n",
    "\n",
    "if p_value < alpha:\n",
    "    print(\"There are statistically significant differences in mean flight prices among different countries.\")\n",
    "else:\n",
    "    print(\"There are no statistically significant differences in mean flight prices among different countries.\")\n"
   ]
  },
  {
   "cell_type": "code",
   "execution_count": null,
   "metadata": {},
   "outputs": [],
   "source": [
    "from scipy.stats import f_oneway\n",
    "\n",
    "# Assuming 'df' is your DataFrame containing flight information\n",
    "# 'Price_in_USD' is the column containing flight prices, and 'Assigned_Country' is the column containing country information\n",
    "\n",
    "# Extract prices for each country\n",
    "prices_by_country = [group['Price_in_USD'].values for name, group in df_reduced.groupby('Flight_ID')]\n",
    "\n",
    "# Perform ANOVA test\n",
    "f_statistic, p_value = f_oneway(*prices_by_country)\n",
    "\n",
    "# Interpret the results\n",
    "alpha = 0.05  # Significance level\n",
    "print(\"ANOVA results:\")\n",
    "print(\"F-statistic:\", f_statistic)\n",
    "print(\"p-value:\", p_value)\n",
    "\n",
    "if p_value < alpha:\n",
    "    print(\"There are statistically significant differences in mean flight prices among different countries for the same flight route.\")\n",
    "else:\n",
    "    print(\"There are no statistically significant differences in mean flight prices among different countries for the same flight route.\")\n"
   ]
  },
  {
   "cell_type": "code",
   "execution_count": null,
   "metadata": {},
   "outputs": [],
   "source": [
    "from scipy.stats import ttest_rel\n",
    "\n",
    "# Assuming 'df' is your DataFrame containing flight information\n",
    "# 'Price_in_USD' is the column containing flight prices, and 'Flight_ID' is the column containing flight identifiers\n",
    "\n",
    "# Group the data by Flight_ID and calculate the maximum and minimum prices for each group\n",
    "max_prices = df_reduced.groupby('Flight_ID')['Price_in_USD'].max()\n",
    "min_prices = df_reduced.groupby('Flight_ID')['Price_in_USD'].min()\n",
    "\n",
    "# Perform paired samples t-test\n",
    "t_statistic, p_value = ttest_rel(max_prices, min_prices)\n",
    "\n",
    "# Interpret the results\n",
    "alpha = 0.05  # Significance level\n",
    "print(\"Paired samples t-test results:\")\n",
    "print(\"t-statistic:\", t_statistic)\n",
    "print(\"p-value:\", p_value)\n",
    "\n",
    "if p_value < alpha:\n",
    "    print(\"There is a statistically significant difference between the maximum and minimum prices of each Flight_ID.\")\n",
    "else:\n",
    "    print(\"There is no statistically significant difference between the maximum and minimum prices of each Flight_ID.\")\n"
   ]
  },
  {
   "cell_type": "code",
   "execution_count": null,
   "metadata": {},
   "outputs": [],
   "source": [
    "df_reduced.columns"
   ]
  },
  {
   "cell_type": "code",
   "execution_count": null,
   "metadata": {},
   "outputs": [],
   "source": [
    "import pandas as pd\n",
    "from sklearn.model_selection import train_test_split\n",
    "from sklearn.linear_model import LinearRegression\n",
    "from sklearn.metrics import mean_squared_error, r2_score\n",
    "\n",
    "\n",
    "# Define independent and dependent variables\n",
    "X = pd.get_dummies(df_reduced[['Journey_route','days_until_departure']], drop_first=True)\n",
    "y = pd.get_dummies(df_reduced['Cheapest_Location_Journey'])\n",
    "\n",
    "# Split the dataset into training and testing sets\n",
    "X_train, X_test, y_train, y_test = train_test_split(X, y, test_size=0.1, random_state=41)\n",
    "\n",
    "# Create and fit the model\n",
    "model = LinearRegression()\n",
    "model.fit(X_train, y_train)\n",
    "\n",
    "# Predict and evaluate\n",
    "y_pred = model.predict(X_test)\n",
    "print(f\"R² score: {r2_score(y_test, y_pred)}\")\n",
    "print(f\"Mean squared error: {mean_squared_error(y_test, y_pred)}\")\n"
   ]
  },
  {
   "cell_type": "code",
   "execution_count": null,
   "metadata": {},
   "outputs": [],
   "source": [
    "df_reduced.columns"
   ]
  },
  {
   "cell_type": "code",
   "execution_count": null,
   "metadata": {},
   "outputs": [],
   "source": [
    "# Calculate the mean of max_rel_diff_perIDGroup for each Flight_ID\n",
    "grouped_means = df_reduced.groupby('FlightID_in_Countries_Count')['rel_price_diff_loc_to_glob_Journey_min'].mean()"
   ]
  },
  {
   "cell_type": "code",
   "execution_count": null,
   "metadata": {},
   "outputs": [],
   "source": [
    "grouped_means"
   ]
  },
  {
   "cell_type": "code",
   "execution_count": null,
   "metadata": {},
   "outputs": [],
   "source": [
    "df_reduced.FlightID_in_Countries_Count.value_counts()"
   ]
  },
  {
   "cell_type": "code",
   "execution_count": null,
   "metadata": {},
   "outputs": [],
   "source": [
    "df_reduced.max_rel_diff_perIDGroup.max()"
   ]
  },
  {
   "cell_type": "code",
   "execution_count": null,
   "metadata": {},
   "outputs": [],
   "source": [
    "df_reduced.Price_in_USD.value_counts()"
   ]
  },
  {
   "cell_type": "code",
   "execution_count": null,
   "metadata": {},
   "outputs": [],
   "source": [
    "df_reduced.iloc[139:142]"
   ]
  },
  {
   "cell_type": "code",
   "execution_count": null,
   "metadata": {},
   "outputs": [],
   "source": [
    "df_reduced.FlightID_in_Countries_Count.value_counts()"
   ]
  },
  {
   "cell_type": "code",
   "execution_count": null,
   "metadata": {},
   "outputs": [],
   "source": [
    "grouped_means"
   ]
  },
  {
   "cell_type": "code",
   "execution_count": null,
   "metadata": {},
   "outputs": [],
   "source": [
    "# Calculate the mean of max_rel_diff_perIDGroup for each Flight_ID\n",
    "grouped_means = df_reduced.groupby('airline_code')['max_rel_diff_perIDGroup'].mean()\n"
   ]
  },
  {
   "cell_type": "code",
   "execution_count": null,
   "metadata": {},
   "outputs": [],
   "source": [
    "grouped_means.count()"
   ]
  },
  {
   "cell_type": "code",
   "execution_count": null,
   "metadata": {},
   "outputs": [],
   "source": [
    "grouped_means.sort_values(ascending=False)"
   ]
  },
  {
   "cell_type": "code",
   "execution_count": null,
   "metadata": {},
   "outputs": [],
   "source": [
    "grouped_means.head()"
   ]
  },
  {
   "cell_type": "code",
   "execution_count": null,
   "metadata": {},
   "outputs": [],
   "source": [
    "df_reduced.max_rel_diff_perIDGroup.median()"
   ]
  },
  {
   "cell_type": "code",
   "execution_count": null,
   "metadata": {},
   "outputs": [],
   "source": []
  },
  {
   "cell_type": "code",
   "execution_count": null,
   "metadata": {},
   "outputs": [],
   "source": [
    "import matplotlib.pyplot as plt\n",
    "\n",
    "# Plotting the histogram of the aggregated means\n",
    "plt.hist(grouped_means, bins=10, range=(0, 10), edgecolor='black')\n",
    "plt.title('Distribution of Average max_rel_diff_perIDGroup per Flight_ID')\n",
    "plt.xlabel('Average max_rel_diff_perIDGroup')\n",
    "plt.ylabel('Frequency')\n",
    "plt.show()\n"
   ]
  },
  {
   "cell_type": "code",
   "execution_count": null,
   "metadata": {},
   "outputs": [],
   "source": [
    "df_reduced.columns"
   ]
  },
  {
   "cell_type": "code",
   "execution_count": null,
   "metadata": {},
   "outputs": [],
   "source": [
    "import pandas as pd\n",
    "import matplotlib.pyplot as plt\n",
    "\n",
    "# Plotting directly from the DataFrame\n",
    "df_reduced['price_diff_loc_to_glob_Journey_min'].hist(bins=10, range=(0, 10))\n",
    "\n",
    "plt.title('Distribution of price_diff_loc_to_glob_Journey_min')\n",
    "plt.xlabel('price_diff_loc_to_glob_Journey_min')\n",
    "plt.ylabel('Frequency')\n",
    "plt.grid(False)  # Optionally disable the grid for a cleaner look\n",
    "plt.show()\n"
   ]
  },
  {
   "cell_type": "code",
   "execution_count": null,
   "metadata": {},
   "outputs": [],
   "source": [
    "df_reduced.columns"
   ]
  },
  {
   "cell_type": "code",
   "execution_count": null,
   "metadata": {},
   "outputs": [],
   "source": [
    "from scipy.stats import ttest_1samp\n",
    "import numpy as np\n",
    "\n",
    "# Assuming df_reduced is your DataFrame and max_rel_diff_perIDGroup is the column you're testing\n",
    "data = df_reduced['rel_price_diff_loc_to_glob_Journey_min'].dropna()  # Drop NaN values if any\n",
    "\n",
    "# Perform the one-sample t-test against the null hypothesis that the mean is 0\n",
    "t_statistic, p_value = ttest_1samp(data, 0)\n",
    "\n",
    "print(f\"T-statistic: {t_statistic}\")\n",
    "print(f\"P-value: {p_value}\")\n",
    "\n",
    "# Interpretation\n",
    "if p_value < 0.01:\n",
    "    print(\"We reject the null hypothesis. The mean of max_rel_diff_perIDGroup is significantly different from 0.\")\n",
    "else:\n",
    "    print(\"We fail to reject the null hypothesis. There is not enough evidence to say the mean of max_rel_diff_perIDGroup is significantly different from 0.\")\n"
   ]
  },
  {
   "cell_type": "code",
   "execution_count": null,
   "metadata": {},
   "outputs": [],
   "source": [
    "from sklearn.linear_model import Lasso\n",
    "from sklearn.model_selection import train_test_split\n",
    "from sklearn.metrics import mean_squared_error, r2_score\n",
    "import pandas as pd\n",
    "\n",
    "# Assuming df_reduced is your DataFrame and it's already loaded\n",
    "\n",
    "# Prepare your data: Get dummies for categorical variables\n",
    "X = pd.get_dummies(df_reduced[['airline_code', 'Price_in_USD', 'Detected_Country', 'First_flight']], drop_first=True)\n",
    "y = df_reduced['max_rel_diff_perIDGroup']\n",
    "\n",
    "# Split the dataset into training and testing sets\n",
    "X_train, X_test, y_train, y_test = train_test_split(X, y, test_size=0.2, random_state=42)\n",
    "\n",
    "# Initialize the Lasso regression model\n",
    "# alpha is the regularization strength; larger values specify stronger regularization.\n",
    "lasso_model = Lasso(alpha=0.1)  # You might need to adjust the alpha value\n",
    "\n",
    "# Fit the Lasso model to the training data\n",
    "lasso_model.fit(X_train, y_train)\n",
    "\n",
    "# Predict on the testing set\n",
    "y_pred = lasso_model.predict(X_test)\n",
    "\n",
    "# Evaluate the model\n",
    "print(f\"R² score: {r2_score(y_test, y_pred)}\")\n",
    "print(f\"Mean squared error: {mean_squared_error(y_test, y_pred)}\")\n",
    "\n",
    "# Viewing the coefficients\n",
    "coefficients = pd.Series(lasso_model.coef_, index=X_train.columns)\n",
    "print(\"Coefficients:\")\n",
    "print(coefficients)\n"
   ]
  },
  {
   "cell_type": "code",
   "execution_count": null,
   "metadata": {},
   "outputs": [],
   "source": []
  }
 ],
 "metadata": {
  "kernelspec": {
   "display_name": "playwright-trial-uIq0qThi-py3.12",
   "language": "python",
   "name": "python3"
  },
  "language_info": {
   "codemirror_mode": {
    "name": "ipython",
    "version": 3
   },
   "file_extension": ".py",
   "mimetype": "text/x-python",
   "name": "python",
   "nbconvert_exporter": "python",
   "pygments_lexer": "ipython3",
   "version": "3.12.1"
  }
 },
 "nbformat": 4,
 "nbformat_minor": 2
}
