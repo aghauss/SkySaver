{
 "cells": [
  {
   "cell_type": "code",
   "execution_count": 45,
   "metadata": {},
   "outputs": [
    {
     "name": "stdout",
     "output_type": "stream",
     "text": [
      "     airline_code departure_airport_code destination_airport_code  \\\n",
      "498         multi                    PHX                      CGH   \n",
      "500         multi                    PHX                      CGH   \n",
      "1006           AC                    LAX                      LIS   \n",
      "1007           AC                    LAX                      LIS   \n",
      "1008           AC                    LAX                      LIS   \n",
      "1016           UA                    LAX                      LIS   \n",
      "1017           UA                    LAX                      LIS   \n",
      "1025           UA                    LAX                      LIS   \n",
      "1026           UA                    LAX                      LIS   \n",
      "2088           QR                    MAN                      CPT   \n",
      "2097           QR                    MAN                      CPT   \n",
      "3230        multi                    MAN                      CUN   \n",
      "3231        multi                    MAN                      CUN   \n",
      "3232        multi                    MAN                      CUN   \n",
      "3233        multi                    MAN                      CUN   \n",
      "3234        multi                    MAN                      CUN   \n",
      "3236        multi                    MAN                      CUN   \n",
      "5336        multi                    PHX                      CGH   \n",
      "5337        multi                    PHX                      CGH   \n",
      "5338        multi                    PHX                      CGH   \n",
      "5339        multi                    PHX                      CGH   \n",
      "5340        multi                    PHX                      CGH   \n",
      "5341        multi                    PHX                      CGH   \n",
      "5343        multi                    PHX                      CGH   \n",
      "\n",
      "      ticket_price       departure_date         arrival_date First_flight  \\\n",
      "498           5534  2024-02-28 15:20:00  2024-02-29 16:20:00      PHX-IAH   \n",
      "500          10655  2024-02-28 15:20:00  2024-02-29 16:20:00      PHX-IAH   \n",
      "1006          1967  2024-09-09 12:10:00  2024-09-10 09:20:00      LAX-YUL   \n",
      "1007          3786  2024-09-09 12:10:00  2024-09-10 09:20:00      LAX-YUL   \n",
      "1008        374272  2024-09-09 12:10:00  2024-09-10 09:20:00      LAX-YUL   \n",
      "1016          3316  2024-09-09 11:30:00  2024-09-10 08:20:00      LAX-EWR   \n",
      "1017          6384  2024-09-09 11:30:00  2024-09-10 08:20:00      LAX-EWR   \n",
      "1025          3316  2024-09-09 13:15:00  2024-09-10 10:30:00      LAX-IAD   \n",
      "1026          6384  2024-09-09 13:15:00  2024-09-10 10:30:00      LAX-IAD   \n",
      "2088          1221  2024-04-25 21:25:00  2024-04-26 17:15:00      MAN-DOH   \n",
      "2097          2351  2024-04-25 21:25:00  2024-04-26 17:15:00      MAN-DOH   \n",
      "3230          1474  2024-05-05 07:50:00  2024-05-05 19:55:00      MAN-LHR   \n",
      "3231         53762  2024-05-05 07:50:00  2024-05-05 19:55:00      MAN-LHR   \n",
      "3232          6585  2024-05-05 07:50:00  2024-05-05 19:55:00      MAN-LHR   \n",
      "3233      26065775  2024-05-05 07:50:00  2024-05-05 19:55:00      MAN-LHR   \n",
      "3234          1533  2024-05-05 07:50:00  2024-05-05 19:55:00      MAN-LHR   \n",
      "3236        158902  2024-05-05 07:50:00  2024-05-05 19:55:00      MAN-LHR   \n",
      "5336        666991  2024-08-31 12:05:00  2024-09-01 14:05:00      PHX-IAH   \n",
      "5337        770015  2024-08-31 12:05:00  2024-09-01 14:05:00      PHX-IAH   \n",
      "5338         35039  2024-08-31 12:05:00  2024-09-01 14:05:00      PHX-IAH   \n",
      "5339        226592  2024-08-31 12:05:00  2024-09-01 14:05:00      PHX-IAH   \n",
      "5340         27759  2024-08-31 12:05:00  2024-09-01 14:05:00      PHX-IAH   \n",
      "5341          6437  2024-08-31 12:05:00  2024-09-01 14:05:00      PHX-IAH   \n",
      "5343          6200  2024-08-31 12:05:00  2024-09-01 14:05:00      PHX-IAH   \n",
      "\n",
      "     first_flight_code last_flight_code        Detected_Language  ...  \\\n",
      "498             UA1866           G31657  English (United States)  ...   \n",
      "500             UA1866           G31657  English (United States)  ...   \n",
      "1006             AC778           UA8105  English (United States)  ...   \n",
      "1007             AC778           UA8105  English (United States)  ...   \n",
      "1008             AC778           UA8105                      日本語  ...   \n",
      "1016             UA368             UA64  English (United States)  ...   \n",
      "1017             UA368             UA64  English (United States)  ...   \n",
      "1025            UA1635           LH7527  English (United States)  ...   \n",
      "1026            UA1635           LH7527  English (United States)  ...   \n",
      "2088              QR24           BA5814  English (United States)  ...   \n",
      "2097              QR24           BA5814  English (United States)  ...   \n",
      "3230            BA1383           AA6622                  Deutsch  ...   \n",
      "3231            BA1383           AA6622                   Türkçe  ...   \n",
      "3232            BA1383           AA6622                   Polski  ...   \n",
      "3233            BA1383           AA6622                Indonesia  ...   \n",
      "3234            BA1383           AA6622                  Deutsch  ...   \n",
      "3236            BA1383           AA6622                    Shqip  ...   \n",
      "5336             UA382           G31657                    Shqip  ...   \n",
      "5337             UA382           G31657                    বাংলা  ...   \n",
      "5338             UA382           G31657       Português (Brasil)  ...   \n",
      "5339             UA382           G31657                   Türkçe  ...   \n",
      "5340             UA382           G31657                   Polski  ...   \n",
      "5341             UA382           G31657                  Deutsch  ...   \n",
      "5343             UA382           G31657                  Deutsch  ...   \n",
      "\n",
      "     min_journey_same_country max_abs_diff_perIDGroup_Journey_same_country  \\\n",
      "498               3060.540000                                  3912.300000   \n",
      "500               3086.820000                                  3945.480000   \n",
      "1006              1813.140000                                  2365.020000   \n",
      "1007              1827.540000                                  2385.900000   \n",
      "1008              2470.195200                                     0.000000   \n",
      "1016              1813.140000                                  2365.020000   \n",
      "1017              1827.540000                                  2385.900000   \n",
      "1025              1813.140000                                  2365.020000   \n",
      "1026              1827.540000                                  2385.900000   \n",
      "2088              1314.180000                                   224.280000   \n",
      "2097              1325.280000                                   226.380000   \n",
      "3230              1342.170899                                   330.153619   \n",
      "3231              1399.105916                                   344.853933   \n",
      "3232              1310.768295                                   323.040000   \n",
      "3233              1338.315008                                   329.894592   \n",
      "3234              1324.464000                                   326.270400   \n",
      "3236              1402.269000                                   345.653000   \n",
      "5336              3691.375740                                  3332.039490   \n",
      "5337              3682.815500                                  3324.321000   \n",
      "5338              3703.077216                                  3342.541951   \n",
      "5339              3686.404722                                  3327.524046   \n",
      "5340              3689.986080                                  3330.598128   \n",
      "5341              3687.354978                                  3328.756164   \n",
      "5343              3689.077194                                  3329.112006   \n",
      "\n",
      "     max_rel_diff_perIDGroup_Journey_same_country  \\\n",
      "498                                    127.830383   \n",
      "500                                    127.816977   \n",
      "1006                                   130.437804   \n",
      "1007                                   130.552546   \n",
      "1008                                     0.000000   \n",
      "1016                                   130.437804   \n",
      "1017                                   130.552546   \n",
      "1025                                   130.437804   \n",
      "1026                                   130.552546   \n",
      "2088                                    17.066155   \n",
      "2097                                    17.081673   \n",
      "3230                                    24.598478   \n",
      "3231                                    24.648165   \n",
      "3232                                    24.645088   \n",
      "3233                                    24.649996   \n",
      "3234                                    24.634146   \n",
      "3236                                    24.649550   \n",
      "5336                                    90.265520   \n",
      "5337                                    90.265749   \n",
      "5338                                    90.263901   \n",
      "5339                                    90.264751   \n",
      "5340                                    90.260452   \n",
      "5341                                    90.274904   \n",
      "5343                                    90.242406   \n",
      "\n",
      "      price_diff_loc_to_glob_Journey_min  \\\n",
      "498                          1343.290000   \n",
      "500                          1369.570000   \n",
      "1006                          639.500000   \n",
      "1007                          653.900000   \n",
      "1008                         1296.555200   \n",
      "1016                          639.500000   \n",
      "1017                          653.900000   \n",
      "1025                          639.500000   \n",
      "1026                          653.900000   \n",
      "2088                          446.580000   \n",
      "2097                          457.680000   \n",
      "3230                          319.522222   \n",
      "3231                          376.457239   \n",
      "3232                          288.119618   \n",
      "3233                          315.666331   \n",
      "3234                          301.815323   \n",
      "3236                          379.620323   \n",
      "5336                          463.648671   \n",
      "5337                          455.088431   \n",
      "5338                          475.350147   \n",
      "5339                          458.677653   \n",
      "5340                          462.259011   \n",
      "5341                          459.627909   \n",
      "5343                          461.350125   \n",
      "\n",
      "      rel_price_diff_loc_to_glob_Journey_min Cheapest_Location_Journey  \\\n",
      "498                                78.223322                  Shqipëri   \n",
      "500                                79.753676                  Shqipëri   \n",
      "1006                               54.488600                  Shqipëri   \n",
      "1007                               55.715552                  Shqipëri   \n",
      "1008                              110.472990                  Shqipëri   \n",
      "1016                               54.488600                  Shqipëri   \n",
      "1017                               55.715552                  Shqipëri   \n",
      "1025                               54.488600                  Shqipëri   \n",
      "1026                               55.715552                  Shqipëri   \n",
      "2088                               51.473029                  Shqipëri   \n",
      "2097                               52.752420                  Shqipëri   \n",
      "3230                               31.244574            United Kingdom   \n",
      "3231                               36.811981            United Kingdom   \n",
      "3232                               28.173861            United Kingdom   \n",
      "3233                               30.867524            United Kingdom   \n",
      "3234                               29.513100            United Kingdom   \n",
      "3236                               37.121284            United Kingdom   \n",
      "5336                               14.364556                 Australia   \n",
      "5337                               14.099347                 Australia   \n",
      "5338                               14.727086                 Australia   \n",
      "5339                               14.210546                 Australia   \n",
      "5340                               14.321502                 Australia   \n",
      "5341                               14.239987                 Australia   \n",
      "5343                               14.293344                 Australia   \n",
      "\n",
      "      Cheapest_Location_Flight  \\\n",
      "498                   Shqipëri   \n",
      "500                   Shqipëri   \n",
      "1006                  Shqipëri   \n",
      "1007                  Shqipëri   \n",
      "1008                  Shqipëri   \n",
      "1016                  Shqipëri   \n",
      "1017                  Shqipëri   \n",
      "1025                  Shqipëri   \n",
      "1026                  Shqipëri   \n",
      "2088                  Shqipëri   \n",
      "2097                  Shqipëri   \n",
      "3230            United Kingdom   \n",
      "3231            United Kingdom   \n",
      "3232            United Kingdom   \n",
      "3233            United Kingdom   \n",
      "3234            United Kingdom   \n",
      "3236            United Kingdom   \n",
      "5336                 Australia   \n",
      "5337                 Australia   \n",
      "5338                 Australia   \n",
      "5339                 Australia   \n",
      "5340                 Australia   \n",
      "5341                 Australia   \n",
      "5343                 Australia   \n",
      "\n",
      "      average_savings_for_Journey_route_in_Detected_Country  \\\n",
      "498                                           36.971422       \n",
      "500                                           38.142586       \n",
      "1006                                         167.108877       \n",
      "1007                                         169.333250       \n",
      "1008                                         110.472990       \n",
      "1016                                         167.108877       \n",
      "1017                                         169.333250       \n",
      "1025                                         167.108877       \n",
      "1026                                         169.333250       \n",
      "2088                                          23.449690       \n",
      "2097                                          24.500556       \n",
      "3230                                           7.168292       \n",
      "3231                                          11.754974       \n",
      "3232                                           4.693694       \n",
      "3233                                           6.900342       \n",
      "3234                                           5.795822       \n",
      "3236                                          12.008703       \n",
      "5336                                          38.342393       \n",
      "5337                                          38.021677       \n",
      "5338                                          38.780239       \n",
      "5339                                          38.155766       \n",
      "5340                                          38.288152       \n",
      "5341                                          38.195705       \n",
      "5343                                          38.246397       \n",
      "\n",
      "     Mode_Cheapest_Location_Journey  \\\n",
      "498                        Shqipëri   \n",
      "500                        Shqipëri   \n",
      "1006                       Shqipëri   \n",
      "1007                       Shqipëri   \n",
      "1008                       Shqipëri   \n",
      "1016                       Shqipëri   \n",
      "1017                       Shqipëri   \n",
      "1025                       Shqipëri   \n",
      "1026                       Shqipëri   \n",
      "2088                       Shqipëri   \n",
      "2097                       Shqipëri   \n",
      "3230                         Polska   \n",
      "3231                         Polska   \n",
      "3232                         Polska   \n",
      "3233                         Polska   \n",
      "3234                         Polska   \n",
      "3236                         Polska   \n",
      "5336                      Australia   \n",
      "5337                      Australia   \n",
      "5338                      Australia   \n",
      "5339                      Australia   \n",
      "5340                      Australia   \n",
      "5341                      Australia   \n",
      "5343                      Australia   \n",
      "\n",
      "     median_savings_for_Journey_ID_in_Detected_Country  \n",
      "498                                          56.642302  \n",
      "500                                          35.329316  \n",
      "1006                                         54.488600  \n",
      "1007                                         13.522343  \n",
      "1008                                         32.173513  \n",
      "1016                                         54.488600  \n",
      "1017                                         13.522343  \n",
      "1025                                         54.488600  \n",
      "1026                                         13.522343  \n",
      "2088                                         60.331950  \n",
      "2097                                         61.728907  \n",
      "3230                                         24.202942  \n",
      "3231                                         29.437310  \n",
      "3232                                         21.267723  \n",
      "3233                                         23.815671  \n",
      "3234                                         22.586600  \n",
      "3236                                         29.040537  \n",
      "5336                                         28.546970  \n",
      "5337                                         44.075031  \n",
      "5338                                         25.754323  \n",
      "5339                                         28.291948  \n",
      "5340                                         23.849522  \n",
      "5341                                         24.464821  \n",
      "5343                                         25.441474  \n",
      "\n",
      "[24 rows x 47 columns]\n"
     ]
    }
   ],
   "source": [
    "# Filter rows where 'rel_diff_to_min_price_JourneyID' is greater than 20\n",
    "values_larger_than_20 = df_train[df_train['rel_diff_to_min_price_FlightID'] > 50]\n",
    "\n",
    "# Display the filtered DataFrame\n",
    "print(values_larger_than_20)\n"
   ]
  },
  {
   "cell_type": "code",
   "execution_count": 36,
   "metadata": {},
   "outputs": [
    {
     "data": {
      "text/plain": [
       "count    5806.000000\n",
       "mean        3.090059\n",
       "std         8.683293\n",
       "min         0.000000\n",
       "25%         0.626945\n",
       "50%         1.648590\n",
       "75%         3.930153\n",
       "max       257.689565\n",
       "Name: rel_diff_to_min_price_FlightID, dtype: float64"
      ]
     },
     "execution_count": 36,
     "metadata": {},
     "output_type": "execute_result"
    }
   ],
   "source": [
    "df_train.rel_diff_to_min_price_FlightID.describe()"
   ]
  },
  {
   "cell_type": "code",
   "execution_count": 40,
   "metadata": {},
   "outputs": [
    {
     "data": {
      "text/plain": [
       "count    5806.000000\n",
       "mean       50.175693\n",
       "std       115.048079\n",
       "min         0.000000\n",
       "25%         4.122248\n",
       "50%        17.562475\n",
       "75%        53.030424\n",
       "max      1187.102731\n",
       "Name: rel_diff_to_min_price_JourneyID, dtype: float64"
      ]
     },
     "execution_count": 40,
     "metadata": {},
     "output_type": "execute_result"
    }
   ],
   "source": [
    "df_train.rel_diff_to_min_price_JourneyID.describe()"
   ]
  },
  {
   "cell_type": "code",
   "execution_count": 29,
   "metadata": {},
   "outputs": [
    {
     "data": {
      "text/plain": [
       "19.473083666012283"
      ]
     },
     "execution_count": 29,
     "metadata": {},
     "output_type": "execute_result"
    }
   ],
   "source": [
    "from scipy import stats\n",
    "trimmed_mean = stats.trim_mean(df_train['rel_diff_to_min_price_JourneyID'], proportiontocut=0.3)\n",
    "trimmed_mean"
   ]
  },
  {
   "cell_type": "code",
   "execution_count": 23,
   "metadata": {},
   "outputs": [],
   "source": [
    "raw_mean = df_train['rel_diff_to_min_price_JourneyID'].mean()\n",
    "std_dev = df_train['rel_diff_to_min_price_JourneyID'].std()\n"
   ]
  },
  {
   "cell_type": "code",
   "execution_count": 26,
   "metadata": {},
   "outputs": [
    {
     "data": {
      "text/plain": [
       "50.1756933492957"
      ]
     },
     "execution_count": 26,
     "metadata": {},
     "output_type": "execute_result"
    }
   ],
   "source": [
    "raw_mean"
   ]
  },
  {
   "cell_type": "code",
   "execution_count": 24,
   "metadata": {},
   "outputs": [],
   "source": [
    "smoothing_factor = std_dev  # This is a simple choice; adjust based on your data's characteristics\n"
   ]
  },
  {
   "cell_type": "code",
   "execution_count": 30,
   "metadata": {},
   "outputs": [],
   "source": [
    "global_median_savings = df_train['rel_diff_to_min_price_JourneyID'].median()\n"
   ]
  },
  {
   "cell_type": "code",
   "execution_count": 31,
   "metadata": {},
   "outputs": [
    {
     "data": {
      "text/plain": [
       "17.56247473048319"
      ]
     },
     "execution_count": 31,
     "metadata": {},
     "output_type": "execute_result"
    }
   ],
   "source": [
    "global_median_savings"
   ]
  },
  {
   "cell_type": "code",
   "execution_count": 15,
   "metadata": {},
   "outputs": [],
   "source": [
    "category_medians = df_train.groupby(['Journey_route', 'Detected_Country'])['rel_diff_to_min_price_JourneyID'].median()\n",
    "category_counts = df_train.groupby(['Journey_route', 'Detected_Country']).size()\n"
   ]
  },
  {
   "cell_type": "code",
   "execution_count": 16,
   "metadata": {},
   "outputs": [],
   "source": [
    "smoothing_factor = 10  # This is a hyperparameter you can tune\n",
    "\n",
    "# Calculate the smoothed average for each category\n",
    "smoothed_medians = ((category_counts * category_medians) + (smoothing_factor * global_median_savings)) / (category_counts + smoothing_factor)\n",
    "\n",
    "# Convert the Series to a DataFrame for merging\n",
    "smoothed_medians_df = smoothed_medians.reset_index(name='smoothed_median_savings_for_Journey_ID_in_Detected_Country')\n"
   ]
  },
  {
   "cell_type": "code",
   "execution_count": 17,
   "metadata": {},
   "outputs": [],
   "source": [
    "df_train = pd.merge(df_train, smoothed_medians_df, on=['Journey_route', 'Detected_Country'], how='left')\n"
   ]
  },
  {
   "cell_type": "code",
   "execution_count": 18,
   "metadata": {},
   "outputs": [
    {
     "data": {
      "text/plain": [
       "count    5806.000000\n",
       "mean       23.416404\n",
       "std        17.244218\n",
       "min         7.571674\n",
       "25%        13.950521\n",
       "50%        18.820470\n",
       "75%        26.517228\n",
       "max       300.450249\n",
       "Name: smoothed_median_savings_for_Journey_ID_in_Detected_Country, dtype: float64"
      ]
     },
     "execution_count": 18,
     "metadata": {},
     "output_type": "execute_result"
    }
   ],
   "source": [
    "df_train.smoothed_median_savings_for_Journey_ID_in_Detected_Country.describe()"
   ]
  },
  {
   "cell_type": "code",
   "execution_count": 22,
   "metadata": {},
   "outputs": [
    {
     "data": {
      "text/plain": [
       "count    5806.000000\n",
       "mean       27.186593\n",
       "std        35.248063\n",
       "min         0.000000\n",
       "25%        10.734351\n",
       "50%        19.190072\n",
       "75%        29.329962\n",
       "max      1172.493976\n",
       "Name: median_savings_for_Journey_ID_in_Detected_Country, dtype: float64"
      ]
     },
     "execution_count": 22,
     "metadata": {},
     "output_type": "execute_result"
    }
   ],
   "source": [
    "df_train.median_savings_for_Journey_ID_in_Detected_Country.describe()"
   ]
  },
  {
   "cell_type": "markdown",
   "metadata": {},
   "source": [
    "# Import training data"
   ]
  },
  {
   "cell_type": "code",
   "execution_count": 1,
   "metadata": {},
   "outputs": [],
   "source": [
    "import pandas as pd\n",
    "df_1 = pd.read_csv('../data/4.processed_data/Query4_results_test_processed.csv')\n",
    "df_2 = pd.read_csv('../data/4.processed_data/Query1503_results_conv_processed.csv')\n",
    "df_3 = pd.read_csv('../data/4.processed_data/Query1603_results_test_processed.csv')\n",
    "df_train = pd.concat([df_1,df_2,df_3])\n",
    "df_test = pd.read_csv('../data/4.processed_data/Query1803_results_processed.csv')"
   ]
  },
  {
   "cell_type": "code",
   "execution_count": 21,
   "metadata": {},
   "outputs": [],
   "source": [
    "# Calculate the average of rel_diff_to_min_price_FlightID for each Journey_ID and Detected_Country\n",
    "median_savings_route_train = df_train.groupby(['Journey_route', 'Detected_Country','Detected_Currency'])['rel_diff_to_min_price_JourneyID'].median().reset_index(name='median_savings_for_Journey_ID_in_Detected_Country')\n",
    "# Merge the average_savings DataFrame back into df_reduced\n",
    "df_train= df_train.merge(median_savings_route_train, on=['Journey_route', 'Detected_Country','Detected_Currency'], how='left')"
   ]
  },
  {
   "cell_type": "code",
   "execution_count": 34,
   "metadata": {},
   "outputs": [
    {
     "data": {
      "text/plain": [
       "17.56247473048319"
      ]
     },
     "execution_count": 34,
     "metadata": {},
     "output_type": "execute_result"
    }
   ],
   "source": [
    "df_train.rel_diff_to_min_price_JourneyID.median()"
   ]
  },
  {
   "cell_type": "code",
   "execution_count": 3,
   "metadata": {},
   "outputs": [
    {
     "data": {
      "text/html": [
       "<div>\n",
       "<style scoped>\n",
       "    .dataframe tbody tr th:only-of-type {\n",
       "        vertical-align: middle;\n",
       "    }\n",
       "\n",
       "    .dataframe tbody tr th {\n",
       "        vertical-align: top;\n",
       "    }\n",
       "\n",
       "    .dataframe thead th {\n",
       "        text-align: right;\n",
       "    }\n",
       "</style>\n",
       "<table border=\"1\" class=\"dataframe\">\n",
       "  <thead>\n",
       "    <tr style=\"text-align: right;\">\n",
       "      <th></th>\n",
       "      <th>median_savings_for_Journey_ID_in_Detected_Country</th>\n",
       "    </tr>\n",
       "  </thead>\n",
       "  <tbody>\n",
       "    <tr>\n",
       "      <th>count</th>\n",
       "      <td>383.000000</td>\n",
       "    </tr>\n",
       "    <tr>\n",
       "      <th>mean</th>\n",
       "      <td>31.231280</td>\n",
       "    </tr>\n",
       "    <tr>\n",
       "      <th>std</th>\n",
       "      <td>70.564027</td>\n",
       "    </tr>\n",
       "    <tr>\n",
       "      <th>min</th>\n",
       "      <td>0.000000</td>\n",
       "    </tr>\n",
       "    <tr>\n",
       "      <th>25%</th>\n",
       "      <td>8.707555</td>\n",
       "    </tr>\n",
       "    <tr>\n",
       "      <th>50%</th>\n",
       "      <td>15.823207</td>\n",
       "    </tr>\n",
       "    <tr>\n",
       "      <th>75%</th>\n",
       "      <td>39.232218</td>\n",
       "    </tr>\n",
       "    <tr>\n",
       "      <th>max</th>\n",
       "      <td>1172.493976</td>\n",
       "    </tr>\n",
       "  </tbody>\n",
       "</table>\n",
       "</div>"
      ],
      "text/plain": [
       "       median_savings_for_Journey_ID_in_Detected_Country\n",
       "count                                         383.000000\n",
       "mean                                           31.231280\n",
       "std                                            70.564027\n",
       "min                                             0.000000\n",
       "25%                                             8.707555\n",
       "50%                                            15.823207\n",
       "75%                                            39.232218\n",
       "max                                          1172.493976"
      ]
     },
     "execution_count": 3,
     "metadata": {},
     "output_type": "execute_result"
    }
   ],
   "source": [
    "median_savings_route_train.describe()"
   ]
  },
  {
   "cell_type": "code",
   "execution_count": 4,
   "metadata": {},
   "outputs": [],
   "source": [
    "# Calculate the average of rel_diff_to_min_price_FlightID for each Journey_ID and Detected_Country\n",
    "median_savings_route_test = df_test.groupby(['Journey_route', 'Detected_Country'])['rel_diff_to_min_price_JourneyID'].median().reset_index(name='median_savings_for_Journey_ID_in_Detected_Country')\n",
    "# Merge the average_savings DataFrame back into df_reduced\n",
    "df_test = df_test.merge(median_savings_route_test, on=['Journey_route', 'Detected_Country'], how='left')"
   ]
  },
  {
   "cell_type": "code",
   "execution_count": 5,
   "metadata": {},
   "outputs": [
    {
     "data": {
      "text/plain": [
       "Index(['airline_code', 'departure_airport_code', 'destination_airport_code',\n",
       "       'ticket_price', 'departure_date', 'arrival_date', 'First_flight',\n",
       "       'first_flight_code', 'last_flight_code', 'Detected_Language',\n",
       "       'Detected_Country', 'Detected_Currency', 'Flight_ID', 'Price_in_USD',\n",
       "       'commute_time', 'query_date', 'days_until_departure',\n",
       "       'FlightID_in_Countries_Count', 'departure_date_day', 'arrival_date_day',\n",
       "       'Journey_route', 'Journey_ID', 'max_price_FlightID',\n",
       "       'min_price_FlightID', 'max_price_diff_FlightID',\n",
       "       'max_rel_price_diff_FlightID', 'abs_diff_to_min_price_FlightID',\n",
       "       'rel_diff_to_min_price_FlightID', 'rel_price_score_FlightID',\n",
       "       'max_price_JourneyID', 'min_price_JourneyID', 'max_abs_diff_JourneyID',\n",
       "       'max_rel_diff_Journey', 'abs_diff_to_min_price_JourneyID',\n",
       "       'rel_diff_to_min_price_JourneyID', 'rel_price_score_JourneyID',\n",
       "       'max_journey_same_country', 'min_journey_same_country',\n",
       "       'max_abs_diff_perIDGroup_Journey_same_country',\n",
       "       'max_rel_diff_perIDGroup_Journey_same_country',\n",
       "       'price_diff_loc_to_glob_Journey_min',\n",
       "       'rel_price_diff_loc_to_glob_Journey_min', 'Cheapest_Location_Journey',\n",
       "       'Cheapest_Location_Flight',\n",
       "       'average_savings_for_Journey_route_in_Detected_Country',\n",
       "       'Mode_Cheapest_Location_Journey',\n",
       "       'median_savings_for_Journey_ID_in_Detected_Country'],\n",
       "      dtype='object')"
      ]
     },
     "execution_count": 5,
     "metadata": {},
     "output_type": "execute_result"
    }
   ],
   "source": [
    "df_test.columns"
   ]
  },
  {
   "cell_type": "code",
   "execution_count": 6,
   "metadata": {},
   "outputs": [
    {
     "ename": "KeyError",
     "evalue": "'median_savings_for_Journey_route_in_Detected_Country'",
     "output_type": "error",
     "traceback": [
      "\u001b[0;31m---------------------------------------------------------------------------\u001b[0m",
      "\u001b[0;31mKeyError\u001b[0m                                  Traceback (most recent call last)",
      "File \u001b[0;32m~/Library/Caches/pypoetry/virtualenvs/playwright-trial-uIq0qThi-py3.12/lib/python3.12/site-packages/pandas/core/indexes/base.py:3653\u001b[0m, in \u001b[0;36mIndex.get_loc\u001b[0;34m(self, key)\u001b[0m\n\u001b[1;32m   3652\u001b[0m \u001b[38;5;28;01mtry\u001b[39;00m:\n\u001b[0;32m-> 3653\u001b[0m     \u001b[38;5;28;01mreturn\u001b[39;00m \u001b[38;5;28;43mself\u001b[39;49m\u001b[38;5;241;43m.\u001b[39;49m\u001b[43m_engine\u001b[49m\u001b[38;5;241;43m.\u001b[39;49m\u001b[43mget_loc\u001b[49m\u001b[43m(\u001b[49m\u001b[43mcasted_key\u001b[49m\u001b[43m)\u001b[49m\n\u001b[1;32m   3654\u001b[0m \u001b[38;5;28;01mexcept\u001b[39;00m \u001b[38;5;167;01mKeyError\u001b[39;00m \u001b[38;5;28;01mas\u001b[39;00m err:\n",
      "File \u001b[0;32m~/Library/Caches/pypoetry/virtualenvs/playwright-trial-uIq0qThi-py3.12/lib/python3.12/site-packages/pandas/_libs/index.pyx:147\u001b[0m, in \u001b[0;36mpandas._libs.index.IndexEngine.get_loc\u001b[0;34m()\u001b[0m\n",
      "File \u001b[0;32m~/Library/Caches/pypoetry/virtualenvs/playwright-trial-uIq0qThi-py3.12/lib/python3.12/site-packages/pandas/_libs/index.pyx:176\u001b[0m, in \u001b[0;36mpandas._libs.index.IndexEngine.get_loc\u001b[0;34m()\u001b[0m\n",
      "File \u001b[0;32mpandas/_libs/hashtable_class_helper.pxi:7080\u001b[0m, in \u001b[0;36mpandas._libs.hashtable.PyObjectHashTable.get_item\u001b[0;34m()\u001b[0m\n",
      "File \u001b[0;32mpandas/_libs/hashtable_class_helper.pxi:7088\u001b[0m, in \u001b[0;36mpandas._libs.hashtable.PyObjectHashTable.get_item\u001b[0;34m()\u001b[0m\n",
      "\u001b[0;31mKeyError\u001b[0m: 'median_savings_for_Journey_route_in_Detected_Country'",
      "\nThe above exception was the direct cause of the following exception:\n",
      "\u001b[0;31mKeyError\u001b[0m                                  Traceback (most recent call last)",
      "Cell \u001b[0;32mIn[6], line 4\u001b[0m\n\u001b[1;32m      1\u001b[0m \u001b[38;5;28;01mimport\u001b[39;00m \u001b[38;5;21;01mxgboost\u001b[39;00m \u001b[38;5;28;01mas\u001b[39;00m \u001b[38;5;21;01mxgb\u001b[39;00m\n\u001b[1;32m      3\u001b[0m X_full \u001b[38;5;241m=\u001b[39m pd\u001b[38;5;241m.\u001b[39mget_dummies(df_train[[\u001b[38;5;124m'\u001b[39m\u001b[38;5;124mJourney_route\u001b[39m\u001b[38;5;124m'\u001b[39m,\u001b[38;5;124m'\u001b[39m\u001b[38;5;124mdays_until_departure\u001b[39m\u001b[38;5;124m'\u001b[39m, \u001b[38;5;124m'\u001b[39m\u001b[38;5;124mDetected_Country\u001b[39m\u001b[38;5;124m'\u001b[39m, \u001b[38;5;124m'\u001b[39m\u001b[38;5;124mDetected_Currency\u001b[39m\u001b[38;5;124m'\u001b[39m]])\n\u001b[0;32m----> 4\u001b[0m y_full \u001b[38;5;241m=\u001b[39m \u001b[43mdf_train\u001b[49m\u001b[43m[\u001b[49m\u001b[38;5;124;43m'\u001b[39;49m\u001b[38;5;124;43mmedian_savings_for_Journey_route_in_Detected_Country\u001b[39;49m\u001b[38;5;124;43m'\u001b[39;49m\u001b[43m]\u001b[49m\n\u001b[1;32m      5\u001b[0m feature_names \u001b[38;5;241m=\u001b[39m X_full\u001b[38;5;241m.\u001b[39mcolumns\u001b[38;5;241m.\u001b[39mtolist()\n\u001b[1;32m      9\u001b[0m \u001b[38;5;66;03m# Specify your model parameters here\u001b[39;00m\n",
      "File \u001b[0;32m~/Library/Caches/pypoetry/virtualenvs/playwright-trial-uIq0qThi-py3.12/lib/python3.12/site-packages/pandas/core/frame.py:3761\u001b[0m, in \u001b[0;36mDataFrame.__getitem__\u001b[0;34m(self, key)\u001b[0m\n\u001b[1;32m   3759\u001b[0m \u001b[38;5;28;01mif\u001b[39;00m \u001b[38;5;28mself\u001b[39m\u001b[38;5;241m.\u001b[39mcolumns\u001b[38;5;241m.\u001b[39mnlevels \u001b[38;5;241m>\u001b[39m \u001b[38;5;241m1\u001b[39m:\n\u001b[1;32m   3760\u001b[0m     \u001b[38;5;28;01mreturn\u001b[39;00m \u001b[38;5;28mself\u001b[39m\u001b[38;5;241m.\u001b[39m_getitem_multilevel(key)\n\u001b[0;32m-> 3761\u001b[0m indexer \u001b[38;5;241m=\u001b[39m \u001b[38;5;28;43mself\u001b[39;49m\u001b[38;5;241;43m.\u001b[39;49m\u001b[43mcolumns\u001b[49m\u001b[38;5;241;43m.\u001b[39;49m\u001b[43mget_loc\u001b[49m\u001b[43m(\u001b[49m\u001b[43mkey\u001b[49m\u001b[43m)\u001b[49m\n\u001b[1;32m   3762\u001b[0m \u001b[38;5;28;01mif\u001b[39;00m is_integer(indexer):\n\u001b[1;32m   3763\u001b[0m     indexer \u001b[38;5;241m=\u001b[39m [indexer]\n",
      "File \u001b[0;32m~/Library/Caches/pypoetry/virtualenvs/playwright-trial-uIq0qThi-py3.12/lib/python3.12/site-packages/pandas/core/indexes/base.py:3655\u001b[0m, in \u001b[0;36mIndex.get_loc\u001b[0;34m(self, key)\u001b[0m\n\u001b[1;32m   3653\u001b[0m     \u001b[38;5;28;01mreturn\u001b[39;00m \u001b[38;5;28mself\u001b[39m\u001b[38;5;241m.\u001b[39m_engine\u001b[38;5;241m.\u001b[39mget_loc(casted_key)\n\u001b[1;32m   3654\u001b[0m \u001b[38;5;28;01mexcept\u001b[39;00m \u001b[38;5;167;01mKeyError\u001b[39;00m \u001b[38;5;28;01mas\u001b[39;00m err:\n\u001b[0;32m-> 3655\u001b[0m     \u001b[38;5;28;01mraise\u001b[39;00m \u001b[38;5;167;01mKeyError\u001b[39;00m(key) \u001b[38;5;28;01mfrom\u001b[39;00m \u001b[38;5;21;01merr\u001b[39;00m\n\u001b[1;32m   3656\u001b[0m \u001b[38;5;28;01mexcept\u001b[39;00m \u001b[38;5;167;01mTypeError\u001b[39;00m:\n\u001b[1;32m   3657\u001b[0m     \u001b[38;5;66;03m# If we have a listlike key, _check_indexing_error will raise\u001b[39;00m\n\u001b[1;32m   3658\u001b[0m     \u001b[38;5;66;03m#  InvalidIndexError. Otherwise we fall through and re-raise\u001b[39;00m\n\u001b[1;32m   3659\u001b[0m     \u001b[38;5;66;03m#  the TypeError.\u001b[39;00m\n\u001b[1;32m   3660\u001b[0m     \u001b[38;5;28mself\u001b[39m\u001b[38;5;241m.\u001b[39m_check_indexing_error(key)\n",
      "\u001b[0;31mKeyError\u001b[0m: 'median_savings_for_Journey_route_in_Detected_Country'"
     ]
    }
   ],
   "source": [
    "\n",
    "import xgboost as xgb\n",
    "\n",
    "X_full = pd.get_dummies(df_train[['Journey_route','days_until_departure', 'Detected_Country', 'Detected_Currency']])\n",
    "y_full = df_train['median_savings_for_Journey_route_in_Detected_Country']\n",
    "feature_names = X_full.columns.tolist()\n",
    "\n",
    "\n",
    "\n",
    "# Specify your model parameters here\n",
    "params_grid = {'colsample_bytree': 0.9, 'eta': 0.299, 'max_depth': 7, 'subsample': 0.8}\n",
    "params_optuna = {'max_depth': 7, 'eta': 0.319923163390001, 'subsample': 0.8, 'colsample_bytree': 0.9}\n",
    "params_optuna200 = {'max_depth': 8, 'eta': 0.34991201767803204, 'subsample': 0.9, 'colsample_bytree': 0.9}\n",
    "\n",
    "\n",
    "params_self = {'max_depth': 3, 'eta': 0.1, 'subsample': 0.9, 'colsample_bytree': 0.9}\n",
    "\n",
    "\n",
    "\n",
    "median_model = xgb.XGBRegressor(**params_self)\n",
    "\n",
    "\n",
    "# Fit the model on your training data\n",
    "median_model.fit(X_full, y_full)"
   ]
  },
  {
   "cell_type": "code",
   "execution_count": null,
   "metadata": {},
   "outputs": [
    {
     "name": "stdout",
     "output_type": "stream",
     "text": [
      "Mean Absolute Error: 9.299601193832142\n",
      "R-squared: 0.6831993250218229\n"
     ]
    }
   ],
   "source": [
    "from sklearn.metrics import mean_absolute_error\n",
    "from sklearn.metrics import r2_score\n",
    "\n",
    "# Assuming new_test_df is your new test data\n",
    "\n",
    "#df_test18 = pd.read_csv(\"../data/4.processed_data/Query1603_results_test_processed.csv\")\n",
    "X_new_test = pd.get_dummies(df_test[['Journey_route','days_until_departure', 'Detected_Country', 'Detected_Currency','airline_code']])\n",
    "y_test = df_test['median_savings_for_Journey_route_in_Detected_Country']\n",
    "\n",
    "\n",
    "# Align the new test set features with the training features\n",
    "# Add missing columns in the new test set\n",
    "missing_cols = set(feature_names) - set(X_new_test.columns)\n",
    "for c in missing_cols:\n",
    "    X_new_test[c] = 0\n",
    "\n",
    "# Remove any columns in the new test set that are not present in the training set\n",
    "X_new_test = X_new_test[feature_names]\n",
    "\n",
    "# Now, you can predict with your model\n",
    "y_pred = median_model.predict(X_new_test)\n",
    "\n",
    "\n",
    "\n",
    "# Calculate and print the Mean Squared Error\n",
    "mea = mean_absolute_error(y_test, y_pred)\n",
    "print(f\"Mean Absolute Error: {mea}\")\n",
    "\n",
    "\n",
    "r2 = r2_score(y_test, y_pred)\n",
    "print(f\"R-squared: {r2}\")"
   ]
  },
  {
   "cell_type": "code",
   "execution_count": null,
   "metadata": {},
   "outputs": [
    {
     "data": {
      "text/plain": [
       "array([15.101352 , 15.101352 , 15.101352 , 15.101352 , 15.101352 ,\n",
       "       15.101352 , 15.101352 , 16.951729 , 15.101352 , 15.101352 ,\n",
       "       15.101352 , 15.101352 , 15.101352 , 15.101352 , 15.101352 ,\n",
       "       16.951729 , 15.101352 , 15.101352 , 15.101352 , 15.101352 ,\n",
       "       15.101352 , 15.101352 , 15.101352 , 16.951729 , 15.101352 ,\n",
       "       15.101352 , 15.101352 , 15.101352 , 15.101352 , 15.101352 ,\n",
       "       15.101352 , 16.951729 , 15.101352 , 15.101352 , 15.101352 ,\n",
       "       15.101352 , 15.101352 , 15.101352 , 15.101352 , 16.951729 ,\n",
       "       15.101352 , 15.101352 , 15.101352 , 15.101352 , 15.101352 ,\n",
       "       15.101352 , 15.101352 , 16.951729 , 15.101352 , 15.101352 ,\n",
       "       15.101352 , 15.101352 , 15.101352 , 15.101352 , 15.101352 ,\n",
       "       16.951729 , 19.62722  , 19.62722  , 19.62722  , 19.62722  ,\n",
       "       19.62722  , 19.62722  , 19.62722  , 19.62722  , 19.62722  ,\n",
       "       19.62722  , 19.62722  , 19.62722  , 19.62722  , 19.62722  ,\n",
       "       20.399437 , 19.62722  , 19.62722  , 19.62722  , 19.62722  ,\n",
       "       19.62722  , 19.62722  , 19.62722  , 19.62722  , 19.62722  ,\n",
       "       19.62722  , 19.62722  , 19.62722  , 19.62722  , 19.62722  ,\n",
       "       19.62722  , 19.62722  , 19.62722  , 19.62722  , 19.62722  ,\n",
       "       19.62722  , 19.62722  , 19.62722  , 19.62722  , 19.62722  ,\n",
       "       19.62722  , 19.62722  , 19.62722  , 19.62722  , 19.62722  ,\n",
       "       19.62722  , 19.62722  , 19.62722  , 19.62722  , 19.62722  ,\n",
       "       19.62722  , 19.62722  , 19.62722  , 19.62722  , 19.62722  ,\n",
       "       19.62722  , 19.62722  , 19.62722  , 19.62722  , 19.62722  ,\n",
       "       19.62722  , 19.62722  , 19.62722  , 19.62722  , 19.62722  ,\n",
       "       20.399437 , 19.62722  , 19.62722  , 19.62722  , 19.62722  ,\n",
       "       19.62722  , 19.62722  , 19.62722  , 19.62722  , 19.62722  ,\n",
       "       19.62722  , 19.62722  , 19.62722  , 19.62722  , 53.435875 ,\n",
       "       54.13046  , 54.13046  , 54.13046  , 54.780365 , 54.13046  ,\n",
       "       54.13046  , 55.518414 , 53.435875 , 54.13046  , 54.13046  ,\n",
       "       54.13046  , 54.780365 , 54.13046  , 54.13046  , 55.518414 ,\n",
       "       53.435875 , 54.13046  , 54.13046  , 54.13046  , 54.780365 ,\n",
       "       54.13046  , 54.13046  , 55.518414 , 53.435875 , 54.13046  ,\n",
       "       54.13046  , 54.13046  , 54.780365 , 54.13046  , 54.13046  ,\n",
       "       55.518414 , 53.435875 , 54.13046  , 54.13046  , 54.13046  ,\n",
       "       54.780365 , 54.13046  , 54.13046  , 55.518414 , 53.435875 ,\n",
       "       54.13046  , 54.13046  , 54.13046  , 54.780365 , 54.13046  ,\n",
       "       54.13046  , 55.518414 , 53.435875 , 54.13046  , 54.13046  ,\n",
       "       54.13046  , 54.780365 , 54.13046  , 54.13046  , 55.518414 ,\n",
       "       53.435875 , 54.13046  , 54.13046  , 54.13046  , 54.780365 ,\n",
       "       54.13046  , 54.13046  , 55.518414 , 53.435875 , 54.13046  ,\n",
       "       54.13046  , 54.13046  , 54.780365 , 54.13046  , 54.13046  ,\n",
       "       55.518414 , 53.435875 , 54.13046  , 54.13046  , 54.13046  ,\n",
       "       54.780365 , 54.13046  , 54.13046  , 55.518414 , 21.315863 ,\n",
       "       21.315863 , 21.315863 , 21.315863 , 21.315863 , 19.43493  ,\n",
       "       21.315863 , 21.315863 , 21.315863 , 21.315863 , 21.315863 ,\n",
       "       21.315863 , 21.315863 , 21.315863 , 19.43493  , 21.315863 ,\n",
       "       21.315863 , 21.315863 , 21.315863 , 21.315863 , 21.315863 ,\n",
       "       21.315863 , 21.315863 , 21.315863 , 21.315863 , 21.315863 ,\n",
       "       21.315863 , 21.315863 , 21.315863 , 21.315863 , 21.315863 ,\n",
       "       21.315863 , 21.315863 , 21.315863 , 21.315863 , 21.315863 ,\n",
       "       21.315863 , 21.315863 , 21.315863 , 21.315863 , 21.315863 ,\n",
       "       21.315863 , 21.315863 , 21.315863 , 21.315863 , 21.315863 ,\n",
       "       21.315863 , 21.315863 , 21.315863 , 21.315863 , 21.315863 ,\n",
       "       21.315863 , 21.315863 , 21.315863 , 21.315863 , 21.315863 ,\n",
       "       21.315863 , 21.315863 , 21.315863 , 21.315863 , 21.315863 ,\n",
       "       21.315863 , 21.315863 , 21.315863 , 21.315863 , 21.315863 ,\n",
       "       21.315863 , 21.315863 , 21.315863 , 21.315863 , 21.315863 ,\n",
       "       21.315863 , 21.315863 , 21.315863 , 21.315863 , 21.315863 ,\n",
       "       21.315863 , 21.315863 , 21.315863 , 21.315863 , 21.315863 ,\n",
       "       21.315863 , 21.315863 , 21.315863 , 21.315863 , 21.315863 ,\n",
       "       21.315863 , 21.315863 , 21.315863 , 21.315863 , 16.91205  ,\n",
       "       16.91205  , 17.684267 , 16.91205  , 16.91205  , 16.91205  ,\n",
       "       16.91205  , 16.91205  , 56.105324 , 62.075024 , 54.71737  ,\n",
       "       54.71737  , 55.367275 , 54.71737  , 54.71737  , 54.71737  ,\n",
       "       54.022785 , 56.105324 , 62.075024 , 54.71737  , 54.71737  ,\n",
       "       55.367275 , 54.71737  , 54.71737  , 54.71737  , 54.022785 ,\n",
       "       56.105324 , 62.075024 , 54.71737  , 54.71737  , 55.367275 ,\n",
       "       54.71737  , 54.71737  , 54.71737  , 54.71737  , 54.022785 ,\n",
       "       56.105324 , 62.075024 , 54.71737  , 54.71737  , 55.367275 ,\n",
       "       54.71737  , 54.71737  , 54.71737  , 54.022785 , 56.105324 ,\n",
       "       62.075024 , 54.71737  , 54.71737  , 55.367275 , 54.71737  ,\n",
       "       54.71737  , 54.71737  , 54.022785 , 56.105324 , 62.075024 ,\n",
       "       54.71737  , 54.71737  , 55.367275 , 54.71737  , 54.71737  ,\n",
       "       54.71737  , 54.022785 , 56.105324 , 62.075024 , 54.71737  ,\n",
       "       54.71737  , 55.367275 , 54.71737  , 54.71737  , 54.71737  ,\n",
       "       54.71737  , 54.022785 , 56.105324 , 62.075024 , 54.71737  ,\n",
       "       54.71737  , 55.367275 , 54.71737  , 54.71737  , 54.71737  ,\n",
       "       54.022785 , 56.105324 , 62.075024 , 54.71737  , 54.71737  ,\n",
       "       55.367275 , 54.71737  , 54.71737  , 54.71737  , 54.022785 ,\n",
       "       56.105324 , 62.075024 , 54.71737  , 54.71737  , 55.367275 ,\n",
       "       54.71737  , 54.71737  , 54.71737  , 54.71737  , 54.022785 ,\n",
       "       56.105324 , 62.075024 , 54.71737  , 54.71737  , 55.367275 ,\n",
       "       54.71737  , 54.71737  , 54.71737  , 54.022785 , 56.105324 ,\n",
       "       62.075024 , 54.71737  , 54.71737  , 55.367275 , 54.71737  ,\n",
       "       54.71737  , 54.71737  , 54.022785 , 21.315863 , 21.315863 ,\n",
       "       21.315863 , 21.315863 , 21.315863 , 21.315863 , 21.315863 ,\n",
       "       21.315863 , 21.315863 , 21.315863 , 21.315863 , 21.315863 ,\n",
       "       21.315863 , 21.315863 , 21.315863 , 21.315863 , 19.43493  ,\n",
       "       21.315863 , 21.315863 , 21.315863 , 21.315863 , 21.315863 ,\n",
       "       21.315863 , 21.315863 , 21.315863 , 21.315863 , 21.315863 ,\n",
       "       21.315863 , 21.315863 , 21.315863 , 21.315863 , 21.315863 ,\n",
       "       21.315863 , 21.315863 , 21.315863 , 19.43493  , 21.315863 ,\n",
       "       21.315863 , 21.315863 , 21.315863 , 21.315863 , 21.315863 ,\n",
       "       21.315863 , 21.315863 , 21.315863 , 21.315863 , 21.315863 ,\n",
       "       21.315863 , 21.315863 , 21.315863 , 21.315863 , 21.315863 ,\n",
       "       21.315863 , 21.315863 , 21.315863 , 21.315863 , 21.315863 ,\n",
       "       21.315863 , 21.315863 , 21.315863 , 21.315863 , 21.315863 ,\n",
       "       21.315863 , 21.315863 , 21.315863 , 21.315863 , 21.315863 ,\n",
       "       21.315863 , 21.315863 , 21.315863 , 21.315863 , 21.315863 ,\n",
       "       21.315863 , 21.315863 , 21.315863 , 21.315863 , 21.315863 ,\n",
       "       21.315863 , 21.315863 , 21.315863 , 21.315863 , 21.315863 ,\n",
       "       21.315863 , 21.315863 , 21.315863 , 21.315863 , 21.315863 ,\n",
       "       21.315863 , 21.315863 , 21.315863 , 21.315863 , 21.315863 ,\n",
       "       21.315863 , 21.315863 , 21.315863 , 21.315863 , 21.315863 ,\n",
       "       21.315863 , 21.315863 , 21.315863 , 21.315863 , 21.315863 ,\n",
       "       21.315863 , 21.315863 , 21.315863 , 21.315863 , 21.315863 ,\n",
       "       21.315863 , 21.315863 , 21.315863 , 21.315863 , 21.315863 ,\n",
       "       21.315863 , 21.315863 , 21.315863 , 21.315863 , 21.315863 ,\n",
       "       21.315863 , 21.315863 , 21.315863 , 21.315863 , 21.315863 ,\n",
       "       21.315863 , 21.315863 , 21.315863 , 21.315863 , 21.315863 ,\n",
       "       21.315863 , 22.371288 , 22.371288 , 25.393482 , 22.371288 ,\n",
       "       22.371288 , 22.371288 , 22.371288 , 22.371288 , 24.75698  ,\n",
       "       22.371288 , 22.371288 , 22.371288 , 25.393482 , 22.371288 ,\n",
       "       22.371288 , 22.371288 , 22.371288 , 22.371288 , 24.75698  ,\n",
       "       22.371288 , 14.5106735, 14.5106735, 14.5106735, 14.5106735,\n",
       "       14.5106735, 24.388943 , 14.5106735, 14.5106735, 14.5106735,\n",
       "       14.5106735, 14.5106735, 14.5106735, 14.5106735, 14.5106735,\n",
       "       14.5106735, 24.388943 , 14.5106735, 14.5106735, 14.5106735,\n",
       "       14.5106735, 14.5106735, 14.5106735, 14.5106735, 14.5106735,\n",
       "       14.5106735, 24.388943 , 14.5106735, 14.5106735, 14.5106735,\n",
       "       14.5106735, 14.5106735, 14.5106735, 14.5106735, 14.5106735,\n",
       "       14.5106735, 24.388943 , 14.5106735, 14.5106735, 14.5106735,\n",
       "       14.5106735, 14.5106735, 14.5106735, 14.5106735, 14.5106735,\n",
       "       14.5106735, 24.388943 , 14.5106735, 14.5106735, 14.5106735,\n",
       "       14.5106735, 14.5106735, 14.5106735, 14.5106735, 14.5106735,\n",
       "       14.5106735, 24.388943 , 14.5106735, 14.5106735, 14.5106735,\n",
       "       14.5106735, 14.5106735, 14.5106735, 14.5106735, 14.5106735,\n",
       "       14.5106735, 24.388943 , 14.5106735, 14.5106735, 14.5106735,\n",
       "       14.5106735, 14.5106735, 14.5106735, 14.5106735, 14.5106735,\n",
       "       15.282892 , 14.5106735, 24.388943 , 14.5106735, 14.5106735,\n",
       "       14.5106735, 14.5106735, 14.5106735, 14.5106735, 14.5106735,\n",
       "       14.5106735, 14.5106735, 24.388943 , 14.5106735, 14.5106735,\n",
       "       14.5106735, 14.5106735, 14.5106735, 14.5106735, 14.5106735,\n",
       "       14.5106735, 14.5106735, 24.388943 , 14.5106735, 14.5106735,\n",
       "       14.5106735, 14.5106735, 14.5106735, 14.5106735, 14.5106735,\n",
       "       14.5106735, 14.5106735, 24.388943 , 14.5106735, 14.5106735,\n",
       "       14.5106735, 14.5106735, 14.5106735, 14.5106735, 14.5106735,\n",
       "       14.5106735, 15.282892 , 14.5106735, 24.388943 , 14.5106735,\n",
       "       14.5106735, 14.5106735, 14.5106735, 14.5106735, 14.5106735,\n",
       "       14.5106735, 14.5106735, 15.282892 , 14.5106735, 24.388943 ,\n",
       "       14.5106735, 14.5106735, 14.5106735, 14.5106735], dtype=float32)"
      ]
     },
     "execution_count": 9,
     "metadata": {},
     "output_type": "execute_result"
    }
   ],
   "source": [
    "y_pred"
   ]
  },
  {
   "cell_type": "code",
   "execution_count": null,
   "metadata": {},
   "outputs": [
    {
     "data": {
      "text/plain": [
       "0      7.109625\n",
       "1      6.568892\n",
       "2      6.516954\n",
       "3      6.880284\n",
       "4      6.848363\n",
       "         ...   \n",
       "699    2.744462\n",
       "700    2.876564\n",
       "701    3.303558\n",
       "702    2.662714\n",
       "703    2.819764\n",
       "Name: median_savings_for_Journey_route_in_Detected_Country, Length: 704, dtype: float64"
      ]
     },
     "execution_count": 10,
     "metadata": {},
     "output_type": "execute_result"
    }
   ],
   "source": [
    "y_test"
   ]
  },
  {
   "cell_type": "markdown",
   "metadata": {},
   "source": []
  },
  {
   "cell_type": "code",
   "execution_count": null,
   "metadata": {},
   "outputs": [
    {
     "data": {
      "text/plain": [
       "count    5806.000000\n",
       "mean       27.186593\n",
       "std        35.248063\n",
       "min         0.000000\n",
       "25%        10.734351\n",
       "50%        19.190072\n",
       "75%        29.329962\n",
       "max      1172.493976\n",
       "Name: median_savings_for_Journey_route_in_Detected_Country, dtype: float64"
      ]
     },
     "execution_count": 11,
     "metadata": {},
     "output_type": "execute_result"
    }
   ],
   "source": [
    "df_train.median_savings_for_Journey_route_in_Detected_Country.describe()"
   ]
  },
  {
   "cell_type": "markdown",
   "metadata": {},
   "source": [
    "# Mean Encoding"
   ]
  },
  {
   "cell_type": "code",
   "execution_count": null,
   "metadata": {},
   "outputs": [],
   "source": [
    "# Calculate the mean encoding for Journey_route\n",
    "mean_encoding = df_train.groupby('Journey_route')['median_savings_for_Journey_route_in_Detected_Country'].mean()\n",
    "\n",
    "# Apply the mean encoding to both training and test datasets\n",
    "df_train['Journey_route_mean_encoded'] = df_train['Journey_route'].map(mean_encoding)\n",
    "df_test['Journey_route_mean_encoded'] = df_test['Journey_route'].map(mean_encoding)"
   ]
  },
  {
   "cell_type": "code",
   "execution_count": null,
   "metadata": {},
   "outputs": [],
   "source": [
    "global_mean = df_train['median_savings_for_Journey_route_in_Detected_Country'].mean()\n",
    "df_test['Journey_route_mean_encoded'].fillna(global_mean, inplace=True)\n"
   ]
  },
  {
   "cell_type": "code",
   "execution_count": null,
   "metadata": {},
   "outputs": [],
   "source": [
    "# Calculate mean encoding for Detected_Country\n",
    "country_mean_encoding = df_train.groupby('Detected_Country')['median_savings_for_Journey_route_in_Detected_Country'].mean()\n",
    "\n",
    "# Calculate mean encoding for Detected_Currency\n",
    "currency_mean_encoding = df_train.groupby('Detected_Currency')['median_savings_for_Journey_route_in_Detected_Country'].mean()\n",
    "\n",
    "# Apply the mean encoding to both training and test datasets\n",
    "df_train['Detected_Country_mean_encoded'] = df_train['Detected_Country'].map(country_mean_encoding)\n",
    "df_test['Detected_Country_mean_encoded'] = df_test['Detected_Country'].map(country_mean_encoding)\n",
    "\n",
    "df_train['Detected_Currency_mean_encoded'] = df_train['Detected_Currency'].map(currency_mean_encoding)\n",
    "df_test['Detected_Currency_mean_encoded'] = df_test['Detected_Currency'].map(currency_mean_encoding)\n"
   ]
  },
  {
   "cell_type": "code",
   "execution_count": null,
   "metadata": {},
   "outputs": [],
   "source": [
    "global_mean_country = df_train['median_savings_for_Journey_route_in_Detected_Country'].mean()\n",
    "df_test['Detected_Country_mean_encoded'].fillna(global_mean_country, inplace=True)\n",
    "\n",
    "global_mean_currency = df_train['median_savings_for_Journey_route_in_Detected_Country'].mean()\n",
    "df_test['Detected_Currency_mean_encoded'].fillna(global_mean_currency, inplace=True)\n"
   ]
  },
  {
   "cell_type": "code",
   "execution_count": null,
   "metadata": {},
   "outputs": [],
   "source": [
    "# Assuming you're including other features like 'days_until_departure', 'Detected_Country', and 'Detected_Currency'\n",
    "# For simplicity, let's proceed with just 'Journey_route_mean_encoded' and 'days_until_departure' as examples\n",
    "X_train = df_train[['Journey_route_mean_encoded', 'days_until_departure',]]\n",
    "y_train = df_train['median_savings_for_Journey_route_in_Detected_Country']\n",
    "\n",
    "X_test = df_test[['Journey_route_mean_encoded', 'days_until_departure']]\n",
    "y_test = df_test['median_savings_for_Journey_route_in_Detected_Country']\n"
   ]
  },
  {
   "cell_type": "code",
   "execution_count": null,
   "metadata": {},
   "outputs": [
    {
     "name": "stdout",
     "output_type": "stream",
     "text": [
      "Mean Absolute Error: 8.51535731182034\n",
      "R-squared: 0.7538892419266212\n"
     ]
    }
   ],
   "source": [
    "import xgboost as xgb\n",
    "\n",
    "# Define your model\n",
    "model = xgb.XGBRegressor(objective ='reg:squarederror', colsample_bytree = 0.3, learning_rate = 0.1,\n",
    "                max_depth = 8, alpha = 10, n_estimators = 50)\n",
    "\n",
    "# Train your model\n",
    "model.fit(X_train, y_train)\n",
    "\n",
    "# Make predictions\n",
    "y_pred = model.predict(X_test)\n",
    "\n",
    "# Evaluate the model\n",
    "from sklearn.metrics import mean_absolute_error, r2_score\n",
    "mae = mean_absolute_error(y_test, y_pred)\n",
    "r2 = r2_score(y_test, y_pred)\n",
    "\n",
    "print(f\"Mean Absolute Error: {mae}\")\n",
    "print(f\"R-squared: {r2}\")\n"
   ]
  },
  {
   "cell_type": "markdown",
   "metadata": {},
   "source": [
    "# New"
   ]
  },
  {
   "cell_type": "code",
   "execution_count": null,
   "metadata": {},
   "outputs": [],
   "source": [
    "import pandas as pd\n",
    "df_1 = pd.read_csv('../data/4.processed_data/Query4_results_test_processed.csv')\n",
    "df_2 = pd.read_csv('../data/4.processed_data/Query1503_results_conv_processed.csv')\n",
    "df_3 = pd.read_csv('../data/4.processed_data/Query1803_results_processed.csv')\n",
    "df_train = pd.concat([df_1,df_2,df_3])\n",
    "df_test = pd.read_csv('../data/4.processed_data/Query1603_results_test_processed.csv')"
   ]
  },
  {
   "cell_type": "code",
   "execution_count": null,
   "metadata": {},
   "outputs": [],
   "source": [
    "# Group by Flight_ID and calculate max, min prices and their absolute difference\n",
    "price_stats_journey = df_train.groupby('Journey_route')['Price_in_USD'].agg(['max', 'min'])\n",
    "price_stats_journey['max_abs_diff_Journey_route'] = price_stats_journey['max'] - price_stats_journey['min']\n",
    "price_stats_journey.columns = ['max_price_Journey_route', 'min_price_Journey_route', 'max_abs_diff_Journey_route']\n",
    "price_stats_journey['max_rel_diff_Journey_route'] = (price_stats_journey['max_abs_diff_Journey_route'] / price_stats_journey['min_price_Journey_route']) * 100"
   ]
  },
  {
   "cell_type": "code",
   "execution_count": null,
   "metadata": {},
   "outputs": [],
   "source": [
    "df_train = pd.merge(df_train, price_stats_journey, on='Journey_route', how='left')"
   ]
  },
  {
   "cell_type": "code",
   "execution_count": null,
   "metadata": {},
   "outputs": [],
   "source": [
    "df_train[\"abs_diff_to_min_price_Journey_route\"] = df_train[\"Price_in_USD\"] - df_train[\"min_price_Journey_route\"]\n",
    "df_train[\"rel_diff_to_min_price_Journey_route\"] = ((df_train[\"Price_in_USD\"] /df_train[\"min_price_Journey_route\"] ) -1) * 100\n",
    "df_train['rel_price_score_Journey_route'] = df_train['rel_diff_to_min_price_Journey_route'] / df_train['max_rel_diff_Journey_route']"
   ]
  },
  {
   "cell_type": "code",
   "execution_count": null,
   "metadata": {},
   "outputs": [
    {
     "data": {
      "text/plain": [
       "count    4729.000000\n",
       "mean      497.427110\n",
       "std       923.440485\n",
       "min         0.000000\n",
       "25%        74.260000\n",
       "50%       186.244552\n",
       "75%       470.957792\n",
       "max      7381.591065\n",
       "Name: abs_diff_to_min_price_Journey_route, dtype: float64"
      ]
     },
     "execution_count": 114,
     "metadata": {},
     "output_type": "execute_result"
    }
   ],
   "source": [
    "df_train.abs_diff_to_min_price_Journey_route.describe()"
   ]
  },
  {
   "cell_type": "code",
   "execution_count": null,
   "metadata": {},
   "outputs": [
    {
     "data": {
      "text/plain": [
       "count    4729.000000\n",
       "mean       90.302816\n",
       "std       139.548393\n",
       "min         0.000000\n",
       "25%        14.418003\n",
       "50%        43.770431\n",
       "75%       109.063318\n",
       "max      1187.102731\n",
       "Name: rel_diff_to_min_price_Journey_route, dtype: float64"
      ]
     },
     "execution_count": 116,
     "metadata": {},
     "output_type": "execute_result"
    }
   ],
   "source": [
    "df_train.rel_diff_to_min_price_Journey_route.describe()"
   ]
  },
  {
   "cell_type": "code",
   "execution_count": null,
   "metadata": {},
   "outputs": [
    {
     "data": {
      "text/plain": [
       "count    4729.000000\n",
       "mean        3.745923\n",
       "std         9.592982\n",
       "min         0.000000\n",
       "25%         0.847017\n",
       "50%         3.069277\n",
       "75%         4.110414\n",
       "max       257.689565\n",
       "Name: rel_diff_to_min_price_FlightID, dtype: float64"
      ]
     },
     "execution_count": 118,
     "metadata": {},
     "output_type": "execute_result"
    }
   ],
   "source": [
    "df_train.rel_diff_to_min_price_FlightID.describe()"
   ]
  },
  {
   "cell_type": "code",
   "execution_count": null,
   "metadata": {},
   "outputs": [
    {
     "data": {
      "text/plain": [
       "Index(['airline_code', 'departure_airport_code', 'destination_airport_code',\n",
       "       'ticket_price', 'departure_date', 'arrival_date', 'First_flight',\n",
       "       'first_flight_code', 'last_flight_code', 'Detected_Language',\n",
       "       'Detected_Country', 'Detected_Currency', 'Flight_ID', 'Price_in_USD',\n",
       "       'commute_time', 'query_date', 'days_until_departure',\n",
       "       'FlightID_in_Countries_Count', 'departure_date_day', 'arrival_date_day',\n",
       "       'Journey_route', 'Journey_ID', 'max_price_FlightID',\n",
       "       'min_price_FlightID', 'max_price_diff_FlightID',\n",
       "       'max_rel_price_diff_FlightID', 'abs_diff_to_min_price_FlightID',\n",
       "       'rel_diff_to_min_price_FlightID', 'rel_price_score_FlightID',\n",
       "       'max_price_JourneyID', 'min_price_JourneyID', 'max_abs_diff_JourneyID',\n",
       "       'max_rel_diff_Journey', 'abs_diff_to_min_price_JourneyID',\n",
       "       'rel_diff_to_min_price_JourneyID', 'rel_price_score_JourneyID',\n",
       "       'max_journey_same_country', 'min_journey_same_country',\n",
       "       'max_abs_diff_perIDGroup_Journey_same_country',\n",
       "       'max_rel_diff_perIDGroup_Journey_same_country',\n",
       "       'price_diff_loc_to_glob_Journey_min',\n",
       "       'rel_price_diff_loc_to_glob_Journey_min', 'Cheapest_Location_Journey',\n",
       "       'Cheapest_Location_Flight',\n",
       "       'average_savings_for_Journey_route_in_Detected_Country',\n",
       "       'Mode_Cheapest_Location_Journey',\n",
       "       'median_savings_for_Journey_route_in_Detected_Country',\n",
       "       'Journey_route_mean_encoded', 'Detected_Country_mean_encoded',\n",
       "       'Detected_Currency_mean_encoded'],\n",
       "      dtype='object')"
      ]
     },
     "execution_count": 92,
     "metadata": {},
     "output_type": "execute_result"
    }
   ],
   "source": [
    "df_train.columns"
   ]
  },
  {
   "cell_type": "code",
   "execution_count": null,
   "metadata": {},
   "outputs": [],
   "source": [
    "# Calculate the average of rel_diff_to_min_price_FlightID for each Journey_ID and Detected_Country\n",
    "median_savings_route_train = df_train.groupby(['Journey_route'])['rel_diff_to_min_price_JourneyID'].median().reset_index(name='median_savings_for_Journey_route_in_Detected_Country')\n",
    "# Merge the average_savings DataFrame back into df_reduced\n",
    "df_train= df_train.merge(median_savings_route_train, on=['Journey_route'], how='left')"
   ]
  },
  {
   "cell_type": "code",
   "execution_count": null,
   "metadata": {},
   "outputs": [],
   "source": [
    "# Calculate the average of rel_diff_to_min_price_FlightID for each Journey_ID and Detected_Country\n",
    "median_savings_route_test = df_test.groupby(['Journey_route'])['rel_diff_to_min_price_JourneyID'].median().reset_index(name='median_savings_for_Journey_route_in_Detected_Country')\n",
    "# Merge the average_savings DataFrame back into df_reduced\n",
    "df_test = df_test.merge(median_savings_route_test, on=['Journey_route'], how='left')"
   ]
  },
  {
   "cell_type": "code",
   "execution_count": null,
   "metadata": {},
   "outputs": [],
   "source": [
    "# Calculate the mean encoding for Journey_route\n",
    "mean_encoding = df_train.groupby('Journey_route')['median_savings_for_Journey_route_in_Detected_Country'].mean()\n",
    "\n",
    "# Apply the mean encoding to both training and test datasets\n",
    "df_train['Journey_route_mean_encoded'] = df_train['Journey_route'].map(mean_encoding)\n",
    "df_test['Journey_route_mean_encoded'] = df_test['Journey_route'].map(mean_encoding)"
   ]
  },
  {
   "cell_type": "code",
   "execution_count": null,
   "metadata": {},
   "outputs": [],
   "source": [
    "global_mean = df_train['median_savings_for_Journey_route_in_Detected_Country'].mean()\n",
    "df_test['Journey_route_mean_encoded'].fillna(global_mean, inplace=True)\n"
   ]
  },
  {
   "cell_type": "code",
   "execution_count": null,
   "metadata": {},
   "outputs": [],
   "source": [
    "# Calculate mean encoding for Detected_Country\n",
    "country_mean_encoding = df_train.groupby('Detected_Country')['median_savings_for_Journey_route_in_Detected_Country'].mean()\n",
    "\n",
    "# Calculate mean encoding for Detected_Currency\n",
    "currency_mean_encoding = df_train.groupby('Detected_Currency')['median_savings_for_Journey_route_in_Detected_Country'].mean()\n",
    "\n",
    "# Apply the mean encoding to both training and test datasets\n",
    "df_train['Detected_Country_mean_encoded'] = df_train['Detected_Country'].map(country_mean_encoding)\n",
    "df_test['Detected_Country_mean_encoded'] = df_test['Detected_Country'].map(country_mean_encoding)\n",
    "\n",
    "df_train['Detected_Currency_mean_encoded'] = df_train['Detected_Currency'].map(currency_mean_encoding)\n",
    "df_test['Detected_Currency_mean_encoded'] = df_test['Detected_Currency'].map(currency_mean_encoding)\n"
   ]
  },
  {
   "cell_type": "code",
   "execution_count": null,
   "metadata": {},
   "outputs": [],
   "source": [
    "global_mean_country = df_train['median_savings_for_Journey_route_in_Detected_Country'].mean()\n",
    "df_test['Detected_Country_mean_encoded'].fillna(global_mean_country, inplace=True)\n",
    "\n",
    "global_mean_currency = df_train['median_savings_for_Journey_route_in_Detected_Country'].mean()\n",
    "df_test['Detected_Currency_mean_encoded'].fillna(global_mean_currency, inplace=True)\n"
   ]
  },
  {
   "cell_type": "code",
   "execution_count": null,
   "metadata": {},
   "outputs": [],
   "source": [
    "# Assuming you're including other features like 'days_until_departure', 'Detected_Country', and 'Detected_Currency'\n",
    "# For simplicity, let's proceed with just 'Journey_route_mean_encoded' and 'days_until_departure' as examples\n",
    "X_train = df_train[['Journey_route_mean_encoded', 'days_until_departure','Detected_Country_mean_encoded','Detected_Currency_mean_encoded']]\n",
    "y_train = df_train['median_savings_for_Journey_route_in_Detected_Country']\n",
    "\n",
    "X_test = df_test[['Journey_route_mean_encoded', 'days_until_departure','Detected_Country_mean_encoded','Detected_Currency_mean_encoded']]\n",
    "y_test = df_test['median_savings_for_Journey_route_in_Detected_Country']\n"
   ]
  },
  {
   "cell_type": "code",
   "execution_count": null,
   "metadata": {},
   "outputs": [
    {
     "name": "stdout",
     "output_type": "stream",
     "text": [
      "Mean Absolute Error: 17.357763709792035\n",
      "R-squared: 0.2317343092038695\n"
     ]
    }
   ],
   "source": [
    "import xgboost as xgb\n",
    "\n",
    "# Define your model\n",
    "model = xgb.XGBRegressor(objective ='reg:squarederror', colsample_bytree = 0.3, learning_rate = 0.1,\n",
    "                max_depth = 8, alpha = 10, n_estimators = 50)\n",
    "\n",
    "# Train your model\n",
    "model.fit(X_train, y_train)\n",
    "\n",
    "# Make predictions\n",
    "y_pred = model.predict(X_test)\n",
    "\n",
    "# Evaluate the model\n",
    "from sklearn.metrics import mean_absolute_error, r2_score\n",
    "mae = mean_absolute_error(y_test, y_pred)\n",
    "r2 = r2_score(y_test, y_pred)\n",
    "\n",
    "print(f\"Mean Absolute Error: {mae}\")\n",
    "print(f\"R-squared: {r2}\")\n"
   ]
  },
  {
   "cell_type": "code",
   "execution_count": null,
   "metadata": {},
   "outputs": [
    {
     "data": {
      "text/plain": [
       "count    4729.000000\n",
       "mean       28.309959\n",
       "std        37.921052\n",
       "min         0.000000\n",
       "25%        11.110648\n",
       "50%        21.257776\n",
       "75%        39.825343\n",
       "max      1172.493976\n",
       "Name: median_savings_for_Journey_route_in_Detected_Country, dtype: float64"
      ]
     },
     "execution_count": 74,
     "metadata": {},
     "output_type": "execute_result"
    }
   ],
   "source": [
    "df_train.median_savings_for_Journey_route_in_Detected_Country.describe()"
   ]
  },
  {
   "cell_type": "code",
   "execution_count": null,
   "metadata": {},
   "outputs": [
    {
     "data": {
      "text/plain": [
       "count    1781.000000\n",
       "mean       30.588407\n",
       "std        31.068700\n",
       "min         0.000000\n",
       "25%         9.947389\n",
       "50%        16.938670\n",
       "75%        30.829238\n",
       "max       153.040929\n",
       "Name: median_savings_for_Journey_route_in_Detected_Country, dtype: float64"
      ]
     },
     "execution_count": 75,
     "metadata": {},
     "output_type": "execute_result"
    }
   ],
   "source": [
    "df_test.median_savings_for_Journey_route_in_Detected_Country.describe()"
   ]
  },
  {
   "cell_type": "code",
   "execution_count": null,
   "metadata": {},
   "outputs": [
    {
     "data": {
      "text/plain": [
       "count    4729.000000\n",
       "mean       26.319095\n",
       "std        21.514394\n",
       "min         0.649380\n",
       "25%        12.243320\n",
       "50%        21.368913\n",
       "75%        39.949431\n",
       "max       109.515476\n",
       "Name: median_savings_for_Journey_route_in_Detected_Country, dtype: float64"
      ]
     },
     "execution_count": 86,
     "metadata": {},
     "output_type": "execute_result"
    }
   ],
   "source": [
    "df_train.median_savings_for_Journey_route_in_Detected_Country.describe()"
   ]
  },
  {
   "cell_type": "code",
   "execution_count": null,
   "metadata": {},
   "outputs": [
    {
     "data": {
      "text/plain": [
       "count    1781.000000\n",
       "mean       30.316529\n",
       "std        30.506234\n",
       "min         3.995015\n",
       "25%        13.745972\n",
       "50%        21.508544\n",
       "75%        30.040884\n",
       "max       151.728050\n",
       "Name: median_savings_for_Journey_route_in_Detected_Country, dtype: float64"
      ]
     },
     "execution_count": 87,
     "metadata": {},
     "output_type": "execute_result"
    }
   ],
   "source": [
    "df_test.median_savings_for_Journey_route_in_Detected_Country.describe()"
   ]
  },
  {
   "cell_type": "code",
   "execution_count": 73,
   "metadata": {},
   "outputs": [],
   "source": [
    "# Calculate the average of rel_diff_to_min_price_FlightID for each Journey_ID and Detected_Country\n",
    "median_savings_route_train = df_train.groupby(['Journey_ID','Detected_Currency'])['rel_diff_to_min_price_FlightID'].median().reset_index(name='median_savings_for_Journey_ID_country')\n",
    "# Merge the average_savings DataFrame back into df_reduced\n"
   ]
  },
  {
   "cell_type": "code",
   "execution_count": 78,
   "metadata": {},
   "outputs": [
    {
     "data": {
      "text/plain": [
       "1755"
      ]
     },
     "execution_count": 78,
     "metadata": {},
     "output_type": "execute_result"
    }
   ],
   "source": [
    "135*13"
   ]
  },
  {
   "cell_type": "code",
   "execution_count": 83,
   "metadata": {},
   "outputs": [
    {
     "data": {
      "text/html": [
       "<div>\n",
       "<style scoped>\n",
       "    .dataframe tbody tr th:only-of-type {\n",
       "        vertical-align: middle;\n",
       "    }\n",
       "\n",
       "    .dataframe tbody tr th {\n",
       "        vertical-align: top;\n",
       "    }\n",
       "\n",
       "    .dataframe thead th {\n",
       "        text-align: right;\n",
       "    }\n",
       "</style>\n",
       "<table border=\"1\" class=\"dataframe\">\n",
       "  <thead>\n",
       "    <tr style=\"text-align: right;\">\n",
       "      <th></th>\n",
       "      <th>median_savings_for_Journey_ID_country</th>\n",
       "    </tr>\n",
       "  </thead>\n",
       "  <tbody>\n",
       "    <tr>\n",
       "      <th>count</th>\n",
       "      <td>1217.000000</td>\n",
       "    </tr>\n",
       "    <tr>\n",
       "      <th>mean</th>\n",
       "      <td>3.344232</td>\n",
       "    </tr>\n",
       "    <tr>\n",
       "      <th>std</th>\n",
       "      <td>9.235524</td>\n",
       "    </tr>\n",
       "    <tr>\n",
       "      <th>min</th>\n",
       "      <td>0.000000</td>\n",
       "    </tr>\n",
       "    <tr>\n",
       "      <th>25%</th>\n",
       "      <td>0.621318</td>\n",
       "    </tr>\n",
       "    <tr>\n",
       "      <th>50%</th>\n",
       "      <td>2.099948</td>\n",
       "    </tr>\n",
       "    <tr>\n",
       "      <th>75%</th>\n",
       "      <td>3.941009</td>\n",
       "    </tr>\n",
       "    <tr>\n",
       "      <th>max</th>\n",
       "      <td>185.298209</td>\n",
       "    </tr>\n",
       "  </tbody>\n",
       "</table>\n",
       "</div>"
      ],
      "text/plain": [
       "       median_savings_for_Journey_ID_country\n",
       "count                            1217.000000\n",
       "mean                                3.344232\n",
       "std                                 9.235524\n",
       "min                                 0.000000\n",
       "25%                                 0.621318\n",
       "50%                                 2.099948\n",
       "75%                                 3.941009\n",
       "max                               185.298209"
      ]
     },
     "execution_count": 83,
     "metadata": {},
     "output_type": "execute_result"
    }
   ],
   "source": [
    "median_savings_route_train.describe()"
   ]
  },
  {
   "cell_type": "code",
   "execution_count": 72,
   "metadata": {},
   "outputs": [],
   "source": []
  },
  {
   "cell_type": "code",
   "execution_count": 57,
   "metadata": {},
   "outputs": [
    {
     "data": {
      "text/plain": [
       "count    5806.000000\n",
       "mean        3.090059\n",
       "std         8.683293\n",
       "min         0.000000\n",
       "25%         0.626945\n",
       "50%         1.648590\n",
       "75%         3.930153\n",
       "max       257.689565\n",
       "Name: rel_diff_to_min_price_FlightID, dtype: float64"
      ]
     },
     "execution_count": 57,
     "metadata": {},
     "output_type": "execute_result"
    }
   ],
   "source": [
    "df_train.rel_diff_to_min_price_FlightID.describe()"
   ]
  },
  {
   "cell_type": "code",
   "execution_count": 53,
   "metadata": {},
   "outputs": [
    {
     "data": {
      "text/plain": [
       "38"
      ]
     },
     "execution_count": 53,
     "metadata": {},
     "output_type": "execute_result"
    }
   ],
   "source": [
    "df_train.Journey_route.nunique()"
   ]
  },
  {
   "cell_type": "code",
   "execution_count": 51,
   "metadata": {},
   "outputs": [
    {
     "data": {
      "text/plain": [
       "135"
      ]
     },
     "execution_count": 51,
     "metadata": {},
     "output_type": "execute_result"
    }
   ],
   "source": [
    "df_train.Journey_ID.nunique()"
   ]
  },
  {
   "cell_type": "code",
   "execution_count": 59,
   "metadata": {},
   "outputs": [
    {
     "data": {
      "text/html": [
       "<div>\n",
       "<style scoped>\n",
       "    .dataframe tbody tr th:only-of-type {\n",
       "        vertical-align: middle;\n",
       "    }\n",
       "\n",
       "    .dataframe tbody tr th {\n",
       "        vertical-align: top;\n",
       "    }\n",
       "\n",
       "    .dataframe thead th {\n",
       "        text-align: right;\n",
       "    }\n",
       "</style>\n",
       "<table border=\"1\" class=\"dataframe\">\n",
       "  <thead>\n",
       "    <tr style=\"text-align: right;\">\n",
       "      <th></th>\n",
       "      <th>median_savings_for_Journey_ID</th>\n",
       "    </tr>\n",
       "  </thead>\n",
       "  <tbody>\n",
       "    <tr>\n",
       "      <th>count</th>\n",
       "      <td>135.000000</td>\n",
       "    </tr>\n",
       "    <tr>\n",
       "      <th>mean</th>\n",
       "      <td>2.730387</td>\n",
       "    </tr>\n",
       "    <tr>\n",
       "      <th>std</th>\n",
       "      <td>3.316285</td>\n",
       "    </tr>\n",
       "    <tr>\n",
       "      <th>min</th>\n",
       "      <td>0.174945</td>\n",
       "    </tr>\n",
       "    <tr>\n",
       "      <th>25%</th>\n",
       "      <td>0.778689</td>\n",
       "    </tr>\n",
       "    <tr>\n",
       "      <th>50%</th>\n",
       "      <td>2.221997</td>\n",
       "    </tr>\n",
       "    <tr>\n",
       "      <th>75%</th>\n",
       "      <td>3.845189</td>\n",
       "    </tr>\n",
       "    <tr>\n",
       "      <th>max</th>\n",
       "      <td>26.013457</td>\n",
       "    </tr>\n",
       "  </tbody>\n",
       "</table>\n",
       "</div>"
      ],
      "text/plain": [
       "       median_savings_for_Journey_ID\n",
       "count                     135.000000\n",
       "mean                        2.730387\n",
       "std                         3.316285\n",
       "min                         0.174945\n",
       "25%                         0.778689\n",
       "50%                         2.221997\n",
       "75%                         3.845189\n",
       "max                        26.013457"
      ]
     },
     "execution_count": 59,
     "metadata": {},
     "output_type": "execute_result"
    }
   ],
   "source": [
    "median_savings_route_train.describe()"
   ]
  },
  {
   "cell_type": "code",
   "execution_count": 91,
   "metadata": {},
   "outputs": [],
   "source": [
    "# Calculate the average of rel_diff_to_min_price_FlightID for each Journey_ID and Detected_Country\n",
    "median_savings_route_train = df_train.groupby(['Journey_ID','Detected_Country'])['rel_diff_to_min_price_FlightID'].median().reset_index(name='median_savings_for_Journey_ID_country')\n",
    "# Merge the average_savings DataFrame back into df_reduced"
   ]
  },
  {
   "cell_type": "code",
   "execution_count": 92,
   "metadata": {},
   "outputs": [
    {
     "data": {
      "text/plain": [
       "0        4.097040\n",
       "1        4.111681\n",
       "2        3.587679\n",
       "3        4.429233\n",
       "4        4.006443\n",
       "          ...    \n",
       "5801    27.232620\n",
       "5802     0.603609\n",
       "5803     0.000000\n",
       "5804     0.099994\n",
       "5805     0.113958\n",
       "Name: rel_diff_to_min_price_FlightID, Length: 5806, dtype: float64"
      ]
     },
     "execution_count": 92,
     "metadata": {},
     "output_type": "execute_result"
    }
   ],
   "source": [
    "df_train.rel_diff_to_min_price_FlightID"
   ]
  },
  {
   "cell_type": "code",
   "execution_count": 97,
   "metadata": {},
   "outputs": [
    {
     "data": {
      "text/plain": [
       "count                               5806\n",
       "unique                               135\n",
       "top       FCO-MAD: 28-11-2024 28-11-2024\n",
       "freq                                 140\n",
       "Name: Journey_ID, dtype: object"
      ]
     },
     "execution_count": 97,
     "metadata": {},
     "output_type": "execute_result"
    }
   ],
   "source": [
    "df_train.Journey_ID.describe()"
   ]
  },
  {
   "cell_type": "code",
   "execution_count": 98,
   "metadata": {},
   "outputs": [
    {
     "data": {
      "text/plain": [
       "count        5806\n",
       "unique         14\n",
       "top       Schweiz\n",
       "freq          640\n",
       "Name: Detected_Country, dtype: object"
      ]
     },
     "execution_count": 98,
     "metadata": {},
     "output_type": "execute_result"
    }
   ],
   "source": [
    "df_train.Detected_Country.describe()"
   ]
  },
  {
   "cell_type": "code",
   "execution_count": 99,
   "metadata": {},
   "outputs": [
    {
     "data": {
      "text/plain": [
       "1890"
      ]
     },
     "execution_count": 99,
     "metadata": {},
     "output_type": "execute_result"
    }
   ],
   "source": [
    "14*135"
   ]
  },
  {
   "cell_type": "code",
   "execution_count": 96,
   "metadata": {},
   "outputs": [
    {
     "data": {
      "text/html": [
       "<div>\n",
       "<style scoped>\n",
       "    .dataframe tbody tr th:only-of-type {\n",
       "        vertical-align: middle;\n",
       "    }\n",
       "\n",
       "    .dataframe tbody tr th {\n",
       "        vertical-align: top;\n",
       "    }\n",
       "\n",
       "    .dataframe thead th {\n",
       "        text-align: right;\n",
       "    }\n",
       "</style>\n",
       "<table border=\"1\" class=\"dataframe\">\n",
       "  <thead>\n",
       "    <tr style=\"text-align: right;\">\n",
       "      <th></th>\n",
       "      <th>median_savings_for_Journey_ID_country</th>\n",
       "    </tr>\n",
       "  </thead>\n",
       "  <tbody>\n",
       "    <tr>\n",
       "      <th>count</th>\n",
       "      <td>1219.000000</td>\n",
       "    </tr>\n",
       "    <tr>\n",
       "      <th>mean</th>\n",
       "      <td>3.340380</td>\n",
       "    </tr>\n",
       "    <tr>\n",
       "      <th>std</th>\n",
       "      <td>9.228428</td>\n",
       "    </tr>\n",
       "    <tr>\n",
       "      <th>min</th>\n",
       "      <td>0.000000</td>\n",
       "    </tr>\n",
       "    <tr>\n",
       "      <th>25%</th>\n",
       "      <td>0.622860</td>\n",
       "    </tr>\n",
       "    <tr>\n",
       "      <th>50%</th>\n",
       "      <td>2.095719</td>\n",
       "    </tr>\n",
       "    <tr>\n",
       "      <th>75%</th>\n",
       "      <td>3.940996</td>\n",
       "    </tr>\n",
       "    <tr>\n",
       "      <th>max</th>\n",
       "      <td>185.298209</td>\n",
       "    </tr>\n",
       "  </tbody>\n",
       "</table>\n",
       "</div>"
      ],
      "text/plain": [
       "       median_savings_for_Journey_ID_country\n",
       "count                            1219.000000\n",
       "mean                                3.340380\n",
       "std                                 9.228428\n",
       "min                                 0.000000\n",
       "25%                                 0.622860\n",
       "50%                                 2.095719\n",
       "75%                                 3.940996\n",
       "max                               185.298209"
      ]
     },
     "execution_count": 96,
     "metadata": {},
     "output_type": "execute_result"
    }
   ],
   "source": [
    "median_savings_route_train.describe()"
   ]
  },
  {
   "cell_type": "code",
   "execution_count": 94,
   "metadata": {},
   "outputs": [
    {
     "data": {
      "text/plain": [
       "Index(['airline_code', 'departure_airport_code', 'destination_airport_code',\n",
       "       'ticket_price', 'departure_date', 'arrival_date', 'First_flight',\n",
       "       'first_flight_code', 'last_flight_code', 'Detected_Language',\n",
       "       'Detected_Country', 'Detected_Currency', 'Flight_ID', 'Price_in_USD',\n",
       "       'commute_time', 'query_date', 'days_until_departure',\n",
       "       'FlightID_in_Countries_Count', 'departure_date_day', 'arrival_date_day',\n",
       "       'Journey_route', 'Journey_ID', 'max_price_FlightID',\n",
       "       'min_price_FlightID', 'max_price_diff_FlightID',\n",
       "       'max_rel_price_diff_FlightID', 'abs_diff_to_min_price_FlightID',\n",
       "       'rel_diff_to_min_price_FlightID', 'rel_price_score_FlightID',\n",
       "       'max_price_JourneyID', 'min_price_JourneyID', 'max_abs_diff_JourneyID',\n",
       "       'max_rel_diff_Journey', 'abs_diff_to_min_price_JourneyID',\n",
       "       'rel_diff_to_min_price_JourneyID', 'rel_price_score_JourneyID',\n",
       "       'max_journey_same_country', 'min_journey_same_country',\n",
       "       'max_abs_diff_perIDGroup_Journey_same_country',\n",
       "       'max_rel_diff_perIDGroup_Journey_same_country',\n",
       "       'price_diff_loc_to_glob_Journey_min',\n",
       "       'rel_price_diff_loc_to_glob_Journey_min', 'Cheapest_Location_Journey',\n",
       "       'Cheapest_Location_Flight',\n",
       "       'average_savings_for_Journey_route_in_Detected_Country',\n",
       "       'Mode_Cheapest_Location_Journey',\n",
       "       'median_savings_for_Journey_ID_in_Detected_Country'],\n",
       "      dtype='object')"
      ]
     },
     "execution_count": 94,
     "metadata": {},
     "output_type": "execute_result"
    }
   ],
   "source": [
    "df_train.columns"
   ]
  },
  {
   "cell_type": "code",
   "execution_count": 125,
   "metadata": {},
   "outputs": [
    {
     "data": {
      "text/html": [
       "<div>\n",
       "<style scoped>\n",
       "    .dataframe tbody tr th:only-of-type {\n",
       "        vertical-align: middle;\n",
       "    }\n",
       "\n",
       "    .dataframe tbody tr th {\n",
       "        vertical-align: top;\n",
       "    }\n",
       "\n",
       "    .dataframe thead th {\n",
       "        text-align: right;\n",
       "    }\n",
       "</style>\n",
       "<table border=\"1\" class=\"dataframe\">\n",
       "  <thead>\n",
       "    <tr style=\"text-align: right;\">\n",
       "      <th></th>\n",
       "      <th>median_savings_for_Journey_ID_country</th>\n",
       "    </tr>\n",
       "  </thead>\n",
       "  <tbody>\n",
       "    <tr>\n",
       "      <th>count</th>\n",
       "      <td>1219.000000</td>\n",
       "    </tr>\n",
       "    <tr>\n",
       "      <th>mean</th>\n",
       "      <td>3.476366</td>\n",
       "    </tr>\n",
       "    <tr>\n",
       "      <th>std</th>\n",
       "      <td>8.807292</td>\n",
       "    </tr>\n",
       "    <tr>\n",
       "      <th>min</th>\n",
       "      <td>0.000000</td>\n",
       "    </tr>\n",
       "    <tr>\n",
       "      <th>25%</th>\n",
       "      <td>0.651815</td>\n",
       "    </tr>\n",
       "    <tr>\n",
       "      <th>50%</th>\n",
       "      <td>2.171812</td>\n",
       "    </tr>\n",
       "    <tr>\n",
       "      <th>75%</th>\n",
       "      <td>3.941188</td>\n",
       "    </tr>\n",
       "    <tr>\n",
       "      <th>max</th>\n",
       "      <td>169.333250</td>\n",
       "    </tr>\n",
       "  </tbody>\n",
       "</table>\n",
       "</div>"
      ],
      "text/plain": [
       "       median_savings_for_Journey_ID_country\n",
       "count                            1219.000000\n",
       "mean                                3.476366\n",
       "std                                 8.807292\n",
       "min                                 0.000000\n",
       "25%                                 0.651815\n",
       "50%                                 2.171812\n",
       "75%                                 3.941188\n",
       "max                               169.333250"
      ]
     },
     "execution_count": 125,
     "metadata": {},
     "output_type": "execute_result"
    }
   ],
   "source": [
    "# Calculate the average of rel_diff_to_min_price_FlightID for each Journey_ID and Detected_Country\n",
    "mean_savings_Journey_ID = df_train.groupby(['Journey_ID','Detected_Country'])['rel_diff_to_min_price_FlightID'].mean().reset_index(name='mean_savings_for_Journey_ID_country')\n",
    "\n",
    "# Merge the average_savings DataFrame back into df_reduced\n",
    "mean_savings_Journey_ID.describe()"
   ]
  },
  {
   "cell_type": "code",
   "execution_count": 124,
   "metadata": {},
   "outputs": [
    {
     "data": {
      "text/html": [
       "<div>\n",
       "<style scoped>\n",
       "    .dataframe tbody tr th:only-of-type {\n",
       "        vertical-align: middle;\n",
       "    }\n",
       "\n",
       "    .dataframe tbody tr th {\n",
       "        vertical-align: top;\n",
       "    }\n",
       "\n",
       "    .dataframe thead th {\n",
       "        text-align: right;\n",
       "    }\n",
       "</style>\n",
       "<table border=\"1\" class=\"dataframe\">\n",
       "  <thead>\n",
       "    <tr style=\"text-align: right;\">\n",
       "      <th></th>\n",
       "      <th>median_savings_for_Journey_ID_country</th>\n",
       "    </tr>\n",
       "  </thead>\n",
       "  <tbody>\n",
       "    <tr>\n",
       "      <th>count</th>\n",
       "      <td>383.000000</td>\n",
       "    </tr>\n",
       "    <tr>\n",
       "      <th>mean</th>\n",
       "      <td>2.622178</td>\n",
       "    </tr>\n",
       "    <tr>\n",
       "      <th>std</th>\n",
       "      <td>3.153553</td>\n",
       "    </tr>\n",
       "    <tr>\n",
       "      <th>min</th>\n",
       "      <td>0.000000</td>\n",
       "    </tr>\n",
       "    <tr>\n",
       "      <th>25%</th>\n",
       "      <td>0.738425</td>\n",
       "    </tr>\n",
       "    <tr>\n",
       "      <th>50%</th>\n",
       "      <td>2.568839</td>\n",
       "    </tr>\n",
       "    <tr>\n",
       "      <th>75%</th>\n",
       "      <td>3.940677</td>\n",
       "    </tr>\n",
       "    <tr>\n",
       "      <th>max</th>\n",
       "      <td>47.872609</td>\n",
       "    </tr>\n",
       "  </tbody>\n",
       "</table>\n",
       "</div>"
      ],
      "text/plain": [
       "       median_savings_for_Journey_ID_country\n",
       "count                             383.000000\n",
       "mean                                2.622178\n",
       "std                                 3.153553\n",
       "min                                 0.000000\n",
       "25%                                 0.738425\n",
       "50%                                 2.568839\n",
       "75%                                 3.940677\n",
       "max                                47.872609"
      ]
     },
     "execution_count": 124,
     "metadata": {},
     "output_type": "execute_result"
    }
   ],
   "source": [
    "# Calculate the average of rel_diff_to_min_price_FlightID for each Journey_ID and Detected_Country\n",
    "median_savings_Journey_route = df_train.groupby(['Journey_route','Detected_Country'])['rel_diff_to_min_price_FlightID'].median().reset_index(name='median_savings_for_Journey_ID_country')\n",
    "# Merge the average_savings DataFrame back into df_reduced\n",
    "median_savings_Journey_route.describe()"
   ]
  },
  {
   "cell_type": "code",
   "execution_count": null,
   "metadata": {},
   "outputs": [],
   "source": []
  },
  {
   "cell_type": "markdown",
   "metadata": {},
   "source": [
    "# Idea combining these two metrices"
   ]
  },
  {
   "cell_type": "code",
   "execution_count": 1,
   "metadata": {},
   "outputs": [],
   "source": [
    "import pandas as pd\n",
    "df_1 = pd.read_csv('../data/4.processed_data/Query4_results_test_processed.csv')\n",
    "df_2 = pd.read_csv('../data/4.processed_data/Query1503_results_conv_processed.csv')\n",
    "df_3 = pd.read_csv('../data/4.processed_data/Query1603_results_test_processed.csv')\n",
    "df_train = pd.concat([df_1,df_2,df_3])\n",
    "df_test = pd.read_csv('../data/4.processed_data/Query1803_results_processed.csv')"
   ]
  },
  {
   "cell_type": "code",
   "execution_count": 6,
   "metadata": {},
   "outputs": [],
   "source": [
    "# Calculate the average of rel_diff_to_min_price_FlightID for each Journey_ID and Detected_Country\n",
    "mean_savings_Journey_ID_train = df_train.groupby(['Journey_ID','Detected_Country'])['rel_diff_to_min_price_FlightID'].mean().reset_index(name='mean_savings_for_Journey_ID_country')\n",
    "# Merge the average_savings DataFrame back into df_reduced\n",
    "# Calculate the average of rel_diff_to_min_price_FlightID for each Journey_ID and Detected_Country\n",
    "median_savings_Journey_route_train = df_train.groupby(['Journey_route','Detected_Country'])['rel_diff_to_min_price_FlightID'].median().reset_index(name='median_savings_for_Journey_route_country')\n",
    "# Merge the average_savings DataFrame back into df_reduced\n",
    "\n",
    "\n",
    "\n",
    "# Calculate the average of rel_diff_to_min_price_FlightID for each Journey_ID and Detected_Country\n",
    "mean_savings_Journey_ID_test = df_test.groupby(['Journey_ID','Detected_Country'])['rel_diff_to_min_price_FlightID'].mean().reset_index(name='mean_savings_for_Journey_ID_country')\n",
    "# Merge the average_savings DataFrame back into df_reduced\n",
    "\n",
    "# Calculate the average of rel_diff_to_min_price_FlightID for each Journey_ID and Detected_Country\n",
    "median_savings_Journey_route_test = df_test.groupby(['Journey_route','Detected_Country'])['rel_diff_to_min_price_FlightID'].median().reset_index(name='median_savings_for_Journey_route_country')\n",
    "# Merge the average_savings DataFrame back into df_reduced\n",
    "\n"
   ]
  },
  {
   "cell_type": "code",
   "execution_count": 10,
   "metadata": {},
   "outputs": [],
   "source": [
    "# Step 1: Create a copy of df_reduced to work with\n",
    "df_enriched = df_train.copy()\n",
    "\n",
    "# Assuming mean_savings_Journey_ID and median_savings_Journey_route are as previously defined\n",
    "\n",
    "# Step 2: Merge the mean_savings_for_Journey_ID_country DataFrame into df_enriched\n",
    "df_enriched = df_enriched.merge(mean_savings_Journey_ID_train, on=['Journey_ID', 'Detected_Country'], how='left')\n",
    "\n",
    "# Step 3: Merge the median_savings_Journey_route into df_enriched\n",
    "# Note: Rename 'median_savings_for_Journey_ID_country' to 'median_savings_for_Journey_route' to avoid confusion\n",
    "df_enriched = df_enriched.merge(median_savings_Journey_route_train, on=['Journey_route', 'Detected_Country'], how='left')\n",
    "\n",
    "# Step 4: Calculate the simple mean of the two savings values\n",
    "df_enriched['mean_savings'] = df_enriched[['mean_savings_for_Journey_ID_country', 'median_savings_for_Journey_route_country']].mean(axis=1)\n"
   ]
  },
  {
   "cell_type": "code",
   "execution_count": 35,
   "metadata": {},
   "outputs": [
    {
     "ename": "KeyError",
     "evalue": "\"None of [Index(['mean_savings_for_Journey_ID_country', 'median_savings_for_Journey_route_country'], dtype='object')] are in the [columns]\"",
     "output_type": "error",
     "traceback": [
      "\u001b[0;31m---------------------------------------------------------------------------\u001b[0m",
      "\u001b[0;31mKeyError\u001b[0m                                  Traceback (most recent call last)",
      "Cell \u001b[0;32mIn[35], line 9\u001b[0m\n\u001b[1;32m      6\u001b[0m df_test \u001b[38;5;241m=\u001b[39m df_test\u001b[38;5;241m.\u001b[39mmerge(median_savings_Journey_route_test, on\u001b[38;5;241m=\u001b[39m[\u001b[38;5;124m'\u001b[39m\u001b[38;5;124mJourney_route\u001b[39m\u001b[38;5;124m'\u001b[39m, \u001b[38;5;124m'\u001b[39m\u001b[38;5;124mDetected_Country\u001b[39m\u001b[38;5;124m'\u001b[39m], how\u001b[38;5;241m=\u001b[39m\u001b[38;5;124m'\u001b[39m\u001b[38;5;124mleft\u001b[39m\u001b[38;5;124m'\u001b[39m)\n\u001b[1;32m      8\u001b[0m \u001b[38;5;66;03m# Step 4: Calculate the simple mean of the two savings values\u001b[39;00m\n\u001b[0;32m----> 9\u001b[0m df_test[\u001b[38;5;124m'\u001b[39m\u001b[38;5;124mmean_savings\u001b[39m\u001b[38;5;124m'\u001b[39m] \u001b[38;5;241m=\u001b[39m \u001b[43mdf_test\u001b[49m\u001b[43m[\u001b[49m\u001b[43m[\u001b[49m\u001b[38;5;124;43m'\u001b[39;49m\u001b[38;5;124;43mmean_savings_for_Journey_ID_country\u001b[39;49m\u001b[38;5;124;43m'\u001b[39;49m\u001b[43m,\u001b[49m\u001b[43m \u001b[49m\u001b[38;5;124;43m'\u001b[39;49m\u001b[38;5;124;43mmedian_savings_for_Journey_route_country\u001b[39;49m\u001b[38;5;124;43m'\u001b[39;49m\u001b[43m]\u001b[49m\u001b[43m]\u001b[49m\u001b[38;5;241m.\u001b[39mmean(axis\u001b[38;5;241m=\u001b[39m\u001b[38;5;241m1\u001b[39m)\n",
      "File \u001b[0;32m~/Library/Caches/pypoetry/virtualenvs/playwright-trial-uIq0qThi-py3.12/lib/python3.12/site-packages/pandas/core/frame.py:3767\u001b[0m, in \u001b[0;36mDataFrame.__getitem__\u001b[0;34m(self, key)\u001b[0m\n\u001b[1;32m   3765\u001b[0m     \u001b[38;5;28;01mif\u001b[39;00m is_iterator(key):\n\u001b[1;32m   3766\u001b[0m         key \u001b[38;5;241m=\u001b[39m \u001b[38;5;28mlist\u001b[39m(key)\n\u001b[0;32m-> 3767\u001b[0m     indexer \u001b[38;5;241m=\u001b[39m \u001b[38;5;28;43mself\u001b[39;49m\u001b[38;5;241;43m.\u001b[39;49m\u001b[43mcolumns\u001b[49m\u001b[38;5;241;43m.\u001b[39;49m\u001b[43m_get_indexer_strict\u001b[49m\u001b[43m(\u001b[49m\u001b[43mkey\u001b[49m\u001b[43m,\u001b[49m\u001b[43m \u001b[49m\u001b[38;5;124;43m\"\u001b[39;49m\u001b[38;5;124;43mcolumns\u001b[39;49m\u001b[38;5;124;43m\"\u001b[39;49m\u001b[43m)\u001b[49m[\u001b[38;5;241m1\u001b[39m]\n\u001b[1;32m   3769\u001b[0m \u001b[38;5;66;03m# take() does not accept boolean indexers\u001b[39;00m\n\u001b[1;32m   3770\u001b[0m \u001b[38;5;28;01mif\u001b[39;00m \u001b[38;5;28mgetattr\u001b[39m(indexer, \u001b[38;5;124m\"\u001b[39m\u001b[38;5;124mdtype\u001b[39m\u001b[38;5;124m\"\u001b[39m, \u001b[38;5;28;01mNone\u001b[39;00m) \u001b[38;5;241m==\u001b[39m \u001b[38;5;28mbool\u001b[39m:\n",
      "File \u001b[0;32m~/Library/Caches/pypoetry/virtualenvs/playwright-trial-uIq0qThi-py3.12/lib/python3.12/site-packages/pandas/core/indexes/base.py:5877\u001b[0m, in \u001b[0;36mIndex._get_indexer_strict\u001b[0;34m(self, key, axis_name)\u001b[0m\n\u001b[1;32m   5874\u001b[0m \u001b[38;5;28;01melse\u001b[39;00m:\n\u001b[1;32m   5875\u001b[0m     keyarr, indexer, new_indexer \u001b[38;5;241m=\u001b[39m \u001b[38;5;28mself\u001b[39m\u001b[38;5;241m.\u001b[39m_reindex_non_unique(keyarr)\n\u001b[0;32m-> 5877\u001b[0m \u001b[38;5;28;43mself\u001b[39;49m\u001b[38;5;241;43m.\u001b[39;49m\u001b[43m_raise_if_missing\u001b[49m\u001b[43m(\u001b[49m\u001b[43mkeyarr\u001b[49m\u001b[43m,\u001b[49m\u001b[43m \u001b[49m\u001b[43mindexer\u001b[49m\u001b[43m,\u001b[49m\u001b[43m \u001b[49m\u001b[43maxis_name\u001b[49m\u001b[43m)\u001b[49m\n\u001b[1;32m   5879\u001b[0m keyarr \u001b[38;5;241m=\u001b[39m \u001b[38;5;28mself\u001b[39m\u001b[38;5;241m.\u001b[39mtake(indexer)\n\u001b[1;32m   5880\u001b[0m \u001b[38;5;28;01mif\u001b[39;00m \u001b[38;5;28misinstance\u001b[39m(key, Index):\n\u001b[1;32m   5881\u001b[0m     \u001b[38;5;66;03m# GH 42790 - Preserve name from an Index\u001b[39;00m\n",
      "File \u001b[0;32m~/Library/Caches/pypoetry/virtualenvs/playwright-trial-uIq0qThi-py3.12/lib/python3.12/site-packages/pandas/core/indexes/base.py:5938\u001b[0m, in \u001b[0;36mIndex._raise_if_missing\u001b[0;34m(self, key, indexer, axis_name)\u001b[0m\n\u001b[1;32m   5936\u001b[0m     \u001b[38;5;28;01mif\u001b[39;00m use_interval_msg:\n\u001b[1;32m   5937\u001b[0m         key \u001b[38;5;241m=\u001b[39m \u001b[38;5;28mlist\u001b[39m(key)\n\u001b[0;32m-> 5938\u001b[0m     \u001b[38;5;28;01mraise\u001b[39;00m \u001b[38;5;167;01mKeyError\u001b[39;00m(\u001b[38;5;124mf\u001b[39m\u001b[38;5;124m\"\u001b[39m\u001b[38;5;124mNone of [\u001b[39m\u001b[38;5;132;01m{\u001b[39;00mkey\u001b[38;5;132;01m}\u001b[39;00m\u001b[38;5;124m] are in the [\u001b[39m\u001b[38;5;132;01m{\u001b[39;00maxis_name\u001b[38;5;132;01m}\u001b[39;00m\u001b[38;5;124m]\u001b[39m\u001b[38;5;124m\"\u001b[39m)\n\u001b[1;32m   5940\u001b[0m not_found \u001b[38;5;241m=\u001b[39m \u001b[38;5;28mlist\u001b[39m(ensure_index(key)[missing_mask\u001b[38;5;241m.\u001b[39mnonzero()[\u001b[38;5;241m0\u001b[39m]]\u001b[38;5;241m.\u001b[39munique())\n\u001b[1;32m   5941\u001b[0m \u001b[38;5;28;01mraise\u001b[39;00m \u001b[38;5;167;01mKeyError\u001b[39;00m(\u001b[38;5;124mf\u001b[39m\u001b[38;5;124m\"\u001b[39m\u001b[38;5;132;01m{\u001b[39;00mnot_found\u001b[38;5;132;01m}\u001b[39;00m\u001b[38;5;124m not in index\u001b[39m\u001b[38;5;124m\"\u001b[39m)\n",
      "\u001b[0;31mKeyError\u001b[0m: \"None of [Index(['mean_savings_for_Journey_ID_country', 'median_savings_for_Journey_route_country'], dtype='object')] are in the [columns]\""
     ]
    }
   ],
   "source": [
    "\n",
    "# Step 2: Merge the mean_savings_for_Journey_ID_country DataFrame into df_enriched\n",
    "df_test = df_test.merge(mean_savings_Journey_ID_test, on=['Journey_ID', 'Detected_Country'], how='left')\n",
    "\n",
    "# Step 3: Merge the median_savings_Journey_route into df_enriched\n",
    "# Note: Rename 'median_savings_for_Journey_ID_country' to 'median_savings_for_Journey_route' to avoid confusion\n",
    "df_test = df_test.merge(median_savings_Journey_route_test, on=['Journey_route', 'Detected_Country'], how='left')\n",
    "\n",
    "# Step 4: Calculate the simple mean of the two savings values\n",
    "df_test['mean_savings'] = df_test[['mean_savings_for_Journey_ID_country', 'median_savings_for_Journey_route_country']].mean(axis=1)\n"
   ]
  },
  {
   "cell_type": "code",
   "execution_count": 12,
   "metadata": {},
   "outputs": [
    {
     "data": {
      "text/plain": [
       "count    681.000000\n",
       "mean       2.184869\n",
       "std        3.128298\n",
       "min        0.000000\n",
       "25%        0.759336\n",
       "50%        1.390440\n",
       "75%        2.475880\n",
       "max       22.675250\n",
       "Name: mean_savings, dtype: float64"
      ]
     },
     "execution_count": 12,
     "metadata": {},
     "output_type": "execute_result"
    }
   ],
   "source": [
    "df_test.mean_savings.describe()"
   ]
  },
  {
   "cell_type": "code",
   "execution_count": 14,
   "metadata": {},
   "outputs": [
    {
     "data": {
      "text/plain": [
       "count    5806.000000\n",
       "mean        2.630391\n",
       "std         4.413457\n",
       "min         0.000000\n",
       "25%         0.751915\n",
       "50%         1.981605\n",
       "75%         3.716443\n",
       "max       107.490743\n",
       "Name: mean_savings, dtype: float64"
      ]
     },
     "execution_count": 14,
     "metadata": {},
     "output_type": "execute_result"
    }
   ],
   "source": [
    "df_enriched.mean_savings.describe()"
   ]
  },
  {
   "cell_type": "code",
   "execution_count": 26,
   "metadata": {},
   "outputs": [
    {
     "data": {
      "text/html": [
       "<style>#sk-container-id-4 {\n",
       "  /* Definition of color scheme common for light and dark mode */\n",
       "  --sklearn-color-text: black;\n",
       "  --sklearn-color-line: gray;\n",
       "  /* Definition of color scheme for unfitted estimators */\n",
       "  --sklearn-color-unfitted-level-0: #fff5e6;\n",
       "  --sklearn-color-unfitted-level-1: #f6e4d2;\n",
       "  --sklearn-color-unfitted-level-2: #ffe0b3;\n",
       "  --sklearn-color-unfitted-level-3: chocolate;\n",
       "  /* Definition of color scheme for fitted estimators */\n",
       "  --sklearn-color-fitted-level-0: #f0f8ff;\n",
       "  --sklearn-color-fitted-level-1: #d4ebff;\n",
       "  --sklearn-color-fitted-level-2: #b3dbfd;\n",
       "  --sklearn-color-fitted-level-3: cornflowerblue;\n",
       "\n",
       "  /* Specific color for light theme */\n",
       "  --sklearn-color-text-on-default-background: var(--sg-text-color, var(--theme-code-foreground, var(--jp-content-font-color1, black)));\n",
       "  --sklearn-color-background: var(--sg-background-color, var(--theme-background, var(--jp-layout-color0, white)));\n",
       "  --sklearn-color-border-box: var(--sg-text-color, var(--theme-code-foreground, var(--jp-content-font-color1, black)));\n",
       "  --sklearn-color-icon: #696969;\n",
       "\n",
       "  @media (prefers-color-scheme: dark) {\n",
       "    /* Redefinition of color scheme for dark theme */\n",
       "    --sklearn-color-text-on-default-background: var(--sg-text-color, var(--theme-code-foreground, var(--jp-content-font-color1, white)));\n",
       "    --sklearn-color-background: var(--sg-background-color, var(--theme-background, var(--jp-layout-color0, #111)));\n",
       "    --sklearn-color-border-box: var(--sg-text-color, var(--theme-code-foreground, var(--jp-content-font-color1, white)));\n",
       "    --sklearn-color-icon: #878787;\n",
       "  }\n",
       "}\n",
       "\n",
       "#sk-container-id-4 {\n",
       "  color: var(--sklearn-color-text);\n",
       "}\n",
       "\n",
       "#sk-container-id-4 pre {\n",
       "  padding: 0;\n",
       "}\n",
       "\n",
       "#sk-container-id-4 input.sk-hidden--visually {\n",
       "  border: 0;\n",
       "  clip: rect(1px 1px 1px 1px);\n",
       "  clip: rect(1px, 1px, 1px, 1px);\n",
       "  height: 1px;\n",
       "  margin: -1px;\n",
       "  overflow: hidden;\n",
       "  padding: 0;\n",
       "  position: absolute;\n",
       "  width: 1px;\n",
       "}\n",
       "\n",
       "#sk-container-id-4 div.sk-dashed-wrapped {\n",
       "  border: 1px dashed var(--sklearn-color-line);\n",
       "  margin: 0 0.4em 0.5em 0.4em;\n",
       "  box-sizing: border-box;\n",
       "  padding-bottom: 0.4em;\n",
       "  background-color: var(--sklearn-color-background);\n",
       "}\n",
       "\n",
       "#sk-container-id-4 div.sk-container {\n",
       "  /* jupyter's `normalize.less` sets `[hidden] { display: none; }`\n",
       "     but bootstrap.min.css set `[hidden] { display: none !important; }`\n",
       "     so we also need the `!important` here to be able to override the\n",
       "     default hidden behavior on the sphinx rendered scikit-learn.org.\n",
       "     See: https://github.com/scikit-learn/scikit-learn/issues/21755 */\n",
       "  display: inline-block !important;\n",
       "  position: relative;\n",
       "}\n",
       "\n",
       "#sk-container-id-4 div.sk-text-repr-fallback {\n",
       "  display: none;\n",
       "}\n",
       "\n",
       "div.sk-parallel-item,\n",
       "div.sk-serial,\n",
       "div.sk-item {\n",
       "  /* draw centered vertical line to link estimators */\n",
       "  background-image: linear-gradient(var(--sklearn-color-text-on-default-background), var(--sklearn-color-text-on-default-background));\n",
       "  background-size: 2px 100%;\n",
       "  background-repeat: no-repeat;\n",
       "  background-position: center center;\n",
       "}\n",
       "\n",
       "/* Parallel-specific style estimator block */\n",
       "\n",
       "#sk-container-id-4 div.sk-parallel-item::after {\n",
       "  content: \"\";\n",
       "  width: 100%;\n",
       "  border-bottom: 2px solid var(--sklearn-color-text-on-default-background);\n",
       "  flex-grow: 1;\n",
       "}\n",
       "\n",
       "#sk-container-id-4 div.sk-parallel {\n",
       "  display: flex;\n",
       "  align-items: stretch;\n",
       "  justify-content: center;\n",
       "  background-color: var(--sklearn-color-background);\n",
       "  position: relative;\n",
       "}\n",
       "\n",
       "#sk-container-id-4 div.sk-parallel-item {\n",
       "  display: flex;\n",
       "  flex-direction: column;\n",
       "}\n",
       "\n",
       "#sk-container-id-4 div.sk-parallel-item:first-child::after {\n",
       "  align-self: flex-end;\n",
       "  width: 50%;\n",
       "}\n",
       "\n",
       "#sk-container-id-4 div.sk-parallel-item:last-child::after {\n",
       "  align-self: flex-start;\n",
       "  width: 50%;\n",
       "}\n",
       "\n",
       "#sk-container-id-4 div.sk-parallel-item:only-child::after {\n",
       "  width: 0;\n",
       "}\n",
       "\n",
       "/* Serial-specific style estimator block */\n",
       "\n",
       "#sk-container-id-4 div.sk-serial {\n",
       "  display: flex;\n",
       "  flex-direction: column;\n",
       "  align-items: center;\n",
       "  background-color: var(--sklearn-color-background);\n",
       "  padding-right: 1em;\n",
       "  padding-left: 1em;\n",
       "}\n",
       "\n",
       "\n",
       "/* Toggleable style: style used for estimator/Pipeline/ColumnTransformer box that is\n",
       "clickable and can be expanded/collapsed.\n",
       "- Pipeline and ColumnTransformer use this feature and define the default style\n",
       "- Estimators will overwrite some part of the style using the `sk-estimator` class\n",
       "*/\n",
       "\n",
       "/* Pipeline and ColumnTransformer style (default) */\n",
       "\n",
       "#sk-container-id-4 div.sk-toggleable {\n",
       "  /* Default theme specific background. It is overwritten whether we have a\n",
       "  specific estimator or a Pipeline/ColumnTransformer */\n",
       "  background-color: var(--sklearn-color-background);\n",
       "}\n",
       "\n",
       "/* Toggleable label */\n",
       "#sk-container-id-4 label.sk-toggleable__label {\n",
       "  cursor: pointer;\n",
       "  display: block;\n",
       "  width: 100%;\n",
       "  margin-bottom: 0;\n",
       "  padding: 0.5em;\n",
       "  box-sizing: border-box;\n",
       "  text-align: center;\n",
       "}\n",
       "\n",
       "#sk-container-id-4 label.sk-toggleable__label-arrow:before {\n",
       "  /* Arrow on the left of the label */\n",
       "  content: \"▸\";\n",
       "  float: left;\n",
       "  margin-right: 0.25em;\n",
       "  color: var(--sklearn-color-icon);\n",
       "}\n",
       "\n",
       "#sk-container-id-4 label.sk-toggleable__label-arrow:hover:before {\n",
       "  color: var(--sklearn-color-text);\n",
       "}\n",
       "\n",
       "/* Toggleable content - dropdown */\n",
       "\n",
       "#sk-container-id-4 div.sk-toggleable__content {\n",
       "  max-height: 0;\n",
       "  max-width: 0;\n",
       "  overflow: hidden;\n",
       "  text-align: left;\n",
       "  /* unfitted */\n",
       "  background-color: var(--sklearn-color-unfitted-level-0);\n",
       "}\n",
       "\n",
       "#sk-container-id-4 div.sk-toggleable__content.fitted {\n",
       "  /* fitted */\n",
       "  background-color: var(--sklearn-color-fitted-level-0);\n",
       "}\n",
       "\n",
       "#sk-container-id-4 div.sk-toggleable__content pre {\n",
       "  margin: 0.2em;\n",
       "  border-radius: 0.25em;\n",
       "  color: var(--sklearn-color-text);\n",
       "  /* unfitted */\n",
       "  background-color: var(--sklearn-color-unfitted-level-0);\n",
       "}\n",
       "\n",
       "#sk-container-id-4 div.sk-toggleable__content.fitted pre {\n",
       "  /* unfitted */\n",
       "  background-color: var(--sklearn-color-fitted-level-0);\n",
       "}\n",
       "\n",
       "#sk-container-id-4 input.sk-toggleable__control:checked~div.sk-toggleable__content {\n",
       "  /* Expand drop-down */\n",
       "  max-height: 200px;\n",
       "  max-width: 100%;\n",
       "  overflow: auto;\n",
       "}\n",
       "\n",
       "#sk-container-id-4 input.sk-toggleable__control:checked~label.sk-toggleable__label-arrow:before {\n",
       "  content: \"▾\";\n",
       "}\n",
       "\n",
       "/* Pipeline/ColumnTransformer-specific style */\n",
       "\n",
       "#sk-container-id-4 div.sk-label input.sk-toggleable__control:checked~label.sk-toggleable__label {\n",
       "  color: var(--sklearn-color-text);\n",
       "  background-color: var(--sklearn-color-unfitted-level-2);\n",
       "}\n",
       "\n",
       "#sk-container-id-4 div.sk-label.fitted input.sk-toggleable__control:checked~label.sk-toggleable__label {\n",
       "  background-color: var(--sklearn-color-fitted-level-2);\n",
       "}\n",
       "\n",
       "/* Estimator-specific style */\n",
       "\n",
       "/* Colorize estimator box */\n",
       "#sk-container-id-4 div.sk-estimator input.sk-toggleable__control:checked~label.sk-toggleable__label {\n",
       "  /* unfitted */\n",
       "  background-color: var(--sklearn-color-unfitted-level-2);\n",
       "}\n",
       "\n",
       "#sk-container-id-4 div.sk-estimator.fitted input.sk-toggleable__control:checked~label.sk-toggleable__label {\n",
       "  /* fitted */\n",
       "  background-color: var(--sklearn-color-fitted-level-2);\n",
       "}\n",
       "\n",
       "#sk-container-id-4 div.sk-label label.sk-toggleable__label,\n",
       "#sk-container-id-4 div.sk-label label {\n",
       "  /* The background is the default theme color */\n",
       "  color: var(--sklearn-color-text-on-default-background);\n",
       "}\n",
       "\n",
       "/* On hover, darken the color of the background */\n",
       "#sk-container-id-4 div.sk-label:hover label.sk-toggleable__label {\n",
       "  color: var(--sklearn-color-text);\n",
       "  background-color: var(--sklearn-color-unfitted-level-2);\n",
       "}\n",
       "\n",
       "/* Label box, darken color on hover, fitted */\n",
       "#sk-container-id-4 div.sk-label.fitted:hover label.sk-toggleable__label.fitted {\n",
       "  color: var(--sklearn-color-text);\n",
       "  background-color: var(--sklearn-color-fitted-level-2);\n",
       "}\n",
       "\n",
       "/* Estimator label */\n",
       "\n",
       "#sk-container-id-4 div.sk-label label {\n",
       "  font-family: monospace;\n",
       "  font-weight: bold;\n",
       "  display: inline-block;\n",
       "  line-height: 1.2em;\n",
       "}\n",
       "\n",
       "#sk-container-id-4 div.sk-label-container {\n",
       "  text-align: center;\n",
       "}\n",
       "\n",
       "/* Estimator-specific */\n",
       "#sk-container-id-4 div.sk-estimator {\n",
       "  font-family: monospace;\n",
       "  border: 1px dotted var(--sklearn-color-border-box);\n",
       "  border-radius: 0.25em;\n",
       "  box-sizing: border-box;\n",
       "  margin-bottom: 0.5em;\n",
       "  /* unfitted */\n",
       "  background-color: var(--sklearn-color-unfitted-level-0);\n",
       "}\n",
       "\n",
       "#sk-container-id-4 div.sk-estimator.fitted {\n",
       "  /* fitted */\n",
       "  background-color: var(--sklearn-color-fitted-level-0);\n",
       "}\n",
       "\n",
       "/* on hover */\n",
       "#sk-container-id-4 div.sk-estimator:hover {\n",
       "  /* unfitted */\n",
       "  background-color: var(--sklearn-color-unfitted-level-2);\n",
       "}\n",
       "\n",
       "#sk-container-id-4 div.sk-estimator.fitted:hover {\n",
       "  /* fitted */\n",
       "  background-color: var(--sklearn-color-fitted-level-2);\n",
       "}\n",
       "\n",
       "/* Specification for estimator info (e.g. \"i\" and \"?\") */\n",
       "\n",
       "/* Common style for \"i\" and \"?\" */\n",
       "\n",
       ".sk-estimator-doc-link,\n",
       "a:link.sk-estimator-doc-link,\n",
       "a:visited.sk-estimator-doc-link {\n",
       "  float: right;\n",
       "  font-size: smaller;\n",
       "  line-height: 1em;\n",
       "  font-family: monospace;\n",
       "  background-color: var(--sklearn-color-background);\n",
       "  border-radius: 1em;\n",
       "  height: 1em;\n",
       "  width: 1em;\n",
       "  text-decoration: none !important;\n",
       "  margin-left: 1ex;\n",
       "  /* unfitted */\n",
       "  border: var(--sklearn-color-unfitted-level-1) 1pt solid;\n",
       "  color: var(--sklearn-color-unfitted-level-1);\n",
       "}\n",
       "\n",
       ".sk-estimator-doc-link.fitted,\n",
       "a:link.sk-estimator-doc-link.fitted,\n",
       "a:visited.sk-estimator-doc-link.fitted {\n",
       "  /* fitted */\n",
       "  border: var(--sklearn-color-fitted-level-1) 1pt solid;\n",
       "  color: var(--sklearn-color-fitted-level-1);\n",
       "}\n",
       "\n",
       "/* On hover */\n",
       "div.sk-estimator:hover .sk-estimator-doc-link:hover,\n",
       ".sk-estimator-doc-link:hover,\n",
       "div.sk-label-container:hover .sk-estimator-doc-link:hover,\n",
       ".sk-estimator-doc-link:hover {\n",
       "  /* unfitted */\n",
       "  background-color: var(--sklearn-color-unfitted-level-3);\n",
       "  color: var(--sklearn-color-background);\n",
       "  text-decoration: none;\n",
       "}\n",
       "\n",
       "div.sk-estimator.fitted:hover .sk-estimator-doc-link.fitted:hover,\n",
       ".sk-estimator-doc-link.fitted:hover,\n",
       "div.sk-label-container:hover .sk-estimator-doc-link.fitted:hover,\n",
       ".sk-estimator-doc-link.fitted:hover {\n",
       "  /* fitted */\n",
       "  background-color: var(--sklearn-color-fitted-level-3);\n",
       "  color: var(--sklearn-color-background);\n",
       "  text-decoration: none;\n",
       "}\n",
       "\n",
       "/* Span, style for the box shown on hovering the info icon */\n",
       ".sk-estimator-doc-link span {\n",
       "  display: none;\n",
       "  z-index: 9999;\n",
       "  position: relative;\n",
       "  font-weight: normal;\n",
       "  right: .2ex;\n",
       "  padding: .5ex;\n",
       "  margin: .5ex;\n",
       "  width: min-content;\n",
       "  min-width: 20ex;\n",
       "  max-width: 50ex;\n",
       "  color: var(--sklearn-color-text);\n",
       "  box-shadow: 2pt 2pt 4pt #999;\n",
       "  /* unfitted */\n",
       "  background: var(--sklearn-color-unfitted-level-0);\n",
       "  border: .5pt solid var(--sklearn-color-unfitted-level-3);\n",
       "}\n",
       "\n",
       ".sk-estimator-doc-link.fitted span {\n",
       "  /* fitted */\n",
       "  background: var(--sklearn-color-fitted-level-0);\n",
       "  border: var(--sklearn-color-fitted-level-3);\n",
       "}\n",
       "\n",
       ".sk-estimator-doc-link:hover span {\n",
       "  display: block;\n",
       "}\n",
       "\n",
       "/* \"?\"-specific style due to the `<a>` HTML tag */\n",
       "\n",
       "#sk-container-id-4 a.estimator_doc_link {\n",
       "  float: right;\n",
       "  font-size: 1rem;\n",
       "  line-height: 1em;\n",
       "  font-family: monospace;\n",
       "  background-color: var(--sklearn-color-background);\n",
       "  border-radius: 1rem;\n",
       "  height: 1rem;\n",
       "  width: 1rem;\n",
       "  text-decoration: none;\n",
       "  /* unfitted */\n",
       "  color: var(--sklearn-color-unfitted-level-1);\n",
       "  border: var(--sklearn-color-unfitted-level-1) 1pt solid;\n",
       "}\n",
       "\n",
       "#sk-container-id-4 a.estimator_doc_link.fitted {\n",
       "  /* fitted */\n",
       "  border: var(--sklearn-color-fitted-level-1) 1pt solid;\n",
       "  color: var(--sklearn-color-fitted-level-1);\n",
       "}\n",
       "\n",
       "/* On hover */\n",
       "#sk-container-id-4 a.estimator_doc_link:hover {\n",
       "  /* unfitted */\n",
       "  background-color: var(--sklearn-color-unfitted-level-3);\n",
       "  color: var(--sklearn-color-background);\n",
       "  text-decoration: none;\n",
       "}\n",
       "\n",
       "#sk-container-id-4 a.estimator_doc_link.fitted:hover {\n",
       "  /* fitted */\n",
       "  background-color: var(--sklearn-color-fitted-level-3);\n",
       "}\n",
       "</style><div id=\"sk-container-id-4\" class=\"sk-top-container\"><div class=\"sk-text-repr-fallback\"><pre>XGBRegressor(base_score=None, booster=None, callbacks=None,\n",
       "             colsample_bylevel=None, colsample_bynode=None,\n",
       "             colsample_bytree=0.9, device=None, early_stopping_rounds=None,\n",
       "             enable_categorical=False, eta=0.34991201767803204,\n",
       "             eval_metric=None, feature_types=None, gamma=None, grow_policy=None,\n",
       "             importance_type=None, interaction_constraints=None,\n",
       "             learning_rate=None, max_bin=None, max_cat_threshold=None,\n",
       "             max_cat_to_onehot=None, max_delta_step=None, max_depth=8,\n",
       "             max_leaves=None, min_child_weight=None, missing=nan,\n",
       "             monotone_constraints=None, multi_strategy=None, n_estimators=None,\n",
       "             n_jobs=None, num_parallel_tree=None, ...)</pre><b>In a Jupyter environment, please rerun this cell to show the HTML representation or trust the notebook. <br />On GitHub, the HTML representation is unable to render, please try loading this page with nbviewer.org.</b></div><div class=\"sk-container\" hidden><div class=\"sk-item\"><div class=\"sk-estimator fitted sk-toggleable\"><input class=\"sk-toggleable__control sk-hidden--visually\" id=\"sk-estimator-id-4\" type=\"checkbox\" checked><label for=\"sk-estimator-id-4\" class=\"sk-toggleable__label fitted sk-toggleable__label-arrow fitted\">&nbsp;XGBRegressor<span class=\"sk-estimator-doc-link fitted\">i<span>Fitted</span></span></label><div class=\"sk-toggleable__content fitted\"><pre>XGBRegressor(base_score=None, booster=None, callbacks=None,\n",
       "             colsample_bylevel=None, colsample_bynode=None,\n",
       "             colsample_bytree=0.9, device=None, early_stopping_rounds=None,\n",
       "             enable_categorical=False, eta=0.34991201767803204,\n",
       "             eval_metric=None, feature_types=None, gamma=None, grow_policy=None,\n",
       "             importance_type=None, interaction_constraints=None,\n",
       "             learning_rate=None, max_bin=None, max_cat_threshold=None,\n",
       "             max_cat_to_onehot=None, max_delta_step=None, max_depth=8,\n",
       "             max_leaves=None, min_child_weight=None, missing=nan,\n",
       "             monotone_constraints=None, multi_strategy=None, n_estimators=None,\n",
       "             n_jobs=None, num_parallel_tree=None, ...)</pre></div> </div></div></div></div>"
      ],
      "text/plain": [
       "XGBRegressor(base_score=None, booster=None, callbacks=None,\n",
       "             colsample_bylevel=None, colsample_bynode=None,\n",
       "             colsample_bytree=0.9, device=None, early_stopping_rounds=None,\n",
       "             enable_categorical=False, eta=0.34991201767803204,\n",
       "             eval_metric=None, feature_types=None, gamma=None, grow_policy=None,\n",
       "             importance_type=None, interaction_constraints=None,\n",
       "             learning_rate=None, max_bin=None, max_cat_threshold=None,\n",
       "             max_cat_to_onehot=None, max_delta_step=None, max_depth=8,\n",
       "             max_leaves=None, min_child_weight=None, missing=nan,\n",
       "             monotone_constraints=None, multi_strategy=None, n_estimators=None,\n",
       "             n_jobs=None, num_parallel_tree=None, ...)"
      ]
     },
     "execution_count": 26,
     "metadata": {},
     "output_type": "execute_result"
    }
   ],
   "source": [
    "from sklearn.model_selection import train_test_split\n",
    "import xgboost as xgb\n",
    "\n",
    "X_train = pd.get_dummies(df_enriched[['Journey_route','days_until_departure', 'Detected_Country']])\n",
    "y_train = df_enriched['mean_savings']\n",
    "feature_names = X_train.columns.tolist()\n",
    "\n",
    "\n",
    "\n",
    "# Specify your model parameters here\n",
    "params_grid = {'colsample_bytree': 0.9, 'eta': 0.299, 'max_depth': 7, 'subsample': 0.8}\n",
    "params_optuna = {'max_depth': 7, 'eta': 0.319923163390001, 'subsample': 0.8, 'colsample_bytree': 0.9}\n",
    "params_optuna200 = {'max_depth': 8, 'eta': 0.34991201767803204, 'subsample': 0.9, 'colsample_bytree': 0.9}\n",
    "\n",
    "\n",
    "params_self = {'max_depth': 3, 'eta': 0.01, 'subsample': 0.9, 'colsample_bytree': 0.9}\n",
    "\n",
    "\n",
    "\n",
    "\n",
    "# Create XGBoost model\n",
    "model_v8_combined  = xgb.XGBRegressor(**params_optuna200)\n",
    "\n",
    "# Fit the model on your training data\n",
    "model_v8_combined.fit(X_train, y_train)"
   ]
  },
  {
   "cell_type": "code",
   "execution_count": 27,
   "metadata": {},
   "outputs": [],
   "source": [
    "# Drop rows where 'mean_savings' is NaN\n",
    "df_test= df_test.dropna(subset=['mean_savings'])\n"
   ]
  },
  {
   "cell_type": "code",
   "execution_count": 28,
   "metadata": {},
   "outputs": [
    {
     "name": "stdout",
     "output_type": "stream",
     "text": [
      "Mean Absolute Error: 0.4913521313429161\n",
      "R-squared: 0.8402507674697541\n"
     ]
    }
   ],
   "source": [
    "import pandas as pd\n",
    "from sklearn.metrics import mean_absolute_error\n",
    "from sklearn.metrics import r2_score\n",
    "# Assuming new_test_df is your new test data\n",
    "\n",
    "\n",
    "# Update X_test and y_test accordingly\n",
    "X_test = pd.get_dummies(df_test[['Journey_route', 'days_until_departure', 'Detected_Country']])\n",
    "y_test = df_test['mean_savings']\n",
    "\n",
    "\n",
    "# Align the new test set features with the training features\n",
    "# Add missing columns in the new test set\n",
    "missing_cols = set(feature_names) - set(X_test.columns)\n",
    "for c in missing_cols:\n",
    "    X_test[c] = 0\n",
    "\n",
    "# Remove any columns in the new test set that are not present in the training set\n",
    "X_test = X_test[feature_names]\n",
    "\n",
    "# Now, you can predict with your model\n",
    "y_pred = model_v8_combined.predict(X_test)\n",
    "\n",
    "\n",
    "\n",
    "# Calculate and print the Mean Squared Error\n",
    "mea = mean_absolute_error(y_test, y_pred)\n",
    "print(f\"Mean Absolute Error: {mea}\")\n",
    "\n",
    "\n",
    "r2 = r2_score(y_test, y_pred)\n",
    "print(f\"R-squared: {r2}\")"
   ]
  },
  {
   "cell_type": "markdown",
   "metadata": {},
   "source": [
    "just median"
   ]
  },
  {
   "cell_type": "code",
   "execution_count": 32,
   "metadata": {},
   "outputs": [
    {
     "data": {
      "text/html": [
       "<style>#sk-container-id-6 {\n",
       "  /* Definition of color scheme common for light and dark mode */\n",
       "  --sklearn-color-text: black;\n",
       "  --sklearn-color-line: gray;\n",
       "  /* Definition of color scheme for unfitted estimators */\n",
       "  --sklearn-color-unfitted-level-0: #fff5e6;\n",
       "  --sklearn-color-unfitted-level-1: #f6e4d2;\n",
       "  --sklearn-color-unfitted-level-2: #ffe0b3;\n",
       "  --sklearn-color-unfitted-level-3: chocolate;\n",
       "  /* Definition of color scheme for fitted estimators */\n",
       "  --sklearn-color-fitted-level-0: #f0f8ff;\n",
       "  --sklearn-color-fitted-level-1: #d4ebff;\n",
       "  --sklearn-color-fitted-level-2: #b3dbfd;\n",
       "  --sklearn-color-fitted-level-3: cornflowerblue;\n",
       "\n",
       "  /* Specific color for light theme */\n",
       "  --sklearn-color-text-on-default-background: var(--sg-text-color, var(--theme-code-foreground, var(--jp-content-font-color1, black)));\n",
       "  --sklearn-color-background: var(--sg-background-color, var(--theme-background, var(--jp-layout-color0, white)));\n",
       "  --sklearn-color-border-box: var(--sg-text-color, var(--theme-code-foreground, var(--jp-content-font-color1, black)));\n",
       "  --sklearn-color-icon: #696969;\n",
       "\n",
       "  @media (prefers-color-scheme: dark) {\n",
       "    /* Redefinition of color scheme for dark theme */\n",
       "    --sklearn-color-text-on-default-background: var(--sg-text-color, var(--theme-code-foreground, var(--jp-content-font-color1, white)));\n",
       "    --sklearn-color-background: var(--sg-background-color, var(--theme-background, var(--jp-layout-color0, #111)));\n",
       "    --sklearn-color-border-box: var(--sg-text-color, var(--theme-code-foreground, var(--jp-content-font-color1, white)));\n",
       "    --sklearn-color-icon: #878787;\n",
       "  }\n",
       "}\n",
       "\n",
       "#sk-container-id-6 {\n",
       "  color: var(--sklearn-color-text);\n",
       "}\n",
       "\n",
       "#sk-container-id-6 pre {\n",
       "  padding: 0;\n",
       "}\n",
       "\n",
       "#sk-container-id-6 input.sk-hidden--visually {\n",
       "  border: 0;\n",
       "  clip: rect(1px 1px 1px 1px);\n",
       "  clip: rect(1px, 1px, 1px, 1px);\n",
       "  height: 1px;\n",
       "  margin: -1px;\n",
       "  overflow: hidden;\n",
       "  padding: 0;\n",
       "  position: absolute;\n",
       "  width: 1px;\n",
       "}\n",
       "\n",
       "#sk-container-id-6 div.sk-dashed-wrapped {\n",
       "  border: 1px dashed var(--sklearn-color-line);\n",
       "  margin: 0 0.4em 0.5em 0.4em;\n",
       "  box-sizing: border-box;\n",
       "  padding-bottom: 0.4em;\n",
       "  background-color: var(--sklearn-color-background);\n",
       "}\n",
       "\n",
       "#sk-container-id-6 div.sk-container {\n",
       "  /* jupyter's `normalize.less` sets `[hidden] { display: none; }`\n",
       "     but bootstrap.min.css set `[hidden] { display: none !important; }`\n",
       "     so we also need the `!important` here to be able to override the\n",
       "     default hidden behavior on the sphinx rendered scikit-learn.org.\n",
       "     See: https://github.com/scikit-learn/scikit-learn/issues/21755 */\n",
       "  display: inline-block !important;\n",
       "  position: relative;\n",
       "}\n",
       "\n",
       "#sk-container-id-6 div.sk-text-repr-fallback {\n",
       "  display: none;\n",
       "}\n",
       "\n",
       "div.sk-parallel-item,\n",
       "div.sk-serial,\n",
       "div.sk-item {\n",
       "  /* draw centered vertical line to link estimators */\n",
       "  background-image: linear-gradient(var(--sklearn-color-text-on-default-background), var(--sklearn-color-text-on-default-background));\n",
       "  background-size: 2px 100%;\n",
       "  background-repeat: no-repeat;\n",
       "  background-position: center center;\n",
       "}\n",
       "\n",
       "/* Parallel-specific style estimator block */\n",
       "\n",
       "#sk-container-id-6 div.sk-parallel-item::after {\n",
       "  content: \"\";\n",
       "  width: 100%;\n",
       "  border-bottom: 2px solid var(--sklearn-color-text-on-default-background);\n",
       "  flex-grow: 1;\n",
       "}\n",
       "\n",
       "#sk-container-id-6 div.sk-parallel {\n",
       "  display: flex;\n",
       "  align-items: stretch;\n",
       "  justify-content: center;\n",
       "  background-color: var(--sklearn-color-background);\n",
       "  position: relative;\n",
       "}\n",
       "\n",
       "#sk-container-id-6 div.sk-parallel-item {\n",
       "  display: flex;\n",
       "  flex-direction: column;\n",
       "}\n",
       "\n",
       "#sk-container-id-6 div.sk-parallel-item:first-child::after {\n",
       "  align-self: flex-end;\n",
       "  width: 50%;\n",
       "}\n",
       "\n",
       "#sk-container-id-6 div.sk-parallel-item:last-child::after {\n",
       "  align-self: flex-start;\n",
       "  width: 50%;\n",
       "}\n",
       "\n",
       "#sk-container-id-6 div.sk-parallel-item:only-child::after {\n",
       "  width: 0;\n",
       "}\n",
       "\n",
       "/* Serial-specific style estimator block */\n",
       "\n",
       "#sk-container-id-6 div.sk-serial {\n",
       "  display: flex;\n",
       "  flex-direction: column;\n",
       "  align-items: center;\n",
       "  background-color: var(--sklearn-color-background);\n",
       "  padding-right: 1em;\n",
       "  padding-left: 1em;\n",
       "}\n",
       "\n",
       "\n",
       "/* Toggleable style: style used for estimator/Pipeline/ColumnTransformer box that is\n",
       "clickable and can be expanded/collapsed.\n",
       "- Pipeline and ColumnTransformer use this feature and define the default style\n",
       "- Estimators will overwrite some part of the style using the `sk-estimator` class\n",
       "*/\n",
       "\n",
       "/* Pipeline and ColumnTransformer style (default) */\n",
       "\n",
       "#sk-container-id-6 div.sk-toggleable {\n",
       "  /* Default theme specific background. It is overwritten whether we have a\n",
       "  specific estimator or a Pipeline/ColumnTransformer */\n",
       "  background-color: var(--sklearn-color-background);\n",
       "}\n",
       "\n",
       "/* Toggleable label */\n",
       "#sk-container-id-6 label.sk-toggleable__label {\n",
       "  cursor: pointer;\n",
       "  display: block;\n",
       "  width: 100%;\n",
       "  margin-bottom: 0;\n",
       "  padding: 0.5em;\n",
       "  box-sizing: border-box;\n",
       "  text-align: center;\n",
       "}\n",
       "\n",
       "#sk-container-id-6 label.sk-toggleable__label-arrow:before {\n",
       "  /* Arrow on the left of the label */\n",
       "  content: \"▸\";\n",
       "  float: left;\n",
       "  margin-right: 0.25em;\n",
       "  color: var(--sklearn-color-icon);\n",
       "}\n",
       "\n",
       "#sk-container-id-6 label.sk-toggleable__label-arrow:hover:before {\n",
       "  color: var(--sklearn-color-text);\n",
       "}\n",
       "\n",
       "/* Toggleable content - dropdown */\n",
       "\n",
       "#sk-container-id-6 div.sk-toggleable__content {\n",
       "  max-height: 0;\n",
       "  max-width: 0;\n",
       "  overflow: hidden;\n",
       "  text-align: left;\n",
       "  /* unfitted */\n",
       "  background-color: var(--sklearn-color-unfitted-level-0);\n",
       "}\n",
       "\n",
       "#sk-container-id-6 div.sk-toggleable__content.fitted {\n",
       "  /* fitted */\n",
       "  background-color: var(--sklearn-color-fitted-level-0);\n",
       "}\n",
       "\n",
       "#sk-container-id-6 div.sk-toggleable__content pre {\n",
       "  margin: 0.2em;\n",
       "  border-radius: 0.25em;\n",
       "  color: var(--sklearn-color-text);\n",
       "  /* unfitted */\n",
       "  background-color: var(--sklearn-color-unfitted-level-0);\n",
       "}\n",
       "\n",
       "#sk-container-id-6 div.sk-toggleable__content.fitted pre {\n",
       "  /* unfitted */\n",
       "  background-color: var(--sklearn-color-fitted-level-0);\n",
       "}\n",
       "\n",
       "#sk-container-id-6 input.sk-toggleable__control:checked~div.sk-toggleable__content {\n",
       "  /* Expand drop-down */\n",
       "  max-height: 200px;\n",
       "  max-width: 100%;\n",
       "  overflow: auto;\n",
       "}\n",
       "\n",
       "#sk-container-id-6 input.sk-toggleable__control:checked~label.sk-toggleable__label-arrow:before {\n",
       "  content: \"▾\";\n",
       "}\n",
       "\n",
       "/* Pipeline/ColumnTransformer-specific style */\n",
       "\n",
       "#sk-container-id-6 div.sk-label input.sk-toggleable__control:checked~label.sk-toggleable__label {\n",
       "  color: var(--sklearn-color-text);\n",
       "  background-color: var(--sklearn-color-unfitted-level-2);\n",
       "}\n",
       "\n",
       "#sk-container-id-6 div.sk-label.fitted input.sk-toggleable__control:checked~label.sk-toggleable__label {\n",
       "  background-color: var(--sklearn-color-fitted-level-2);\n",
       "}\n",
       "\n",
       "/* Estimator-specific style */\n",
       "\n",
       "/* Colorize estimator box */\n",
       "#sk-container-id-6 div.sk-estimator input.sk-toggleable__control:checked~label.sk-toggleable__label {\n",
       "  /* unfitted */\n",
       "  background-color: var(--sklearn-color-unfitted-level-2);\n",
       "}\n",
       "\n",
       "#sk-container-id-6 div.sk-estimator.fitted input.sk-toggleable__control:checked~label.sk-toggleable__label {\n",
       "  /* fitted */\n",
       "  background-color: var(--sklearn-color-fitted-level-2);\n",
       "}\n",
       "\n",
       "#sk-container-id-6 div.sk-label label.sk-toggleable__label,\n",
       "#sk-container-id-6 div.sk-label label {\n",
       "  /* The background is the default theme color */\n",
       "  color: var(--sklearn-color-text-on-default-background);\n",
       "}\n",
       "\n",
       "/* On hover, darken the color of the background */\n",
       "#sk-container-id-6 div.sk-label:hover label.sk-toggleable__label {\n",
       "  color: var(--sklearn-color-text);\n",
       "  background-color: var(--sklearn-color-unfitted-level-2);\n",
       "}\n",
       "\n",
       "/* Label box, darken color on hover, fitted */\n",
       "#sk-container-id-6 div.sk-label.fitted:hover label.sk-toggleable__label.fitted {\n",
       "  color: var(--sklearn-color-text);\n",
       "  background-color: var(--sklearn-color-fitted-level-2);\n",
       "}\n",
       "\n",
       "/* Estimator label */\n",
       "\n",
       "#sk-container-id-6 div.sk-label label {\n",
       "  font-family: monospace;\n",
       "  font-weight: bold;\n",
       "  display: inline-block;\n",
       "  line-height: 1.2em;\n",
       "}\n",
       "\n",
       "#sk-container-id-6 div.sk-label-container {\n",
       "  text-align: center;\n",
       "}\n",
       "\n",
       "/* Estimator-specific */\n",
       "#sk-container-id-6 div.sk-estimator {\n",
       "  font-family: monospace;\n",
       "  border: 1px dotted var(--sklearn-color-border-box);\n",
       "  border-radius: 0.25em;\n",
       "  box-sizing: border-box;\n",
       "  margin-bottom: 0.5em;\n",
       "  /* unfitted */\n",
       "  background-color: var(--sklearn-color-unfitted-level-0);\n",
       "}\n",
       "\n",
       "#sk-container-id-6 div.sk-estimator.fitted {\n",
       "  /* fitted */\n",
       "  background-color: var(--sklearn-color-fitted-level-0);\n",
       "}\n",
       "\n",
       "/* on hover */\n",
       "#sk-container-id-6 div.sk-estimator:hover {\n",
       "  /* unfitted */\n",
       "  background-color: var(--sklearn-color-unfitted-level-2);\n",
       "}\n",
       "\n",
       "#sk-container-id-6 div.sk-estimator.fitted:hover {\n",
       "  /* fitted */\n",
       "  background-color: var(--sklearn-color-fitted-level-2);\n",
       "}\n",
       "\n",
       "/* Specification for estimator info (e.g. \"i\" and \"?\") */\n",
       "\n",
       "/* Common style for \"i\" and \"?\" */\n",
       "\n",
       ".sk-estimator-doc-link,\n",
       "a:link.sk-estimator-doc-link,\n",
       "a:visited.sk-estimator-doc-link {\n",
       "  float: right;\n",
       "  font-size: smaller;\n",
       "  line-height: 1em;\n",
       "  font-family: monospace;\n",
       "  background-color: var(--sklearn-color-background);\n",
       "  border-radius: 1em;\n",
       "  height: 1em;\n",
       "  width: 1em;\n",
       "  text-decoration: none !important;\n",
       "  margin-left: 1ex;\n",
       "  /* unfitted */\n",
       "  border: var(--sklearn-color-unfitted-level-1) 1pt solid;\n",
       "  color: var(--sklearn-color-unfitted-level-1);\n",
       "}\n",
       "\n",
       ".sk-estimator-doc-link.fitted,\n",
       "a:link.sk-estimator-doc-link.fitted,\n",
       "a:visited.sk-estimator-doc-link.fitted {\n",
       "  /* fitted */\n",
       "  border: var(--sklearn-color-fitted-level-1) 1pt solid;\n",
       "  color: var(--sklearn-color-fitted-level-1);\n",
       "}\n",
       "\n",
       "/* On hover */\n",
       "div.sk-estimator:hover .sk-estimator-doc-link:hover,\n",
       ".sk-estimator-doc-link:hover,\n",
       "div.sk-label-container:hover .sk-estimator-doc-link:hover,\n",
       ".sk-estimator-doc-link:hover {\n",
       "  /* unfitted */\n",
       "  background-color: var(--sklearn-color-unfitted-level-3);\n",
       "  color: var(--sklearn-color-background);\n",
       "  text-decoration: none;\n",
       "}\n",
       "\n",
       "div.sk-estimator.fitted:hover .sk-estimator-doc-link.fitted:hover,\n",
       ".sk-estimator-doc-link.fitted:hover,\n",
       "div.sk-label-container:hover .sk-estimator-doc-link.fitted:hover,\n",
       ".sk-estimator-doc-link.fitted:hover {\n",
       "  /* fitted */\n",
       "  background-color: var(--sklearn-color-fitted-level-3);\n",
       "  color: var(--sklearn-color-background);\n",
       "  text-decoration: none;\n",
       "}\n",
       "\n",
       "/* Span, style for the box shown on hovering the info icon */\n",
       ".sk-estimator-doc-link span {\n",
       "  display: none;\n",
       "  z-index: 9999;\n",
       "  position: relative;\n",
       "  font-weight: normal;\n",
       "  right: .2ex;\n",
       "  padding: .5ex;\n",
       "  margin: .5ex;\n",
       "  width: min-content;\n",
       "  min-width: 20ex;\n",
       "  max-width: 50ex;\n",
       "  color: var(--sklearn-color-text);\n",
       "  box-shadow: 2pt 2pt 4pt #999;\n",
       "  /* unfitted */\n",
       "  background: var(--sklearn-color-unfitted-level-0);\n",
       "  border: .5pt solid var(--sklearn-color-unfitted-level-3);\n",
       "}\n",
       "\n",
       ".sk-estimator-doc-link.fitted span {\n",
       "  /* fitted */\n",
       "  background: var(--sklearn-color-fitted-level-0);\n",
       "  border: var(--sklearn-color-fitted-level-3);\n",
       "}\n",
       "\n",
       ".sk-estimator-doc-link:hover span {\n",
       "  display: block;\n",
       "}\n",
       "\n",
       "/* \"?\"-specific style due to the `<a>` HTML tag */\n",
       "\n",
       "#sk-container-id-6 a.estimator_doc_link {\n",
       "  float: right;\n",
       "  font-size: 1rem;\n",
       "  line-height: 1em;\n",
       "  font-family: monospace;\n",
       "  background-color: var(--sklearn-color-background);\n",
       "  border-radius: 1rem;\n",
       "  height: 1rem;\n",
       "  width: 1rem;\n",
       "  text-decoration: none;\n",
       "  /* unfitted */\n",
       "  color: var(--sklearn-color-unfitted-level-1);\n",
       "  border: var(--sklearn-color-unfitted-level-1) 1pt solid;\n",
       "}\n",
       "\n",
       "#sk-container-id-6 a.estimator_doc_link.fitted {\n",
       "  /* fitted */\n",
       "  border: var(--sklearn-color-fitted-level-1) 1pt solid;\n",
       "  color: var(--sklearn-color-fitted-level-1);\n",
       "}\n",
       "\n",
       "/* On hover */\n",
       "#sk-container-id-6 a.estimator_doc_link:hover {\n",
       "  /* unfitted */\n",
       "  background-color: var(--sklearn-color-unfitted-level-3);\n",
       "  color: var(--sklearn-color-background);\n",
       "  text-decoration: none;\n",
       "}\n",
       "\n",
       "#sk-container-id-6 a.estimator_doc_link.fitted:hover {\n",
       "  /* fitted */\n",
       "  background-color: var(--sklearn-color-fitted-level-3);\n",
       "}\n",
       "</style><div id=\"sk-container-id-6\" class=\"sk-top-container\"><div class=\"sk-text-repr-fallback\"><pre>XGBRegressor(base_score=None, booster=None, callbacks=None,\n",
       "             colsample_bylevel=None, colsample_bynode=None,\n",
       "             colsample_bytree=0.9, device=None, early_stopping_rounds=None,\n",
       "             enable_categorical=False, eta=0.34991201767803204,\n",
       "             eval_metric=None, feature_types=None, gamma=None, grow_policy=None,\n",
       "             importance_type=None, interaction_constraints=None,\n",
       "             learning_rate=None, max_bin=None, max_cat_threshold=None,\n",
       "             max_cat_to_onehot=None, max_delta_step=None, max_depth=8,\n",
       "             max_leaves=None, min_child_weight=None, missing=nan,\n",
       "             monotone_constraints=None, multi_strategy=None, n_estimators=None,\n",
       "             n_jobs=None, num_parallel_tree=None, ...)</pre><b>In a Jupyter environment, please rerun this cell to show the HTML representation or trust the notebook. <br />On GitHub, the HTML representation is unable to render, please try loading this page with nbviewer.org.</b></div><div class=\"sk-container\" hidden><div class=\"sk-item\"><div class=\"sk-estimator fitted sk-toggleable\"><input class=\"sk-toggleable__control sk-hidden--visually\" id=\"sk-estimator-id-6\" type=\"checkbox\" checked><label for=\"sk-estimator-id-6\" class=\"sk-toggleable__label fitted sk-toggleable__label-arrow fitted\">&nbsp;XGBRegressor<span class=\"sk-estimator-doc-link fitted\">i<span>Fitted</span></span></label><div class=\"sk-toggleable__content fitted\"><pre>XGBRegressor(base_score=None, booster=None, callbacks=None,\n",
       "             colsample_bylevel=None, colsample_bynode=None,\n",
       "             colsample_bytree=0.9, device=None, early_stopping_rounds=None,\n",
       "             enable_categorical=False, eta=0.34991201767803204,\n",
       "             eval_metric=None, feature_types=None, gamma=None, grow_policy=None,\n",
       "             importance_type=None, interaction_constraints=None,\n",
       "             learning_rate=None, max_bin=None, max_cat_threshold=None,\n",
       "             max_cat_to_onehot=None, max_delta_step=None, max_depth=8,\n",
       "             max_leaves=None, min_child_weight=None, missing=nan,\n",
       "             monotone_constraints=None, multi_strategy=None, n_estimators=None,\n",
       "             n_jobs=None, num_parallel_tree=None, ...)</pre></div> </div></div></div></div>"
      ],
      "text/plain": [
       "XGBRegressor(base_score=None, booster=None, callbacks=None,\n",
       "             colsample_bylevel=None, colsample_bynode=None,\n",
       "             colsample_bytree=0.9, device=None, early_stopping_rounds=None,\n",
       "             enable_categorical=False, eta=0.34991201767803204,\n",
       "             eval_metric=None, feature_types=None, gamma=None, grow_policy=None,\n",
       "             importance_type=None, interaction_constraints=None,\n",
       "             learning_rate=None, max_bin=None, max_cat_threshold=None,\n",
       "             max_cat_to_onehot=None, max_delta_step=None, max_depth=8,\n",
       "             max_leaves=None, min_child_weight=None, missing=nan,\n",
       "             monotone_constraints=None, multi_strategy=None, n_estimators=None,\n",
       "             n_jobs=None, num_parallel_tree=None, ...)"
      ]
     },
     "execution_count": 32,
     "metadata": {},
     "output_type": "execute_result"
    }
   ],
   "source": [
    "from sklearn.model_selection import train_test_split\n",
    "import xgboost as xgb\n",
    "\n",
    "X_train = pd.get_dummies(df_enriched[['Journey_route','days_until_departure', 'Detected_Country']])\n",
    "y_train = df_enriched['mean_savings_for_Journey_ID_country']\n",
    "feature_names = X_train.columns.tolist()\n",
    "\n",
    "\n",
    "\n",
    "# Specify your model parameters here\n",
    "params_grid = {'colsample_bytree': 0.9, 'eta': 0.299, 'max_depth': 7, 'subsample': 0.8}\n",
    "params_optuna = {'max_depth': 7, 'eta': 0.319923163390001, 'subsample': 0.8, 'colsample_bytree': 0.9}\n",
    "params_optuna200 = {'max_depth': 8, 'eta': 0.34991201767803204, 'subsample': 0.9, 'colsample_bytree': 0.9}\n",
    "\n",
    "\n",
    "params_self = {'max_depth': 3, 'eta': 0.01, 'subsample': 0.9, 'colsample_bytree': 0.9}\n",
    "\n",
    "\n",
    "\n",
    "\n",
    "# Create XGBoost model\n",
    "model_v8_combined  = xgb.XGBRegressor(**params_optuna200)\n",
    "\n",
    "# Fit the model on your training data\n",
    "model_v8_combined.fit(X_train, y_train)"
   ]
  },
  {
   "cell_type": "code",
   "execution_count": 34,
   "metadata": {},
   "outputs": [
    {
     "name": "stdout",
     "output_type": "stream",
     "text": [
      "Mean Absolute Error: 1.3204493832928457\n",
      "R-squared: 0.7429883678819165\n"
     ]
    }
   ],
   "source": [
    "import pandas as pd\n",
    "from sklearn.metrics import mean_absolute_error\n",
    "from sklearn.metrics import r2_score\n",
    "# Assuming new_test_df is your new test data\n",
    "\n",
    "\n",
    "# Drop rows where 'mean_savings' is NaN\n",
    "# Drop rows where 'mean_savings' is NaN\n",
    "df_test= df_test.dropna(subset=['mean_savings_for_Journey_ID_country'])\n",
    "\n",
    "#df_test= df_test.dropna(subset=['mean_savings'])\n",
    "X_test = pd.get_dummies(df_test[['Journey_route', 'days_until_departure', 'Detected_Country']])\n",
    "y_test = df_test['mean_savings_for_Journey_ID_country']\n",
    "\n",
    "\n",
    "# Align the new test set features with the training features\n",
    "# Add missing columns in the new test set\n",
    "missing_cols = set(feature_names) - set(X_test.columns)\n",
    "for c in missing_cols:\n",
    "    X_test[c] = 0\n",
    "\n",
    "# Remove any columns in the new test set that are not present in the training set\n",
    "X_test = X_test[feature_names]\n",
    "\n",
    "# Now, you can predict with your model\n",
    "y_pred = model_v6_combined.predict(X_test)\n",
    "\n",
    "\n",
    "\n",
    "# Calculate and print the Mean Squared Error\n",
    "mea = mean_absolute_error(y_test, y_pred)\n",
    "print(f\"Mean Absolute Error: {mea}\")\n",
    "\n",
    "\n",
    "r2 = r2_score(y_test, y_pred)\n",
    "print(f\"R-squared: {r2}\")"
   ]
  },
  {
   "cell_type": "code",
   "execution_count": null,
   "metadata": {},
   "outputs": [],
   "source": []
  }
 ],
 "metadata": {
  "kernelspec": {
   "display_name": "playwright-trial-uIq0qThi-py3.12",
   "language": "python",
   "name": "python3"
  },
  "language_info": {
   "codemirror_mode": {
    "name": "ipython",
    "version": 3
   },
   "file_extension": ".py",
   "mimetype": "text/x-python",
   "name": "python",
   "nbconvert_exporter": "python",
   "pygments_lexer": "ipython3",
   "version": "3.12.1"
  }
 },
 "nbformat": 4,
 "nbformat_minor": 2
}
