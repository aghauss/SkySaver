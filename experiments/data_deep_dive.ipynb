{
 "cells": [
  {
   "cell_type": "markdown",
   "metadata": {},
   "source": [
    "# Imports"
   ]
  },
  {
   "cell_type": "code",
   "execution_count": 1,
   "metadata": {},
   "outputs": [],
   "source": [
    "import pandas as pd\n",
    "import numpy as np\n",
    "import ast\n",
    "from datetime import datetime"
   ]
  },
  {
   "cell_type": "markdown",
   "metadata": {},
   "source": [
    "# Helper functions"
   ]
  },
  {
   "cell_type": "code",
   "execution_count": 2,
   "metadata": {},
   "outputs": [],
   "source": [
    "conversion_rates = {\n",
    "    'CHF': 1.14,  # 1 CHF = 1.134556 USD as of Feb 20, 2024, according to X-Rates\n",
    "    'TRY': 0.032,   # 1 TRY = 0.03230 USD as of Feb 21, 2024, according to Wise\n",
    "    'PLN': 0.25,  # 1 PLN = 0.250338 USD as of Feb 21, 2024, according to Xe.com\n",
    "    'GBP': 1.26,      # Example rate, adjust with the actual rate when available\n",
    "    'JOD': 1.41,      # Example rate, adjust with the actual rate when available\n",
    "    'AUD' : 0.66,\n",
    "    'BRL' : 0.2,\n",
    "    'IDR' : 0.000064,\n",
    "    'USD' : 1.0,\n",
    "    'EUR' : 1.08,\n",
    "    'ALL' : 0.010,\n",
    "    'JPY' : 0.0066,\n",
    "    'BDT' : 0.0091,\n",
    "\n",
    "}\n",
    "\n"
   ]
  },
  {
   "cell_type": "code",
   "execution_count": 3,
   "metadata": {},
   "outputs": [],
   "source": [
    "def convert_to_usd(row, price_col_name, currency_col_name):\n",
    "    price = row[price_col_name]\n",
    "    currency = row[currency_col_name]\n",
    "    price = row['ticket_price']\n",
    "    conversion_rate = conversion_rates.get(currency)\n",
    "\n",
    "    # Check if conversion_rate is None\n",
    "    if conversion_rate is None:\n",
    "        # Handle the error (e.g., return 0, raise an exception, or use a default conversion rate)\n",
    "        raise ValueError(f\"Conversion rate for currency '{currency}' is not available.\")\n",
    "        # Alternatively, you can return 0 or some default value instead of raising an error\n",
    "        # return 0\n",
    "    \n",
    "    return price * conversion_rate\n"
   ]
  },
  {
   "cell_type": "code",
   "execution_count": 4,
   "metadata": {},
   "outputs": [],
   "source": [
    "def clean_fifth_element(lst):\n",
    "    cleaned_lst = []\n",
    "    for item in lst:\n",
    "        if len(item) >= 5:\n",
    "            fifth_element = item[4]\n",
    "            if isinstance(fifth_element, int):\n",
    "                cleaned_lst.append(fifth_element)\n",
    "            else:\n",
    "                try:\n",
    "                    cleaned_lst.append(int(fifth_element))\n",
    "                except ValueError:\n",
    "                    # If the fifth element cannot be converted to an integer, replace it with 0\n",
    "                    cleaned_lst.append(0)\n",
    "        else:\n",
    "            cleaned_lst.append(0)  # If the list is too short, consider the fifth element as 0\n",
    "    return cleaned_lst\n",
    "\n"
   ]
  },
  {
   "cell_type": "code",
   "execution_count": 5,
   "metadata": {},
   "outputs": [],
   "source": [
    "def convert_list_to_datetime(date_list):\n",
    "    # Convert 'null' strings to 0 and other elements to integers\n",
    "    date_list = [0 if element == 'null' else int(element) for element in date_list]\n",
    "    \n",
    "    try:\n",
    "        if len(date_list) == 5:\n",
    "            # If all components are present, unpack the list directly into datetime\n",
    "            return datetime(*date_list)\n",
    "        elif len(date_list) == 4:\n",
    "            # If the minute is missing (or any single component), append 0 for minutes and then convert\n",
    "            return datetime(*(date_list + [0]))\n",
    "        else:\n",
    "            # Return None for lists of unexpected length to indicate an issue\n",
    "            return None\n",
    "    except TypeError:\n",
    "        # Handle cases where the list contents cannot be directly unpacked into datetime\n",
    "        return None\n",
    "\n",
    "\n"
   ]
  },
  {
   "cell_type": "code",
   "execution_count": 6,
   "metadata": {},
   "outputs": [],
   "source": [
    "def clean_fifth_element(lst):\n",
    "    cleaned_lst = []\n",
    "    for item in lst:\n",
    "        if len(item) >= 5:\n",
    "            fifth_element = item[4]\n",
    "            if isinstance(fifth_element, int):\n",
    "                cleaned_lst.append(item[:4] + [fifth_element] + item[5:])\n",
    "            else:\n",
    "                try:\n",
    "                    cleaned_lst.append(item[:4] + [int(fifth_element)] + item[5:])\n",
    "                except ValueError:\n",
    "                    # If the fifth element cannot be converted to an integer, replace it with 0\n",
    "                    cleaned_lst.append(item[:4] + [0] + item[5:])\n",
    "        else:\n",
    "            # If the list is too short, consider the fifth element as 0\n",
    "            cleaned_lst.append(item[:4] + [0])\n",
    "    return cleaned_lst\n",
    "\n"
   ]
  },
  {
   "cell_type": "markdown",
   "metadata": {},
   "source": [
    "# Read and Clean Dataset"
   ]
  },
  {
   "cell_type": "code",
   "execution_count": 7,
   "metadata": {},
   "outputs": [],
   "source": [
    "df = pd.read_csv('../data/query_results/Query4_results_test.csv')"
   ]
  },
  {
   "cell_type": "code",
   "execution_count": 8,
   "metadata": {},
   "outputs": [],
   "source": [
    "for i in ['arrival_date','departure_date']:\n",
    "    df[i] = df[i].apply(ast.literal_eval)"
   ]
  },
  {
   "cell_type": "code",
   "execution_count": 9,
   "metadata": {},
   "outputs": [],
   "source": [
    "df['arrival_date'] = clean_fifth_element(df['arrival_date'])\n",
    "df['departure_date'] = clean_fifth_element(df['departure_date'])"
   ]
  },
  {
   "cell_type": "code",
   "execution_count": 10,
   "metadata": {},
   "outputs": [],
   "source": [
    "for i in ['arrival_date','departure_date']:\n",
    "    df[i] = df[i].apply(convert_list_to_datetime)"
   ]
  },
  {
   "cell_type": "markdown",
   "metadata": {},
   "source": [
    "**Create identifier (FlightID) for identical flights**"
   ]
  },
  {
   "cell_type": "code",
   "execution_count": 11,
   "metadata": {},
   "outputs": [],
   "source": [
    "df['Flight_ID'] = df[['airline_code', 'departure_airport_code', 'destination_airport_code','First_flight','last_flight_code','arrival_date','departure_date', 'departure_time','selling_airline','arrival_time','first_flight_code']].astype(str).agg('-'.join, axis=1)"
   ]
  },
  {
   "cell_type": "code",
   "execution_count": 12,
   "metadata": {},
   "outputs": [],
   "source": [
    "df = df.drop(['departure_time','selling_airline','arrival_time'], axis = 1)"
   ]
  },
  {
   "cell_type": "markdown",
   "metadata": {},
   "source": [
    "**Remove duplicates**"
   ]
  },
  {
   "cell_type": "code",
   "execution_count": 13,
   "metadata": {},
   "outputs": [],
   "source": [
    "df[\"Duplicate_checker\"] = df['Flight_ID'] + df['Detected_Country'] + df[\"Detected_Language\"] + df[\"Detected_Country\"] + str(df[\"ticket_price\"])"
   ]
  },
  {
   "cell_type": "code",
   "execution_count": 14,
   "metadata": {},
   "outputs": [],
   "source": [
    "df_reduced = df.drop_duplicates(subset='Duplicate_checker', keep='first').copy()"
   ]
  },
  {
   "cell_type": "code",
   "execution_count": 15,
   "metadata": {},
   "outputs": [],
   "source": [
    "df_reduced = df_reduced.drop(['Duplicate_checker'], axis = 1)"
   ]
  },
  {
   "cell_type": "markdown",
   "metadata": {},
   "source": [
    "**Remove NaN and erroneous rows**"
   ]
  },
  {
   "cell_type": "code",
   "execution_count": 16,
   "metadata": {},
   "outputs": [],
   "source": [
    "df_reduced.dropna(subset=['Detected_Currency', 'ticket_price', 'Detected_Country'], inplace=True)"
   ]
  },
  {
   "cell_type": "code",
   "execution_count": 17,
   "metadata": {},
   "outputs": [],
   "source": [
    "df_reduced = df_reduced[df_reduced['ticket_price'] >= 10]"
   ]
  },
  {
   "cell_type": "code",
   "execution_count": 18,
   "metadata": {},
   "outputs": [
    {
     "data": {
      "text/plain": [
       "Index(['airline_code', 'departure_airport_code', 'destination_airport_code',\n",
       "       'ticket_price', 'departure_date', 'arrival_date', 'First_flight',\n",
       "       'first_flight_code', 'last_flight_code', 'Detected_Language',\n",
       "       'Detected_Country', 'Detected_Currency', 'Flight_ID'],\n",
       "      dtype='object')"
      ]
     },
     "execution_count": 18,
     "metadata": {},
     "output_type": "execute_result"
    }
   ],
   "source": [
    "df_reduced.columns"
   ]
  },
  {
   "cell_type": "markdown",
   "metadata": {},
   "source": [
    "# Feature engineering"
   ]
  },
  {
   "cell_type": "code",
   "execution_count": 19,
   "metadata": {},
   "outputs": [],
   "source": [
    "df_reduced['Price_in_USD'] = df_reduced.apply(lambda row: convert_to_usd(row, 'ticket_price', 'Detected_Currency'), axis=1)"
   ]
  },
  {
   "cell_type": "markdown",
   "metadata": {},
   "source": [
    "Creating commutime time"
   ]
  },
  {
   "cell_type": "code",
   "execution_count": 52,
   "metadata": {},
   "outputs": [],
   "source": [
    "df_reduced['commute_time'] = (df_reduced['arrival_date'] - df_reduced['departure_date']).dt.total_seconds() / 60"
   ]
  },
  {
   "cell_type": "code",
   "execution_count": 21,
   "metadata": {},
   "outputs": [],
   "source": [
    "df_reduced['query_date'] = pd.Timestamp('2024-02-15')"
   ]
  },
  {
   "cell_type": "code",
   "execution_count": 22,
   "metadata": {},
   "outputs": [],
   "source": [
    "df_reduced['days_until_departure'] = (df_reduced['departure_date'] - df_reduced['query_date']).dt.days"
   ]
  },
  {
   "cell_type": "markdown",
   "metadata": {},
   "source": [
    "**Eliminating Flights with little country variance**"
   ]
  },
  {
   "cell_type": "code",
   "execution_count": 23,
   "metadata": {},
   "outputs": [],
   "source": [
    "# Count the number of different countries available per Flight_ID\n",
    "country_count_per_flight = df_reduced.groupby('Flight_ID')['Detected_Country'].nunique().reset_index(name='FlightID_in_Countries_Count')\n",
    "\n",
    "# Merge this count back into the original dataframe\n",
    "df_reduced = df_reduced.merge(country_count_per_flight, on='Flight_ID')\n"
   ]
  },
  {
   "cell_type": "code",
   "execution_count": 24,
   "metadata": {},
   "outputs": [],
   "source": [
    "df_reduced = df_reduced[df_reduced['FlightID_in_Countries_Count'] >= 5]"
   ]
  },
  {
   "cell_type": "markdown",
   "metadata": {},
   "source": [
    "Creating column for whole Journey"
   ]
  },
  {
   "cell_type": "code",
   "execution_count": 25,
   "metadata": {},
   "outputs": [],
   "source": [
    "df_reduced[\"whole_Journey\"] = df_reduced[\"departure_airport_code\"] + \"-\" + df_reduced[\"destination_airport_code\"]"
   ]
  },
  {
   "cell_type": "code",
   "execution_count": 26,
   "metadata": {},
   "outputs": [
    {
     "data": {
      "text/html": [
       "<div>\n",
       "<style scoped>\n",
       "    .dataframe tbody tr th:only-of-type {\n",
       "        vertical-align: middle;\n",
       "    }\n",
       "\n",
       "    .dataframe tbody tr th {\n",
       "        vertical-align: top;\n",
       "    }\n",
       "\n",
       "    .dataframe thead th {\n",
       "        text-align: right;\n",
       "    }\n",
       "</style>\n",
       "<table border=\"1\" class=\"dataframe\">\n",
       "  <thead>\n",
       "    <tr style=\"text-align: right;\">\n",
       "      <th></th>\n",
       "      <th>airline_code</th>\n",
       "      <th>departure_airport_code</th>\n",
       "      <th>destination_airport_code</th>\n",
       "      <th>ticket_price</th>\n",
       "      <th>departure_date</th>\n",
       "      <th>arrival_date</th>\n",
       "      <th>First_flight</th>\n",
       "      <th>first_flight_code</th>\n",
       "      <th>last_flight_code</th>\n",
       "      <th>Detected_Language</th>\n",
       "      <th>Detected_Country</th>\n",
       "      <th>Detected_Currency</th>\n",
       "      <th>Flight_ID</th>\n",
       "      <th>Price_in_USD</th>\n",
       "      <th>query_date</th>\n",
       "      <th>days_until_departure</th>\n",
       "      <th>FlightID_in_Countries_Count</th>\n",
       "      <th>whole_Journey</th>\n",
       "    </tr>\n",
       "  </thead>\n",
       "  <tbody>\n",
       "    <tr>\n",
       "      <th>0</th>\n",
       "      <td>AA</td>\n",
       "      <td>CLT</td>\n",
       "      <td>CUN</td>\n",
       "      <td>383</td>\n",
       "      <td>2024-06-26 07:15:00</td>\n",
       "      <td>2024-06-26 09:10:00</td>\n",
       "      <td>CLT-CUN</td>\n",
       "      <td>AA881</td>\n",
       "      <td>AA881</td>\n",
       "      <td>Deutsch</td>\n",
       "      <td>Deutschland</td>\n",
       "      <td>EUR</td>\n",
       "      <td>AA-CLT-CUN-CLT-CUN-AA881-2024-06-26 09:10:00-2...</td>\n",
       "      <td>413.64</td>\n",
       "      <td>2024-02-15</td>\n",
       "      <td>132</td>\n",
       "      <td>8</td>\n",
       "      <td>CLT-CUN</td>\n",
       "    </tr>\n",
       "    <tr>\n",
       "      <th>1</th>\n",
       "      <td>AA</td>\n",
       "      <td>CLT</td>\n",
       "      <td>CUN</td>\n",
       "      <td>383</td>\n",
       "      <td>2024-06-26 11:50:00</td>\n",
       "      <td>2024-06-26 13:54:00</td>\n",
       "      <td>CLT-CUN</td>\n",
       "      <td>AA886</td>\n",
       "      <td>AA886</td>\n",
       "      <td>Deutsch</td>\n",
       "      <td>Deutschland</td>\n",
       "      <td>EUR</td>\n",
       "      <td>AA-CLT-CUN-CLT-CUN-AA886-2024-06-26 13:54:00-2...</td>\n",
       "      <td>413.64</td>\n",
       "      <td>2024-02-15</td>\n",
       "      <td>132</td>\n",
       "      <td>8</td>\n",
       "      <td>CLT-CUN</td>\n",
       "    </tr>\n",
       "    <tr>\n",
       "      <th>2</th>\n",
       "      <td>AA</td>\n",
       "      <td>CLT</td>\n",
       "      <td>CUN</td>\n",
       "      <td>383</td>\n",
       "      <td>2024-06-26 13:05:00</td>\n",
       "      <td>2024-06-26 14:59:00</td>\n",
       "      <td>CLT-CUN</td>\n",
       "      <td>AA1778</td>\n",
       "      <td>AA1778</td>\n",
       "      <td>Deutsch</td>\n",
       "      <td>Deutschland</td>\n",
       "      <td>EUR</td>\n",
       "      <td>AA-CLT-CUN-CLT-CUN-AA1778-2024-06-26 14:59:00-...</td>\n",
       "      <td>413.64</td>\n",
       "      <td>2024-02-15</td>\n",
       "      <td>132</td>\n",
       "      <td>8</td>\n",
       "      <td>CLT-CUN</td>\n",
       "    </tr>\n",
       "    <tr>\n",
       "      <th>3</th>\n",
       "      <td>AA</td>\n",
       "      <td>CLT</td>\n",
       "      <td>CUN</td>\n",
       "      <td>410</td>\n",
       "      <td>2024-06-26 09:05:00</td>\n",
       "      <td>2024-06-26 11:13:00</td>\n",
       "      <td>CLT-CUN</td>\n",
       "      <td>AA895</td>\n",
       "      <td>AA895</td>\n",
       "      <td>Deutsch</td>\n",
       "      <td>Deutschland</td>\n",
       "      <td>EUR</td>\n",
       "      <td>AA-CLT-CUN-CLT-CUN-AA895-2024-06-26 11:13:00-2...</td>\n",
       "      <td>442.80</td>\n",
       "      <td>2024-02-15</td>\n",
       "      <td>132</td>\n",
       "      <td>8</td>\n",
       "      <td>CLT-CUN</td>\n",
       "    </tr>\n",
       "    <tr>\n",
       "      <th>4</th>\n",
       "      <td>UA</td>\n",
       "      <td>CLT</td>\n",
       "      <td>CUN</td>\n",
       "      <td>401</td>\n",
       "      <td>2024-06-26 10:07:00</td>\n",
       "      <td>2024-06-26 15:51:00</td>\n",
       "      <td>CLT-IAD</td>\n",
       "      <td>UA1361</td>\n",
       "      <td>UA1618</td>\n",
       "      <td>Deutsch</td>\n",
       "      <td>Deutschland</td>\n",
       "      <td>EUR</td>\n",
       "      <td>UA-CLT-CUN-CLT-IAD-UA1618-2024-06-26 15:51:00-...</td>\n",
       "      <td>433.08</td>\n",
       "      <td>2024-02-15</td>\n",
       "      <td>132</td>\n",
       "      <td>8</td>\n",
       "      <td>CLT-CUN</td>\n",
       "    </tr>\n",
       "  </tbody>\n",
       "</table>\n",
       "</div>"
      ],
      "text/plain": [
       "  airline_code departure_airport_code destination_airport_code  ticket_price  \\\n",
       "0           AA                    CLT                      CUN           383   \n",
       "1           AA                    CLT                      CUN           383   \n",
       "2           AA                    CLT                      CUN           383   \n",
       "3           AA                    CLT                      CUN           410   \n",
       "4           UA                    CLT                      CUN           401   \n",
       "\n",
       "       departure_date        arrival_date First_flight first_flight_code  \\\n",
       "0 2024-06-26 07:15:00 2024-06-26 09:10:00      CLT-CUN             AA881   \n",
       "1 2024-06-26 11:50:00 2024-06-26 13:54:00      CLT-CUN             AA886   \n",
       "2 2024-06-26 13:05:00 2024-06-26 14:59:00      CLT-CUN            AA1778   \n",
       "3 2024-06-26 09:05:00 2024-06-26 11:13:00      CLT-CUN             AA895   \n",
       "4 2024-06-26 10:07:00 2024-06-26 15:51:00      CLT-IAD            UA1361   \n",
       "\n",
       "  last_flight_code Detected_Language Detected_Country Detected_Currency  \\\n",
       "0            AA881           Deutsch      Deutschland               EUR   \n",
       "1            AA886           Deutsch      Deutschland               EUR   \n",
       "2           AA1778           Deutsch      Deutschland               EUR   \n",
       "3            AA895           Deutsch      Deutschland               EUR   \n",
       "4           UA1618           Deutsch      Deutschland               EUR   \n",
       "\n",
       "                                           Flight_ID  Price_in_USD query_date  \\\n",
       "0  AA-CLT-CUN-CLT-CUN-AA881-2024-06-26 09:10:00-2...        413.64 2024-02-15   \n",
       "1  AA-CLT-CUN-CLT-CUN-AA886-2024-06-26 13:54:00-2...        413.64 2024-02-15   \n",
       "2  AA-CLT-CUN-CLT-CUN-AA1778-2024-06-26 14:59:00-...        413.64 2024-02-15   \n",
       "3  AA-CLT-CUN-CLT-CUN-AA895-2024-06-26 11:13:00-2...        442.80 2024-02-15   \n",
       "4  UA-CLT-CUN-CLT-IAD-UA1618-2024-06-26 15:51:00-...        433.08 2024-02-15   \n",
       "\n",
       "   days_until_departure  FlightID_in_Countries_Count whole_Journey  \n",
       "0                   132                            8       CLT-CUN  \n",
       "1                   132                            8       CLT-CUN  \n",
       "2                   132                            8       CLT-CUN  \n",
       "3                   132                            8       CLT-CUN  \n",
       "4                   132                            8       CLT-CUN  "
      ]
     },
     "execution_count": 26,
     "metadata": {},
     "output_type": "execute_result"
    }
   ],
   "source": [
    "df_reduced.head()"
   ]
  },
  {
   "cell_type": "markdown",
   "metadata": {},
   "source": [
    "**Creating Variables that analyse price differences between Flights with identical ID**"
   ]
  },
  {
   "cell_type": "code",
   "execution_count": 28,
   "metadata": {},
   "outputs": [],
   "source": [
    "# Group by Flight_ID and calculate max, min prices and their absolute difference\n",
    "price_stats = df_reduced.groupby('Flight_ID')['Price_in_USD'].agg(['max', 'min'])\n",
    "price_stats['max_abs_diff_perIDGroup'] = price_stats['max'] - price_stats['min']\n",
    "\n",
    "# Calculate the relative difference as a percentage of the min price\n",
    "price_stats['max_rel_diff_perIDGroup'] = (price_stats['max_abs_diff_perIDGroup'] / price_stats['min']) * 100\n",
    "\n",
    "#\"\"\"\n",
    "# Filter to find cases where the relative difference is greater than %\n",
    "#significant_diffs = price_stats[price_stats['max_rel_diff_perIDGroup'] > 4]\n",
    "\n",
    "# If you want to see full details of the flights, merge back with the original df\n",
    "#significant_flight_details = df_reduced.merge(significant_diffs, left_on='Flight_ID', right_index=True)"
   ]
  },
  {
   "cell_type": "code",
   "execution_count": 29,
   "metadata": {},
   "outputs": [
    {
     "data": {
      "text/plain": [
       "Index(['airline_code', 'departure_airport_code', 'destination_airport_code',\n",
       "       'ticket_price', 'departure_date', 'arrival_date', 'First_flight',\n",
       "       'first_flight_code', 'last_flight_code', 'Detected_Language',\n",
       "       'Detected_Country', 'Detected_Currency', 'Flight_ID', 'Price_in_USD',\n",
       "       'query_date', 'days_until_departure', 'FlightID_in_Countries_Count',\n",
       "       'whole_Journey'],\n",
       "      dtype='object')"
      ]
     },
     "execution_count": 29,
     "metadata": {},
     "output_type": "execute_result"
    }
   ],
   "source": [
    "df_reduced.columns"
   ]
  },
  {
   "cell_type": "code",
   "execution_count": 30,
   "metadata": {},
   "outputs": [],
   "source": [
    "df_reduced = pd.merge(df_reduced, price_stats, on='Flight_ID', how='left')"
   ]
  },
  {
   "cell_type": "code",
   "execution_count": 31,
   "metadata": {},
   "outputs": [],
   "source": [
    "df_reduced[\"abs_diff_to_min\"] = df_reduced[\"Price_in_USD\"] - df_reduced[\"min\"]\n",
    "df_reduced[\"rel_diff_to_min\"] = ((df_reduced[\"Price_in_USD\"] /df_reduced[\"min\"] ) -1) * 100\n",
    "df_reduced['price_score_perIDGroup'] = df_reduced['rel_diff_to_min'] / df_reduced['max_rel_diff_perIDGroup']"
   ]
  },
  {
   "cell_type": "code",
   "execution_count": 165,
   "metadata": {},
   "outputs": [
    {
     "data": {
      "text/html": [
       "<div>\n",
       "<style scoped>\n",
       "    .dataframe tbody tr th:only-of-type {\n",
       "        vertical-align: middle;\n",
       "    }\n",
       "\n",
       "    .dataframe tbody tr th {\n",
       "        vertical-align: top;\n",
       "    }\n",
       "\n",
       "    .dataframe thead th {\n",
       "        text-align: right;\n",
       "    }\n",
       "</style>\n",
       "<table border=\"1\" class=\"dataframe\">\n",
       "  <thead>\n",
       "    <tr style=\"text-align: right;\">\n",
       "      <th></th>\n",
       "      <th>airline_code</th>\n",
       "      <th>departure_airport_code</th>\n",
       "      <th>destination_airport_code</th>\n",
       "      <th>ticket_price</th>\n",
       "      <th>departure_date</th>\n",
       "      <th>arrival_date</th>\n",
       "      <th>First_flight</th>\n",
       "      <th>...</th>\n",
       "      <th>abs_diff_to_min</th>\n",
       "      <th>rel_diff_to_min</th>\n",
       "      <th>price_score_perIDGroup</th>\n",
       "      <th>Price_Category</th>\n",
       "      <th>commute_time</th>\n",
       "      <th>Commute_Time_Category</th>\n",
       "      <th>Departure_Time_Category</th>\n",
       "    </tr>\n",
       "  </thead>\n",
       "  <tbody>\n",
       "    <tr>\n",
       "      <th>0</th>\n",
       "      <td>AA</td>\n",
       "      <td>CLT</td>\n",
       "      <td>CUN</td>\n",
       "      <td>383</td>\n",
       "      <td>2024-06-26 07:15:00</td>\n",
       "      <td>2024-06-26 09:10:00</td>\n",
       "      <td>CLT-CUN</td>\n",
       "      <td>...</td>\n",
       "      <td>16.28</td>\n",
       "      <td>4.097040</td>\n",
       "      <td>0.925000</td>\n",
       "      <td>100-500</td>\n",
       "      <td>115.0</td>\n",
       "      <td>&lt;2h</td>\n",
       "      <td>Medium-term (90-180)</td>\n",
       "    </tr>\n",
       "    <tr>\n",
       "      <th>1</th>\n",
       "      <td>AA</td>\n",
       "      <td>CLT</td>\n",
       "      <td>CUN</td>\n",
       "      <td>383</td>\n",
       "      <td>2024-06-26 11:50:00</td>\n",
       "      <td>2024-06-26 13:54:00</td>\n",
       "      <td>CLT-CUN</td>\n",
       "      <td>...</td>\n",
       "      <td>16.28</td>\n",
       "      <td>4.097040</td>\n",
       "      <td>0.925000</td>\n",
       "      <td>100-500</td>\n",
       "      <td>124.0</td>\n",
       "      <td>2-4h</td>\n",
       "      <td>Medium-term (90-180)</td>\n",
       "    </tr>\n",
       "    <tr>\n",
       "      <th>2</th>\n",
       "      <td>AA</td>\n",
       "      <td>CLT</td>\n",
       "      <td>CUN</td>\n",
       "      <td>383</td>\n",
       "      <td>2024-06-26 13:05:00</td>\n",
       "      <td>2024-06-26 14:59:00</td>\n",
       "      <td>CLT-CUN</td>\n",
       "      <td>...</td>\n",
       "      <td>16.28</td>\n",
       "      <td>4.097040</td>\n",
       "      <td>0.925000</td>\n",
       "      <td>100-500</td>\n",
       "      <td>114.0</td>\n",
       "      <td>&lt;2h</td>\n",
       "      <td>Medium-term (90-180)</td>\n",
       "    </tr>\n",
       "    <tr>\n",
       "      <th>3</th>\n",
       "      <td>AA</td>\n",
       "      <td>CLT</td>\n",
       "      <td>CUN</td>\n",
       "      <td>410</td>\n",
       "      <td>2024-06-26 09:05:00</td>\n",
       "      <td>2024-06-26 11:13:00</td>\n",
       "      <td>CLT-CUN</td>\n",
       "      <td>...</td>\n",
       "      <td>16.69</td>\n",
       "      <td>3.916829</td>\n",
       "      <td>0.850229</td>\n",
       "      <td>100-500</td>\n",
       "      <td>128.0</td>\n",
       "      <td>2-4h</td>\n",
       "      <td>Medium-term (90-180)</td>\n",
       "    </tr>\n",
       "    <tr>\n",
       "      <th>4</th>\n",
       "      <td>UA</td>\n",
       "      <td>CLT</td>\n",
       "      <td>CUN</td>\n",
       "      <td>401</td>\n",
       "      <td>2024-06-26 10:07:00</td>\n",
       "      <td>2024-06-26 15:51:00</td>\n",
       "      <td>CLT-IAD</td>\n",
       "      <td>...</td>\n",
       "      <td>16.94</td>\n",
       "      <td>4.070745</td>\n",
       "      <td>0.875905</td>\n",
       "      <td>100-500</td>\n",
       "      <td>344.0</td>\n",
       "      <td>4-6h</td>\n",
       "      <td>Medium-term (90-180)</td>\n",
       "    </tr>\n",
       "  </tbody>\n",
       "</table>\n",
       "<p>5 rows × 29 columns</p>\n",
       "</div>"
      ],
      "text/plain": [
       "  airline_code departure_airport_code destination_airport_code  ticket_price  \\\n",
       "0           AA                    CLT                      CUN           383   \n",
       "1           AA                    CLT                      CUN           383   \n",
       "2           AA                    CLT                      CUN           383   \n",
       "3           AA                    CLT                      CUN           410   \n",
       "4           UA                    CLT                      CUN           401   \n",
       "\n",
       "       departure_date        arrival_date First_flight  ... abs_diff_to_min  \\\n",
       "0 2024-06-26 07:15:00 2024-06-26 09:10:00      CLT-CUN  ...           16.28   \n",
       "1 2024-06-26 11:50:00 2024-06-26 13:54:00      CLT-CUN  ...           16.28   \n",
       "2 2024-06-26 13:05:00 2024-06-26 14:59:00      CLT-CUN  ...           16.28   \n",
       "3 2024-06-26 09:05:00 2024-06-26 11:13:00      CLT-CUN  ...           16.69   \n",
       "4 2024-06-26 10:07:00 2024-06-26 15:51:00      CLT-IAD  ...           16.94   \n",
       "\n",
       "  rel_diff_to_min price_score_perIDGroup Price_Category commute_time  \\\n",
       "0        4.097040               0.925000        100-500        115.0   \n",
       "1        4.097040               0.925000        100-500        124.0   \n",
       "2        4.097040               0.925000        100-500        114.0   \n",
       "3        3.916829               0.850229        100-500        128.0   \n",
       "4        4.070745               0.875905        100-500        344.0   \n",
       "\n",
       "  Commute_Time_Category  Departure_Time_Category  \n",
       "0                   <2h     Medium-term (90-180)  \n",
       "1                  2-4h     Medium-term (90-180)  \n",
       "2                   <2h     Medium-term (90-180)  \n",
       "3                  2-4h     Medium-term (90-180)  \n",
       "4                  4-6h     Medium-term (90-180)  \n",
       "\n",
       "[5 rows x 29 columns]"
      ]
     },
     "execution_count": 165,
     "metadata": {},
     "output_type": "execute_result"
    }
   ],
   "source": [
    "df_reduced.head()"
   ]
  },
  {
   "cell_type": "code",
   "execution_count": 166,
   "metadata": {},
   "outputs": [],
   "source": [
    "import pandas as pd\n",
    "\n",
    "# Assuming df is your DataFrame\n",
    "\n",
    "# Step 1: Filter to get rows where Price_in_USD equals the min for each Flight_ID\n",
    "cheapest_mask = df_reduced['Price_in_USD'] == df_reduced['min']\n",
    "cheapest_flights = df_reduced[cheapest_mask]\n",
    "\n",
    "# Group by Flight_ID and select the first Detected_Country name alphabetically\n",
    "cheapest_locations = cheapest_flights.groupby('Flight_ID')['Detected_Country'].min().reset_index()\n",
    "\n",
    "# Rename the column for clarity\n",
    "cheapest_locations.rename(columns={'Detected_Country': 'Cheapest_Location'}, inplace=True)\n",
    "\n",
    "# Step 2: Merge this information back with the original DataFrame\n",
    "df_reduced = df_reduced.merge(cheapest_locations, on='Flight_ID', how='left')\n"
   ]
  },
  {
   "cell_type": "code",
   "execution_count": 176,
   "metadata": {},
   "outputs": [],
   "source": [
    "pd.set_option('display.max_columns', None)  # None means unlimited\n"
   ]
  },
  {
   "cell_type": "code",
   "execution_count": 168,
   "metadata": {},
   "outputs": [
    {
     "data": {
      "text/plain": [
       "Cheapest_Location\n",
       "Shqipëri          3689\n",
       "Brasil             740\n",
       "Polska             180\n",
       "日本                 111\n",
       "Türkiye             57\n",
       "United Kingdom      15\n",
       "Name: count, dtype: int64"
      ]
     },
     "execution_count": 168,
     "metadata": {},
     "output_type": "execute_result"
    }
   ],
   "source": [
    "df_reduced.Cheapest_Location.value_counts()"
   ]
  },
  {
   "cell_type": "markdown",
   "metadata": {},
   "source": [
    "# Descriptive Statistics"
   ]
  },
  {
   "cell_type": "markdown",
   "metadata": {},
   "source": [
    "**_These countries are connected with higher Prices for identical flights_**"
   ]
  },
  {
   "cell_type": "code",
   "execution_count": 33,
   "metadata": {},
   "outputs": [
    {
     "data": {
      "text/plain": [
       "Detected_Country\n",
       "Schweiz               534\n",
       "Indonesia             416\n",
       "Polska                405\n",
       "Deutschland           332\n",
       "Australia             284\n",
       "বাংলাদেশ              277\n",
       "Türkiye               201\n",
       "Palestine             102\n",
       "United Kingdom         95\n",
       "Vereinigte Staaten     73\n",
       "Brasil                  5\n",
       "Kıbrıs                  4\n",
       "日本                      2\n",
       "Name: count, dtype: int64"
      ]
     },
     "execution_count": 33,
     "metadata": {},
     "output_type": "execute_result"
    }
   ],
   "source": [
    "temp_df_exp = df_reduced[df_reduced['price_score_perIDGroup'] > 0.8]\n",
    "temp_df_exp.Detected_Country.value_counts()"
   ]
  },
  {
   "cell_type": "markdown",
   "metadata": {},
   "source": [
    "**_These countries are connected with lower prices for identical flights_**"
   ]
  },
  {
   "cell_type": "code",
   "execution_count": 34,
   "metadata": {},
   "outputs": [
    {
     "data": {
      "text/plain": [
       "Detected_Country\n",
       "Shqipëri          484\n",
       "Polska              9\n",
       "Türkiye             8\n",
       "Brasil              8\n",
       "বাংলাদেশ            8\n",
       "Indonesia           6\n",
       "Schweiz             6\n",
       "Deutschland         4\n",
       "United Kingdom      1\n",
       "日本                  1\n",
       "Australia           1\n",
       "Name: count, dtype: int64"
      ]
     },
     "execution_count": 34,
     "metadata": {},
     "output_type": "execute_result"
    }
   ],
   "source": [
    "temp_df_cheap = df_reduced[(df_reduced['max_rel_diff_perIDGroup'] > 4) & (df_reduced['price_score_perIDGroup'] < 0.2)]\n",
    "temp_df_cheap.Detected_Country.value_counts()"
   ]
  },
  {
   "cell_type": "markdown",
   "metadata": {},
   "source": [
    "Distribution shows tendency of having more \"expesnive\" flights (flights close to max-price) and less variation in general"
   ]
  },
  {
   "cell_type": "code",
   "execution_count": 37,
   "metadata": {},
   "outputs": [
    {
     "data": {
      "image/png": "[encoded data removed]",
      "text/plain": [
       "<Figure size 640x480 with 1 Axes>"
      ]
     },
     "metadata": {},
     "output_type": "display_data"
    }
   ],
   "source": [
    "import pandas as pd\n",
    "import matplotlib.pyplot as plt\n",
    "\n",
    "# Assuming df_reduced is your DataFrame\n",
    "# Plotting the histogram\n",
    "df_reduced['price_score_perIDGroup'].plot.hist(bins=10, range=(0, 1), edgecolor='black')\n",
    "\n",
    "plt.title('Distribution of price_score_perIDGroup')\n",
    "plt.xlabel('Price Score per ID Group')\n",
    "plt.ylabel('Frequency')\n",
    "plt.grid(axis='y', alpha=0.75)  # Optional: Add grid lines for better readability\n",
    "\n",
    "plt.show()"
   ]
  },
  {
   "cell_type": "markdown",
   "metadata": {},
   "source": [
    "** Average indicates that the average maximum relative difference increases with Price**"
   ]
  },
  {
   "cell_type": "code",
   "execution_count": 45,
   "metadata": {},
   "outputs": [
    {
     "data": {
      "image/png": "[encoded data removed]",
      "text/plain": [
       "<Figure size 1000x600 with 1 Axes>"
      ]
     },
     "metadata": {},
     "output_type": "display_data"
    }
   ],
   "source": [
    "import pandas as pd\n",
    "import seaborn as sns\n",
    "import matplotlib.pyplot as plt\n",
    "\n",
    "# Define the bins and labels for 'Price_in_USD'\n",
    "bins = [0, 100, 500, 1000, float('inf')]\n",
    "labels = ['<100', '100-500', '500-1000', '>1000']\n",
    "\n",
    "# Bin 'Price_in_USD' into the defined categories\n",
    "df_reduced['Price_Category'] = pd.cut(df_reduced['Price_in_USD'], bins=bins, labels=labels)\n",
    "\n",
    "# Group by the new 'Price_Category' and calculate the mean 'rel_diff' for each category\n",
    "avg_rel_diff_by_price_cat = df_reduced.groupby('Price_Category', observed=True)['max_rel_diff_perIDGroup'].mean().reset_index()\n",
    "\n",
    "# Plotting\n",
    "plt.figure(figsize=(10, 6))\n",
    "sns.barplot(data=avg_rel_diff_by_price_cat, x='Price_Category', y='max_rel_diff_perIDGroup')\n",
    "plt.title('Average Relative Difference in Price by Price Category')\n",
    "plt.xlabel('Price in USD Category')\n",
    "plt.ylabel('Average Relative Difference (%)')\n",
    "plt.tight_layout()\n",
    "plt.show()\n"
   ]
  },
  {
   "cell_type": "markdown",
   "metadata": {},
   "source": [
    "** Median doesnt show this effect **"
   ]
  },
  {
   "cell_type": "code",
   "execution_count": 46,
   "metadata": {},
   "outputs": [
    {
     "data": {
      "image/png": "[encoded data removed]",
      "text/plain": [
       "<Figure size 1000x600 with 1 Axes>"
      ]
     },
     "metadata": {},
     "output_type": "display_data"
    }
   ],
   "source": [
    "import pandas as pd\n",
    "import seaborn as sns\n",
    "import matplotlib.pyplot as plt\n",
    "\n",
    "# Define the bins and labels for 'Price_in_USD'\n",
    "bins = [0, 100, 500, 1000, float('inf')]\n",
    "labels = ['<100', '100-500', '500-1000', '>1000']\n",
    "\n",
    "# Bin 'Price_in_USD' into the defined categories\n",
    "df_reduced['Price_Category'] = pd.cut(df_reduced['Price_in_USD'], bins=bins, labels=labels)\n",
    "\n",
    "# Group by the new 'Price_Category' and calculate the mean 'rel_diff' for each category\n",
    "avg_rel_diff_by_price_cat = df_reduced.groupby('Price_Category', observed=True)['max_rel_diff_perIDGroup'].median().reset_index()\n",
    "\n",
    "# Plotting\n",
    "plt.figure(figsize=(10, 6))\n",
    "sns.barplot(data=avg_rel_diff_by_price_cat, x='Price_Category', y='max_rel_diff_perIDGroup')\n",
    "plt.title('Average Relative Difference in Price by Price Category')\n",
    "plt.xlabel('Price in USD Category')\n",
    "plt.ylabel('Average Relative Difference (%)')\n",
    "plt.tight_layout()\n",
    "plt.show()"
   ]
  },
  {
   "cell_type": "markdown",
   "metadata": {},
   "source": [
    "**The average price spread grows with commute time**"
   ]
  },
  {
   "cell_type": "code",
   "execution_count": 58,
   "metadata": {},
   "outputs": [
    {
     "data": {
      "image/png": "[encoded data removed]",
      "text/plain": [
       "<Figure size 1000x600 with 1 Axes>"
      ]
     },
     "metadata": {},
     "output_type": "display_data"
    }
   ],
   "source": [
    "# Adjust bins based on the new categories in minutes\n",
    "bins = [-float('inf'), 120, 240, 480,750, float('inf')]\n",
    "labels = ['<2h', '2-4h', '4-6h','6-8' ,'>8h']\n",
    "\n",
    "# Bin 'commute_time' into categories directly, no need to convert to hours since it's already in minutes\n",
    "df_reduced['Commute_Time_Category'] = pd.cut(df_reduced['commute_time'], bins=bins, labels=labels)\n",
    "\n",
    "# Group by the new 'Commute_Time_Category' and calculate the mean 'max_rel_diff_perIDGroup' for each category\n",
    "avg_rel_diff_by_commute_cat = df_reduced.groupby('Commute_Time_Category', observed = True)['max_rel_diff_perIDGroup'].mean().reset_index()\n",
    "\n",
    "# Plotting the average relative difference by commute time category\n",
    "plt.figure(figsize=(10, 6))\n",
    "sns.barplot(data=avg_rel_diff_by_commute_cat, x='Commute_Time_Category', y='max_rel_diff_perIDGroup')\n",
    "plt.title('Average Relative Difference in Price by Commute Time Category')\n",
    "plt.xlabel('Commute Time Category')\n",
    "plt.ylabel('Average Relative Difference (%)')\n",
    "plt.tight_layout()\n",
    "plt.show()\n"
   ]
  },
  {
   "cell_type": "markdown",
   "metadata": {},
   "source": [
    "**Most Airlines seem to have an average price-spread in between of 3.5 and 4.5**"
   ]
  },
  {
   "cell_type": "code",
   "execution_count": 64,
   "metadata": {},
   "outputs": [
    {
     "data": {
      "image/png": "[encoded data removed]",
      "text/plain": [
       "<Figure size 1000x600 with 1 Axes>"
      ]
     },
     "metadata": {},
     "output_type": "display_data"
    }
   ],
   "source": [
    "import pandas as pd\n",
    "import matplotlib.pyplot as plt\n",
    "import seaborn as sns\n",
    "\n",
    "# Step 1: Calculate the conditional mean of 'rel_diff' for each airline\n",
    "avg_rel_diff_per_airline = df_reduced.groupby('airline_code', observed=True)['max_rel_diff_perIDGroup'].mean().reset_index()\n",
    "\n",
    "# Define bins and labels for the categorized means\n",
    "bins = [0.5, 1.5, 2.5, 3.5, 4.5, 5.5, float('inf')]\n",
    "labels = [ '0.5-1.5', '1.5-2.5', '2.5-3.5', '3.5-4.5', '4.5-5.5', '>5.5']\n",
    "\n",
    "# Step 2: Categorize these averages into the specified bins\n",
    "avg_rel_diff_per_airline['avg_rel_diff_bin'] = pd.cut(avg_rel_diff_per_airline['max_rel_diff_perIDGroup'], bins=bins, labels=labels)\n",
    "\n",
    "# Step 3: Count how many airlines fall into each bin\n",
    "airlines_per_bin = avg_rel_diff_per_airline['avg_rel_diff_bin'].value_counts().sort_index()\n",
    "\n",
    "# Plotting the result\n",
    "airlines_per_bin.plot(kind='bar', figsize=(10, 6), color='skyblue')\n",
    "plt.title('Number of Airlines by Average Relative Difference Bin')\n",
    "plt.xlabel('Average Relative Difference Bin')\n",
    "plt.ylabel('Number of Airlines')\n",
    "plt.xticks(rotation=45)\n",
    "plt.grid(axis='y', linestyle='--')\n",
    "plt.show()\n"
   ]
  },
  {
   "cell_type": "markdown",
   "metadata": {},
   "source": [
    "**Which airlines change their prices based on location**"
   ]
  },
  {
   "cell_type": "code",
   "execution_count": 84,
   "metadata": {},
   "outputs": [
    {
     "name": "stdout",
     "output_type": "stream",
     "text": [
      "  avg_rel_diff_bin  \\\n",
      "0          0.5-1.5   \n",
      "1          1.5-2.5   \n",
      "2          2.5-3.5   \n",
      "3          3.5-4.5   \n",
      "4          4.5-5.5   \n",
      "5             >5.5   \n",
      "\n",
      "                                                                          Airlines  \n",
      "0                                                                     [NK, TU, VJ]  \n",
      "1                                                                 [AS, EI, TG, XE]  \n",
      "2                                                         [B6, BR, DL, EY, NH, OZ]  \n",
      "3  [AA, AF, AV, AY, BA, CZ, ET, KE, LA, LH, LO, MS, MU, PC, SQ, TK, TP, WS, multi]  \n",
      "4                     [AM, AZ, CM, CX, F8, F9, JL, KL, LX, OS, SK, UX, VY, W4, WK]  \n",
      "5                                                             [AC, EK, IB, QR, UA]  \n"
     ]
    },
    {
     "name": "stderr",
     "output_type": "stream",
     "text": [
      "/var/folders/fs/20409g9545qdjn0qhsrcd8q80000gn/T/ipykernel_16911/3678449169.py:2: FutureWarning: The default of observed=False is deprecated and will be changed to True in a future version of pandas. Pass observed=False to retain current behavior or observed=True to adopt the future default and silence this warning.\n",
      "  grouped_airlines = avg_rel_diff_per_airline.groupby('avg_rel_diff_bin')['airline_code'].apply(list)\n"
     ]
    }
   ],
   "source": [
    "# Group airlines by their average 'rel_diff' bin\n",
    "grouped_airlines = avg_rel_diff_per_airline.groupby('avg_rel_diff_bin')['airline_code'].apply(list)\n",
    "\n",
    "# Convert to a DataFrame for a nicer display, if desired\n",
    "grouped_airlines_df = grouped_airlines.reset_index().rename(columns={'airline_code': 'Airlines'})\n",
    "# Adjust display settings\n",
    "pd.set_option('display.max_columns', 15)  # Show all columns\n",
    "pd.set_option('display.max_rows', 15)  # Show all rows\n",
    "pd.set_option('display.max_colwidth', None)  # Show full content of each cell\n",
    "\n",
    "# Display the DataFrame\n",
    "print(grouped_airlines_df)\n"
   ]
  },
  {
   "cell_type": "code",
   "execution_count": 115,
   "metadata": {},
   "outputs": [
    {
     "data": {
      "text/html": [
       "<div>\n",
       "<style scoped>\n",
       "    .dataframe tbody tr th:only-of-type {\n",
       "        vertical-align: middle;\n",
       "    }\n",
       "\n",
       "    .dataframe tbody tr th {\n",
       "        vertical-align: top;\n",
       "    }\n",
       "\n",
       "    .dataframe thead th {\n",
       "        text-align: right;\n",
       "    }\n",
       "</style>\n",
       "<table border=\"1\" class=\"dataframe\">\n",
       "  <thead>\n",
       "    <tr style=\"text-align: right;\">\n",
       "      <th></th>\n",
       "      <th>airline_code</th>\n",
       "      <th>max_rel_diff_perIDGroup</th>\n",
       "      <th>avg_rel_diff_bin</th>\n",
       "    </tr>\n",
       "  </thead>\n",
       "  <tbody>\n",
       "    <tr>\n",
       "      <th>0</th>\n",
       "      <td>AA</td>\n",
       "      <td>4.355316</td>\n",
       "      <td>3.5-4.5</td>\n",
       "    </tr>\n",
       "    <tr>\n",
       "      <th>1</th>\n",
       "      <td>AC</td>\n",
       "      <td>14.731301</td>\n",
       "      <td>&gt;5.5</td>\n",
       "    </tr>\n",
       "    <tr>\n",
       "      <th>2</th>\n",
       "      <td>AF</td>\n",
       "      <td>4.239161</td>\n",
       "      <td>3.5-4.5</td>\n",
       "    </tr>\n",
       "    <tr>\n",
       "      <th>3</th>\n",
       "      <td>AM</td>\n",
       "      <td>4.637533</td>\n",
       "      <td>4.5-5.5</td>\n",
       "    </tr>\n",
       "    <tr>\n",
       "      <th>4</th>\n",
       "      <td>AS</td>\n",
       "      <td>2.468050</td>\n",
       "      <td>1.5-2.5</td>\n",
       "    </tr>\n",
       "    <tr>\n",
       "      <th>...</th>\n",
       "      <td>...</td>\n",
       "      <td>...</td>\n",
       "      <td>...</td>\n",
       "    </tr>\n",
       "    <tr>\n",
       "      <th>47</th>\n",
       "      <td>W4</td>\n",
       "      <td>4.638016</td>\n",
       "      <td>4.5-5.5</td>\n",
       "    </tr>\n",
       "    <tr>\n",
       "      <th>48</th>\n",
       "      <td>WK</td>\n",
       "      <td>4.766589</td>\n",
       "      <td>4.5-5.5</td>\n",
       "    </tr>\n",
       "    <tr>\n",
       "      <th>49</th>\n",
       "      <td>WS</td>\n",
       "      <td>4.462403</td>\n",
       "      <td>3.5-4.5</td>\n",
       "    </tr>\n",
       "    <tr>\n",
       "      <th>50</th>\n",
       "      <td>XE</td>\n",
       "      <td>1.517413</td>\n",
       "      <td>1.5-2.5</td>\n",
       "    </tr>\n",
       "    <tr>\n",
       "      <th>51</th>\n",
       "      <td>multi</td>\n",
       "      <td>4.399067</td>\n",
       "      <td>3.5-4.5</td>\n",
       "    </tr>\n",
       "  </tbody>\n",
       "</table>\n",
       "<p>52 rows × 3 columns</p>\n",
       "</div>"
      ],
      "text/plain": [
       "   airline_code  max_rel_diff_perIDGroup avg_rel_diff_bin\n",
       "0            AA                 4.355316          3.5-4.5\n",
       "1            AC                14.731301             >5.5\n",
       "2            AF                 4.239161          3.5-4.5\n",
       "3            AM                 4.637533          4.5-5.5\n",
       "4            AS                 2.468050          1.5-2.5\n",
       "..          ...                      ...              ...\n",
       "47           W4                 4.638016          4.5-5.5\n",
       "48           WK                 4.766589          4.5-5.5\n",
       "49           WS                 4.462403          3.5-4.5\n",
       "50           XE                 1.517413          1.5-2.5\n",
       "51        multi                 4.399067          3.5-4.5\n",
       "\n",
       "[52 rows x 3 columns]"
      ]
     },
     "execution_count": 115,
     "metadata": {},
     "output_type": "execute_result"
    }
   ],
   "source": [
    "avg_rel_diff_per_airline"
   ]
  },
  {
   "cell_type": "markdown",
   "metadata": {},
   "source": [
    "Which countries are the cheapest?"
   ]
  },
  {
   "cell_type": "code",
   "execution_count": 99,
   "metadata": {},
   "outputs": [
    {
     "name": "stdout",
     "output_type": "stream",
     "text": [
      "Detected_Country\n",
      "Shqipëri          487\n",
      "Brasil            107\n",
      "Polska             30\n",
      "日本                 15\n",
      "Türkiye            10\n",
      "United Kingdom      2\n",
      "Name: count, dtype: int64\n"
     ]
    }
   ],
   "source": [
    "cheap_df = df_reduced[(df_reduced['min'] == df_reduced['Price_in_USD'] )]\n",
    "\n",
    "# Get the distribution of 'Detected_Country' in the filtered DataFrame\n",
    "country_distribution = cheap_df['Detected_Country'].value_counts()\n",
    "\n",
    "# Display the distribution\n",
    "print(country_distribution)\n"
   ]
  },
  {
   "cell_type": "markdown",
   "metadata": {},
   "source": [
    "**Which countries are more expensive**"
   ]
  },
  {
   "cell_type": "code",
   "execution_count": 100,
   "metadata": {},
   "outputs": [
    {
     "name": "stdout",
     "output_type": "stream",
     "text": [
      "Detected_Country\n",
      "Schweiz               313\n",
      "Australia             251\n",
      "Indonesia              53\n",
      "Vereinigte Staaten     17\n",
      "Palestine              15\n",
      "Deutschland             2\n",
      "United Kingdom          1\n",
      "Polska                  1\n",
      "Name: count, dtype: int64\n"
     ]
    }
   ],
   "source": [
    "\n",
    "expensive_df = df_reduced[(df_reduced['max'] == df_reduced['Price_in_USD'])]\n",
    "\n",
    "# Get the distribution of 'Detected_Country' in the filtered DataFrame\n",
    "country_distribution = expensive_df['Detected_Country'].value_counts()\n",
    "\n",
    "# Display the distribution\n",
    "print(country_distribution)\n"
   ]
  },
  {
   "cell_type": "code",
   "execution_count": 119,
   "metadata": {},
   "outputs": [
    {
     "data": {
      "text/plain": [
       "Index(['airline_code', 'departure_airport_code', 'destination_airport_code',\n",
       "       'ticket_price', 'departure_date', 'arrival_date', 'First_flight',\n",
       "       'first_flight_code', 'last_flight_code', 'Detected_Language',\n",
       "       'Detected_Country', 'Detected_Currency', 'Flight_ID', 'Price_in_USD',\n",
       "       'query_date', 'days_until_departure', 'FlightID_in_Countries_Count',\n",
       "       'whole_Journey', 'max', 'min', 'max_abs_diff_perIDGroup',\n",
       "       'max_rel_diff_perIDGroup', 'abs_diff_to_min', 'rel_diff_to_min',\n",
       "       'price_score_perIDGroup', 'Price_Category', 'commute_time',\n",
       "       'Commute_Time_Category', 'Departure_Time_Category'],\n",
       "      dtype='object')"
      ]
     },
     "execution_count": 119,
     "metadata": {},
     "output_type": "execute_result"
    }
   ],
   "source": [
    "df_reduced.columns"
   ]
  },
  {
   "cell_type": "code",
   "execution_count": 120,
   "metadata": {},
   "outputs": [
    {
     "name": "stdout",
     "output_type": "stream",
     "text": [
      "Statistic: 2767.581632591168, P-value: 0.0\n",
      "Reject the null hypothesis - suggest the median 'rel_diff' differs across departure airports.\n"
     ]
    }
   ],
   "source": [
    "from scipy.stats import kruskal\n",
    "import pandas as pd\n",
    "\n",
    "# Assuming df_reduced exists and has 'departure_airport_code' and 'rel_diff'\n",
    "\n",
    "# Group data by 'departure_airport_code' and extract 'rel_diff' values\n",
    "groups = df_reduced.groupby('departure_airport_code')['max_rel_diff_perIDGroup'].apply(list)\n",
    "\n",
    "# Perform Kruskal-Wallis H-test\n",
    "stat, p = kruskal(*groups)\n",
    "\n",
    "print(f'Statistic: {stat}, P-value: {p}')\n",
    "\n",
    "# Interpret the results\n",
    "alpha = 0.05  # Set a significance level\n",
    "if p < alpha:\n",
    "    print(\"Reject the null hypothesis - suggest the median 'rel_diff' differs across departure airports.\")\n",
    "else:\n",
    "    print(\"Fail to reject the null hypothesis - no evidence that the median 'rel_diff' differs across departure airports.\")\n"
   ]
  },
  {
   "cell_type": "markdown",
   "metadata": {},
   "source": [
    "# Statistical Testing"
   ]
  },
  {
   "cell_type": "code",
   "execution_count": 130,
   "metadata": {},
   "outputs": [
    {
     "name": "stdout",
     "output_type": "stream",
     "text": [
      "ANOVA results:\n",
      "F-statistic: 2507.456455184362\n",
      "p-value: 0.0\n",
      "There are statistically significant differences in mean flight prices among different countries.\n"
     ]
    }
   ],
   "source": [
    "from scipy.stats import f_oneway\n",
    "\n",
    "# Assuming 'flight_data' is your DataFrame containing flight information\n",
    "# 'Price' is the column containing flight prices, and 'Country' is the column containing country information\n",
    "\n",
    "# Extract prices for each country\n",
    "prices_by_country = [group['Price_in_USD'].values for name, group in df_reduced.groupby('Flight_ID')]\n",
    "\n",
    "# Perform ANOVA test\n",
    "f_statistic, p_value = f_oneway(*prices_by_country)\n",
    "\n",
    "# Interpret the results\n",
    "alpha = 0.05  # Significance level\n",
    "print(\"ANOVA results:\")\n",
    "print(\"F-statistic:\", f_statistic)\n",
    "print(\"p-value:\", p_value)\n",
    "\n",
    "if p_value < alpha:\n",
    "    print(\"There are statistically significant differences in mean flight prices among different countries.\")\n",
    "else:\n",
    "    print(\"There are no statistically significant differences in mean flight prices among different countries.\")\n"
   ]
  },
  {
   "cell_type": "code",
   "execution_count": 133,
   "metadata": {},
   "outputs": [
    {
     "name": "stdout",
     "output_type": "stream",
     "text": [
      "ANOVA results:\n",
      "F-statistic: 2507.456455184362\n",
      "p-value: 0.0\n",
      "There are statistically significant differences in mean flight prices among different countries for the same flight route.\n"
     ]
    }
   ],
   "source": [
    "from scipy.stats import f_oneway\n",
    "\n",
    "# Assuming 'df' is your DataFrame containing flight information\n",
    "# 'Price_in_USD' is the column containing flight prices, and 'Assigned_Country' is the column containing country information\n",
    "\n",
    "# Extract prices for each country\n",
    "prices_by_country = [group['Price_in_USD'].values for name, group in df_reduced.groupby('Flight_ID')]\n",
    "\n",
    "# Perform ANOVA test\n",
    "f_statistic, p_value = f_oneway(*prices_by_country)\n",
    "\n",
    "# Interpret the results\n",
    "alpha = 0.05  # Significance level\n",
    "print(\"ANOVA results:\")\n",
    "print(\"F-statistic:\", f_statistic)\n",
    "print(\"p-value:\", p_value)\n",
    "\n",
    "if p_value < alpha:\n",
    "    print(\"There are statistically significant differences in mean flight prices among different countries for the same flight route.\")\n",
    "else:\n",
    "    print(\"There are no statistically significant differences in mean flight prices among different countries for the same flight route.\")\n"
   ]
  },
  {
   "cell_type": "code",
   "execution_count": 137,
   "metadata": {},
   "outputs": [
    {
     "name": "stdout",
     "output_type": "stream",
     "text": [
      "Paired samples t-test results:\n",
      "t-statistic: 8.469501196061369\n",
      "p-value: 1.641996215865534e-16\n",
      "There is a statistically significant difference between the maximum and minimum prices of each Flight_ID.\n"
     ]
    }
   ],
   "source": [
    "from scipy.stats import ttest_rel\n",
    "\n",
    "# Assuming 'df' is your DataFrame containing flight information\n",
    "# 'Price_in_USD' is the column containing flight prices, and 'Flight_ID' is the column containing flight identifiers\n",
    "\n",
    "# Group the data by Flight_ID and calculate the maximum and minimum prices for each group\n",
    "max_prices = df_reduced.groupby('Flight_ID')['Price_in_USD'].max()\n",
    "min_prices = df_reduced.groupby('Flight_ID')['Price_in_USD'].min()\n",
    "\n",
    "# Perform paired samples t-test\n",
    "t_statistic, p_value = ttest_rel(max_prices, min_prices)\n",
    "\n",
    "# Interpret the results\n",
    "alpha = 0.05  # Significance level\n",
    "print(\"Paired samples t-test results:\")\n",
    "print(\"t-statistic:\", t_statistic)\n",
    "print(\"p-value:\", p_value)\n",
    "\n",
    "if p_value < alpha:\n",
    "    print(\"There is a statistically significant difference between the maximum and minimum prices of each Flight_ID.\")\n",
    "else:\n",
    "    print(\"There is no statistically significant difference between the maximum and minimum prices of each Flight_ID.\")\n"
   ]
  },
  {
   "cell_type": "code",
   "execution_count": null,
   "metadata": {},
   "outputs": [],
   "source": [
    "from scipy.stats import chi2_contingency\n",
    "\n",
    "# Create a contingency table\n",
    "contingency_table = pd.crosstab(df['Flight_ID'], df['Assigned_Country'])\n",
    "\n",
    "# Perform chi-square test of independence\n",
    "chi2_statistic, p_value, _, _ = chi2_contingency(contingency_table)\n",
    "\n",
    "# Interpret the results\n",
    "alpha = 0.05  # Significance level\n",
    "print(\"Chi-square test results:\")\n",
    "print(\"Chi-square statistic:\", chi2_statistic)\n",
    "print(\"p-value:\", p_value)\n",
    "\n",
    "if p_value < alpha:\n",
    "    print(\"There is a significant association between Flight_ID and Assigned_Country.\")\n",
    "else:\n",
    "    print(\"There is no significant association between Flight_ID and Assigned_Country.\")\n"
   ]
  },
  {
   "cell_type": "code",
   "execution_count": 179,
   "metadata": {},
   "outputs": [
    {
     "data": {
      "text/plain": [
       "Index(['airline_code', 'departure_airport_code', 'destination_airport_code',\n",
       "       'ticket_price', 'departure_date', 'arrival_date', 'First_flight',\n",
       "       'first_flight_code', 'last_flight_code', 'Detected_Language',\n",
       "       'Detected_Country', 'Detected_Currency', 'Flight_ID', 'Price_in_USD',\n",
       "       'query_date', 'days_until_departure', 'FlightID_in_Countries_Count',\n",
       "       'whole_Journey', 'max', 'min', 'max_abs_diff_perIDGroup',\n",
       "       'max_rel_diff_perIDGroup', 'abs_diff_to_min', 'rel_diff_to_min',\n",
       "       'price_score_perIDGroup', 'Price_Category', 'commute_time',\n",
       "       'Commute_Time_Category', 'Departure_Time_Category',\n",
       "       'Cheapest_Location'],\n",
       "      dtype='object')"
      ]
     },
     "execution_count": 179,
     "metadata": {},
     "output_type": "execute_result"
    }
   ],
   "source": [
    "df_reduced.columns"
   ]
  },
  {
   "cell_type": "code",
   "execution_count": 187,
   "metadata": {},
   "outputs": [
    {
     "name": "stdout",
     "output_type": "stream",
     "text": [
      "R² score: 0.6239321523923724\n",
      "Mean squared error: 0.012524083117376144\n"
     ]
    }
   ],
   "source": [
    "import pandas as pd\n",
    "from sklearn.model_selection import train_test_split\n",
    "from sklearn.linear_model import LinearRegression\n",
    "from sklearn.metrics import mean_squared_error, r2_score\n",
    "\n",
    "\n",
    "\n",
    "# Define independent and dependent variables\n",
    "X = pd.get_dummies(df_reduced[['whole_Journey']], drop_first=True)\n",
    "y = pd.get_dummies(df_reduced['Cheapest_Location'])\n",
    "\n",
    "# Split the dataset into training and testing sets\n",
    "X_train, X_test, y_train, y_test = train_test_split(X, y, test_size=0.1, random_state=41)\n",
    "\n",
    "# Create and fit the model\n",
    "model = LinearRegression()\n",
    "model.fit(X_train, y_train)\n",
    "\n",
    "# Predict and evaluate\n",
    "y_pred = model.predict(X_test)\n",
    "print(f\"R² score: {r2_score(y_test, y_pred)}\")\n",
    "print(f\"Mean squared error: {mean_squared_error(y_test, y_pred)}\")\n"
   ]
  },
  {
   "cell_type": "code",
   "execution_count": null,
   "metadata": {},
   "outputs": [],
   "source": [
    "# Extract the model intercept\n",
    "intercept = model.intercept_\n",
    "\n",
    "# Extract the model coefficients\n",
    "coefficients = model.coef_\n",
    "\n",
    "# Get the feature names after one-hot encoding\n",
    "feature_names = X_train.columns\n",
    "\n",
    "# Constructing the regression equation as a string\n",
    "regression_equation = f\"y = {intercept:.2f}\"\n",
    "for coef, name in zip(coefficients, feature_names):\n",
    "    regression_equation += f\" + ({coef:.2f})*{name}\"\n",
    "\n",
    "print(\"Regression Equation:\")\n",
    "print(regression_equation)\n"
   ]
  },
  {
   "cell_type": "code",
   "execution_count": null,
   "metadata": {},
   "outputs": [],
   "source": [
    "coefficients_series = pd.Series(model.coef_, index=X_train.columns)\n"
   ]
  },
  {
   "cell_type": "code",
   "execution_count": null,
   "metadata": {},
   "outputs": [],
   "source": [
    "coefficients_series.count()"
   ]
  },
  {
   "cell_type": "code",
   "execution_count": null,
   "metadata": {},
   "outputs": [],
   "source": [
    "abs(coefficients_series ) > 0"
   ]
  },
  {
   "cell_type": "code",
   "execution_count": null,
   "metadata": {},
   "outputs": [],
   "source": [
    "significant_coefficients = coefficients_series[abs(coefficients_series) > 5]\n"
   ]
  },
  {
   "cell_type": "code",
   "execution_count": null,
   "metadata": {},
   "outputs": [],
   "source": [
    "significant_coefficients.count()"
   ]
  },
  {
   "cell_type": "code",
   "execution_count": null,
   "metadata": {},
   "outputs": [],
   "source": [
    "df_reduced.max_rel_diff_perIDGroup.value_counts()"
   ]
  },
  {
   "cell_type": "code",
   "execution_count": null,
   "metadata": {},
   "outputs": [],
   "source": [
    "df_reduced.columns"
   ]
  },
  {
   "cell_type": "code",
   "execution_count": null,
   "metadata": {},
   "outputs": [],
   "source": [
    "# Calculate the mean of max_rel_diff_perIDGroup for each Flight_ID\n",
    "grouped_means = df_reduced.groupby('FlightID_in_Countries_Count')['max_rel_diff_perIDGroup'].mean()"
   ]
  },
  {
   "cell_type": "code",
   "execution_count": null,
   "metadata": {},
   "outputs": [],
   "source": [
    "df_reduced.FlightID_in_Countries_Count.value_counts()"
   ]
  },
  {
   "cell_type": "code",
   "execution_count": null,
   "metadata": {},
   "outputs": [],
   "source": [
    "df_reduced.max_rel_diff_perIDGroup.max()"
   ]
  },
  {
   "cell_type": "code",
   "execution_count": null,
   "metadata": {},
   "outputs": [],
   "source": [
    "df_reduced.Price_in_USD.value_counts()"
   ]
  },
  {
   "cell_type": "code",
   "execution_count": null,
   "metadata": {},
   "outputs": [],
   "source": [
    "df_reduced.iloc[139:142]"
   ]
  },
  {
   "cell_type": "code",
   "execution_count": null,
   "metadata": {},
   "outputs": [],
   "source": [
    "df_reduced.FlightID_in_Countries_Count.value_counts()"
   ]
  },
  {
   "cell_type": "code",
   "execution_count": null,
   "metadata": {},
   "outputs": [],
   "source": [
    "grouped_means"
   ]
  },
  {
   "cell_type": "code",
   "execution_count": null,
   "metadata": {},
   "outputs": [],
   "source": [
    "# Calculate the mean of max_rel_diff_perIDGroup for each Flight_ID\n",
    "grouped_means = df_reduced.groupby('airline_code')['max_rel_diff_perIDGroup'].mean()\n"
   ]
  },
  {
   "cell_type": "code",
   "execution_count": null,
   "metadata": {},
   "outputs": [],
   "source": [
    "grouped_means.count()"
   ]
  },
  {
   "cell_type": "code",
   "execution_count": null,
   "metadata": {},
   "outputs": [],
   "source": [
    "grouped_means.sort_values(ascending=False)"
   ]
  },
  {
   "cell_type": "code",
   "execution_count": null,
   "metadata": {},
   "outputs": [],
   "source": [
    "grouped_means.head()"
   ]
  },
  {
   "cell_type": "code",
   "execution_count": null,
   "metadata": {},
   "outputs": [],
   "source": [
    "df_reduced.max_rel_diff_perIDGroup.median()"
   ]
  },
  {
   "cell_type": "code",
   "execution_count": null,
   "metadata": {},
   "outputs": [],
   "source": [
    "import matplotlib.pyplot as plt\n",
    "\n",
    "# Plotting the histogram of the aggregated means\n",
    "plt.hist(grouped_means, bins=10, range=(0, 10), edgecolor='black')\n",
    "plt.title('Distribution of Average max_rel_diff_perIDGroup per Flight_ID')\n",
    "plt.xlabel('Average max_rel_diff_perIDGroup')\n",
    "plt.ylabel('Frequency')\n",
    "plt.show()\n"
   ]
  },
  {
   "cell_type": "code",
   "execution_count": null,
   "metadata": {},
   "outputs": [],
   "source": [
    "import pandas as pd\n",
    "import matplotlib.pyplot as plt\n",
    "\n",
    "# Plotting directly from the DataFrame\n",
    "df_reduced['max_rel_diff_perIDGroup'].hist(bins=10, range=(0, 10))\n",
    "\n",
    "plt.title('Distribution of max_rel_diff_perIDGroup')\n",
    "plt.xlabel('max_rel_diff_perIDGroup')\n",
    "plt.ylabel('Frequency')\n",
    "plt.grid(False)  # Optionally disable the grid for a cleaner look\n",
    "plt.show()\n"
   ]
  },
  {
   "cell_type": "code",
   "execution_count": null,
   "metadata": {},
   "outputs": [],
   "source": [
    "from scipy.stats import ttest_1samp\n",
    "import numpy as np\n",
    "\n",
    "# Assuming df_reduced is your DataFrame and max_rel_diff_perIDGroup is the column you're testing\n",
    "data = df_reduced['max_rel_diff_perIDGroup'].dropna()  # Drop NaN values if any\n",
    "\n",
    "# Perform the one-sample t-test against the null hypothesis that the mean is 0\n",
    "t_statistic, p_value = ttest_1samp(data, 0)\n",
    "\n",
    "print(f\"T-statistic: {t_statistic}\")\n",
    "print(f\"P-value: {p_value}\")\n",
    "\n",
    "# Interpretation\n",
    "if p_value < 0.05:\n",
    "    print(\"We reject the null hypothesis. The mean of max_rel_diff_perIDGroup is significantly different from 0.\")\n",
    "else:\n",
    "    print(\"We fail to reject the null hypothesis. There is not enough evidence to say the mean of max_rel_diff_perIDGroup is significantly different from 0.\")\n"
   ]
  },
  {
   "cell_type": "code",
   "execution_count": null,
   "metadata": {},
   "outputs": [],
   "source": [
    "top_20_significant = significant_coefficients.abs().sort_values(ascending=False).head(20)\n",
    "# To get the original coefficients (with their signs) in the order of significance:\n",
    "top_20_significant = significant_coefficients.loc[top_20_significant.index]"
   ]
  },
  {
   "cell_type": "code",
   "execution_count": null,
   "metadata": {},
   "outputs": [],
   "source": [
    "top_20_significant"
   ]
  },
  {
   "cell_type": "code",
   "execution_count": null,
   "metadata": {},
   "outputs": [],
   "source": [
    "from sklearn.linear_model import Lasso\n",
    "from sklearn.model_selection import train_test_split\n",
    "from sklearn.metrics import mean_squared_error, r2_score\n",
    "import pandas as pd\n",
    "\n",
    "# Assuming df_reduced is your DataFrame and it's already loaded\n",
    "\n",
    "# Prepare your data: Get dummies for categorical variables\n",
    "X = pd.get_dummies(df_reduced[['airline_code', 'Price_in_USD', 'Assigned_Country', 'First_flight']], drop_first=True)\n",
    "y = df_reduced['max_rel_diff_perIDGroup']\n",
    "\n",
    "# Split the dataset into training and testing sets\n",
    "X_train, X_test, y_train, y_test = train_test_split(X, y, test_size=0.2, random_state=42)\n",
    "\n",
    "# Initialize the Lasso regression model\n",
    "# alpha is the regularization strength; larger values specify stronger regularization.\n",
    "lasso_model = Lasso(alpha=0.1)  # You might need to adjust the alpha value\n",
    "\n",
    "# Fit the Lasso model to the training data\n",
    "lasso_model.fit(X_train, y_train)\n",
    "\n",
    "# Predict on the testing set\n",
    "y_pred = lasso_model.predict(X_test)\n",
    "\n",
    "# Evaluate the model\n",
    "print(f\"R² score: {r2_score(y_test, y_pred)}\")\n",
    "print(f\"Mean squared error: {mean_squared_error(y_test, y_pred)}\")\n",
    "\n",
    "# Viewing the coefficients\n",
    "coefficients = pd.Series(lasso_model.coef_, index=X_train.columns)\n",
    "print(\"Coefficients:\")\n",
    "print(coefficients)\n"
   ]
  },
  {
   "cell_type": "code",
   "execution_count": null,
   "metadata": {},
   "outputs": [],
   "source": []
  }
 ],
 "metadata": {
  "kernelspec": {
   "display_name": "playwright-trial-uIq0qThi-py3.12",
   "language": "python",
   "name": "python3"
  },
  "language_info": {
   "codemirror_mode": {
    "name": "ipython",
    "version": 3
   },
   "file_extension": ".py",
   "mimetype": "text/x-python",
   "name": "python",
   "nbconvert_exporter": "python",
   "pygments_lexer": "ipython3",
   "version": "3.12.1"
  }
 },
 "nbformat": 4,
 "nbformat_minor": 2
}
