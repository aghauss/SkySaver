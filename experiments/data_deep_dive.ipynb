{
 "cells": [
  {
   "cell_type": "markdown",
   "metadata": {},
   "source": [
    "# Imports"
   ]
  },
  {
   "cell_type": "code",
   "execution_count": 596,
   "metadata": {},
   "outputs": [],
   "source": [
    "import pandas as pd\n",
    "import numpy as np\n",
    "import ast\n",
    "from datetime import datetime"
   ]
  },
  {
   "cell_type": "markdown",
   "metadata": {},
   "source": [
    "# Helper functions"
   ]
  },
  {
   "cell_type": "code",
   "execution_count": 597,
   "metadata": {},
   "outputs": [],
   "source": [
    "conversion_rates = {\n",
    "    'CHF': 1.14,  # 1 CHF = 1.134556 USD as of Feb 20, 2024, according to X-Rates\n",
    "    'TRY': 0.032,   # 1 TRY = 0.03230 USD as of Feb 21, 2024, according to Wise\n",
    "    'PLN': 0.25,  # 1 PLN = 0.250338 USD as of Feb 21, 2024, according to Xe.com\n",
    "    'GBP': 1.26,      # Example rate, adjust with the actual rate when available\n",
    "    'JOD': 1.41,      # Example rate, adjust with the actual rate when available\n",
    "    'AUD' : 0.66,\n",
    "    'BRL' : 0.2,\n",
    "    'IDR' : 0.000064,\n",
    "    'USD' : 1.0,\n",
    "    'EUR' : 1.08,\n",
    "    'ALL' : 0.010,\n",
    "    'JPY' : 0.0066,\n",
    "    'BDT' : 0.0091,\n",
    "\n",
    "}\n",
    "\n",
    "\n",
    "# Function to convert price to USD\n",
    "def convert_to_usd(row):\n",
    "    price = row['ticket_price']\n",
    "    currency = row['Assigned_Currency']\n",
    "    conversion_rate = conversion_rates.get(currency)  \n",
    "    return price * conversion_rate\n"
   ]
  },
  {
   "cell_type": "code",
   "execution_count": 598,
   "metadata": {},
   "outputs": [],
   "source": [
    "def clean_fifth_element(lst):\n",
    "    cleaned_lst = []\n",
    "    for item in lst:\n",
    "        if len(item) >= 5:\n",
    "            fifth_element = item[4]\n",
    "            if isinstance(fifth_element, int):\n",
    "                cleaned_lst.append(fifth_element)\n",
    "            else:\n",
    "                try:\n",
    "                    cleaned_lst.append(int(fifth_element))\n",
    "                except ValueError:\n",
    "                    # If the fifth element cannot be converted to an integer, replace it with 0\n",
    "                    cleaned_lst.append(0)\n",
    "        else:\n",
    "            cleaned_lst.append(0)  # If the list is too short, consider the fifth element as 0\n",
    "    return cleaned_lst\n",
    "\n"
   ]
  },
  {
   "cell_type": "code",
   "execution_count": 599,
   "metadata": {},
   "outputs": [],
   "source": [
    "\n",
    "\n",
    "def convert_list_to_datetime(date_list):\n",
    "    # Convert 'null' strings to 0 and other elements to integers\n",
    "    date_list = [0 if element == 'null' else int(element) for element in date_list]\n",
    "    \n",
    "    try:\n",
    "        if len(date_list) == 5:\n",
    "            # If all components are present, unpack the list directly into datetime\n",
    "            return datetime(*date_list)\n",
    "        elif len(date_list) == 4:\n",
    "            # If the minute is missing (or any single component), append 0 for minutes and then convert\n",
    "            return datetime(*(date_list + [0]))\n",
    "        else:\n",
    "            # Return None for lists of unexpected length to indicate an issue\n",
    "            return None\n",
    "    except TypeError:\n",
    "        # Handle cases where the list contents cannot be directly unpacked into datetime\n",
    "        return None\n",
    "\n",
    "\n"
   ]
  },
  {
   "cell_type": "code",
   "execution_count": 600,
   "metadata": {},
   "outputs": [],
   "source": [
    "def clean_fifth_element(lst):\n",
    "    cleaned_lst = []\n",
    "    for item in lst:\n",
    "        if len(item) >= 5:\n",
    "            fifth_element = item[4]\n",
    "            if isinstance(fifth_element, int):\n",
    "                cleaned_lst.append(item[:4] + [fifth_element] + item[5:])\n",
    "            else:\n",
    "                try:\n",
    "                    cleaned_lst.append(item[:4] + [int(fifth_element)] + item[5:])\n",
    "                except ValueError:\n",
    "                    # If the fifth element cannot be converted to an integer, replace it with 0\n",
    "                    cleaned_lst.append(item[:4] + [0] + item[5:])\n",
    "        else:\n",
    "            # If the list is too short, consider the fifth element as 0\n",
    "            cleaned_lst.append(item[:4] + [0])\n",
    "    return cleaned_lst\n",
    "\n"
   ]
  },
  {
   "cell_type": "markdown",
   "metadata": {},
   "source": [
    "# Cleaning Dataset"
   ]
  },
  {
   "cell_type": "code",
   "execution_count": 601,
   "metadata": {},
   "outputs": [
    {
     "name": "stdout",
     "output_type": "stream",
     "text": [
      "<class 'pandas.core.frame.DataFrame'>\n",
      "RangeIndex: 12464 entries, 0 to 12463\n",
      "Data columns (total 18 columns):\n",
      " #   Column                       Non-Null Count  Dtype         \n",
      "---  ------                       --------------  -----         \n",
      " 0   airline_code                 12464 non-null  object        \n",
      " 1   departure_airport_code       12464 non-null  object        \n",
      " 2   destination_airport_code     12464 non-null  object        \n",
      " 3   departure_date               12464 non-null  datetime64[ns]\n",
      " 4   arrival_date                 12464 non-null  datetime64[ns]\n",
      " 5   ticket_price                 12464 non-null  int64         \n",
      " 6   First_flight                 12464 non-null  object        \n",
      " 7   first_flight_code            11774 non-null  object        \n",
      " 8   last_flight_code             12464 non-null  object        \n",
      " 9   Detected_Language            12464 non-null  object        \n",
      " 10  Assigned_Country             12464 non-null  object        \n",
      " 11  Assigned_Currency            12464 non-null  object        \n",
      " 12  ID_Helper                    12464 non-null  object        \n",
      " 13  Price_in_USD                 12464 non-null  float64       \n",
      " 14  Flight_ID                    12464 non-null  object        \n",
      " 15  commute_time                 12464 non-null  float64       \n",
      " 16  Duplicate_checker            12464 non-null  object        \n",
      " 17  FlightID_in_Countries_Count  12464 non-null  int64         \n",
      "dtypes: datetime64[ns](2), float64(2), int64(2), object(12)\n",
      "memory usage: 1.7+ MB\n"
     ]
    }
   ],
   "source": [
    "df.info()"
   ]
  },
  {
   "cell_type": "code",
   "execution_count": 567,
   "metadata": {},
   "outputs": [],
   "source": [
    "df = pd.read_csv('../output/Query4_results_datefix.csv')"
   ]
  },
  {
   "cell_type": "code",
   "execution_count": 595,
   "metadata": {},
   "outputs": [
    {
     "data": {
      "text/plain": [
       "first_flight_code\n",
       "LH1731    132\n",
       "AC8681    120\n",
       "NK154      72\n",
       "NH970      70\n",
       "SQ431      68\n",
       "         ... \n",
       "AF1801      2\n",
       "KL1502      2\n",
       "EN8751      2\n",
       "SQ935       2\n",
       "LH1197      2\n",
       "Name: count, Length: 720, dtype: int64"
      ]
     },
     "execution_count": 595,
     "metadata": {},
     "output_type": "execute_result"
    }
   ],
   "source": [
    "df.first_flight_code.value_counts()"
   ]
  },
  {
   "cell_type": "code",
   "execution_count": 594,
   "metadata": {},
   "outputs": [
    {
     "data": {
      "text/html": [
       "<div>\n",
       "<style scoped>\n",
       "    .dataframe tbody tr th:only-of-type {\n",
       "        vertical-align: middle;\n",
       "    }\n",
       "\n",
       "    .dataframe tbody tr th {\n",
       "        vertical-align: top;\n",
       "    }\n",
       "\n",
       "    .dataframe thead th {\n",
       "        text-align: right;\n",
       "    }\n",
       "</style>\n",
       "<table border=\"1\" class=\"dataframe\">\n",
       "  <thead>\n",
       "    <tr style=\"text-align: right;\">\n",
       "      <th></th>\n",
       "      <th>airline_code</th>\n",
       "      <th>departure_airport_code</th>\n",
       "      <th>destination_airport_code</th>\n",
       "      <th>departure_date</th>\n",
       "      <th>arrival_date</th>\n",
       "      <th>ticket_price</th>\n",
       "      <th>First_flight</th>\n",
       "      <th>first_flight_code</th>\n",
       "      <th>last_flight_code</th>\n",
       "      <th>Detected_Language</th>\n",
       "      <th>Assigned_Country</th>\n",
       "      <th>Assigned_Currency</th>\n",
       "      <th>ID_Helper</th>\n",
       "      <th>Price_in_USD</th>\n",
       "      <th>Flight_ID</th>\n",
       "      <th>commute_time</th>\n",
       "      <th>Duplicate_checker</th>\n",
       "      <th>FlightID_in_Countries_Count</th>\n",
       "    </tr>\n",
       "  </thead>\n",
       "  <tbody>\n",
       "    <tr>\n",
       "      <th>0</th>\n",
       "      <td>AA</td>\n",
       "      <td>CLT</td>\n",
       "      <td>CUN</td>\n",
       "      <td>2024-06-26 07:15:00</td>\n",
       "      <td>2024-06-26 09:10:00</td>\n",
       "      <td>383</td>\n",
       "      <td>CLT-CUN</td>\n",
       "      <td>AA881</td>\n",
       "      <td>AA881</td>\n",
       "      <td>Deutsch</td>\n",
       "      <td>Deutschland</td>\n",
       "      <td>EUR</td>\n",
       "      <td>6American26</td>\n",
       "      <td>413.64</td>\n",
       "      <td>AA-CLT-CUN-CLT-CUN-AA881-2024-06-26 09:10:00-2024-06-26 07:15:00-6American26</td>\n",
       "      <td>115.0</td>\n",
       "      <td>AA-CLT-CUN-CLT-CUN-AA881-2024-06-26 09:10:00-2024-06-26 07:15:00-6American26DeutschlandDeutsch0          383\\n1          383\\n2          383\\n3          410\\n4          401\\n         ...  \\n12459    18825\\n12460    18825\\n12461    18825\\n12462    18825\\n12463    19548\\nName: ticket_price, Length: 12464, dtype: int646American26</td>\n",
       "      <td>8</td>\n",
       "    </tr>\n",
       "    <tr>\n",
       "      <th>1</th>\n",
       "      <td>AA</td>\n",
       "      <td>CLT</td>\n",
       "      <td>CUN</td>\n",
       "      <td>2024-06-26 11:50:00</td>\n",
       "      <td>2024-06-26 13:54:00</td>\n",
       "      <td>383</td>\n",
       "      <td>CLT-CUN</td>\n",
       "      <td>AA886</td>\n",
       "      <td>AA886</td>\n",
       "      <td>Deutsch</td>\n",
       "      <td>Deutschland</td>\n",
       "      <td>EUR</td>\n",
       "      <td>6American26</td>\n",
       "      <td>413.64</td>\n",
       "      <td>AA-CLT-CUN-CLT-CUN-AA886-2024-06-26 13:54:00-2024-06-26 11:50:00-6American26</td>\n",
       "      <td>124.0</td>\n",
       "      <td>AA-CLT-CUN-CLT-CUN-AA886-2024-06-26 13:54:00-2024-06-26 11:50:00-6American26DeutschlandDeutsch0          383\\n1          383\\n2          383\\n3          410\\n4          401\\n         ...  \\n12459    18825\\n12460    18825\\n12461    18825\\n12462    18825\\n12463    19548\\nName: ticket_price, Length: 12464, dtype: int646American26</td>\n",
       "      <td>8</td>\n",
       "    </tr>\n",
       "    <tr>\n",
       "      <th>2</th>\n",
       "      <td>AA</td>\n",
       "      <td>CLT</td>\n",
       "      <td>CUN</td>\n",
       "      <td>2024-06-26 13:05:00</td>\n",
       "      <td>2024-06-26 14:59:00</td>\n",
       "      <td>383</td>\n",
       "      <td>CLT-CUN</td>\n",
       "      <td>AA1778</td>\n",
       "      <td>AA1778</td>\n",
       "      <td>Deutsch</td>\n",
       "      <td>Deutschland</td>\n",
       "      <td>EUR</td>\n",
       "      <td>6American26</td>\n",
       "      <td>413.64</td>\n",
       "      <td>AA-CLT-CUN-CLT-CUN-AA1778-2024-06-26 14:59:00-2024-06-26 13:05:00-6American26</td>\n",
       "      <td>114.0</td>\n",
       "      <td>AA-CLT-CUN-CLT-CUN-AA1778-2024-06-26 14:59:00-2024-06-26 13:05:00-6American26DeutschlandDeutsch0          383\\n1          383\\n2          383\\n3          410\\n4          401\\n         ...  \\n12459    18825\\n12460    18825\\n12461    18825\\n12462    18825\\n12463    19548\\nName: ticket_price, Length: 12464, dtype: int646American26</td>\n",
       "      <td>8</td>\n",
       "    </tr>\n",
       "    <tr>\n",
       "      <th>3</th>\n",
       "      <td>AA</td>\n",
       "      <td>CLT</td>\n",
       "      <td>CUN</td>\n",
       "      <td>2024-06-26 09:05:00</td>\n",
       "      <td>2024-06-26 11:13:00</td>\n",
       "      <td>410</td>\n",
       "      <td>CLT-CUN</td>\n",
       "      <td>AA895</td>\n",
       "      <td>AA895</td>\n",
       "      <td>Deutsch</td>\n",
       "      <td>Deutschland</td>\n",
       "      <td>EUR</td>\n",
       "      <td>6American26</td>\n",
       "      <td>442.80</td>\n",
       "      <td>AA-CLT-CUN-CLT-CUN-AA895-2024-06-26 11:13:00-2024-06-26 09:05:00-6American26</td>\n",
       "      <td>128.0</td>\n",
       "      <td>AA-CLT-CUN-CLT-CUN-AA895-2024-06-26 11:13:00-2024-06-26 09:05:00-6American26DeutschlandDeutsch0          383\\n1          383\\n2          383\\n3          410\\n4          401\\n         ...  \\n12459    18825\\n12460    18825\\n12461    18825\\n12462    18825\\n12463    19548\\nName: ticket_price, Length: 12464, dtype: int646American26</td>\n",
       "      <td>8</td>\n",
       "    </tr>\n",
       "    <tr>\n",
       "      <th>4</th>\n",
       "      <td>UA</td>\n",
       "      <td>CLT</td>\n",
       "      <td>CUN</td>\n",
       "      <td>2024-06-26 10:07:00</td>\n",
       "      <td>2024-06-26 15:51:00</td>\n",
       "      <td>401</td>\n",
       "      <td>CLT-IAD</td>\n",
       "      <td>UA1361</td>\n",
       "      <td>UA1618</td>\n",
       "      <td>Deutsch</td>\n",
       "      <td>Deutschland</td>\n",
       "      <td>EUR</td>\n",
       "      <td>2024United6</td>\n",
       "      <td>433.08</td>\n",
       "      <td>UA-CLT-CUN-CLT-IAD-UA1618-2024-06-26 15:51:00-2024-06-26 10:07:00-2024United6</td>\n",
       "      <td>344.0</td>\n",
       "      <td>UA-CLT-CUN-CLT-IAD-UA1618-2024-06-26 15:51:00-2024-06-26 10:07:00-2024United6DeutschlandDeutsch0          383\\n1          383\\n2          383\\n3          410\\n4          401\\n         ...  \\n12459    18825\\n12460    18825\\n12461    18825\\n12462    18825\\n12463    19548\\nName: ticket_price, Length: 12464, dtype: int642024United6</td>\n",
       "      <td>8</td>\n",
       "    </tr>\n",
       "  </tbody>\n",
       "</table>\n",
       "</div>"
      ],
      "text/plain": [
       "  airline_code departure_airport_code destination_airport_code  \\\n",
       "0           AA                    CLT                      CUN   \n",
       "1           AA                    CLT                      CUN   \n",
       "2           AA                    CLT                      CUN   \n",
       "3           AA                    CLT                      CUN   \n",
       "4           UA                    CLT                      CUN   \n",
       "\n",
       "       departure_date        arrival_date  ticket_price First_flight  \\\n",
       "0 2024-06-26 07:15:00 2024-06-26 09:10:00           383      CLT-CUN   \n",
       "1 2024-06-26 11:50:00 2024-06-26 13:54:00           383      CLT-CUN   \n",
       "2 2024-06-26 13:05:00 2024-06-26 14:59:00           383      CLT-CUN   \n",
       "3 2024-06-26 09:05:00 2024-06-26 11:13:00           410      CLT-CUN   \n",
       "4 2024-06-26 10:07:00 2024-06-26 15:51:00           401      CLT-IAD   \n",
       "\n",
       "  first_flight_code last_flight_code Detected_Language Assigned_Country  \\\n",
       "0             AA881            AA881           Deutsch      Deutschland   \n",
       "1             AA886            AA886           Deutsch      Deutschland   \n",
       "2            AA1778           AA1778           Deutsch      Deutschland   \n",
       "3             AA895            AA895           Deutsch      Deutschland   \n",
       "4            UA1361           UA1618           Deutsch      Deutschland   \n",
       "\n",
       "  Assigned_Currency    ID_Helper  Price_in_USD  \\\n",
       "0               EUR  6American26        413.64   \n",
       "1               EUR  6American26        413.64   \n",
       "2               EUR  6American26        413.64   \n",
       "3               EUR  6American26        442.80   \n",
       "4               EUR  2024United6        433.08   \n",
       "\n",
       "                                                                       Flight_ID  \\\n",
       "0   AA-CLT-CUN-CLT-CUN-AA881-2024-06-26 09:10:00-2024-06-26 07:15:00-6American26   \n",
       "1   AA-CLT-CUN-CLT-CUN-AA886-2024-06-26 13:54:00-2024-06-26 11:50:00-6American26   \n",
       "2  AA-CLT-CUN-CLT-CUN-AA1778-2024-06-26 14:59:00-2024-06-26 13:05:00-6American26   \n",
       "3   AA-CLT-CUN-CLT-CUN-AA895-2024-06-26 11:13:00-2024-06-26 09:05:00-6American26   \n",
       "4  UA-CLT-CUN-CLT-IAD-UA1618-2024-06-26 15:51:00-2024-06-26 10:07:00-2024United6   \n",
       "\n",
       "   commute_time  \\\n",
       "0         115.0   \n",
       "1         124.0   \n",
       "2         114.0   \n",
       "3         128.0   \n",
       "4         344.0   \n",
       "\n",
       "                                                                                                                                                                                                                                                                                                                           Duplicate_checker  \\\n",
       "0   AA-CLT-CUN-CLT-CUN-AA881-2024-06-26 09:10:00-2024-06-26 07:15:00-6American26DeutschlandDeutsch0          383\\n1          383\\n2          383\\n3          410\\n4          401\\n         ...  \\n12459    18825\\n12460    18825\\n12461    18825\\n12462    18825\\n12463    19548\\nName: ticket_price, Length: 12464, dtype: int646American26   \n",
       "1   AA-CLT-CUN-CLT-CUN-AA886-2024-06-26 13:54:00-2024-06-26 11:50:00-6American26DeutschlandDeutsch0          383\\n1          383\\n2          383\\n3          410\\n4          401\\n         ...  \\n12459    18825\\n12460    18825\\n12461    18825\\n12462    18825\\n12463    19548\\nName: ticket_price, Length: 12464, dtype: int646American26   \n",
       "2  AA-CLT-CUN-CLT-CUN-AA1778-2024-06-26 14:59:00-2024-06-26 13:05:00-6American26DeutschlandDeutsch0          383\\n1          383\\n2          383\\n3          410\\n4          401\\n         ...  \\n12459    18825\\n12460    18825\\n12461    18825\\n12462    18825\\n12463    19548\\nName: ticket_price, Length: 12464, dtype: int646American26   \n",
       "3   AA-CLT-CUN-CLT-CUN-AA895-2024-06-26 11:13:00-2024-06-26 09:05:00-6American26DeutschlandDeutsch0          383\\n1          383\\n2          383\\n3          410\\n4          401\\n         ...  \\n12459    18825\\n12460    18825\\n12461    18825\\n12462    18825\\n12463    19548\\nName: ticket_price, Length: 12464, dtype: int646American26   \n",
       "4  UA-CLT-CUN-CLT-IAD-UA1618-2024-06-26 15:51:00-2024-06-26 10:07:00-2024United6DeutschlandDeutsch0          383\\n1          383\\n2          383\\n3          410\\n4          401\\n         ...  \\n12459    18825\\n12460    18825\\n12461    18825\\n12462    18825\\n12463    19548\\nName: ticket_price, Length: 12464, dtype: int642024United6   \n",
       "\n",
       "   FlightID_in_Countries_Count  \n",
       "0                            8  \n",
       "1                            8  \n",
       "2                            8  \n",
       "3                            8  \n",
       "4                            8  "
      ]
     },
     "execution_count": 594,
     "metadata": {},
     "output_type": "execute_result"
    }
   ],
   "source": [
    "df.head()"
   ]
  },
  {
   "cell_type": "code",
   "execution_count": 568,
   "metadata": {},
   "outputs": [],
   "source": [
    "df[\"ID_Helper\"] = df[\"departure_time\"].astype(str) + df[\"selling_airline\"].astype(str) + df[\"arrival_time\"].astype(str)"
   ]
  },
  {
   "cell_type": "code",
   "execution_count": 569,
   "metadata": {},
   "outputs": [],
   "source": [
    "df = df.drop(['departure_time','selling_airline','arrival_time'], axis = 1)"
   ]
  },
  {
   "cell_type": "code",
   "execution_count": 570,
   "metadata": {},
   "outputs": [],
   "source": [
    "df['Price_in_USD'] = df.apply(convert_to_usd, axis=1)"
   ]
  },
  {
   "cell_type": "code",
   "execution_count": 571,
   "metadata": {},
   "outputs": [],
   "source": [
    "for i in ['arrival_date','departure_date']:\n",
    "    df[i] = df[i].apply(ast.literal_eval)"
   ]
  },
  {
   "cell_type": "code",
   "execution_count": 572,
   "metadata": {},
   "outputs": [],
   "source": [
    "df['arrival_date'] = clean_fifth_element(df['arrival_date'])\n"
   ]
  },
  {
   "cell_type": "code",
   "execution_count": 573,
   "metadata": {},
   "outputs": [],
   "source": [
    "df['departure_date'] = clean_fifth_element(df['departure_date'])"
   ]
  },
  {
   "cell_type": "code",
   "execution_count": 574,
   "metadata": {},
   "outputs": [],
   "source": [
    "for i in ['arrival_date','departure_date']:\n",
    "    df[i] = df[i].apply(convert_list_to_datetime)"
   ]
  },
  {
   "cell_type": "markdown",
   "metadata": {},
   "source": [
    "# Feature engineering"
   ]
  },
  {
   "cell_type": "markdown",
   "metadata": {},
   "source": [
    "Create FlightID"
   ]
  },
  {
   "cell_type": "code",
   "execution_count": 575,
   "metadata": {},
   "outputs": [],
   "source": [
    "df['Flight_ID'] = df[['airline_code', 'departure_airport_code', 'destination_airport_code','First_flight','last_flight_code','arrival_date','departure_date', 'ID_Helper']].astype(str).agg('-'.join, axis=1)"
   ]
  },
  {
   "cell_type": "markdown",
   "metadata": {},
   "source": [
    "Creating commutime time"
   ]
  },
  {
   "cell_type": "code",
   "execution_count": 576,
   "metadata": {},
   "outputs": [],
   "source": [
    "df['commute_time'] = (df['arrival_date'] - df['departure_date']).dt.total_seconds() / 60"
   ]
  },
  {
   "cell_type": "markdown",
   "metadata": {},
   "source": [
    "For every Flight_ID, how many unique countires is there data from"
   ]
  },
  {
   "cell_type": "code",
   "execution_count": 577,
   "metadata": {},
   "outputs": [],
   "source": [
    "df[\"Duplicate_checker\"] = df['Flight_ID'] + df['Assigned_Country'] + df[\"Detected_Language\"] + str(df[\"ticket_price\"]) + df[\"ID_Helper\"]"
   ]
  },
  {
   "cell_type": "code",
   "execution_count": 578,
   "metadata": {},
   "outputs": [],
   "source": [
    "# Count the number of different countries available per Flight_ID\n",
    "country_count_per_flight = df.groupby('Flight_ID')['Assigned_Country'].nunique().reset_index(name='FlightID_in_Countries_Count')\n",
    "\n",
    "# Merge this count back into the original dataframe\n",
    "df = df.merge(country_count_per_flight, on='Flight_ID')\n"
   ]
  },
  {
   "cell_type": "markdown",
   "metadata": {},
   "source": [
    "Drop Duplicates"
   ]
  },
  {
   "cell_type": "code",
   "execution_count": 579,
   "metadata": {},
   "outputs": [],
   "source": [
    "# Remove duplicates based on the 'Duplicate_checker' column\n",
    "df_reduced = df.drop_duplicates(subset='Duplicate_checker', keep='first')\n"
   ]
  },
  {
   "cell_type": "markdown",
   "metadata": {},
   "source": [
    "# Descriptive Statistics"
   ]
  },
  {
   "cell_type": "code",
   "execution_count": 580,
   "metadata": {},
   "outputs": [
    {
     "name": "stderr",
     "output_type": "stream",
     "text": [
      "/var/folders/fs/20409g9545qdjn0qhsrcd8q80000gn/T/ipykernel_56647/2804641502.py:2: FutureWarning: The provided callable <built-in function max> is currently using SeriesGroupBy.max. In a future version of pandas, the provided callable will be used directly. To keep current behavior pass the string \"max\" instead.\n",
      "  price_stats = df_reduced.groupby('Flight_ID')['Price_in_USD'].agg([max, min])\n",
      "/var/folders/fs/20409g9545qdjn0qhsrcd8q80000gn/T/ipykernel_56647/2804641502.py:2: FutureWarning: The provided callable <built-in function min> is currently using SeriesGroupBy.min. In a future version of pandas, the provided callable will be used directly. To keep current behavior pass the string \"min\" instead.\n",
      "  price_stats = df_reduced.groupby('Flight_ID')['Price_in_USD'].agg([max, min])\n"
     ]
    }
   ],
   "source": [
    "# Group by Flight_ID and calculate max, min prices and their absolute difference\n",
    "price_stats = df_reduced.groupby('Flight_ID')['Price_in_USD'].agg([max, min])\n",
    "price_stats['abs_diff'] = price_stats['max'] - price_stats['min']\n",
    "\n",
    "# Calculate the relative difference as a percentage of the min price\n",
    "price_stats['rel_diff'] = (price_stats['abs_diff'] / price_stats['min']) * 100\n",
    "\n",
    "# Filter to find cases where the relative difference is greater than %\n",
    "significant_diffs = price_stats[price_stats['rel_diff'] > 4]\n",
    "\n",
    "# If you want to see full details of the flights, merge back with the original df\n",
    "significant_flight_details = df_reduced.merge(significant_diffs, left_on='Flight_ID', right_index=True)\n",
    "\n",
    "\n"
   ]
  },
  {
   "cell_type": "code",
   "execution_count": 581,
   "metadata": {},
   "outputs": [],
   "source": [
    "df_reduced = pd.merge(df_reduced, price_stats, on='Flight_ID', how='left')"
   ]
  },
  {
   "cell_type": "code",
   "execution_count": 582,
   "metadata": {},
   "outputs": [
    {
     "data": {
      "text/plain": [
       "Index(['airline_code', 'departure_airport_code', 'destination_airport_code',\n",
       "       'departure_date', 'arrival_date', 'ticket_price', 'First_flight',\n",
       "       'first_flight_code', 'last_flight_code', 'Detected_Language',\n",
       "       'Assigned_Country', 'Assigned_Currency', 'ID_Helper', 'Price_in_USD',\n",
       "       'Flight_ID', 'commute_time', 'Duplicate_checker',\n",
       "       'FlightID_in_Countries_Count', 'max', 'min', 'abs_diff', 'rel_diff'],\n",
       "      dtype='object')"
      ]
     },
     "execution_count": 582,
     "metadata": {},
     "output_type": "execute_result"
    }
   ],
   "source": [
    "df_reduced.columns"
   ]
  },
  {
   "cell_type": "code",
   "execution_count": 591,
   "metadata": {},
   "outputs": [
    {
     "name": "stdout",
     "output_type": "stream",
     "text": [
      "<class 'pandas.core.frame.DataFrame'>\n",
      "RangeIndex: 5775 entries, 0 to 5774\n",
      "Data columns (total 24 columns):\n",
      " #   Column                       Non-Null Count  Dtype         \n",
      "---  ------                       --------------  -----         \n",
      " 0   airline_code                 5775 non-null   object        \n",
      " 1   departure_airport_code       5775 non-null   object        \n",
      " 2   destination_airport_code     5775 non-null   object        \n",
      " 3   departure_date               5775 non-null   datetime64[ns]\n",
      " 4   arrival_date                 5775 non-null   datetime64[ns]\n",
      " 5   ticket_price                 5775 non-null   int64         \n",
      " 6   First_flight                 5775 non-null   object        \n",
      " 7   first_flight_code            5481 non-null   object        \n",
      " 8   last_flight_code             5775 non-null   object        \n",
      " 9   Detected_Language            5775 non-null   object        \n",
      " 10  Assigned_Country             5775 non-null   object        \n",
      " 11  Assigned_Currency            5775 non-null   object        \n",
      " 12  ID_Helper                    5775 non-null   object        \n",
      " 13  Price_in_USD                 5775 non-null   float64       \n",
      " 14  Flight_ID                    5775 non-null   object        \n",
      " 15  commute_time                 5775 non-null   float64       \n",
      " 16  Duplicate_checker            5775 non-null   object        \n",
      " 17  FlightID_in_Countries_Count  5775 non-null   int64         \n",
      " 18  max                          5775 non-null   float64       \n",
      " 19  min                          5775 non-null   float64       \n",
      " 20  abs_diff                     5775 non-null   float64       \n",
      " 21  rel_diff                     5775 non-null   float64       \n",
      " 22  Price_Category               5775 non-null   category      \n",
      " 23  Commute_Time_Category        5775 non-null   category      \n",
      "dtypes: category(2), datetime64[ns](2), float64(6), int64(2), object(12)\n",
      "memory usage: 1004.4+ KB\n"
     ]
    }
   ],
   "source": [
    "df_reduced.info()"
   ]
  },
  {
   "cell_type": "code",
   "execution_count": 586,
   "metadata": {},
   "outputs": [
    {
     "data": {
      "text/html": [
       "<div>\n",
       "<style scoped>\n",
       "    .dataframe tbody tr th:only-of-type {\n",
       "        vertical-align: middle;\n",
       "    }\n",
       "\n",
       "    .dataframe tbody tr th {\n",
       "        vertical-align: top;\n",
       "    }\n",
       "\n",
       "    .dataframe thead th {\n",
       "        text-align: right;\n",
       "    }\n",
       "</style>\n",
       "<table border=\"1\" class=\"dataframe\">\n",
       "  <thead>\n",
       "    <tr style=\"text-align: right;\">\n",
       "      <th></th>\n",
       "      <th>departure_date</th>\n",
       "      <th>arrival_date</th>\n",
       "      <th>ticket_price</th>\n",
       "      <th>Price_in_USD</th>\n",
       "      <th>commute_time</th>\n",
       "      <th>FlightID_in_Countries_Count</th>\n",
       "      <th>max</th>\n",
       "      <th>min</th>\n",
       "      <th>abs_diff</th>\n",
       "      <th>rel_diff</th>\n",
       "    </tr>\n",
       "  </thead>\n",
       "  <tbody>\n",
       "    <tr>\n",
       "      <th>count</th>\n",
       "      <td>5775</td>\n",
       "      <td>5775</td>\n",
       "      <td>5.775000e+03</td>\n",
       "      <td>5775.000000</td>\n",
       "      <td>5775.000000</td>\n",
       "      <td>5775.000000</td>\n",
       "      <td>5775.000000</td>\n",
       "      <td>5775.000000</td>\n",
       "      <td>5775.000000</td>\n",
       "      <td>5775.000000</td>\n",
       "    </tr>\n",
       "    <tr>\n",
       "      <th>mean</th>\n",
       "      <td>2024-08-05 05:05:18.940259584</td>\n",
       "      <td>2024-08-05 19:34:55.148051968</td>\n",
       "      <td>2.502209e+06</td>\n",
       "      <td>1567.590254</td>\n",
       "      <td>869.603463</td>\n",
       "      <td>6.662338</td>\n",
       "      <td>1596.826863</td>\n",
       "      <td>1526.240701</td>\n",
       "      <td>70.586162</td>\n",
       "      <td>4.723055</td>\n",
       "    </tr>\n",
       "    <tr>\n",
       "      <th>min</th>\n",
       "      <td>2024-02-26 00:45:00</td>\n",
       "      <td>2024-02-27 07:50:00</td>\n",
       "      <td>4.300000e+01</td>\n",
       "      <td>60.013800</td>\n",
       "      <td>-65.000000</td>\n",
       "      <td>1.000000</td>\n",
       "      <td>60.720000</td>\n",
       "      <td>60.013800</td>\n",
       "      <td>0.000000</td>\n",
       "      <td>0.000000</td>\n",
       "    </tr>\n",
       "    <tr>\n",
       "      <th>25%</th>\n",
       "      <td>2024-05-10 17:00:00</td>\n",
       "      <td>2024-05-10 22:45:00</td>\n",
       "      <td>1.222000e+03</td>\n",
       "      <td>519.840000</td>\n",
       "      <td>310.000000</td>\n",
       "      <td>6.000000</td>\n",
       "      <td>523.260000</td>\n",
       "      <td>510.040000</td>\n",
       "      <td>7.768200</td>\n",
       "      <td>1.280583</td>\n",
       "    </tr>\n",
       "    <tr>\n",
       "      <th>50%</th>\n",
       "      <td>2024-08-23 17:30:00</td>\n",
       "      <td>2024-08-23 18:40:00</td>\n",
       "      <td>6.283000e+03</td>\n",
       "      <td>1047.600000</td>\n",
       "      <td>655.000000</td>\n",
       "      <td>7.000000</td>\n",
       "      <td>1059.960000</td>\n",
       "      <td>1028.120000</td>\n",
       "      <td>30.120000</td>\n",
       "      <td>4.425771</td>\n",
       "    </tr>\n",
       "    <tr>\n",
       "      <th>75%</th>\n",
       "      <td>2024-11-05 13:55:00</td>\n",
       "      <td>2024-11-06 17:55:00</td>\n",
       "      <td>9.265500e+04</td>\n",
       "      <td>1842.610000</td>\n",
       "      <td>1263.000000</td>\n",
       "      <td>8.000000</td>\n",
       "      <td>1861.200000</td>\n",
       "      <td>1778.430000</td>\n",
       "      <td>63.530000</td>\n",
       "      <td>4.629589</td>\n",
       "    </tr>\n",
       "    <tr>\n",
       "      <th>max</th>\n",
       "      <td>2024-12-28 08:17:00</td>\n",
       "      <td>2024-12-29 20:15:00</td>\n",
       "      <td>4.393188e+08</td>\n",
       "      <td>28249.320000</td>\n",
       "      <td>4260.000000</td>\n",
       "      <td>11.000000</td>\n",
       "      <td>28249.320000</td>\n",
       "      <td>28011.060000</td>\n",
       "      <td>4026.600000</td>\n",
       "      <td>257.689565</td>\n",
       "    </tr>\n",
       "    <tr>\n",
       "      <th>std</th>\n",
       "      <td>NaN</td>\n",
       "      <td>NaN</td>\n",
       "      <td>1.250712e+07</td>\n",
       "      <td>2130.853195</td>\n",
       "      <td>718.551641</td>\n",
       "      <td>2.580722</td>\n",
       "      <td>2159.616760</td>\n",
       "      <td>2086.297158</td>\n",
       "      <td>245.380055</td>\n",
       "      <td>15.783333</td>\n",
       "    </tr>\n",
       "  </tbody>\n",
       "</table>\n",
       "</div>"
      ],
      "text/plain": [
       "                      departure_date                   arrival_date  \\\n",
       "count                           5775                           5775   \n",
       "mean   2024-08-05 05:05:18.940259584  2024-08-05 19:34:55.148051968   \n",
       "min              2024-02-26 00:45:00            2024-02-27 07:50:00   \n",
       "25%              2024-05-10 17:00:00            2024-05-10 22:45:00   \n",
       "50%              2024-08-23 17:30:00            2024-08-23 18:40:00   \n",
       "75%              2024-11-05 13:55:00            2024-11-06 17:55:00   \n",
       "max              2024-12-28 08:17:00            2024-12-29 20:15:00   \n",
       "std                              NaN                            NaN   \n",
       "\n",
       "       ticket_price  Price_in_USD  commute_time  FlightID_in_Countries_Count  \\\n",
       "count  5.775000e+03   5775.000000   5775.000000                  5775.000000   \n",
       "mean   2.502209e+06   1567.590254    869.603463                     6.662338   \n",
       "min    4.300000e+01     60.013800    -65.000000                     1.000000   \n",
       "25%    1.222000e+03    519.840000    310.000000                     6.000000   \n",
       "50%    6.283000e+03   1047.600000    655.000000                     7.000000   \n",
       "75%    9.265500e+04   1842.610000   1263.000000                     8.000000   \n",
       "max    4.393188e+08  28249.320000   4260.000000                    11.000000   \n",
       "std    1.250712e+07   2130.853195    718.551641                     2.580722   \n",
       "\n",
       "                max           min     abs_diff     rel_diff  \n",
       "count   5775.000000   5775.000000  5775.000000  5775.000000  \n",
       "mean    1596.826863   1526.240701    70.586162     4.723055  \n",
       "min       60.720000     60.013800     0.000000     0.000000  \n",
       "25%      523.260000    510.040000     7.768200     1.280583  \n",
       "50%     1059.960000   1028.120000    30.120000     4.425771  \n",
       "75%     1861.200000   1778.430000    63.530000     4.629589  \n",
       "max    28249.320000  28011.060000  4026.600000   257.689565  \n",
       "std     2159.616760   2086.297158   245.380055    15.783333  "
      ]
     },
     "execution_count": 586,
     "metadata": {},
     "output_type": "execute_result"
    }
   ],
   "source": [
    "df_reduced.describe()"
   ]
  },
  {
   "cell_type": "code",
   "execution_count": 587,
   "metadata": {},
   "outputs": [
    {
     "name": "stderr",
     "output_type": "stream",
     "text": [
      "/var/folders/fs/20409g9545qdjn0qhsrcd8q80000gn/T/ipykernel_56647/2533043940.py:13: FutureWarning: The default of observed=False is deprecated and will be changed to True in a future version of pandas. Pass observed=False to retain current behavior or observed=True to adopt the future default and silence this warning.\n",
      "  avg_rel_diff_by_price_cat = df_reduced.groupby('Price_Category')['rel_diff'].mean().reset_index()\n"
     ]
    },
    {
     "data": {
      "image/png": "[encoded data removed]",
      "text/plain": [
       "<Figure size 1000x600 with 1 Axes>"
      ]
     },
     "metadata": {},
     "output_type": "display_data"
    }
   ],
   "source": [
    "import pandas as pd\n",
    "import seaborn as sns\n",
    "import matplotlib.pyplot as plt\n",
    "\n",
    "# Define the bins and labels for 'Price_in_USD'\n",
    "bins = [0, 100, 500, 1000, float('inf')]\n",
    "labels = ['<100', '100-500', '500-1000', '>1000']\n",
    "\n",
    "# Bin 'Price_in_USD' into the defined categories\n",
    "df_reduced['Price_Category'] = pd.cut(df_reduced['Price_in_USD'], bins=bins, labels=labels)\n",
    "\n",
    "# Group by the new 'Price_Category' and calculate the mean 'rel_diff' for each category\n",
    "avg_rel_diff_by_price_cat = df_reduced.groupby('Price_Category')['rel_diff'].mean().reset_index()\n",
    "\n",
    "# Plotting\n",
    "plt.figure(figsize=(10, 6))\n",
    "sns.barplot(data=avg_rel_diff_by_price_cat, x='Price_Category', y='rel_diff')\n",
    "plt.title('Average Relative Difference in Price by Price Category')\n",
    "plt.xlabel('Price in USD Category')\n",
    "plt.ylabel('Average Relative Difference (%)')\n",
    "plt.tight_layout()\n",
    "plt.show()\n"
   ]
  },
  {
   "cell_type": "code",
   "execution_count": 589,
   "metadata": {},
   "outputs": [
    {
     "name": "stderr",
     "output_type": "stream",
     "text": [
      "/var/folders/fs/20409g9545qdjn0qhsrcd8q80000gn/T/ipykernel_56647/1814516345.py:9: FutureWarning: The default of observed=False is deprecated and will be changed to True in a future version of pandas. Pass observed=False to retain current behavior or observed=True to adopt the future default and silence this warning.\n",
      "  avg_rel_diff_by_commute_cat = df_reduced.groupby('Commute_Time_Category')['rel_diff'].mean().reset_index()\n"
     ]
    },
    {
     "data": {
      "image/png": "[encoded data removed]",
      "text/plain": [
       "<Figure size 1000x600 with 1 Axes>"
      ]
     },
     "metadata": {},
     "output_type": "display_data"
    }
   ],
   "source": [
    "# Adjust bins based on the new categories in minutes\n",
    "bins = [-float('inf'), 120, 240, 480,750, float('inf')]\n",
    "labels = ['<2h', '2-4h', '4-6h','6-8' ,'>8h']\n",
    "\n",
    "# Bin 'commute_time' into categories directly, no need to convert to hours since it's already in minutes\n",
    "df_reduced['Commute_Time_Category'] = pd.cut(df_reduced['commute_time'], bins=bins, labels=labels)\n",
    "\n",
    "# Group by the new 'Commute_Time_Category' and calculate the mean 'rel_diff' for each category\n",
    "avg_rel_diff_by_commute_cat = df_reduced.groupby('Commute_Time_Category')['rel_diff'].mean().reset_index()\n",
    "\n",
    "# Plotting the average relative difference by commute time category\n",
    "plt.figure(figsize=(10, 6))\n",
    "sns.barplot(data=avg_rel_diff_by_commute_cat, x='Commute_Time_Category', y='rel_diff')\n",
    "plt.title('Average Relative Difference in Price by Commute Time Category')\n",
    "plt.xlabel('Commute Time Category')\n",
    "plt.ylabel('Average Relative Difference (%)')\n",
    "plt.tight_layout()\n",
    "plt.show()\n"
   ]
  },
  {
   "cell_type": "code",
   "execution_count": 590,
   "metadata": {},
   "outputs": [
    {
     "name": "stdout",
     "output_type": "stream",
     "text": [
      "Above 3%: 38.13% of total flights\n",
      "Above 5%: 2.41% of total flights\n",
      "Above 10%: 1.06% of total flights\n"
     ]
    }
   ],
   "source": [
    "# Assuming 'price_stats' is the DataFrame that contains the relative differences for each Flight_ID\n",
    "# And assuming 'price_stats' already contains the 'rel_diff' column calculated as earlier described\n",
    "\n",
    "# Define the thresholds\n",
    "thresholds = [3, 5, 10]\n",
    "\n",
    "# Initialize a dictionary to hold the counts\n",
    "distribution_counts = {}\n",
    "\n",
    "# Calculate the percentage of total flights for each threshold\n",
    "total_flights = len(price_stats)\n",
    "for threshold in thresholds:\n",
    "    count_above_threshold = len(price_stats[price_stats['rel_diff'] > threshold])\n",
    "    distribution_counts[f\"Above {threshold}%\"] = (count_above_threshold / total_flights) * 100\n",
    "\n",
    "# Print the distribution of flights per category\n",
    "for category, percent in distribution_counts.items():\n",
    "    print(f\"{category}: {percent:.2f}% of total flights\")\n"
   ]
  },
  {
   "cell_type": "code",
   "execution_count": null,
   "metadata": {},
   "outputs": [
    {
     "name": "stdout",
     "output_type": "stream",
     "text": [
      "Original Dataset Statistics:\n",
      "{'mean': 1563.8086440421196, 'median': 1045.0, 'std_dev': 2129.350952749131, 'min': 60.013799999999996, 'max': 28249.32, 'count': 5793}\n",
      "\n",
      "Significant Differences Dataset Statistics:\n",
      "{'mean': 916.8889662608696, 'median': 126.53999999999999, 'std_dev': 1523.4171546127207, 'min': 102.88, 'max': 10747.44, 'count': 299}\n"
     ]
    }
   ],
   "source": [
    "# Calculate statistics for the original reduced dataset\n",
    "original_stats = {\n",
    "    'mean': df_reduced.Price_in_USD.mean(),\n",
    "    'median': df_reduced.Price_in_USD.median(),\n",
    "    'std_dev': df_reduced.Price_in_USD.std(),\n",
    "    'min': df_reduced.Price_in_USD.min(),\n",
    "    'max': df_reduced.Price_in_USD.max(),\n",
    "    'count': df_reduced.Price_in_USD.count()\n",
    "}\n",
    "\n",
    "# Calculate statistics for the significant differences dataset\n",
    "significant_stats = {\n",
    "    'mean': significant_flight_details.Price_in_USD.mean(),\n",
    "    'median': significant_flight_details.Price_in_USD.median(),\n",
    "    'std_dev': significant_flight_details.Price_in_USD.std(),\n",
    "    'min': significant_flight_details.Price_in_USD.min(),\n",
    "    'max': significant_flight_details.Price_in_USD.max(),\n",
    "    'count': significant_flight_details.Price_in_USD.count()\n",
    "}\n",
    "\n",
    "# Print the comparison\n",
    "print(\"Original Dataset Statistics:\")\n",
    "print(original_stats)\n",
    "print(\"\\nSignificant Differences Dataset Statistics:\")\n",
    "print(significant_stats)\n"
   ]
  },
  {
   "cell_type": "code",
   "execution_count": null,
   "metadata": {},
   "outputs": [
    {
     "name": "stdout",
     "output_type": "stream",
     "text": [
      "Top 10 First Flights in Original Dataset:\n",
      "First_flight\n",
      "LAS-LAX    160\n",
      "FCO-MAD    160\n",
      "SEA-DFW    128\n",
      "DFW-SEA    120\n",
      "LHR-CDG    108\n",
      "DFW-EWR     90\n",
      "ZAG-MUC     83\n",
      "MAN-LHR     70\n",
      "LAX-YVR     69\n",
      "BWI-YYZ     60\n",
      "Name: count, dtype: int64\n"
     ]
    }
   ],
   "source": [
    "# Get the top 10 'First_flight' for the original reduced dataset\n",
    "top_first_flights_original = df_reduced['First_flight'].value_counts().head(10)\n",
    "\n",
    "# Print the top 10 'First_flight' codes for the original reduced dataset\n",
    "print(\"Top 10 First Flights in Original Dataset:\")\n",
    "print(top_first_flights_original)\n"
   ]
  },
  {
   "cell_type": "code",
   "execution_count": null,
   "metadata": {},
   "outputs": [
    {
     "name": "stdout",
     "output_type": "stream",
     "text": [
      "\n",
      "Top 10 First Flights in Significant Differences Dataset:\n",
      "First_flight\n",
      "MAN-DXB    20\n",
      "FCO-MAD    10\n",
      "PHX-ATL    10\n",
      "PHX-IAH    10\n",
      "LAX-YUL    10\n",
      "MAN-AMS    10\n",
      "MAN-DOH    10\n",
      "LAX-EWR     9\n",
      "LAX-IAD     9\n",
      "LAX-PHL     9\n",
      "Name: count, dtype: int64\n"
     ]
    }
   ],
   "source": [
    "# Get the top 10 'First_flight' for the significant differences dataset\n",
    "top_first_flights_significant = significant_flight_details['First_flight'].value_counts().head(10)\n",
    "\n",
    "# Print the top 10 'First_flight' codes for the significant differences dataset\n",
    "print(\"\\nTop 10 First Flights in Significant Differences Dataset:\")\n",
    "print(top_first_flights_significant)\n"
   ]
  },
  {
   "cell_type": "code",
   "execution_count": null,
   "metadata": {},
   "outputs": [
    {
     "data": {
      "text/plain": [
       "Index(['airline_code', 'departure_airport_code', 'destination_airport_code',\n",
       "       'departure_date', 'arrival_date', 'ticket_price', 'First_flight',\n",
       "       'first_flight_code', 'last_flight_code', 'Detected_Language',\n",
       "       'Assigned_Country', 'Assigned_Currency', 'ID_Helper', 'Price_in_USD',\n",
       "       'Flight_ID', 'Duplicate_checker', 'Duplicate_Count',\n",
       "       'Flight_ID_country_language', 'FlightID_in_Countries_Count'],\n",
       "      dtype='object')"
      ]
     },
     "metadata": {},
     "output_type": "display_data"
    }
   ],
   "source": [
    "df_reduced.columns"
   ]
  },
  {
   "cell_type": "code",
   "execution_count": null,
   "metadata": {},
   "outputs": [
    {
     "name": "stdout",
     "output_type": "stream",
     "text": [
      "Original Dataset Statistics:\n",
      "{'mean': 1563.8086440421196, 'median': 1045.0, 'std_dev': 2129.350952749131, 'min': 60.013799999999996, 'max': 28249.32, 'count': 5793, 'commute_time_mean': 869.6034632034632, 'commute_time_median': 655.0, 'commute_time_min': -65.0}\n",
      "\n",
      "Significant Differences Dataset Statistics:\n",
      "{'mean': 916.8889662608696, 'median': 126.53999999999999, 'std_dev': 1523.4171546127207, 'min': 102.88, 'max': 10747.44, 'count': 299, 'commute_time_mean': 1211.625, 'commute_time_median': 1270.0, 'commute_time_min': 155.0}\n"
     ]
    }
   ],
   "source": [
    "# Add mean and median of 'commute_time' to the statistics\n",
    "original_stats.update({\n",
    "    'commute_time_min': df_reduced.commute_time.min(),\n",
    "    'commute_time_mean': df_reduced.commute_time.mean(),\n",
    "    'commute_time_median': df_reduced.commute_time.median(),\n",
    "})\n",
    "\n",
    "significant_stats.update({\n",
    "    'commute_time_min': significant_flight_details.commute_time.min(),\n",
    "    'commute_time_mean': significant_flight_details.commute_time.mean(),\n",
    "    'commute_time_median': significant_flight_details.commute_time.median(),\n",
    "})\n",
    "\n",
    "# Print the comparison\n",
    "print(\"Original Dataset Statistics:\")\n",
    "print(original_stats)\n",
    "print(\"\\nSignificant Differences Dataset Statistics:\")\n",
    "print(significant_stats)\n"
   ]
  },
  {
   "cell_type": "code",
   "execution_count": null,
   "metadata": {},
   "outputs": [
    {
     "name": "stdout",
     "output_type": "stream",
     "text": [
      "Top 10 Departure Airports in Original Dataset:\n",
      "departure_airport_code\n",
      "DFW    332\n",
      "MAN    311\n",
      "ZAG    289\n",
      "BWI    209\n",
      "LAX    198\n",
      "FCO    194\n",
      "MIA    176\n",
      "MSY    176\n",
      "LAS    160\n",
      "LUX    158\n",
      "Name: count, dtype: int64\n",
      "\n",
      "Top 10 Destination Airports in Original Dataset:\n",
      "destination_airport_code\n",
      "LIM    264\n",
      "EWR    237\n",
      "LAX    225\n",
      "IAH    218\n",
      "SFO    205\n",
      "MAD    205\n",
      "YVR    190\n",
      "FRA    183\n",
      "CUN    173\n",
      "NRT    170\n",
      "Name: count, dtype: int64\n",
      "\n",
      "Top 10 Departure Airports in Significant Differences Dataset:\n",
      "departure_airport_code\n",
      "MAN    47\n",
      "LAX    37\n",
      "PHX    20\n",
      "FCO    10\n",
      "IAD     6\n",
      "Name: count, dtype: int64\n",
      "\n",
      "Top 10 Destination Airports in Significant Differences Dataset:\n",
      "destination_airport_code\n",
      "CPT    47\n",
      "LIS    37\n",
      "CGH    20\n",
      "MAD    10\n",
      "CAN     6\n",
      "Name: count, dtype: int64\n"
     ]
    }
   ],
   "source": [
    "# Get the top 10 departure airports for the original reduced dataset\n",
    "top_departure_airports_original = df_reduced.departure_airport_code.value_counts().head(10)\n",
    "top_destination_airports_original = df_reduced.destination_airport_code.value_counts().head(10)\n",
    "\n",
    "# Get the top 10 departure airports for the significant differences dataset\n",
    "top_departure_airports_significant = significant_flight_details.departure_airport_code.value_counts().head(10)\n",
    "top_destination_airports_significant = significant_flight_details.destination_airport_code.value_counts().head(10)\n",
    "\n",
    "# Print the top 10 airports for the original reduced dataset\n",
    "print(\"Top 10 Departure Airports in Original Dataset:\")\n",
    "print(top_departure_airports_original)\n",
    "print(\"\\nTop 10 Destination Airports in Original Dataset:\")\n",
    "print(top_destination_airports_original)\n",
    "\n",
    "# Print the top 10 airports for the significant differences dataset\n",
    "print(\"\\nTop 10 Departure Airports in Significant Differences Dataset:\")\n",
    "print(top_departure_airports_significant)\n",
    "print(\"\\nTop 10 Destination Airports in Significant Differences Dataset:\")\n",
    "print(top_destination_airports_significant)\n"
   ]
  },
  {
   "cell_type": "markdown",
   "metadata": {},
   "source": [
    "# Statistical Testing"
   ]
  },
  {
   "cell_type": "code",
   "execution_count": null,
   "metadata": {},
   "outputs": [],
   "source": [
    "df.to_csv('export.csv')"
   ]
  },
  {
   "cell_type": "code",
   "execution_count": null,
   "metadata": {},
   "outputs": [
    {
     "name": "stdout",
     "output_type": "stream",
     "text": [
      "ANOVA results:\n",
      "F-statistic: 3634.3053790214753\n",
      "p-value: 0.0\n",
      "There are statistically significant differences in mean flight prices among different countries.\n"
     ]
    }
   ],
   "source": [
    "from scipy.stats import f_oneway\n",
    "\n",
    "# Assuming 'flight_data' is your DataFrame containing flight information\n",
    "# 'Price' is the column containing flight prices, and 'Country' is the column containing country information\n",
    "\n",
    "# Extract prices for each country\n",
    "prices_by_country = [group['Price_in_USD'].values for name, group in df.groupby('Flight_ID')]\n",
    "\n",
    "# Perform ANOVA test\n",
    "f_statistic, p_value = f_oneway(*prices_by_country)\n",
    "\n",
    "# Interpret the results\n",
    "alpha = 0.05  # Significance level\n",
    "print(\"ANOVA results:\")\n",
    "print(\"F-statistic:\", f_statistic)\n",
    "print(\"p-value:\", p_value)\n",
    "\n",
    "if p_value < alpha:\n",
    "    print(\"There are statistically significant differences in mean flight prices among different countries.\")\n",
    "else:\n",
    "    print(\"There are no statistically significant differences in mean flight prices among different countries.\")\n"
   ]
  },
  {
   "cell_type": "code",
   "execution_count": null,
   "metadata": {},
   "outputs": [
    {
     "name": "stdout",
     "output_type": "stream",
     "text": [
      "ANOVA results:\n",
      "F-statistic: 6.859678831405712\n",
      "p-value: 2.270373590682325e-13\n",
      "There are statistically significant differences in mean flight prices among different countries for the same flight route.\n"
     ]
    }
   ],
   "source": [
    "from scipy.stats import f_oneway\n",
    "\n",
    "# Assuming 'df' is your DataFrame containing flight information\n",
    "# 'Price_in_USD' is the column containing flight prices, and 'Assigned_Country' is the column containing country information\n",
    "\n",
    "# Extract prices for each country\n",
    "prices_by_country = [group['Price_in_USD'].values for name, group in df.groupby('Assigned_Country')]\n",
    "\n",
    "# Perform ANOVA test\n",
    "f_statistic, p_value = f_oneway(*prices_by_country)\n",
    "\n",
    "# Interpret the results\n",
    "alpha = 0.05  # Significance level\n",
    "print(\"ANOVA results:\")\n",
    "print(\"F-statistic:\", f_statistic)\n",
    "print(\"p-value:\", p_value)\n",
    "\n",
    "if p_value < alpha:\n",
    "    print(\"There are statistically significant differences in mean flight prices among different countries for the same flight route.\")\n",
    "else:\n",
    "    print(\"There are no statistically significant differences in mean flight prices among different countries for the same flight route.\")\n"
   ]
  },
  {
   "cell_type": "code",
   "execution_count": null,
   "metadata": {},
   "outputs": [
    {
     "name": "stdout",
     "output_type": "stream",
     "text": [
      "ANOVA results:\n",
      "F-statistic: 13924.582904661333\n",
      "p-value: 0.0\n",
      "There are statistically significant differences in mean flight prices among different countries for the same flight route.\n"
     ]
    }
   ],
   "source": [
    "from scipy.stats import f_oneway\n",
    "\n",
    "# Assuming 'df' is your DataFrame containing flight information\n",
    "# 'Price_in_USD' is the column containing flight prices, 'Assigned_Country' is the column containing country information\n",
    "# 'Flight_ID' is the column containing flight identifiers\n",
    "\n",
    "# Extract prices for each flight route and country\n",
    "prices_by_route_and_country = [group['Price_in_USD'].values for name, group in df.groupby(['Flight_ID', 'Assigned_Country'])]\n",
    "\n",
    "# Perform ANOVA test\n",
    "f_statistic, p_value = f_oneway(*prices_by_route_and_country)\n",
    "\n",
    "# Interpret the results\n",
    "alpha = 0.05  # Significance level\n",
    "print(\"ANOVA results:\")\n",
    "print(\"F-statistic:\", f_statistic)\n",
    "print(\"p-value:\", p_value)\n",
    "\n",
    "if p_value < alpha:\n",
    "    print(\"There are statistically significant differences in mean flight prices among different countries for the same flight route.\")\n",
    "else:\n",
    "    print(\"There are no statistically significant differences in mean flight prices among different countries for the same flight route.\")\n"
   ]
  },
  {
   "cell_type": "code",
   "execution_count": null,
   "metadata": {},
   "outputs": [
    {
     "name": "stdout",
     "output_type": "stream",
     "text": [
      "Paired samples t-test results:\n",
      "t-statistic: 7.683652766554402\n",
      "p-value: 2.9911633978073155e-14\n",
      "There is a statistically significant difference between the maximum and minimum prices of each Flight_ID.\n"
     ]
    }
   ],
   "source": [
    "from scipy.stats import ttest_rel\n",
    "\n",
    "# Assuming 'df' is your DataFrame containing flight information\n",
    "# 'Price_in_USD' is the column containing flight prices, and 'Flight_ID' is the column containing flight identifiers\n",
    "\n",
    "# Group the data by Flight_ID and calculate the maximum and minimum prices for each group\n",
    "max_prices = df.groupby('Flight_ID')['Price_in_USD'].max()\n",
    "min_prices = df.groupby('Flight_ID')['Price_in_USD'].min()\n",
    "\n",
    "# Perform paired samples t-test\n",
    "t_statistic, p_value = ttest_rel(max_prices, min_prices)\n",
    "\n",
    "# Interpret the results\n",
    "alpha = 0.05  # Significance level\n",
    "print(\"Paired samples t-test results:\")\n",
    "print(\"t-statistic:\", t_statistic)\n",
    "print(\"p-value:\", p_value)\n",
    "\n",
    "if p_value < alpha:\n",
    "    print(\"There is a statistically significant difference between the maximum and minimum prices of each Flight_ID.\")\n",
    "else:\n",
    "    print(\"There is no statistically significant difference between the maximum and minimum prices of each Flight_ID.\")\n"
   ]
  },
  {
   "cell_type": "code",
   "execution_count": null,
   "metadata": {},
   "outputs": [
    {
     "name": "stdout",
     "output_type": "stream",
     "text": [
      "Chi-square test results:\n",
      "Chi-square statistic: 27962.6387916702\n",
      "p-value: 0.0\n",
      "There is a significant association between Flight_ID and Assigned_Country.\n"
     ]
    }
   ],
   "source": [
    "from scipy.stats import chi2_contingency\n",
    "\n",
    "# Create a contingency table\n",
    "contingency_table = pd.crosstab(df['Flight_ID'], df['Assigned_Country'])\n",
    "\n",
    "# Perform chi-square test of independence\n",
    "chi2_statistic, p_value, _, _ = chi2_contingency(contingency_table)\n",
    "\n",
    "# Interpret the results\n",
    "alpha = 0.05  # Significance level\n",
    "print(\"Chi-square test results:\")\n",
    "print(\"Chi-square statistic:\", chi2_statistic)\n",
    "print(\"p-value:\", p_value)\n",
    "\n",
    "if p_value < alpha:\n",
    "    print(\"There is a significant association between Flight_ID and Assigned_Country.\")\n",
    "else:\n",
    "    print(\"There is no significant association between Flight_ID and Assigned_Country.\")\n"
   ]
  },
  {
   "cell_type": "code",
   "execution_count": null,
   "metadata": {},
   "outputs": [
    {
     "ename": "ValueError",
     "evalue": "The truth value of a Series is ambiguous. Use a.empty, a.bool(), a.item(), a.any() or a.all().",
     "output_type": "error",
     "traceback": [
      "\u001b[0;31m---------------------------------------------------------------------------\u001b[0m",
      "\u001b[0;31mValueError\u001b[0m                                Traceback (most recent call last)",
      "\u001b[0;32m/var/folders/fs/20409g9545qdjn0qhsrcd8q80000gn/T/ipykernel_56647/768784627.py\u001b[0m in \u001b[0;36m?\u001b[0;34m()\u001b[0m\n\u001b[1;32m      2\u001b[0m \u001b[0;34m\u001b[0m\u001b[0m\n\u001b[1;32m      3\u001b[0m \u001b[0mfull_results\u001b[0m \u001b[0;34m=\u001b[0m \u001b[0;34m[\u001b[0m\u001b[0;34m]\u001b[0m\u001b[0;34m\u001b[0m\u001b[0;34m\u001b[0m\u001b[0m\n\u001b[1;32m      4\u001b[0m \u001b[0;34m\u001b[0m\u001b[0m\n\u001b[1;32m      5\u001b[0m \u001b[0;32mfor\u001b[0m \u001b[0mflight_id\u001b[0m\u001b[0;34m,\u001b[0m \u001b[0mgroup\u001b[0m \u001b[0;32min\u001b[0m \u001b[0mdf_reduced\u001b[0m\u001b[0;34m.\u001b[0m\u001b[0mgroupby\u001b[0m\u001b[0;34m(\u001b[0m\u001b[0;34m'Flight_ID'\u001b[0m\u001b[0;34m)\u001b[0m\u001b[0;34m:\u001b[0m\u001b[0;34m\u001b[0m\u001b[0;34m\u001b[0m\u001b[0m\n\u001b[0;32m----> 6\u001b[0;31m     \u001b[0;32mif\u001b[0m \u001b[0mdf_reduced\u001b[0m\u001b[0;34m.\u001b[0m\u001b[0mFlightID_in_Countries_Count\u001b[0m \u001b[0;34m>\u001b[0m \u001b[0;36m0\u001b[0m\u001b[0;34m:\u001b[0m  \u001b[0;31m# Ensure there are prices from at least two countries\u001b[0m\u001b[0;34m\u001b[0m\u001b[0;34m\u001b[0m\u001b[0m\n\u001b[0m\u001b[1;32m      7\u001b[0m         \u001b[0;31m# Extract prices for each country for the current flight\u001b[0m\u001b[0;34m\u001b[0m\u001b[0;34m\u001b[0m\u001b[0m\n\u001b[1;32m      8\u001b[0m         \u001b[0mprices_by_country\u001b[0m \u001b[0;34m=\u001b[0m \u001b[0;34m[\u001b[0m\u001b[0mgrp\u001b[0m\u001b[0;34m[\u001b[0m\u001b[0;34m'Price_in_USD'\u001b[0m\u001b[0;34m]\u001b[0m\u001b[0;34m.\u001b[0m\u001b[0mvalues\u001b[0m \u001b[0;32mfor\u001b[0m \u001b[0m_\u001b[0m\u001b[0;34m,\u001b[0m \u001b[0mgrp\u001b[0m \u001b[0;32min\u001b[0m \u001b[0mgroup\u001b[0m\u001b[0;34m.\u001b[0m\u001b[0mgroupby\u001b[0m\u001b[0;34m(\u001b[0m\u001b[0;34m'Assigned_Country'\u001b[0m\u001b[0;34m)\u001b[0m\u001b[0;34m]\u001b[0m\u001b[0;34m\u001b[0m\u001b[0;34m\u001b[0m\u001b[0m\n\u001b[1;32m      9\u001b[0m         \u001b[0;32mif\u001b[0m \u001b[0mlen\u001b[0m\u001b[0;34m(\u001b[0m\u001b[0mprices_by_country\u001b[0m\u001b[0;34m)\u001b[0m \u001b[0;34m>\u001b[0m \u001b[0;36m1\u001b[0m\u001b[0;34m:\u001b[0m  \u001b[0;31m# Perform Kruskal-Wallis if there are prices from at least two countries\u001b[0m\u001b[0;34m\u001b[0m\u001b[0;34m\u001b[0m\u001b[0m\n",
      "\u001b[0;32m~/Library/Caches/pypoetry/virtualenvs/playwright-trial-uIq0qThi-py3.12/lib/python3.12/site-packages/pandas/core/generic.py\u001b[0m in \u001b[0;36m?\u001b[0;34m(self)\u001b[0m\n\u001b[1;32m   1574\u001b[0m     \u001b[0;34m@\u001b[0m\u001b[0mfinal\u001b[0m\u001b[0;34m\u001b[0m\u001b[0;34m\u001b[0m\u001b[0m\n\u001b[1;32m   1575\u001b[0m     \u001b[0;32mdef\u001b[0m \u001b[0m__nonzero__\u001b[0m\u001b[0;34m(\u001b[0m\u001b[0mself\u001b[0m\u001b[0;34m)\u001b[0m \u001b[0;34m->\u001b[0m \u001b[0mNoReturn\u001b[0m\u001b[0;34m:\u001b[0m\u001b[0;34m\u001b[0m\u001b[0;34m\u001b[0m\u001b[0m\n\u001b[0;32m-> 1576\u001b[0;31m         raise ValueError(\n\u001b[0m\u001b[1;32m   1577\u001b[0m             \u001b[0;34mf\"\u001b[0m\u001b[0;34mThe truth value of a \u001b[0m\u001b[0;34m{\u001b[0m\u001b[0mtype\u001b[0m\u001b[0;34m(\u001b[0m\u001b[0mself\u001b[0m\u001b[0;34m)\u001b[0m\u001b[0;34m.\u001b[0m\u001b[0m__name__\u001b[0m\u001b[0;34m}\u001b[0m\u001b[0;34m is ambiguous. \u001b[0m\u001b[0;34m\"\u001b[0m\u001b[0;34m\u001b[0m\u001b[0;34m\u001b[0m\u001b[0m\n\u001b[1;32m   1578\u001b[0m             \u001b[0;34m\"Use a.empty, a.bool(), a.item(), a.any() or a.all().\"\u001b[0m\u001b[0;34m\u001b[0m\u001b[0;34m\u001b[0m\u001b[0m\n\u001b[1;32m   1579\u001b[0m         \u001b[0;34m)\u001b[0m\u001b[0;34m\u001b[0m\u001b[0;34m\u001b[0m\u001b[0m\n",
      "\u001b[0;31mValueError\u001b[0m: The truth value of a Series is ambiguous. Use a.empty, a.bool(), a.item(), a.any() or a.all()."
     ]
    }
   ],
   "source": [
    "from scipy.stats import kruskal\n",
    "\n",
    "full_results = []\n",
    "\n",
    "for flight_id, group in df_reduced.groupby('Flight_ID'):\n",
    "    if df_reduced.FlightID_in_Countries_Count > 0:  # Ensure there are prices from at least two countries\n",
    "        # Extract prices for each country for the current flight\n",
    "        prices_by_country = [grp['Price_in_USD'].values for _, grp in group.groupby('Assigned_Country')]\n",
    "        if len(prices_by_country) > 1:  # Perform Kruskal-Wallis if there are prices from at least two countries\n",
    "            stat, p = kruskal(*prices_by_country)\n",
    "            full_results.append((flight_id, stat, p, len(prices_by_country)))\n",
    "\n",
    "# Convert the full results into a DataFrame for better readability\n",
    "full_results_df = pd.DataFrame(full_results, columns=['Flight_ID', 'Kruskal_Stat', 'P_Value', 'Countries_Compared'])\n",
    "\n",
    "# Filter out the full results with p-values indicating significant differences\n",
    "significant_full_results = full_results_df[full_results_df['P_Value'] < 0.05]\n",
    "\n",
    "significant_full_results\n"
   ]
  }
 ],
 "metadata": {
  "kernelspec": {
   "display_name": "playwright-trial-uIq0qThi-py3.12",
   "language": "python",
   "name": "python3"
  },
  "language_info": {
   "codemirror_mode": {
    "name": "ipython",
    "version": 3
   },
   "file_extension": ".py",
   "mimetype": "text/x-python",
   "name": "python",
   "nbconvert_exporter": "python",
   "pygments_lexer": "ipython3",
   "version": "3.12.1"
  }
 },
 "nbformat": 4,
 "nbformat_minor": 2
}
