{
 "cells": [
  {
   "cell_type": "markdown",
   "metadata": {},
   "source": [
    "# Imports"
   ]
  },
  {
   "cell_type": "code",
   "execution_count": 1,
   "metadata": {},
   "outputs": [],
   "source": [
    "import pandas as pd\n",
    "import numpy as np\n",
    "import ast\n",
    "from datetime import datetime"
   ]
  },
  {
   "cell_type": "markdown",
   "metadata": {},
   "source": [
    "# Helper functions"
   ]
  },
  {
   "cell_type": "code",
   "execution_count": 2,
   "metadata": {},
   "outputs": [],
   "source": [
    "conversion_rates = {\n",
    "    'CHF': 1.14,  # 1 CHF = 1.134556 USD as of Feb 20, 2024, according to X-Rates\n",
    "    'TRY': 0.032,   # 1 TRY = 0.03230 USD as of Feb 21, 2024, according to Wise\n",
    "    'PLN': 0.25,  # 1 PLN = 0.250338 USD as of Feb 21, 2024, according to Xe.com\n",
    "    'GBP': 1.26,      # Example rate, adjust with the actual rate when available\n",
    "    'JOD': 1.41,      # Example rate, adjust with the actual rate when available\n",
    "    'AUD' : 0.66,\n",
    "    'BRL' : 0.2,\n",
    "    'IDR' : 0.000064,\n",
    "    'USD' : 1.0,\n",
    "    'EUR' : 1.08,\n",
    "    'ALL' : 0.010,\n",
    "    'JPY' : 0.0066,\n",
    "    'BDT' : 0.0091,\n",
    "\n",
    "}\n",
    "\n"
   ]
  },
  {
   "cell_type": "code",
   "execution_count": 3,
   "metadata": {},
   "outputs": [],
   "source": [
    "def convert_to_usd(row, price_col_name, currency_col_name):\n",
    "    price = row[price_col_name]\n",
    "    currency = row[currency_col_name]\n",
    "    price = row['ticket_price']\n",
    "    conversion_rate = conversion_rates.get(currency)\n",
    "\n",
    "    # Check if conversion_rate is None\n",
    "    if conversion_rate is None:\n",
    "        # Handle the error (e.g., return 0, raise an exception, or use a default conversion rate)\n",
    "        raise ValueError(f\"Conversion rate for currency '{currency}' is not available.\")\n",
    "        # Alternatively, you can return 0 or some default value instead of raising an error\n",
    "        # return 0\n",
    "    \n",
    "    return price * conversion_rate\n"
   ]
  },
  {
   "cell_type": "code",
   "execution_count": 4,
   "metadata": {},
   "outputs": [],
   "source": [
    "def clean_fifth_element(lst):\n",
    "    cleaned_lst = []\n",
    "    for item in lst:\n",
    "        if len(item) >= 5:\n",
    "            fifth_element = item[4]\n",
    "            if isinstance(fifth_element, int):\n",
    "                cleaned_lst.append(fifth_element)\n",
    "            else:\n",
    "                try:\n",
    "                    cleaned_lst.append(int(fifth_element))\n",
    "                except ValueError:\n",
    "                    # If the fifth element cannot be converted to an integer, replace it with 0\n",
    "                    cleaned_lst.append(0)\n",
    "        else:\n",
    "            cleaned_lst.append(0)  # If the list is too short, consider the fifth element as 0\n",
    "    return cleaned_lst\n",
    "\n"
   ]
  },
  {
   "cell_type": "code",
   "execution_count": 5,
   "metadata": {},
   "outputs": [],
   "source": [
    "def convert_list_to_datetime(date_list):\n",
    "    # Convert 'null' strings to 0 and other elements to integers\n",
    "    date_list = [0 if element == 'null' else int(element) for element in date_list]\n",
    "    \n",
    "    try:\n",
    "        if len(date_list) == 5:\n",
    "            # If all components are present, unpack the list directly into datetime\n",
    "            return datetime(*date_list)\n",
    "        elif len(date_list) == 4:\n",
    "            # If the minute is missing (or any single component), append 0 for minutes and then convert\n",
    "            return datetime(*(date_list + [0]))\n",
    "        else:\n",
    "            # Return None for lists of unexpected length to indicate an issue\n",
    "            return None\n",
    "    except TypeError:\n",
    "        # Handle cases where the list contents cannot be directly unpacked into datetime\n",
    "        return None\n",
    "\n",
    "\n"
   ]
  },
  {
   "cell_type": "code",
   "execution_count": 6,
   "metadata": {},
   "outputs": [],
   "source": [
    "def clean_fifth_element(lst):\n",
    "    cleaned_lst = []\n",
    "    for item in lst:\n",
    "        if len(item) >= 5:\n",
    "            fifth_element = item[4]\n",
    "            if isinstance(fifth_element, int):\n",
    "                cleaned_lst.append(item[:4] + [fifth_element] + item[5:])\n",
    "            else:\n",
    "                try:\n",
    "                    cleaned_lst.append(item[:4] + [int(fifth_element)] + item[5:])\n",
    "                except ValueError:\n",
    "                    # If the fifth element cannot be converted to an integer, replace it with 0\n",
    "                    cleaned_lst.append(item[:4] + [0] + item[5:])\n",
    "        else:\n",
    "            # If the list is too short, consider the fifth element as 0\n",
    "            cleaned_lst.append(item[:4] + [0])\n",
    "    return cleaned_lst\n",
    "\n"
   ]
  },
  {
   "cell_type": "markdown",
   "metadata": {},
   "source": [
    "# Read and Clean Dataset"
   ]
  },
  {
   "cell_type": "code",
   "execution_count": 7,
   "metadata": {},
   "outputs": [],
   "source": [
    "df = pd.read_csv('../data/query_results/Query4_results_test.csv')"
   ]
  },
  {
   "cell_type": "code",
   "execution_count": 8,
   "metadata": {},
   "outputs": [],
   "source": [
    "for i in ['arrival_date','departure_date']:\n",
    "    df[i] = df[i].apply(ast.literal_eval)"
   ]
  },
  {
   "cell_type": "code",
   "execution_count": 9,
   "metadata": {},
   "outputs": [],
   "source": [
    "df['arrival_date'] = clean_fifth_element(df['arrival_date'])\n",
    "df['departure_date'] = clean_fifth_element(df['departure_date'])"
   ]
  },
  {
   "cell_type": "code",
   "execution_count": 10,
   "metadata": {},
   "outputs": [],
   "source": [
    "for i in ['arrival_date','departure_date']:\n",
    "    df[i] = df[i].apply(convert_list_to_datetime)"
   ]
  },
  {
   "cell_type": "markdown",
   "metadata": {},
   "source": [
    "**Create identifier (FlightID) for identical flights**"
   ]
  },
  {
   "cell_type": "code",
   "execution_count": 11,
   "metadata": {},
   "outputs": [],
   "source": [
    "df['Flight_ID'] = df[['airline_code', 'departure_airport_code', 'destination_airport_code','First_flight','last_flight_code','arrival_date','departure_date', 'departure_time','selling_airline','arrival_time','first_flight_code']].astype(str).agg('-'.join, axis=1)"
   ]
  },
  {
   "cell_type": "code",
   "execution_count": 12,
   "metadata": {},
   "outputs": [],
   "source": [
    "df = df.drop(['departure_time','selling_airline','arrival_time'], axis = 1)"
   ]
  },
  {
   "cell_type": "markdown",
   "metadata": {},
   "source": [
    "**Remove duplicates**"
   ]
  },
  {
   "cell_type": "code",
   "execution_count": 13,
   "metadata": {},
   "outputs": [],
   "source": [
    "df[\"Duplicate_checker\"] = df['Flight_ID'] + df['Detected_Country'] + df[\"Detected_Language\"] + df[\"Detected_Country\"] + str(df[\"ticket_price\"])"
   ]
  },
  {
   "cell_type": "code",
   "execution_count": 14,
   "metadata": {},
   "outputs": [],
   "source": [
    "df_reduced = df.drop_duplicates(subset='Duplicate_checker', keep='first').copy()"
   ]
  },
  {
   "cell_type": "code",
   "execution_count": 15,
   "metadata": {},
   "outputs": [],
   "source": [
    "df_reduced = df_reduced.drop(['Duplicate_checker'], axis = 1)"
   ]
  },
  {
   "cell_type": "markdown",
   "metadata": {},
   "source": [
    "**Remove NaN and erroneous rows**"
   ]
  },
  {
   "cell_type": "code",
   "execution_count": 16,
   "metadata": {},
   "outputs": [],
   "source": [
    "df_reduced.dropna(subset=['Detected_Currency', 'ticket_price', 'Detected_Country'], inplace=True)"
   ]
  },
  {
   "cell_type": "code",
   "execution_count": 17,
   "metadata": {},
   "outputs": [],
   "source": [
    "df_reduced = df_reduced[df_reduced['ticket_price'] >= 10]"
   ]
  },
  {
   "cell_type": "markdown",
   "metadata": {},
   "source": [
    "# Feature engineering"
   ]
  },
  {
   "cell_type": "code",
   "execution_count": 18,
   "metadata": {},
   "outputs": [],
   "source": [
    "df_reduced['Price_in_USD'] = df_reduced.apply(lambda row: convert_to_usd(row, 'ticket_price', 'Detected_Currency'), axis=1)"
   ]
  },
  {
   "cell_type": "markdown",
   "metadata": {},
   "source": [
    "Creating commutime time"
   ]
  },
  {
   "cell_type": "code",
   "execution_count": 19,
   "metadata": {},
   "outputs": [],
   "source": [
    "df_reduced['commute_time'] = (df_reduced['arrival_date'] - df_reduced['departure_date']).dt.total_seconds() / 60"
   ]
  },
  {
   "cell_type": "code",
   "execution_count": 20,
   "metadata": {},
   "outputs": [],
   "source": [
    "df_reduced['query_date'] = pd.Timestamp('2024-02-15')"
   ]
  },
  {
   "cell_type": "code",
   "execution_count": 21,
   "metadata": {},
   "outputs": [],
   "source": [
    "df_reduced['days_until_departure'] = (df_reduced['departure_date'] - df_reduced['query_date']).dt.days"
   ]
  },
  {
   "cell_type": "markdown",
   "metadata": {},
   "source": [
    "**Eliminating queries with little country variance**"
   ]
  },
  {
   "cell_type": "code",
   "execution_count": 22,
   "metadata": {},
   "outputs": [],
   "source": [
    "# Count the number of different countries available per Flight_ID\n",
    "country_count_per_flight = df_reduced.groupby('Flight_ID')['Detected_Country'].nunique().reset_index(name='FlightID_in_Countries_Count')\n",
    "\n",
    "# Merge this count back into the original dataframe\n",
    "df_reduced = df_reduced.merge(country_count_per_flight, on='Flight_ID')\n"
   ]
  },
  {
   "cell_type": "code",
   "execution_count": 23,
   "metadata": {},
   "outputs": [],
   "source": [
    "df_reduced = df_reduced[df_reduced['FlightID_in_Countries_Count'] >= 8]"
   ]
  },
  {
   "cell_type": "markdown",
   "metadata": {},
   "source": [
    "**Creating Journey_ID: Identifier for identical journeys (same departure and destination airport) on same days**"
   ]
  },
  {
   "cell_type": "markdown",
   "metadata": {},
   "source": [
    "Extracting departure and arrival days"
   ]
  },
  {
   "cell_type": "code",
   "execution_count": 24,
   "metadata": {},
   "outputs": [],
   "source": [
    "df_reduced[\"departure_date_day\"] = df_reduced[\"departure_date\"].dt.strftime('%d-%m-%Y')\n",
    "df_reduced[\"arrival_date_day\"] = df_reduced[\"arrival_date\"].dt.strftime('%d-%m-%Y')"
   ]
  },
  {
   "cell_type": "markdown",
   "metadata": {},
   "source": [
    "Creating column for whole Journey"
   ]
  },
  {
   "cell_type": "code",
   "execution_count": 25,
   "metadata": {},
   "outputs": [],
   "source": [
    "df_reduced[\"Journey_route\"] = df_reduced[\"departure_airport_code\"] + \"-\" + df_reduced[\"destination_airport_code\"]"
   ]
  },
  {
   "cell_type": "code",
   "execution_count": 26,
   "metadata": {},
   "outputs": [],
   "source": [
    "df_reduced[\"Journey_ID\"] = df_reduced[\"Journey_route\"] + \": \" + df_reduced[\"departure_date_day\"] + \" \"  + df_reduced[\"arrival_date_day\"]"
   ]
  },
  {
   "cell_type": "markdown",
   "metadata": {},
   "source": [
    "**Creating Variables that analyse price differences between identical Flights**"
   ]
  },
  {
   "cell_type": "code",
   "execution_count": 27,
   "metadata": {},
   "outputs": [],
   "source": [
    "# Group by Flight_ID and calculate max, min prices and their absolute difference\n",
    "price_stats = df_reduced.groupby('Flight_ID')['Price_in_USD'].agg(['max', 'min'])\n",
    "price_stats['max_abs_diff_perIDGroup'] = price_stats['max'] - price_stats['min']\n",
    "\n",
    "# Calculate the relative difference as a percentage of the min price\n",
    "price_stats['max_rel_diff_perIDGroup'] = (price_stats['max_abs_diff_perIDGroup'] / price_stats['min']) * 100"
   ]
  },
  {
   "cell_type": "code",
   "execution_count": 28,
   "metadata": {},
   "outputs": [],
   "source": [
    "df_reduced = pd.merge(df_reduced, price_stats, on='Flight_ID', how='left')"
   ]
  },
  {
   "cell_type": "code",
   "execution_count": 29,
   "metadata": {},
   "outputs": [],
   "source": [
    "df_reduced[\"abs_diff_to_min\"] = df_reduced[\"Price_in_USD\"] - df_reduced[\"min\"]\n",
    "df_reduced[\"rel_diff_to_min\"] = ((df_reduced[\"Price_in_USD\"] /df_reduced[\"min\"] ) -1) * 100\n",
    "df_reduced['price_score_perIDGroup'] = df_reduced['rel_diff_to_min'] / df_reduced['max_rel_diff_perIDGroup']"
   ]
  },
  {
   "cell_type": "markdown",
   "metadata": {},
   "source": [
    "**Creating Variables that analyse price differences between identical Journey**"
   ]
  },
  {
   "cell_type": "code",
   "execution_count": 30,
   "metadata": {},
   "outputs": [],
   "source": [
    "# Group by Flight_ID and calculate max, min prices and their absolute difference\n",
    "price_stats_journey = df_reduced.groupby('Journey_ID')['Price_in_USD'].agg(['max', 'min'])\n",
    "price_stats_journey['max_abs_diff_perIDGroup_Journey'] = price_stats_journey['max'] - price_stats_journey['min']\n",
    "price_stats_journey.columns = ['max_journey', 'min_journey', 'max_abs_diff_perIDGroup_Journey']\n",
    "price_stats_journey['max_rel_diff_perIDGroup_Journey'] = (price_stats_journey['max_abs_diff_perIDGroup_Journey'] / price_stats_journey['min_journey']) * 100"
   ]
  },
  {
   "cell_type": "code",
   "execution_count": 31,
   "metadata": {},
   "outputs": [],
   "source": [
    "df_reduced = pd.merge(df_reduced, price_stats_journey, on='Journey_ID', how='left')"
   ]
  },
  {
   "cell_type": "code",
   "execution_count": 32,
   "metadata": {},
   "outputs": [],
   "source": [
    "df_reduced[\"abs_diff_to_min_Journey\"] = df_reduced[\"Price_in_USD\"] - df_reduced[\"min_journey\"]\n",
    "df_reduced[\"rel_diff_to_min_Journey\"] = ((df_reduced[\"Price_in_USD\"] /df_reduced[\"min_journey\"] ) -1) * 100\n",
    "df_reduced['price_score_perIDGroup_Journey'] = df_reduced['rel_diff_to_min_Journey'] / df_reduced['max_rel_diff_perIDGroup_Journey']"
   ]
  },
  {
   "cell_type": "code",
   "execution_count": 33,
   "metadata": {},
   "outputs": [
    {
     "data": {
      "text/plain": [
       "182.5517675268012"
      ]
     },
     "execution_count": 33,
     "metadata": {},
     "output_type": "execute_result"
    }
   ],
   "source": [
    "df_reduced.max_rel_diff_perIDGroup_Journey.mean()"
   ]
  },
  {
   "cell_type": "markdown",
   "metadata": {},
   "source": [
    "**Creating Variables that analyse price differences between identical Journey within the same query-country**"
   ]
  },
  {
   "cell_type": "code",
   "execution_count": 34,
   "metadata": {},
   "outputs": [],
   "source": [
    "price_stats_journey_same_country = df_reduced.groupby(['Journey_ID', 'Detected_Country'])['Price_in_USD'].agg(['max', 'min'])\n",
    "price_stats_journey_same_country['max_abs_diff_perIDGroup_Journey_same_country'] = price_stats_journey_same_country['max'] - price_stats_journey_same_country['min']\n",
    "price_stats_journey_same_country.columns = ['max_journey_same_country', 'min_journey_same_country', 'max_abs_diff_perIDGroup_Journey_same_country']\n",
    "price_stats_journey_same_country['max_rel_diff_perIDGroup_Journey_same_country'] = (price_stats_journey_same_country['max_abs_diff_perIDGroup_Journey_same_country'] / price_stats_journey_same_country['min_journey_same_country']) * 100"
   ]
  },
  {
   "cell_type": "code",
   "execution_count": 35,
   "metadata": {},
   "outputs": [
    {
     "data": {
      "text/html": [
       "<div>\n",
       "<style scoped>\n",
       "    .dataframe tbody tr th:only-of-type {\n",
       "        vertical-align: middle;\n",
       "    }\n",
       "\n",
       "    .dataframe tbody tr th {\n",
       "        vertical-align: top;\n",
       "    }\n",
       "\n",
       "    .dataframe thead th {\n",
       "        text-align: right;\n",
       "    }\n",
       "</style>\n",
       "<table border=\"1\" class=\"dataframe\">\n",
       "  <thead>\n",
       "    <tr style=\"text-align: right;\">\n",
       "      <th></th>\n",
       "      <th></th>\n",
       "      <th>max_journey_same_country</th>\n",
       "      <th>min_journey_same_country</th>\n",
       "      <th>max_abs_diff_perIDGroup_Journey_same_country</th>\n",
       "      <th>max_rel_diff_perIDGroup_Journey_same_country</th>\n",
       "    </tr>\n",
       "    <tr>\n",
       "      <th>Journey_ID</th>\n",
       "      <th>Detected_Country</th>\n",
       "      <th></th>\n",
       "      <th></th>\n",
       "      <th></th>\n",
       "      <th></th>\n",
       "    </tr>\n",
       "  </thead>\n",
       "  <tbody>\n",
       "    <tr>\n",
       "      <th rowspan=\"5\" valign=\"top\">BWI-LUX: 26-02-2024 27-02-2024</th>\n",
       "      <th>Australia</th>\n",
       "      <td>4064.940000</td>\n",
       "      <td>3678.18000</td>\n",
       "      <td>386.760000</td>\n",
       "      <td>10.514983</td>\n",
       "    </tr>\n",
       "    <tr>\n",
       "      <th>Brasil</th>\n",
       "      <td>4004.600000</td>\n",
       "      <td>3623.20000</td>\n",
       "      <td>381.400000</td>\n",
       "      <td>10.526606</td>\n",
       "    </tr>\n",
       "    <tr>\n",
       "      <th>Deutschland</th>\n",
       "      <td>4032.720000</td>\n",
       "      <td>3649.32000</td>\n",
       "      <td>383.400000</td>\n",
       "      <td>10.506067</td>\n",
       "    </tr>\n",
       "    <tr>\n",
       "      <th>Indonesia</th>\n",
       "      <td>4044.615232</td>\n",
       "      <td>3659.44608</td>\n",
       "      <td>385.169152</td>\n",
       "      <td>10.525340</td>\n",
       "    </tr>\n",
       "    <tr>\n",
       "      <th>Polska</th>\n",
       "      <td>4032.750000</td>\n",
       "      <td>3648.75000</td>\n",
       "      <td>384.000000</td>\n",
       "      <td>10.524152</td>\n",
       "    </tr>\n",
       "    <tr>\n",
       "      <th>...</th>\n",
       "      <th>...</th>\n",
       "      <td>...</td>\n",
       "      <td>...</td>\n",
       "      <td>...</td>\n",
       "      <td>...</td>\n",
       "    </tr>\n",
       "    <tr>\n",
       "      <th rowspan=\"5\" valign=\"top\">ZAG-NRT: 05-11-2024 07-11-2024</th>\n",
       "      <th>Polska</th>\n",
       "      <td>1022.000000</td>\n",
       "      <td>1022.00000</td>\n",
       "      <td>0.000000</td>\n",
       "      <td>0.000000</td>\n",
       "    </tr>\n",
       "    <tr>\n",
       "      <th>Schweiz</th>\n",
       "      <td>1029.420000</td>\n",
       "      <td>1029.42000</td>\n",
       "      <td>0.000000</td>\n",
       "      <td>0.000000</td>\n",
       "    </tr>\n",
       "    <tr>\n",
       "      <th>Shqipëri</th>\n",
       "      <td>985.100000</td>\n",
       "      <td>985.10000</td>\n",
       "      <td>0.000000</td>\n",
       "      <td>0.000000</td>\n",
       "    </tr>\n",
       "    <tr>\n",
       "      <th>Türkiye</th>\n",
       "      <td>1020.416000</td>\n",
       "      <td>1020.41600</td>\n",
       "      <td>0.000000</td>\n",
       "      <td>0.000000</td>\n",
       "    </tr>\n",
       "    <tr>\n",
       "      <th>বাংলাদেশ</th>\n",
       "      <td>1023.922900</td>\n",
       "      <td>1023.92290</td>\n",
       "      <td>0.000000</td>\n",
       "      <td>0.000000</td>\n",
       "    </tr>\n",
       "  </tbody>\n",
       "</table>\n",
       "<p>565 rows × 4 columns</p>\n",
       "</div>"
      ],
      "text/plain": [
       "                                                 max_journey_same_country  \\\n",
       "Journey_ID                     Detected_Country                             \n",
       "BWI-LUX: 26-02-2024 27-02-2024 Australia                      4064.940000   \n",
       "                               Brasil                         4004.600000   \n",
       "                               Deutschland                    4032.720000   \n",
       "                               Indonesia                      4044.615232   \n",
       "                               Polska                         4032.750000   \n",
       "...                                                                   ...   \n",
       "ZAG-NRT: 05-11-2024 07-11-2024 Polska                         1022.000000   \n",
       "                               Schweiz                        1029.420000   \n",
       "                               Shqipëri                        985.100000   \n",
       "                               Türkiye                        1020.416000   \n",
       "                               বাংলাদেশ                       1023.922900   \n",
       "\n",
       "                                                 min_journey_same_country  \\\n",
       "Journey_ID                     Detected_Country                             \n",
       "BWI-LUX: 26-02-2024 27-02-2024 Australia                       3678.18000   \n",
       "                               Brasil                          3623.20000   \n",
       "                               Deutschland                     3649.32000   \n",
       "                               Indonesia                       3659.44608   \n",
       "                               Polska                          3648.75000   \n",
       "...                                                                   ...   \n",
       "ZAG-NRT: 05-11-2024 07-11-2024 Polska                          1022.00000   \n",
       "                               Schweiz                         1029.42000   \n",
       "                               Shqipëri                         985.10000   \n",
       "                               Türkiye                         1020.41600   \n",
       "                               বাংলাদেশ                        1023.92290   \n",
       "\n",
       "                                                 max_abs_diff_perIDGroup_Journey_same_country  \\\n",
       "Journey_ID                     Detected_Country                                                 \n",
       "BWI-LUX: 26-02-2024 27-02-2024 Australia                                           386.760000   \n",
       "                               Brasil                                              381.400000   \n",
       "                               Deutschland                                         383.400000   \n",
       "                               Indonesia                                           385.169152   \n",
       "                               Polska                                              384.000000   \n",
       "...                                                                                       ...   \n",
       "ZAG-NRT: 05-11-2024 07-11-2024 Polska                                                0.000000   \n",
       "                               Schweiz                                               0.000000   \n",
       "                               Shqipëri                                              0.000000   \n",
       "                               Türkiye                                               0.000000   \n",
       "                               বাংলাদেশ                                              0.000000   \n",
       "\n",
       "                                                 max_rel_diff_perIDGroup_Journey_same_country  \n",
       "Journey_ID                     Detected_Country                                                \n",
       "BWI-LUX: 26-02-2024 27-02-2024 Australia                                            10.514983  \n",
       "                               Brasil                                               10.526606  \n",
       "                               Deutschland                                          10.506067  \n",
       "                               Indonesia                                            10.525340  \n",
       "                               Polska                                               10.524152  \n",
       "...                                                                                       ...  \n",
       "ZAG-NRT: 05-11-2024 07-11-2024 Polska                                                0.000000  \n",
       "                               Schweiz                                               0.000000  \n",
       "                               Shqipëri                                              0.000000  \n",
       "                               Türkiye                                               0.000000  \n",
       "                               বাংলাদেশ                                              0.000000  \n",
       "\n",
       "[565 rows x 4 columns]"
      ]
     },
     "execution_count": 35,
     "metadata": {},
     "output_type": "execute_result"
    }
   ],
   "source": [
    "price_stats_journey_same_country"
   ]
  },
  {
   "cell_type": "code",
   "execution_count": 36,
   "metadata": {},
   "outputs": [],
   "source": [
    "df_reduced = pd.merge(df_reduced, price_stats_journey_same_country, on=['Journey_ID','Detected_Country'], how='left')"
   ]
  },
  {
   "cell_type": "code",
   "execution_count": 37,
   "metadata": {},
   "outputs": [],
   "source": [
    "df_reduced[\"price_diff_loc_to_glob_Journey_min\"] = df_reduced[\"min_journey_same_country\"] - df_reduced[\"min_journey\"]"
   ]
  },
  {
   "cell_type": "code",
   "execution_count": 38,
   "metadata": {},
   "outputs": [],
   "source": [
    "df_reduced[\"rel_price_diff_loc_to_glob_Journey_min\"] = (df_reduced[\"price_diff_loc_to_glob_Journey_min\"] / df_reduced[\"min_journey\"]) * 100"
   ]
  },
  {
   "cell_type": "code",
   "execution_count": 85,
   "metadata": {},
   "outputs": [
    {
     "data": {
      "text/plain": [
       "4.509578187892165"
      ]
     },
     "execution_count": 85,
     "metadata": {},
     "output_type": "execute_result"
    }
   ],
   "source": [
    "df_reduced.rel_price_diff_loc_to_glob_Journey_min.mean()"
   ]
  },
  {
   "cell_type": "code",
   "execution_count": 40,
   "metadata": {},
   "outputs": [
    {
     "name": "stdout",
     "output_type": "stream",
     "text": [
      "Detected_Country\n",
      "Australia              7.035948\n",
      "Brasil                 3.084377\n",
      "Deutschland            3.859205\n",
      "Indonesia              3.959648\n",
      "Palestine              4.120533\n",
      "Polska                 3.835188\n",
      "Schweiz                4.383528\n",
      "Shqipëri               0.358481\n",
      "Türkiye                3.597201\n",
      "United Kingdom         7.392782\n",
      "Vereinigte Staaten     4.479632\n",
      "বাংলাদেশ               3.802642\n",
      "日本                    17.559797\n",
      "Name: rel_price_diff_loc_to_glob_Journey_min, dtype: float64\n"
     ]
    }
   ],
   "source": [
    "# Group by 'Detected_Country' and calculate the mean of 'rel_price_diff_loc_to_glob_Journey_min'\n",
    "grouped_means = df_reduced.groupby('Detected_Country')['rel_price_diff_loc_to_glob_Journey_min'].mean()\n",
    "\n",
    "# Display the result\n",
    "print(grouped_means)\n"
   ]
  },
  {
   "cell_type": "code",
   "execution_count": 41,
   "metadata": {},
   "outputs": [
    {
     "data": {
      "text/plain": [
       "Journey_ID                      Detected_Country\n",
       "BWI-LUX: 26-02-2024 27-02-2024  Australia           10.514983\n",
       "                                Brasil              10.526606\n",
       "                                Deutschland         10.506067\n",
       "                                Indonesia           10.525340\n",
       "                                Polska              10.524152\n",
       "                                                      ...    \n",
       "ZAG-NRT: 05-11-2024 07-11-2024  Polska               0.000000\n",
       "                                Schweiz              0.000000\n",
       "                                Shqipëri             0.000000\n",
       "                                Türkiye              0.000000\n",
       "                                বাংলাদেশ             0.000000\n",
       "Length: 565, dtype: float64"
      ]
     },
     "execution_count": 41,
     "metadata": {},
     "output_type": "execute_result"
    }
   ],
   "source": [
    "(price_stats_journey_same_country['max_abs_diff_perIDGroup_Journey_same_country'] / price_stats_journey_same_country['min_journey_same_country']) * 100"
   ]
  },
  {
   "cell_type": "code",
   "execution_count": 86,
   "metadata": {},
   "outputs": [
    {
     "data": {
      "text/plain": [
       "1327.7550782660333"
      ]
     },
     "execution_count": 86,
     "metadata": {},
     "output_type": "execute_result"
    }
   ],
   "source": [
    "df_reduced.Price_in_USD.mean()"
   ]
  },
  {
   "cell_type": "code",
   "execution_count": 91,
   "metadata": {},
   "outputs": [
    {
     "data": {
      "text/plain": [
       "4.509578187892165"
      ]
     },
     "execution_count": 91,
     "metadata": {},
     "output_type": "execute_result"
    }
   ],
   "source": [
    "df_reduced.rel_price_diff_loc_to_glob_Journey_min.mean()"
   ]
  },
  {
   "cell_type": "code",
   "execution_count": 42,
   "metadata": {},
   "outputs": [],
   "source": [
    "\n",
    "# Step 1: Filter to get rows where Price_in_USD equals the min for each Flight_ID\n",
    "cheapest_mask_journey = df_reduced['Price_in_USD'] == df_reduced['min_journey']\n",
    "cheapest_journeys = df_reduced[cheapest_mask_journey]\n",
    "\n",
    "# Group by Flight_ID and select the first Detected_Country name alphabetically\n",
    "cheapest_locations_journey = cheapest_journeys.groupby('Journey_ID')['Detected_Country'].min().reset_index()\n",
    "\n",
    "# Rename the column for clarity\n",
    "cheapest_locations_journey.rename(columns={'Detected_Country': 'Cheapest_Location_Journey'}, inplace=True)\n",
    "\n",
    "# Step 2: Merge this information back with the original DataFrame\n",
    "df_reduced = df_reduced.merge(cheapest_locations_journey, on='Journey_ID', how='left')\n"
   ]
  },
  {
   "cell_type": "code",
   "execution_count": 43,
   "metadata": {},
   "outputs": [
    {
     "data": {
      "text/html": [
       "<div>\n",
       "<style scoped>\n",
       "    .dataframe tbody tr th:only-of-type {\n",
       "        vertical-align: middle;\n",
       "    }\n",
       "\n",
       "    .dataframe tbody tr th {\n",
       "        vertical-align: top;\n",
       "    }\n",
       "\n",
       "    .dataframe thead th {\n",
       "        text-align: right;\n",
       "    }\n",
       "</style>\n",
       "<table border=\"1\" class=\"dataframe\">\n",
       "  <thead>\n",
       "    <tr style=\"text-align: right;\">\n",
       "      <th></th>\n",
       "      <th>airline_code</th>\n",
       "      <th>departure_airport_code</th>\n",
       "      <th>destination_airport_code</th>\n",
       "      <th>ticket_price</th>\n",
       "      <th>departure_date</th>\n",
       "      <th>arrival_date</th>\n",
       "      <th>First_flight</th>\n",
       "      <th>first_flight_code</th>\n",
       "      <th>last_flight_code</th>\n",
       "      <th>Detected_Language</th>\n",
       "      <th>...</th>\n",
       "      <th>abs_diff_to_min_Journey</th>\n",
       "      <th>rel_diff_to_min_Journey</th>\n",
       "      <th>price_score_perIDGroup_Journey</th>\n",
       "      <th>max_journey_same_country</th>\n",
       "      <th>min_journey_same_country</th>\n",
       "      <th>max_abs_diff_perIDGroup_Journey_same_country</th>\n",
       "      <th>max_rel_diff_perIDGroup_Journey_same_country</th>\n",
       "      <th>price_diff_loc_to_glob_Journey_min</th>\n",
       "      <th>rel_price_diff_loc_to_glob_Journey_min</th>\n",
       "      <th>Cheapest_Location_Journey</th>\n",
       "    </tr>\n",
       "  </thead>\n",
       "  <tbody>\n",
       "    <tr>\n",
       "      <th>0</th>\n",
       "      <td>AA</td>\n",
       "      <td>CLT</td>\n",
       "      <td>CUN</td>\n",
       "      <td>383</td>\n",
       "      <td>2024-06-26 07:15:00</td>\n",
       "      <td>2024-06-26 09:10:00</td>\n",
       "      <td>CLT-CUN</td>\n",
       "      <td>AA881</td>\n",
       "      <td>AA881</td>\n",
       "      <td>Deutsch</td>\n",
       "      <td>...</td>\n",
       "      <td>16.28</td>\n",
       "      <td>4.097040</td>\n",
       "      <td>0.065677</td>\n",
       "      <td>641.52</td>\n",
       "      <td>413.64</td>\n",
       "      <td>227.88</td>\n",
       "      <td>55.091384</td>\n",
       "      <td>16.28</td>\n",
       "      <td>4.09704</td>\n",
       "      <td>Shqipëri</td>\n",
       "    </tr>\n",
       "    <tr>\n",
       "      <th>1</th>\n",
       "      <td>AA</td>\n",
       "      <td>CLT</td>\n",
       "      <td>CUN</td>\n",
       "      <td>383</td>\n",
       "      <td>2024-06-26 11:50:00</td>\n",
       "      <td>2024-06-26 13:54:00</td>\n",
       "      <td>CLT-CUN</td>\n",
       "      <td>AA886</td>\n",
       "      <td>AA886</td>\n",
       "      <td>Deutsch</td>\n",
       "      <td>...</td>\n",
       "      <td>16.28</td>\n",
       "      <td>4.097040</td>\n",
       "      <td>0.065677</td>\n",
       "      <td>641.52</td>\n",
       "      <td>413.64</td>\n",
       "      <td>227.88</td>\n",
       "      <td>55.091384</td>\n",
       "      <td>16.28</td>\n",
       "      <td>4.09704</td>\n",
       "      <td>Shqipëri</td>\n",
       "    </tr>\n",
       "    <tr>\n",
       "      <th>2</th>\n",
       "      <td>AA</td>\n",
       "      <td>CLT</td>\n",
       "      <td>CUN</td>\n",
       "      <td>383</td>\n",
       "      <td>2024-06-26 13:05:00</td>\n",
       "      <td>2024-06-26 14:59:00</td>\n",
       "      <td>CLT-CUN</td>\n",
       "      <td>AA1778</td>\n",
       "      <td>AA1778</td>\n",
       "      <td>Deutsch</td>\n",
       "      <td>...</td>\n",
       "      <td>16.28</td>\n",
       "      <td>4.097040</td>\n",
       "      <td>0.065677</td>\n",
       "      <td>641.52</td>\n",
       "      <td>413.64</td>\n",
       "      <td>227.88</td>\n",
       "      <td>55.091384</td>\n",
       "      <td>16.28</td>\n",
       "      <td>4.09704</td>\n",
       "      <td>Shqipëri</td>\n",
       "    </tr>\n",
       "    <tr>\n",
       "      <th>3</th>\n",
       "      <td>AA</td>\n",
       "      <td>CLT</td>\n",
       "      <td>CUN</td>\n",
       "      <td>410</td>\n",
       "      <td>2024-06-26 09:05:00</td>\n",
       "      <td>2024-06-26 11:13:00</td>\n",
       "      <td>CLT-CUN</td>\n",
       "      <td>AA895</td>\n",
       "      <td>AA895</td>\n",
       "      <td>Deutsch</td>\n",
       "      <td>...</td>\n",
       "      <td>45.44</td>\n",
       "      <td>11.435474</td>\n",
       "      <td>0.183315</td>\n",
       "      <td>641.52</td>\n",
       "      <td>413.64</td>\n",
       "      <td>227.88</td>\n",
       "      <td>55.091384</td>\n",
       "      <td>16.28</td>\n",
       "      <td>4.09704</td>\n",
       "      <td>Shqipëri</td>\n",
       "    </tr>\n",
       "    <tr>\n",
       "      <th>4</th>\n",
       "      <td>UA</td>\n",
       "      <td>CLT</td>\n",
       "      <td>CUN</td>\n",
       "      <td>401</td>\n",
       "      <td>2024-06-26 10:07:00</td>\n",
       "      <td>2024-06-26 15:51:00</td>\n",
       "      <td>CLT-IAD</td>\n",
       "      <td>UA1361</td>\n",
       "      <td>UA1618</td>\n",
       "      <td>Deutsch</td>\n",
       "      <td>...</td>\n",
       "      <td>35.72</td>\n",
       "      <td>8.989330</td>\n",
       "      <td>0.144102</td>\n",
       "      <td>641.52</td>\n",
       "      <td>413.64</td>\n",
       "      <td>227.88</td>\n",
       "      <td>55.091384</td>\n",
       "      <td>16.28</td>\n",
       "      <td>4.09704</td>\n",
       "      <td>Shqipëri</td>\n",
       "    </tr>\n",
       "  </tbody>\n",
       "</table>\n",
       "<p>5 rows × 43 columns</p>\n",
       "</div>"
      ],
      "text/plain": [
       "  airline_code departure_airport_code destination_airport_code  ticket_price  \\\n",
       "0           AA                    CLT                      CUN           383   \n",
       "1           AA                    CLT                      CUN           383   \n",
       "2           AA                    CLT                      CUN           383   \n",
       "3           AA                    CLT                      CUN           410   \n",
       "4           UA                    CLT                      CUN           401   \n",
       "\n",
       "       departure_date        arrival_date First_flight first_flight_code  \\\n",
       "0 2024-06-26 07:15:00 2024-06-26 09:10:00      CLT-CUN             AA881   \n",
       "1 2024-06-26 11:50:00 2024-06-26 13:54:00      CLT-CUN             AA886   \n",
       "2 2024-06-26 13:05:00 2024-06-26 14:59:00      CLT-CUN            AA1778   \n",
       "3 2024-06-26 09:05:00 2024-06-26 11:13:00      CLT-CUN             AA895   \n",
       "4 2024-06-26 10:07:00 2024-06-26 15:51:00      CLT-IAD            UA1361   \n",
       "\n",
       "  last_flight_code Detected_Language  ... abs_diff_to_min_Journey  \\\n",
       "0            AA881           Deutsch  ...                   16.28   \n",
       "1            AA886           Deutsch  ...                   16.28   \n",
       "2           AA1778           Deutsch  ...                   16.28   \n",
       "3            AA895           Deutsch  ...                   45.44   \n",
       "4           UA1618           Deutsch  ...                   35.72   \n",
       "\n",
       "  rel_diff_to_min_Journey price_score_perIDGroup_Journey  \\\n",
       "0                4.097040                       0.065677   \n",
       "1                4.097040                       0.065677   \n",
       "2                4.097040                       0.065677   \n",
       "3               11.435474                       0.183315   \n",
       "4                8.989330                       0.144102   \n",
       "\n",
       "   max_journey_same_country  min_journey_same_country  \\\n",
       "0                    641.52                    413.64   \n",
       "1                    641.52                    413.64   \n",
       "2                    641.52                    413.64   \n",
       "3                    641.52                    413.64   \n",
       "4                    641.52                    413.64   \n",
       "\n",
       "  max_abs_diff_perIDGroup_Journey_same_country  \\\n",
       "0                                       227.88   \n",
       "1                                       227.88   \n",
       "2                                       227.88   \n",
       "3                                       227.88   \n",
       "4                                       227.88   \n",
       "\n",
       "   max_rel_diff_perIDGroup_Journey_same_country  \\\n",
       "0                                     55.091384   \n",
       "1                                     55.091384   \n",
       "2                                     55.091384   \n",
       "3                                     55.091384   \n",
       "4                                     55.091384   \n",
       "\n",
       "   price_diff_loc_to_glob_Journey_min rel_price_diff_loc_to_glob_Journey_min  \\\n",
       "0                               16.28                                4.09704   \n",
       "1                               16.28                                4.09704   \n",
       "2                               16.28                                4.09704   \n",
       "3                               16.28                                4.09704   \n",
       "4                               16.28                                4.09704   \n",
       "\n",
       "  Cheapest_Location_Journey  \n",
       "0                  Shqipëri  \n",
       "1                  Shqipëri  \n",
       "2                  Shqipëri  \n",
       "3                  Shqipëri  \n",
       "4                  Shqipëri  \n",
       "\n",
       "[5 rows x 43 columns]"
      ]
     },
     "execution_count": 43,
     "metadata": {},
     "output_type": "execute_result"
    }
   ],
   "source": [
    "df_reduced.head()"
   ]
  },
  {
   "cell_type": "code",
   "execution_count": 44,
   "metadata": {},
   "outputs": [],
   "source": [
    "\n",
    "# Step 1: Filter to get rows where Price_in_USD equals the min for each Flight_ID\n",
    "cheapest_mask = df_reduced['Price_in_USD'] == df_reduced['min']\n",
    "cheapest_flights = df_reduced[cheapest_mask]\n",
    "\n",
    "# Group by Flight_ID and select the first Detected_Country name alphabetically\n",
    "cheapest_locations = cheapest_flights.groupby('Flight_ID')['Detected_Country'].min().reset_index()\n",
    "\n",
    "# Rename the column for clarity\n",
    "cheapest_locations.rename(columns={'Detected_Country': 'Cheapest_Location_Flight'}, inplace=True)\n",
    "\n",
    "# Step 2: Merge this information back with the original DataFrame\n",
    "df_reduced = df_reduced.merge(cheapest_locations, on='Flight_ID', how='left')\n"
   ]
  },
  {
   "cell_type": "code",
   "execution_count": 45,
   "metadata": {},
   "outputs": [
    {
     "data": {
      "text/plain": [
       "Cheapest_Location_Flight\n",
       "Shqipëri          2167\n",
       "Brasil             259\n",
       "日本                  90\n",
       "United Kingdom      10\n",
       "Name: count, dtype: int64"
      ]
     },
     "execution_count": 45,
     "metadata": {},
     "output_type": "execute_result"
    }
   ],
   "source": [
    "df_reduced.Cheapest_Location_Flight.value_counts()"
   ]
  },
  {
   "cell_type": "markdown",
   "metadata": {},
   "source": [
    "# Descriptive Statistics"
   ]
  },
  {
   "cell_type": "markdown",
   "metadata": {},
   "source": [
    "**_These countries are connected with higher Prices for identical flights_**"
   ]
  },
  {
   "cell_type": "code",
   "execution_count": 46,
   "metadata": {},
   "outputs": [
    {
     "data": {
      "text/plain": [
       "Detected_Country\n",
       "Schweiz               266\n",
       "Australia             222\n",
       "Indonesia             197\n",
       "Polska                185\n",
       "বাংলাদেশ              164\n",
       "Deutschland           162\n",
       "United Kingdom         89\n",
       "Palestine              87\n",
       "Vereinigte Staaten     47\n",
       "Türkiye                39\n",
       "Brasil                  2\n",
       "日本                      1\n",
       "Name: count, dtype: int64"
      ]
     },
     "execution_count": 46,
     "metadata": {},
     "output_type": "execute_result"
    }
   ],
   "source": [
    "temp_df_exp = df_reduced[df_reduced['price_score_perIDGroup'] > 0.8]\n",
    "temp_df_exp.Detected_Country.value_counts()"
   ]
  },
  {
   "cell_type": "markdown",
   "metadata": {},
   "source": [
    "**_These countries are connected with lower prices for identical flights_**"
   ]
  },
  {
   "cell_type": "code",
   "execution_count": 47,
   "metadata": {},
   "outputs": [
    {
     "data": {
      "text/plain": [
       "Detected_Country\n",
       "Shqipëri          245\n",
       "Polska              8\n",
       "Türkiye             8\n",
       "Brasil              8\n",
       "বাংলাদেশ            8\n",
       "Indonesia           6\n",
       "Schweiz             6\n",
       "Deutschland         4\n",
       "United Kingdom      1\n",
       "日本                  1\n",
       "Australia           1\n",
       "Name: count, dtype: int64"
      ]
     },
     "execution_count": 47,
     "metadata": {},
     "output_type": "execute_result"
    }
   ],
   "source": [
    "temp_df_cheap = df_reduced[(df_reduced['max_rel_diff_perIDGroup'] > 4) & (df_reduced['price_score_perIDGroup'] < 0.2)]\n",
    "temp_df_cheap.Detected_Country.value_counts()"
   ]
  },
  {
   "cell_type": "markdown",
   "metadata": {},
   "source": [
    "Distribution shows tendency of having more \"expensive\" flights (flights close to max-price) and less variation in general"
   ]
  },
  {
   "cell_type": "code",
   "execution_count": 48,
   "metadata": {},
   "outputs": [
    {
     "data": {
      "image/png": "[encoded data removed]",
      "text/plain": [
       "<Figure size 640x480 with 1 Axes>"
      ]
     },
     "metadata": {},
     "output_type": "display_data"
    }
   ],
   "source": [
    "import pandas as pd\n",
    "import matplotlib.pyplot as plt\n",
    "\n",
    "# Assuming df_reduced is your DataFrame\n",
    "# Plotting the histogram\n",
    "df_reduced['price_score_perIDGroup'].plot.hist(bins=10, range=(0, 1), edgecolor='black')\n",
    "\n",
    "plt.title('Distribution of flight prices (normed)')\n",
    "plt.xlabel('Price Score per FlightID (cheapest flight = 0, most expensive = 1)')\n",
    "plt.ylabel('Frequency')\n",
    "plt.grid(axis='y', alpha=0.75)  # Optional: Add grid lines for better readability\n",
    "\n",
    "plt.show()"
   ]
  },
  {
   "cell_type": "markdown",
   "metadata": {},
   "source": [
    "** Average indicates that the average maximum relative difference increases with Price**"
   ]
  },
  {
   "cell_type": "code",
   "execution_count": 49,
   "metadata": {},
   "outputs": [
    {
     "data": {
      "image/png": "[encoded data removed]",
      "text/plain": [
       "<Figure size 1000x600 with 1 Axes>"
      ]
     },
     "metadata": {},
     "output_type": "display_data"
    }
   ],
   "source": [
    "import pandas as pd\n",
    "import seaborn as sns\n",
    "import matplotlib.pyplot as plt\n",
    "\n",
    "# Assuming df_reduced is your DataFrame and it already contains 'max_rel_diff_perIDGroup'\n",
    "\n",
    "# Plotting\n",
    "plt.figure(figsize=(10, 6))\n",
    "sns.histplot(df_reduced['max_rel_diff_perIDGroup'], kde=True, binrange=(0, 20))  # 'kde=True' adds a kernel density estimate curve over the histogram, binrange limits the data shown\n",
    "plt.title('Distribution of Maximum Relative Difference per ID Group')\n",
    "plt.xlabel('Maximum Relative Difference (%)')\n",
    "plt.ylabel('Frequency')\n",
    "plt.xlim(0, 20)  # Set the x-axis limits to only display from 0 to 20\n",
    "plt.tight_layout()\n",
    "plt.show()\n",
    "\n"
   ]
  },
  {
   "cell_type": "code",
   "execution_count": 50,
   "metadata": {},
   "outputs": [
    {
     "data": {
      "text/plain": [
       "Index(['airline_code', 'departure_airport_code', 'destination_airport_code',\n",
       "       'ticket_price', 'departure_date', 'arrival_date', 'First_flight',\n",
       "       'first_flight_code', 'last_flight_code', 'Detected_Language',\n",
       "       'Detected_Country', 'Detected_Currency', 'Flight_ID', 'Price_in_USD',\n",
       "       'commute_time', 'query_date', 'days_until_departure',\n",
       "       'FlightID_in_Countries_Count', 'departure_date_day', 'arrival_date_day',\n",
       "       'Journey_route', 'Journey_ID', 'max', 'min', 'max_abs_diff_perIDGroup',\n",
       "       'max_rel_diff_perIDGroup', 'abs_diff_to_min', 'rel_diff_to_min',\n",
       "       'price_score_perIDGroup', 'max_journey', 'min_journey',\n",
       "       'max_abs_diff_perIDGroup_Journey', 'max_rel_diff_perIDGroup_Journey',\n",
       "       'abs_diff_to_min_Journey', 'rel_diff_to_min_Journey',\n",
       "       'price_score_perIDGroup_Journey', 'max_journey_same_country',\n",
       "       'min_journey_same_country',\n",
       "       'max_abs_diff_perIDGroup_Journey_same_country',\n",
       "       'max_rel_diff_perIDGroup_Journey_same_country',\n",
       "       'price_diff_loc_to_glob_Journey_min',\n",
       "       'rel_price_diff_loc_to_glob_Journey_min', 'Cheapest_Location_Journey',\n",
       "       'Cheapest_Location_Flight'],\n",
       "      dtype='object')"
      ]
     },
     "execution_count": 50,
     "metadata": {},
     "output_type": "execute_result"
    }
   ],
   "source": [
    "df_reduced.columns"
   ]
  },
  {
   "cell_type": "code",
   "execution_count": 51,
   "metadata": {},
   "outputs": [
    {
     "data": {
      "image/png": "[encoded data removed]",
      "text/plain": [
       "<Figure size 1000x600 with 1 Axes>"
      ]
     },
     "metadata": {},
     "output_type": "display_data"
    }
   ],
   "source": [
    "import pandas as pd\n",
    "import seaborn as sns\n",
    "import matplotlib.pyplot as plt\n",
    "\n",
    "# Define the bins and labels for 'Price_in_USD'\n",
    "bins = [0, 100, 500, 1000, float('inf')]\n",
    "labels = ['<100', '100-500', '500-1000', '>1000']\n",
    "\n",
    "# Bin 'Price_in_USD' into the defined categories\n",
    "df_reduced['Price_Category'] = pd.cut(df_reduced['Price_in_USD'], bins=bins, labels=labels)\n",
    "\n",
    "# Group by the new 'Price_Category' and calculate the mean 'rel_diff' for each category\n",
    "avg_rel_diff_by_price_cat = df_reduced.groupby('Price_Category', observed=True)['max_rel_diff_perIDGroup'].mean().reset_index()\n",
    "\n",
    "# Plotting\n",
    "plt.figure(figsize=(10, 6))\n",
    "sns.barplot(data=avg_rel_diff_by_price_cat, x='Price_Category', y='max_rel_diff_perIDGroup')\n",
    "plt.title('Average maximum relative price difference for flights')\n",
    "plt.xlabel('Price in USD Category')\n",
    "plt.ylabel('Average Relative Difference (%)')\n",
    "plt.tight_layout()\n",
    "plt.show()\n"
   ]
  },
  {
   "cell_type": "markdown",
   "metadata": {},
   "source": [
    "** Median doesnt show this effect **"
   ]
  },
  {
   "cell_type": "code",
   "execution_count": 52,
   "metadata": {},
   "outputs": [
    {
     "data": {
      "image/png": "[encoded data removed]",
      "text/plain": [
       "<Figure size 1000x600 with 1 Axes>"
      ]
     },
     "metadata": {},
     "output_type": "display_data"
    }
   ],
   "source": [
    "import pandas as pd\n",
    "import seaborn as sns\n",
    "import matplotlib.pyplot as plt\n",
    "\n",
    "# Define the bins and labels for 'Price_in_USD'\n",
    "bins = [0, 100, 500, 1000, float('inf')]\n",
    "labels = ['<100', '100-500', '500-1000', '>1000']\n",
    "\n",
    "# Bin 'Price_in_USD' into the defined categories\n",
    "df_reduced['Price_Category'] = pd.cut(df_reduced['Price_in_USD'], bins=bins, labels=labels)\n",
    "\n",
    "# Group by the new 'Price_Category' and calculate the mean 'rel_diff' for each category\n",
    "avg_rel_diff_by_price_cat = df_reduced.groupby('Price_Category', observed=True)['max_rel_diff_perIDGroup'].median().reset_index()\n",
    "\n",
    "# Plotting\n",
    "plt.figure(figsize=(10, 6))\n",
    "sns.barplot(data=avg_rel_diff_by_price_cat, x='Price_Category', y='max_rel_diff_perIDGroup')\n",
    "plt.title('Median Relative Difference in Price by Price Category')\n",
    "plt.xlabel('Price in USD Category')\n",
    "plt.ylabel('Average Relative Difference (%)')\n",
    "plt.tight_layout()\n",
    "plt.show()"
   ]
  },
  {
   "cell_type": "markdown",
   "metadata": {},
   "source": [
    "**The average price spread grows with commute time**"
   ]
  },
  {
   "cell_type": "code",
   "execution_count": 53,
   "metadata": {},
   "outputs": [
    {
     "data": {
      "image/png": "[encoded data removed]",
      "text/plain": [
       "<Figure size 1000x600 with 1 Axes>"
      ]
     },
     "metadata": {},
     "output_type": "display_data"
    }
   ],
   "source": [
    "# Adjust bins based on the new categories in minutes\n",
    "bins = [-float('inf'), 120, 240, 480,750, float('inf')]\n",
    "labels = ['<2h', '2-4h', '4-6h','6-8' ,'>8h']\n",
    "\n",
    "# Bin 'commute_time' into categories directly, no need to convert to hours since it's already in minutes\n",
    "df_reduced['Commute_Time_Category'] = pd.cut(df_reduced['commute_time'], bins=bins, labels=labels)\n",
    "\n",
    "# Group by the new 'Commute_Time_Category' and calculate the mean 'max_rel_diff_perIDGroup' for each category\n",
    "avg_rel_diff_by_commute_cat = df_reduced.groupby('Commute_Time_Category', observed = True)['max_rel_diff_perIDGroup'].mean().reset_index()\n",
    "\n",
    "# Plotting the average relative difference by commute time category\n",
    "plt.figure(figsize=(10, 6))\n",
    "sns.barplot(data=avg_rel_diff_by_commute_cat, x='Commute_Time_Category', y='max_rel_diff_perIDGroup')\n",
    "plt.title('Average maximum relative price difference by Commute Time')\n",
    "plt.xlabel('Commute Time')\n",
    "plt.ylabel('Average Relative Difference (%)')\n",
    "plt.tight_layout()\n",
    "plt.show()\n"
   ]
  },
  {
   "cell_type": "markdown",
   "metadata": {},
   "source": [
    "**Most Airlines seem to have an average price-spread in between of 3.5 and 4.5**"
   ]
  },
  {
   "cell_type": "code",
   "execution_count": 54,
   "metadata": {},
   "outputs": [
    {
     "data": {
      "image/png": "[encoded data removed]",
      "text/plain": [
       "<Figure size 1000x600 with 1 Axes>"
      ]
     },
     "metadata": {},
     "output_type": "display_data"
    }
   ],
   "source": [
    "import pandas as pd\n",
    "import matplotlib.pyplot as plt\n",
    "import seaborn as sns\n",
    "\n",
    "# Step 1: Calculate the conditional mean of 'rel_diff' for each airline\n",
    "avg_rel_diff_per_airline = df_reduced.groupby('airline_code', observed=True)['max_rel_diff_perIDGroup'].mean().reset_index()\n",
    "\n",
    "# Define bins and labels for the categorized means\n",
    "bins = [0.5, 1.5, 2.5, 3.5, 4.5, 5.5, float('inf')]\n",
    "labels = [ '0.5-1.5', '1.5-2.5', '2.5-3.5', '3.5-4.5', '4.5-5.5', '>5.5']\n",
    "\n",
    "# Step 2: Categorize these averages into the specified bins\n",
    "avg_rel_diff_per_airline['avg_rel_diff_bin'] = pd.cut(avg_rel_diff_per_airline['max_rel_diff_perIDGroup'], bins=bins, labels=labels)\n",
    "\n",
    "# Step 3: Count how many airlines fall into each bin\n",
    "airlines_per_bin = avg_rel_diff_per_airline['avg_rel_diff_bin'].value_counts().sort_index()\n",
    "\n",
    "# Plotting the result\n",
    "airlines_per_bin.plot(kind='bar', figsize=(10, 6), color='skyblue')\n",
    "plt.title('Number of Airlines by Average Relative Difference Bin')\n",
    "plt.xlabel('Average Relative Difference Bin')\n",
    "plt.ylabel('Number of Airlines')\n",
    "plt.xticks(rotation=45)\n",
    "plt.grid(axis='y', linestyle='--')\n",
    "plt.show()\n"
   ]
  },
  {
   "cell_type": "markdown",
   "metadata": {},
   "source": [
    "**Which airlines change their prices based on location**"
   ]
  },
  {
   "cell_type": "code",
   "execution_count": 55,
   "metadata": {},
   "outputs": [
    {
     "name": "stdout",
     "output_type": "stream",
     "text": [
      "  avg_rel_diff_bin                                           Airlines\n",
      "0          0.5-1.5                                                 []\n",
      "1          1.5-2.5                                               [XE]\n",
      "2          2.5-3.5                                               [DL]\n",
      "3          3.5-4.5                               [AS, LA, LH, TK, TP]\n",
      "4          4.5-5.5  [AA, AF, AM, AV, AZ, BA, BR, CM, CX, F9, JL, L...\n",
      "5             >5.5                    [AC, EK, IB, KL, QR, UA, multi]\n"
     ]
    },
    {
     "name": "stderr",
     "output_type": "stream",
     "text": [
      "/var/folders/fs/20409g9545qdjn0qhsrcd8q80000gn/T/ipykernel_46181/811506572.py:2: FutureWarning: The default of observed=False is deprecated and will be changed to True in a future version of pandas. Pass observed=False to retain current behavior or observed=True to adopt the future default and silence this warning.\n",
      "  grouped_airlines = avg_rel_diff_per_airline.groupby('avg_rel_diff_bin')['airline_code'].apply(list)\n"
     ]
    }
   ],
   "source": [
    "# Group airlines by their average 'rel_diff' bin\n",
    "grouped_airlines = avg_rel_diff_per_airline.groupby('avg_rel_diff_bin')['airline_code'].apply(list)\n",
    "\n",
    "# Convert to a DataFrame for a nicer display, if desired\n",
    "grouped_airlines_df = grouped_airlines.reset_index().rename(columns={'airline_code': 'Airlines'})\n",
    "\n",
    "\n",
    "# Display the DataFrame\n",
    "print(grouped_airlines_df)\n"
   ]
  },
  {
   "cell_type": "code",
   "execution_count": 56,
   "metadata": {},
   "outputs": [
    {
     "data": {
      "text/html": [
       "<div>\n",
       "<style scoped>\n",
       "    .dataframe tbody tr th:only-of-type {\n",
       "        vertical-align: middle;\n",
       "    }\n",
       "\n",
       "    .dataframe tbody tr th {\n",
       "        vertical-align: top;\n",
       "    }\n",
       "\n",
       "    .dataframe thead th {\n",
       "        text-align: right;\n",
       "    }\n",
       "</style>\n",
       "<table border=\"1\" class=\"dataframe\">\n",
       "  <thead>\n",
       "    <tr style=\"text-align: right;\">\n",
       "      <th></th>\n",
       "      <th>airline_code</th>\n",
       "      <th>max_rel_diff_perIDGroup</th>\n",
       "      <th>avg_rel_diff_bin</th>\n",
       "    </tr>\n",
       "  </thead>\n",
       "  <tbody>\n",
       "    <tr>\n",
       "      <th>0</th>\n",
       "      <td>AA</td>\n",
       "      <td>4.921051</td>\n",
       "      <td>4.5-5.5</td>\n",
       "    </tr>\n",
       "    <tr>\n",
       "      <th>1</th>\n",
       "      <td>AC</td>\n",
       "      <td>64.734473</td>\n",
       "      <td>&gt;5.5</td>\n",
       "    </tr>\n",
       "    <tr>\n",
       "      <th>2</th>\n",
       "      <td>AF</td>\n",
       "      <td>4.999096</td>\n",
       "      <td>4.5-5.5</td>\n",
       "    </tr>\n",
       "    <tr>\n",
       "      <th>3</th>\n",
       "      <td>AM</td>\n",
       "      <td>4.637533</td>\n",
       "      <td>4.5-5.5</td>\n",
       "    </tr>\n",
       "    <tr>\n",
       "      <th>4</th>\n",
       "      <td>AS</td>\n",
       "      <td>3.502412</td>\n",
       "      <td>3.5-4.5</td>\n",
       "    </tr>\n",
       "    <tr>\n",
       "      <th>5</th>\n",
       "      <td>AV</td>\n",
       "      <td>4.542922</td>\n",
       "      <td>4.5-5.5</td>\n",
       "    </tr>\n",
       "    <tr>\n",
       "      <th>6</th>\n",
       "      <td>AZ</td>\n",
       "      <td>4.604290</td>\n",
       "      <td>4.5-5.5</td>\n",
       "    </tr>\n",
       "    <tr>\n",
       "      <th>7</th>\n",
       "      <td>BA</td>\n",
       "      <td>4.566377</td>\n",
       "      <td>4.5-5.5</td>\n",
       "    </tr>\n",
       "    <tr>\n",
       "      <th>8</th>\n",
       "      <td>BR</td>\n",
       "      <td>4.643414</td>\n",
       "      <td>4.5-5.5</td>\n",
       "    </tr>\n",
       "    <tr>\n",
       "      <th>9</th>\n",
       "      <td>CM</td>\n",
       "      <td>4.625982</td>\n",
       "      <td>4.5-5.5</td>\n",
       "    </tr>\n",
       "    <tr>\n",
       "      <th>10</th>\n",
       "      <td>CX</td>\n",
       "      <td>4.653511</td>\n",
       "      <td>4.5-5.5</td>\n",
       "    </tr>\n",
       "    <tr>\n",
       "      <th>11</th>\n",
       "      <td>DL</td>\n",
       "      <td>3.478145</td>\n",
       "      <td>2.5-3.5</td>\n",
       "    </tr>\n",
       "    <tr>\n",
       "      <th>12</th>\n",
       "      <td>EK</td>\n",
       "      <td>7.537154</td>\n",
       "      <td>&gt;5.5</td>\n",
       "    </tr>\n",
       "    <tr>\n",
       "      <th>13</th>\n",
       "      <td>F9</td>\n",
       "      <td>4.552570</td>\n",
       "      <td>4.5-5.5</td>\n",
       "    </tr>\n",
       "    <tr>\n",
       "      <th>14</th>\n",
       "      <td>IB</td>\n",
       "      <td>7.243590</td>\n",
       "      <td>&gt;5.5</td>\n",
       "    </tr>\n",
       "    <tr>\n",
       "      <th>15</th>\n",
       "      <td>JL</td>\n",
       "      <td>4.631234</td>\n",
       "      <td>4.5-5.5</td>\n",
       "    </tr>\n",
       "    <tr>\n",
       "      <th>16</th>\n",
       "      <td>KL</td>\n",
       "      <td>6.613759</td>\n",
       "      <td>&gt;5.5</td>\n",
       "    </tr>\n",
       "    <tr>\n",
       "      <th>17</th>\n",
       "      <td>LA</td>\n",
       "      <td>4.473724</td>\n",
       "      <td>3.5-4.5</td>\n",
       "    </tr>\n",
       "    <tr>\n",
       "      <th>18</th>\n",
       "      <td>LH</td>\n",
       "      <td>3.750482</td>\n",
       "      <td>3.5-4.5</td>\n",
       "    </tr>\n",
       "    <tr>\n",
       "      <th>19</th>\n",
       "      <td>LX</td>\n",
       "      <td>4.881966</td>\n",
       "      <td>4.5-5.5</td>\n",
       "    </tr>\n",
       "    <tr>\n",
       "      <th>20</th>\n",
       "      <td>MS</td>\n",
       "      <td>4.632597</td>\n",
       "      <td>4.5-5.5</td>\n",
       "    </tr>\n",
       "    <tr>\n",
       "      <th>21</th>\n",
       "      <td>NH</td>\n",
       "      <td>4.641611</td>\n",
       "      <td>4.5-5.5</td>\n",
       "    </tr>\n",
       "    <tr>\n",
       "      <th>22</th>\n",
       "      <td>OZ</td>\n",
       "      <td>4.633441</td>\n",
       "      <td>4.5-5.5</td>\n",
       "    </tr>\n",
       "    <tr>\n",
       "      <th>23</th>\n",
       "      <td>QR</td>\n",
       "      <td>18.059858</td>\n",
       "      <td>&gt;5.5</td>\n",
       "    </tr>\n",
       "    <tr>\n",
       "      <th>24</th>\n",
       "      <td>SQ</td>\n",
       "      <td>4.536269</td>\n",
       "      <td>4.5-5.5</td>\n",
       "    </tr>\n",
       "    <tr>\n",
       "      <th>25</th>\n",
       "      <td>TG</td>\n",
       "      <td>4.614432</td>\n",
       "      <td>4.5-5.5</td>\n",
       "    </tr>\n",
       "    <tr>\n",
       "      <th>26</th>\n",
       "      <td>TK</td>\n",
       "      <td>3.514450</td>\n",
       "      <td>3.5-4.5</td>\n",
       "    </tr>\n",
       "    <tr>\n",
       "      <th>27</th>\n",
       "      <td>TP</td>\n",
       "      <td>4.454339</td>\n",
       "      <td>3.5-4.5</td>\n",
       "    </tr>\n",
       "    <tr>\n",
       "      <th>28</th>\n",
       "      <td>UA</td>\n",
       "      <td>28.032247</td>\n",
       "      <td>&gt;5.5</td>\n",
       "    </tr>\n",
       "    <tr>\n",
       "      <th>29</th>\n",
       "      <td>UX</td>\n",
       "      <td>4.719420</td>\n",
       "      <td>4.5-5.5</td>\n",
       "    </tr>\n",
       "    <tr>\n",
       "      <th>30</th>\n",
       "      <td>VY</td>\n",
       "      <td>5.083260</td>\n",
       "      <td>4.5-5.5</td>\n",
       "    </tr>\n",
       "    <tr>\n",
       "      <th>31</th>\n",
       "      <td>W4</td>\n",
       "      <td>4.638016</td>\n",
       "      <td>4.5-5.5</td>\n",
       "    </tr>\n",
       "    <tr>\n",
       "      <th>32</th>\n",
       "      <td>WK</td>\n",
       "      <td>4.766589</td>\n",
       "      <td>4.5-5.5</td>\n",
       "    </tr>\n",
       "    <tr>\n",
       "      <th>33</th>\n",
       "      <td>XE</td>\n",
       "      <td>1.517413</td>\n",
       "      <td>1.5-2.5</td>\n",
       "    </tr>\n",
       "    <tr>\n",
       "      <th>34</th>\n",
       "      <td>multi</td>\n",
       "      <td>5.612499</td>\n",
       "      <td>&gt;5.5</td>\n",
       "    </tr>\n",
       "  </tbody>\n",
       "</table>\n",
       "</div>"
      ],
      "text/plain": [
       "   airline_code  max_rel_diff_perIDGroup avg_rel_diff_bin\n",
       "0            AA                 4.921051          4.5-5.5\n",
       "1            AC                64.734473             >5.5\n",
       "2            AF                 4.999096          4.5-5.5\n",
       "3            AM                 4.637533          4.5-5.5\n",
       "4            AS                 3.502412          3.5-4.5\n",
       "5            AV                 4.542922          4.5-5.5\n",
       "6            AZ                 4.604290          4.5-5.5\n",
       "7            BA                 4.566377          4.5-5.5\n",
       "8            BR                 4.643414          4.5-5.5\n",
       "9            CM                 4.625982          4.5-5.5\n",
       "10           CX                 4.653511          4.5-5.5\n",
       "11           DL                 3.478145          2.5-3.5\n",
       "12           EK                 7.537154             >5.5\n",
       "13           F9                 4.552570          4.5-5.5\n",
       "14           IB                 7.243590             >5.5\n",
       "15           JL                 4.631234          4.5-5.5\n",
       "16           KL                 6.613759             >5.5\n",
       "17           LA                 4.473724          3.5-4.5\n",
       "18           LH                 3.750482          3.5-4.5\n",
       "19           LX                 4.881966          4.5-5.5\n",
       "20           MS                 4.632597          4.5-5.5\n",
       "21           NH                 4.641611          4.5-5.5\n",
       "22           OZ                 4.633441          4.5-5.5\n",
       "23           QR                18.059858             >5.5\n",
       "24           SQ                 4.536269          4.5-5.5\n",
       "25           TG                 4.614432          4.5-5.5\n",
       "26           TK                 3.514450          3.5-4.5\n",
       "27           TP                 4.454339          3.5-4.5\n",
       "28           UA                28.032247             >5.5\n",
       "29           UX                 4.719420          4.5-5.5\n",
       "30           VY                 5.083260          4.5-5.5\n",
       "31           W4                 4.638016          4.5-5.5\n",
       "32           WK                 4.766589          4.5-5.5\n",
       "33           XE                 1.517413          1.5-2.5\n",
       "34        multi                 5.612499             >5.5"
      ]
     },
     "execution_count": 56,
     "metadata": {},
     "output_type": "execute_result"
    }
   ],
   "source": [
    "avg_rel_diff_per_airline"
   ]
  },
  {
   "cell_type": "markdown",
   "metadata": {},
   "source": [
    "Which countries are the cheapest?"
   ]
  },
  {
   "cell_type": "code",
   "execution_count": 57,
   "metadata": {},
   "outputs": [
    {
     "name": "stdout",
     "output_type": "stream",
     "text": [
      "Detected_Country\n",
      "Shqipëri          245\n",
      "Brasil             32\n",
      "日本                 11\n",
      "United Kingdom      1\n",
      "Name: count, dtype: int64\n"
     ]
    }
   ],
   "source": [
    "cheap_df = df_reduced[(df_reduced['min'] == df_reduced['Price_in_USD'] )]\n",
    "\n",
    "# Get the distribution of 'Detected_Country' in the filtered DataFrame\n",
    "country_distribution = cheap_df['Detected_Country'].value_counts()\n",
    "\n",
    "# Display the distribution\n",
    "print(country_distribution)\n"
   ]
  },
  {
   "cell_type": "markdown",
   "metadata": {},
   "source": [
    "**Which countries are more expensive**"
   ]
  },
  {
   "cell_type": "code",
   "execution_count": 58,
   "metadata": {},
   "outputs": [
    {
     "name": "stdout",
     "output_type": "stream",
     "text": [
      "Detected_Country\n",
      "Australia             192\n",
      "Schweiz                75\n",
      "Palestine              13\n",
      "Vereinigte Staaten      9\n",
      "Name: count, dtype: int64\n"
     ]
    }
   ],
   "source": [
    "\n",
    "expensive_df = df_reduced[(df_reduced['max'] == df_reduced['Price_in_USD'])]\n",
    "\n",
    "# Get the distribution of 'Detected_Country' in the filtered DataFrame\n",
    "country_distribution = expensive_df['Detected_Country'].value_counts()\n",
    "\n",
    "# Display the distribution\n",
    "print(country_distribution)\n"
   ]
  },
  {
   "cell_type": "code",
   "execution_count": 59,
   "metadata": {},
   "outputs": [
    {
     "name": "stdout",
     "output_type": "stream",
     "text": [
      "Statistic: 1614.5294921397983, P-value: 0.0\n",
      "Reject the null hypothesis - suggest the median 'rel_diff' differs across departure airports.\n"
     ]
    }
   ],
   "source": [
    "from scipy.stats import kruskal\n",
    "import pandas as pd\n",
    "\n",
    "# Assuming df_reduced exists and has 'departure_airport_code' and 'rel_diff'\n",
    "\n",
    "# Group data by 'departure_airport_code' and extract 'rel_diff' values\n",
    "groups = df_reduced.groupby('departure_airport_code')['max_rel_diff_perIDGroup'].apply(list)\n",
    "\n",
    "# Perform Kruskal-Wallis H-test\n",
    "stat, p = kruskal(*groups)\n",
    "\n",
    "print(f'Statistic: {stat}, P-value: {p}')\n",
    "\n",
    "# Interpret the results\n",
    "alpha = 0.05  # Set a significance level\n",
    "if p < alpha:\n",
    "    print(\"Reject the null hypothesis - suggest the median 'rel_diff' differs across departure airports.\")\n",
    "else:\n",
    "    print(\"Fail to reject the null hypothesis - no evidence that the median 'rel_diff' differs across departure airports.\")\n"
   ]
  },
  {
   "cell_type": "markdown",
   "metadata": {},
   "source": [
    "# Statistical Testing"
   ]
  },
  {
   "cell_type": "code",
   "execution_count": 60,
   "metadata": {},
   "outputs": [
    {
     "name": "stdout",
     "output_type": "stream",
     "text": [
      "ANOVA results:\n",
      "F-statistic: 700.3148669078242\n",
      "p-value: 0.0\n",
      "There are statistically significant differences in mean flight prices among different countries.\n"
     ]
    }
   ],
   "source": [
    "from scipy.stats import f_oneway\n",
    "\n",
    "# Assuming 'flight_data' is your DataFrame containing flight information\n",
    "# 'Price' is the column containing flight prices, and 'Country' is the column containing country information\n",
    "\n",
    "# Extract prices for each country\n",
    "prices_by_country = [group['Price_in_USD'].values for name, group in df_reduced.groupby('Flight_ID')]\n",
    "\n",
    "# Perform ANOVA test\n",
    "f_statistic, p_value = f_oneway(*prices_by_country)\n",
    "\n",
    "# Interpret the results\n",
    "alpha = 0.05  # Significance level\n",
    "print(\"ANOVA results:\")\n",
    "print(\"F-statistic:\", f_statistic)\n",
    "print(\"p-value:\", p_value)\n",
    "\n",
    "if p_value < alpha:\n",
    "    print(\"There are statistically significant differences in mean flight prices among different countries.\")\n",
    "else:\n",
    "    print(\"There are no statistically significant differences in mean flight prices among different countries.\")\n"
   ]
  },
  {
   "cell_type": "code",
   "execution_count": 61,
   "metadata": {},
   "outputs": [
    {
     "name": "stdout",
     "output_type": "stream",
     "text": [
      "ANOVA results:\n",
      "F-statistic: 700.3148669078242\n",
      "p-value: 0.0\n",
      "There are statistically significant differences in mean flight prices among different countries for the same flight route.\n"
     ]
    }
   ],
   "source": [
    "from scipy.stats import f_oneway\n",
    "\n",
    "# Assuming 'df' is your DataFrame containing flight information\n",
    "# 'Price_in_USD' is the column containing flight prices, and 'Assigned_Country' is the column containing country information\n",
    "\n",
    "# Extract prices for each country\n",
    "prices_by_country = [group['Price_in_USD'].values for name, group in df_reduced.groupby('Flight_ID')]\n",
    "\n",
    "# Perform ANOVA test\n",
    "f_statistic, p_value = f_oneway(*prices_by_country)\n",
    "\n",
    "# Interpret the results\n",
    "alpha = 0.05  # Significance level\n",
    "print(\"ANOVA results:\")\n",
    "print(\"F-statistic:\", f_statistic)\n",
    "print(\"p-value:\", p_value)\n",
    "\n",
    "if p_value < alpha:\n",
    "    print(\"There are statistically significant differences in mean flight prices among different countries for the same flight route.\")\n",
    "else:\n",
    "    print(\"There are no statistically significant differences in mean flight prices among different countries for the same flight route.\")\n"
   ]
  },
  {
   "cell_type": "code",
   "execution_count": 62,
   "metadata": {},
   "outputs": [
    {
     "name": "stdout",
     "output_type": "stream",
     "text": [
      "Paired samples t-test results:\n",
      "t-statistic: 5.184409370380557\n",
      "p-value: 4.087471333332363e-07\n",
      "There is a statistically significant difference between the maximum and minimum prices of each Flight_ID.\n"
     ]
    }
   ],
   "source": [
    "from scipy.stats import ttest_rel\n",
    "\n",
    "# Assuming 'df' is your DataFrame containing flight information\n",
    "# 'Price_in_USD' is the column containing flight prices, and 'Flight_ID' is the column containing flight identifiers\n",
    "\n",
    "# Group the data by Flight_ID and calculate the maximum and minimum prices for each group\n",
    "max_prices = df_reduced.groupby('Flight_ID')['Price_in_USD'].max()\n",
    "min_prices = df_reduced.groupby('Flight_ID')['Price_in_USD'].min()\n",
    "\n",
    "# Perform paired samples t-test\n",
    "t_statistic, p_value = ttest_rel(max_prices, min_prices)\n",
    "\n",
    "# Interpret the results\n",
    "alpha = 0.05  # Significance level\n",
    "print(\"Paired samples t-test results:\")\n",
    "print(\"t-statistic:\", t_statistic)\n",
    "print(\"p-value:\", p_value)\n",
    "\n",
    "if p_value < alpha:\n",
    "    print(\"There is a statistically significant difference between the maximum and minimum prices of each Flight_ID.\")\n",
    "else:\n",
    "    print(\"There is no statistically significant difference between the maximum and minimum prices of each Flight_ID.\")\n"
   ]
  },
  {
   "cell_type": "code",
   "execution_count": 63,
   "metadata": {},
   "outputs": [
    {
     "data": {
      "text/plain": [
       "Index(['airline_code', 'departure_airport_code', 'destination_airport_code',\n",
       "       'ticket_price', 'departure_date', 'arrival_date', 'First_flight',\n",
       "       'first_flight_code', 'last_flight_code', 'Detected_Language',\n",
       "       'Detected_Country', 'Detected_Currency', 'Flight_ID', 'Price_in_USD',\n",
       "       'commute_time', 'query_date', 'days_until_departure',\n",
       "       'FlightID_in_Countries_Count', 'departure_date_day', 'arrival_date_day',\n",
       "       'Journey_route', 'Journey_ID', 'max', 'min', 'max_abs_diff_perIDGroup',\n",
       "       'max_rel_diff_perIDGroup', 'abs_diff_to_min', 'rel_diff_to_min',\n",
       "       'price_score_perIDGroup', 'max_journey', 'min_journey',\n",
       "       'max_abs_diff_perIDGroup_Journey', 'max_rel_diff_perIDGroup_Journey',\n",
       "       'abs_diff_to_min_Journey', 'rel_diff_to_min_Journey',\n",
       "       'price_score_perIDGroup_Journey', 'max_journey_same_country',\n",
       "       'min_journey_same_country',\n",
       "       'max_abs_diff_perIDGroup_Journey_same_country',\n",
       "       'max_rel_diff_perIDGroup_Journey_same_country',\n",
       "       'price_diff_loc_to_glob_Journey_min',\n",
       "       'rel_price_diff_loc_to_glob_Journey_min', 'Cheapest_Location_Journey',\n",
       "       'Cheapest_Location_Flight', 'Price_Category', 'Commute_Time_Category'],\n",
       "      dtype='object')"
      ]
     },
     "execution_count": 63,
     "metadata": {},
     "output_type": "execute_result"
    }
   ],
   "source": [
    "df_reduced.columns"
   ]
  },
  {
   "cell_type": "code",
   "execution_count": 64,
   "metadata": {},
   "outputs": [
    {
     "name": "stdout",
     "output_type": "stream",
     "text": [
      "R² score: 0.7600025632488805\n",
      "Mean squared error: 0.0035431354841117175\n"
     ]
    }
   ],
   "source": [
    "import pandas as pd\n",
    "from sklearn.model_selection import train_test_split\n",
    "from sklearn.linear_model import LinearRegression\n",
    "from sklearn.metrics import mean_squared_error, r2_score\n",
    "\n",
    "\n",
    "# Define independent and dependent variables\n",
    "X = pd.get_dummies(df_reduced[['Journey_route','days_until_departure']], drop_first=True)\n",
    "y = pd.get_dummies(df_reduced['Cheapest_Location_Journey'])\n",
    "\n",
    "# Split the dataset into training and testing sets\n",
    "X_train, X_test, y_train, y_test = train_test_split(X, y, test_size=0.1, random_state=41)\n",
    "\n",
    "# Create and fit the model\n",
    "model = LinearRegression()\n",
    "model.fit(X_train, y_train)\n",
    "\n",
    "# Predict and evaluate\n",
    "y_pred = model.predict(X_test)\n",
    "print(f\"R² score: {r2_score(y_test, y_pred)}\")\n",
    "print(f\"Mean squared error: {mean_squared_error(y_test, y_pred)}\")\n"
   ]
  },
  {
   "cell_type": "code",
   "execution_count": 65,
   "metadata": {},
   "outputs": [
    {
     "data": {
      "text/plain": [
       "Index(['airline_code', 'departure_airport_code', 'destination_airport_code',\n",
       "       'ticket_price', 'departure_date', 'arrival_date', 'First_flight',\n",
       "       'first_flight_code', 'last_flight_code', 'Detected_Language',\n",
       "       'Detected_Country', 'Detected_Currency', 'Flight_ID', 'Price_in_USD',\n",
       "       'commute_time', 'query_date', 'days_until_departure',\n",
       "       'FlightID_in_Countries_Count', 'departure_date_day', 'arrival_date_day',\n",
       "       'Journey_route', 'Journey_ID', 'max', 'min', 'max_abs_diff_perIDGroup',\n",
       "       'max_rel_diff_perIDGroup', 'abs_diff_to_min', 'rel_diff_to_min',\n",
       "       'price_score_perIDGroup', 'max_journey', 'min_journey',\n",
       "       'max_abs_diff_perIDGroup_Journey', 'max_rel_diff_perIDGroup_Journey',\n",
       "       'abs_diff_to_min_Journey', 'rel_diff_to_min_Journey',\n",
       "       'price_score_perIDGroup_Journey', 'max_journey_same_country',\n",
       "       'min_journey_same_country',\n",
       "       'max_abs_diff_perIDGroup_Journey_same_country',\n",
       "       'max_rel_diff_perIDGroup_Journey_same_country',\n",
       "       'price_diff_loc_to_glob_Journey_min',\n",
       "       'rel_price_diff_loc_to_glob_Journey_min', 'Cheapest_Location_Journey',\n",
       "       'Cheapest_Location_Flight', 'Price_Category', 'Commute_Time_Category'],\n",
       "      dtype='object')"
      ]
     },
     "execution_count": 65,
     "metadata": {},
     "output_type": "execute_result"
    }
   ],
   "source": [
    "df_reduced.columns"
   ]
  },
  {
   "cell_type": "code",
   "execution_count": 66,
   "metadata": {},
   "outputs": [],
   "source": [
    "# Calculate the mean of max_rel_diff_perIDGroup for each Flight_ID\n",
    "grouped_means = df_reduced.groupby('FlightID_in_Countries_Count')['rel_price_diff_loc_to_glob_Journey_min'].mean()"
   ]
  },
  {
   "cell_type": "code",
   "execution_count": 67,
   "metadata": {},
   "outputs": [
    {
     "data": {
      "text/plain": [
       "FlightID_in_Countries_Count\n",
       "8     2.820434\n",
       "9     5.939223\n",
       "10    5.871774\n",
       "11    3.712206\n",
       "Name: rel_price_diff_loc_to_glob_Journey_min, dtype: float64"
      ]
     },
     "execution_count": 67,
     "metadata": {},
     "output_type": "execute_result"
    }
   ],
   "source": [
    "grouped_means"
   ]
  },
  {
   "cell_type": "code",
   "execution_count": 68,
   "metadata": {},
   "outputs": [
    {
     "data": {
      "text/plain": [
       "FlightID_in_Countries_Count\n",
       "8     1136\n",
       "9      729\n",
       "10     650\n",
       "11      11\n",
       "Name: count, dtype: int64"
      ]
     },
     "execution_count": 68,
     "metadata": {},
     "output_type": "execute_result"
    }
   ],
   "source": [
    "df_reduced.FlightID_in_Countries_Count.value_counts()"
   ]
  },
  {
   "cell_type": "code",
   "execution_count": 69,
   "metadata": {},
   "outputs": [
    {
     "data": {
      "text/plain": [
       "257.6895650106965"
      ]
     },
     "execution_count": 69,
     "metadata": {},
     "output_type": "execute_result"
    }
   ],
   "source": [
    "df_reduced.max_rel_diff_perIDGroup.max()"
   ]
  },
  {
   "cell_type": "code",
   "execution_count": 70,
   "metadata": {},
   "outputs": [
    {
     "data": {
      "text/plain": [
       "Price_in_USD\n",
       "124.750000     7\n",
       "124.740000     6\n",
       "124.000000     6\n",
       "126.060000     6\n",
       "126.540000     6\n",
       "              ..\n",
       "1266.634496    1\n",
       "2778.484800    1\n",
       "475.020000     1\n",
       "831.231872     1\n",
       "124.245000     1\n",
       "Name: count, Length: 1961, dtype: int64"
      ]
     },
     "execution_count": 70,
     "metadata": {},
     "output_type": "execute_result"
    }
   ],
   "source": [
    "df_reduced.Price_in_USD.value_counts()"
   ]
  },
  {
   "cell_type": "code",
   "execution_count": 71,
   "metadata": {},
   "outputs": [
    {
     "data": {
      "text/html": [
       "<div>\n",
       "<style scoped>\n",
       "    .dataframe tbody tr th:only-of-type {\n",
       "        vertical-align: middle;\n",
       "    }\n",
       "\n",
       "    .dataframe tbody tr th {\n",
       "        vertical-align: top;\n",
       "    }\n",
       "\n",
       "    .dataframe thead th {\n",
       "        text-align: right;\n",
       "    }\n",
       "</style>\n",
       "<table border=\"1\" class=\"dataframe\">\n",
       "  <thead>\n",
       "    <tr style=\"text-align: right;\">\n",
       "      <th></th>\n",
       "      <th>airline_code</th>\n",
       "      <th>departure_airport_code</th>\n",
       "      <th>destination_airport_code</th>\n",
       "      <th>ticket_price</th>\n",
       "      <th>departure_date</th>\n",
       "      <th>arrival_date</th>\n",
       "      <th>First_flight</th>\n",
       "      <th>first_flight_code</th>\n",
       "      <th>last_flight_code</th>\n",
       "      <th>Detected_Language</th>\n",
       "      <th>...</th>\n",
       "      <th>max_journey_same_country</th>\n",
       "      <th>min_journey_same_country</th>\n",
       "      <th>max_abs_diff_perIDGroup_Journey_same_country</th>\n",
       "      <th>max_rel_diff_perIDGroup_Journey_same_country</th>\n",
       "      <th>price_diff_loc_to_glob_Journey_min</th>\n",
       "      <th>rel_price_diff_loc_to_glob_Journey_min</th>\n",
       "      <th>Cheapest_Location_Journey</th>\n",
       "      <th>Cheapest_Location_Flight</th>\n",
       "      <th>Price_Category</th>\n",
       "      <th>Commute_Time_Category</th>\n",
       "    </tr>\n",
       "  </thead>\n",
       "  <tbody>\n",
       "    <tr>\n",
       "      <th>139</th>\n",
       "      <td>UA</td>\n",
       "      <td>MSY</td>\n",
       "      <td>FRA</td>\n",
       "      <td>6379</td>\n",
       "      <td>2024-06-20 16:05:00</td>\n",
       "      <td>2024-06-21 11:15:00</td>\n",
       "      <td>MSY-IAH</td>\n",
       "      <td>UA2479</td>\n",
       "      <td>LH8640</td>\n",
       "      <td>Polski</td>\n",
       "      <td>...</td>\n",
       "      <td>3006.75</td>\n",
       "      <td>1494.5</td>\n",
       "      <td>1512.25</td>\n",
       "      <td>101.187688</td>\n",
       "      <td>53.99</td>\n",
       "      <td>3.747978</td>\n",
       "      <td>Shqipëri</td>\n",
       "      <td>Shqipëri</td>\n",
       "      <td>&gt;1000</td>\n",
       "      <td>&gt;8h</td>\n",
       "    </tr>\n",
       "    <tr>\n",
       "      <th>140</th>\n",
       "      <td>multi</td>\n",
       "      <td>MSY</td>\n",
       "      <td>FRA</td>\n",
       "      <td>6361</td>\n",
       "      <td>2024-06-20 12:35:00</td>\n",
       "      <td>2024-06-21 07:05:00</td>\n",
       "      <td>MSY-YUL</td>\n",
       "      <td>AC8560</td>\n",
       "      <td>AC9634</td>\n",
       "      <td>Polski</td>\n",
       "      <td>...</td>\n",
       "      <td>3006.75</td>\n",
       "      <td>1494.5</td>\n",
       "      <td>1512.25</td>\n",
       "      <td>101.187688</td>\n",
       "      <td>53.99</td>\n",
       "      <td>3.747978</td>\n",
       "      <td>Shqipëri</td>\n",
       "      <td>Shqipëri</td>\n",
       "      <td>&gt;1000</td>\n",
       "      <td>&gt;8h</td>\n",
       "    </tr>\n",
       "    <tr>\n",
       "      <th>141</th>\n",
       "      <td>UA</td>\n",
       "      <td>MSY</td>\n",
       "      <td>FRA</td>\n",
       "      <td>6379</td>\n",
       "      <td>2024-06-20 12:30:00</td>\n",
       "      <td>2024-06-21 07:20:00</td>\n",
       "      <td>MSY-IAD</td>\n",
       "      <td>UA2276</td>\n",
       "      <td>LH7555</td>\n",
       "      <td>Polski</td>\n",
       "      <td>...</td>\n",
       "      <td>3006.75</td>\n",
       "      <td>1494.5</td>\n",
       "      <td>1512.25</td>\n",
       "      <td>101.187688</td>\n",
       "      <td>53.99</td>\n",
       "      <td>3.747978</td>\n",
       "      <td>Shqipëri</td>\n",
       "      <td>Shqipëri</td>\n",
       "      <td>&gt;1000</td>\n",
       "      <td>&gt;8h</td>\n",
       "    </tr>\n",
       "  </tbody>\n",
       "</table>\n",
       "<p>3 rows × 46 columns</p>\n",
       "</div>"
      ],
      "text/plain": [
       "    airline_code departure_airport_code destination_airport_code  \\\n",
       "139           UA                    MSY                      FRA   \n",
       "140        multi                    MSY                      FRA   \n",
       "141           UA                    MSY                      FRA   \n",
       "\n",
       "     ticket_price      departure_date        arrival_date First_flight  \\\n",
       "139          6379 2024-06-20 16:05:00 2024-06-21 11:15:00      MSY-IAH   \n",
       "140          6361 2024-06-20 12:35:00 2024-06-21 07:05:00      MSY-YUL   \n",
       "141          6379 2024-06-20 12:30:00 2024-06-21 07:20:00      MSY-IAD   \n",
       "\n",
       "    first_flight_code last_flight_code Detected_Language  ...  \\\n",
       "139            UA2479           LH8640            Polski  ...   \n",
       "140            AC8560           AC9634            Polski  ...   \n",
       "141            UA2276           LH7555            Polski  ...   \n",
       "\n",
       "    max_journey_same_country min_journey_same_country  \\\n",
       "139                  3006.75                   1494.5   \n",
       "140                  3006.75                   1494.5   \n",
       "141                  3006.75                   1494.5   \n",
       "\n",
       "    max_abs_diff_perIDGroup_Journey_same_country  \\\n",
       "139                                      1512.25   \n",
       "140                                      1512.25   \n",
       "141                                      1512.25   \n",
       "\n",
       "     max_rel_diff_perIDGroup_Journey_same_country  \\\n",
       "139                                    101.187688   \n",
       "140                                    101.187688   \n",
       "141                                    101.187688   \n",
       "\n",
       "     price_diff_loc_to_glob_Journey_min  \\\n",
       "139                               53.99   \n",
       "140                               53.99   \n",
       "141                               53.99   \n",
       "\n",
       "    rel_price_diff_loc_to_glob_Journey_min  Cheapest_Location_Journey  \\\n",
       "139                               3.747978                   Shqipëri   \n",
       "140                               3.747978                   Shqipëri   \n",
       "141                               3.747978                   Shqipëri   \n",
       "\n",
       "     Cheapest_Location_Flight Price_Category Commute_Time_Category  \n",
       "139                  Shqipëri          >1000                   >8h  \n",
       "140                  Shqipëri          >1000                   >8h  \n",
       "141                  Shqipëri          >1000                   >8h  \n",
       "\n",
       "[3 rows x 46 columns]"
      ]
     },
     "execution_count": 71,
     "metadata": {},
     "output_type": "execute_result"
    }
   ],
   "source": [
    "df_reduced.iloc[139:142]"
   ]
  },
  {
   "cell_type": "code",
   "execution_count": 72,
   "metadata": {},
   "outputs": [
    {
     "data": {
      "text/plain": [
       "FlightID_in_Countries_Count\n",
       "8     1136\n",
       "9      729\n",
       "10     650\n",
       "11      11\n",
       "Name: count, dtype: int64"
      ]
     },
     "execution_count": 72,
     "metadata": {},
     "output_type": "execute_result"
    }
   ],
   "source": [
    "df_reduced.FlightID_in_Countries_Count.value_counts()"
   ]
  },
  {
   "cell_type": "code",
   "execution_count": 73,
   "metadata": {},
   "outputs": [
    {
     "data": {
      "text/plain": [
       "FlightID_in_Countries_Count\n",
       "8     2.820434\n",
       "9     5.939223\n",
       "10    5.871774\n",
       "11    3.712206\n",
       "Name: rel_price_diff_loc_to_glob_Journey_min, dtype: float64"
      ]
     },
     "execution_count": 73,
     "metadata": {},
     "output_type": "execute_result"
    }
   ],
   "source": [
    "grouped_means"
   ]
  },
  {
   "cell_type": "code",
   "execution_count": 74,
   "metadata": {},
   "outputs": [],
   "source": [
    "# Calculate the mean of max_rel_diff_perIDGroup for each Flight_ID\n",
    "grouped_means = df_reduced.groupby('airline_code')['max_rel_diff_perIDGroup'].mean()\n"
   ]
  },
  {
   "cell_type": "code",
   "execution_count": 75,
   "metadata": {},
   "outputs": [
    {
     "data": {
      "text/plain": [
       "35"
      ]
     },
     "execution_count": 75,
     "metadata": {},
     "output_type": "execute_result"
    }
   ],
   "source": [
    "grouped_means.count()"
   ]
  },
  {
   "cell_type": "code",
   "execution_count": 76,
   "metadata": {},
   "outputs": [
    {
     "data": {
      "text/plain": [
       "airline_code\n",
       "AC       64.734473\n",
       "UA       28.032247\n",
       "QR       18.059858\n",
       "EK        7.537154\n",
       "IB        7.243590\n",
       "KL        6.613759\n",
       "multi     5.612499\n",
       "VY        5.083260\n",
       "AF        4.999096\n",
       "AA        4.921051\n",
       "LX        4.881966\n",
       "WK        4.766589\n",
       "UX        4.719420\n",
       "CX        4.653511\n",
       "BR        4.643414\n",
       "NH        4.641611\n",
       "W4        4.638016\n",
       "AM        4.637533\n",
       "OZ        4.633441\n",
       "MS        4.632597\n",
       "JL        4.631234\n",
       "CM        4.625982\n",
       "TG        4.614432\n",
       "AZ        4.604290\n",
       "BA        4.566377\n",
       "F9        4.552570\n",
       "AV        4.542922\n",
       "SQ        4.536269\n",
       "LA        4.473724\n",
       "TP        4.454339\n",
       "LH        3.750482\n",
       "TK        3.514450\n",
       "AS        3.502412\n",
       "DL        3.478145\n",
       "XE        1.517413\n",
       "Name: max_rel_diff_perIDGroup, dtype: float64"
      ]
     },
     "execution_count": 76,
     "metadata": {},
     "output_type": "execute_result"
    }
   ],
   "source": [
    "grouped_means.sort_values(ascending=False)"
   ]
  },
  {
   "cell_type": "code",
   "execution_count": 77,
   "metadata": {},
   "outputs": [
    {
     "data": {
      "text/plain": [
       "airline_code\n",
       "AA     4.921051\n",
       "AC    64.734473\n",
       "AF     4.999096\n",
       "AM     4.637533\n",
       "AS     3.502412\n",
       "Name: max_rel_diff_perIDGroup, dtype: float64"
      ]
     },
     "execution_count": 77,
     "metadata": {},
     "output_type": "execute_result"
    }
   ],
   "source": [
    "grouped_means.head()"
   ]
  },
  {
   "cell_type": "code",
   "execution_count": 78,
   "metadata": {},
   "outputs": [
    {
     "data": {
      "text/plain": [
       "4.630860540336848"
      ]
     },
     "execution_count": 78,
     "metadata": {},
     "output_type": "execute_result"
    }
   ],
   "source": [
    "df_reduced.max_rel_diff_perIDGroup.median()"
   ]
  },
  {
   "cell_type": "code",
   "execution_count": null,
   "metadata": {},
   "outputs": [],
   "source": []
  },
  {
   "cell_type": "code",
   "execution_count": 79,
   "metadata": {},
   "outputs": [
    {
     "data": {
      "image/png": "[encoded data removed]",
      "text/plain": [
       "<Figure size 640x480 with 1 Axes>"
      ]
     },
     "metadata": {},
     "output_type": "display_data"
    }
   ],
   "source": [
    "import matplotlib.pyplot as plt\n",
    "\n",
    "# Plotting the histogram of the aggregated means\n",
    "plt.hist(grouped_means, bins=10, range=(0, 10), edgecolor='black')\n",
    "plt.title('Distribution of Average max_rel_diff_perIDGroup per Flight_ID')\n",
    "plt.xlabel('Average max_rel_diff_perIDGroup')\n",
    "plt.ylabel('Frequency')\n",
    "plt.show()\n"
   ]
  },
  {
   "cell_type": "code",
   "execution_count": 80,
   "metadata": {},
   "outputs": [
    {
     "data": {
      "text/plain": [
       "Index(['airline_code', 'departure_airport_code', 'destination_airport_code',\n",
       "       'ticket_price', 'departure_date', 'arrival_date', 'First_flight',\n",
       "       'first_flight_code', 'last_flight_code', 'Detected_Language',\n",
       "       'Detected_Country', 'Detected_Currency', 'Flight_ID', 'Price_in_USD',\n",
       "       'commute_time', 'query_date', 'days_until_departure',\n",
       "       'FlightID_in_Countries_Count', 'departure_date_day', 'arrival_date_day',\n",
       "       'Journey_route', 'Journey_ID', 'max', 'min', 'max_abs_diff_perIDGroup',\n",
       "       'max_rel_diff_perIDGroup', 'abs_diff_to_min', 'rel_diff_to_min',\n",
       "       'price_score_perIDGroup', 'max_journey', 'min_journey',\n",
       "       'max_abs_diff_perIDGroup_Journey', 'max_rel_diff_perIDGroup_Journey',\n",
       "       'abs_diff_to_min_Journey', 'rel_diff_to_min_Journey',\n",
       "       'price_score_perIDGroup_Journey', 'max_journey_same_country',\n",
       "       'min_journey_same_country',\n",
       "       'max_abs_diff_perIDGroup_Journey_same_country',\n",
       "       'max_rel_diff_perIDGroup_Journey_same_country',\n",
       "       'price_diff_loc_to_glob_Journey_min',\n",
       "       'rel_price_diff_loc_to_glob_Journey_min', 'Cheapest_Location_Journey',\n",
       "       'Cheapest_Location_Flight', 'Price_Category', 'Commute_Time_Category'],\n",
       "      dtype='object')"
      ]
     },
     "execution_count": 80,
     "metadata": {},
     "output_type": "execute_result"
    }
   ],
   "source": [
    "df_reduced.columns"
   ]
  },
  {
   "cell_type": "code",
   "execution_count": 81,
   "metadata": {},
   "outputs": [
    {
     "data": {
      "image/png": "[encoded data removed]",
      "text/plain": [
       "<Figure size 640x480 with 1 Axes>"
      ]
     },
     "metadata": {},
     "output_type": "display_data"
    }
   ],
   "source": [
    "import pandas as pd\n",
    "import matplotlib.pyplot as plt\n",
    "\n",
    "# Plotting directly from the DataFrame\n",
    "df_reduced['price_diff_loc_to_glob_Journey_min'].hist(bins=10, range=(0, 10))\n",
    "\n",
    "plt.title('Distribution of price_diff_loc_to_glob_Journey_min')\n",
    "plt.xlabel('price_diff_loc_to_glob_Journey_min')\n",
    "plt.ylabel('Frequency')\n",
    "plt.grid(False)  # Optionally disable the grid for a cleaner look\n",
    "plt.show()\n"
   ]
  },
  {
   "cell_type": "code",
   "execution_count": 82,
   "metadata": {},
   "outputs": [
    {
     "data": {
      "text/plain": [
       "Index(['airline_code', 'departure_airport_code', 'destination_airport_code',\n",
       "       'ticket_price', 'departure_date', 'arrival_date', 'First_flight',\n",
       "       'first_flight_code', 'last_flight_code', 'Detected_Language',\n",
       "       'Detected_Country', 'Detected_Currency', 'Flight_ID', 'Price_in_USD',\n",
       "       'commute_time', 'query_date', 'days_until_departure',\n",
       "       'FlightID_in_Countries_Count', 'departure_date_day', 'arrival_date_day',\n",
       "       'Journey_route', 'Journey_ID', 'max', 'min', 'max_abs_diff_perIDGroup',\n",
       "       'max_rel_diff_perIDGroup', 'abs_diff_to_min', 'rel_diff_to_min',\n",
       "       'price_score_perIDGroup', 'max_journey', 'min_journey',\n",
       "       'max_abs_diff_perIDGroup_Journey', 'max_rel_diff_perIDGroup_Journey',\n",
       "       'abs_diff_to_min_Journey', 'rel_diff_to_min_Journey',\n",
       "       'price_score_perIDGroup_Journey', 'max_journey_same_country',\n",
       "       'min_journey_same_country',\n",
       "       'max_abs_diff_perIDGroup_Journey_same_country',\n",
       "       'max_rel_diff_perIDGroup_Journey_same_country',\n",
       "       'price_diff_loc_to_glob_Journey_min',\n",
       "       'rel_price_diff_loc_to_glob_Journey_min', 'Cheapest_Location_Journey',\n",
       "       'Cheapest_Location_Flight', 'Price_Category', 'Commute_Time_Category'],\n",
       "      dtype='object')"
      ]
     },
     "execution_count": 82,
     "metadata": {},
     "output_type": "execute_result"
    }
   ],
   "source": [
    "df_reduced.columns"
   ]
  },
  {
   "cell_type": "code",
   "execution_count": 83,
   "metadata": {},
   "outputs": [
    {
     "name": "stdout",
     "output_type": "stream",
     "text": [
      "T-statistic: 9.431214530262709\n",
      "P-value: 8.866302499281364e-21\n",
      "We reject the null hypothesis. The mean of max_rel_diff_perIDGroup is significantly different from 0.\n"
     ]
    }
   ],
   "source": [
    "from scipy.stats import ttest_1samp\n",
    "import numpy as np\n",
    "\n",
    "# Assuming df_reduced is your DataFrame and max_rel_diff_perIDGroup is the column you're testing\n",
    "data = df_reduced['rel_price_diff_loc_to_glob_Journey_min'].dropna()  # Drop NaN values if any\n",
    "\n",
    "# Perform the one-sample t-test against the null hypothesis that the mean is 0\n",
    "t_statistic, p_value = ttest_1samp(data, 0)\n",
    "\n",
    "print(f\"T-statistic: {t_statistic}\")\n",
    "print(f\"P-value: {p_value}\")\n",
    "\n",
    "# Interpretation\n",
    "if p_value < 0.01:\n",
    "    print(\"We reject the null hypothesis. The mean of max_rel_diff_perIDGroup is significantly different from 0.\")\n",
    "else:\n",
    "    print(\"We fail to reject the null hypothesis. There is not enough evidence to say the mean of max_rel_diff_perIDGroup is significantly different from 0.\")\n"
   ]
  },
  {
   "cell_type": "code",
   "execution_count": 84,
   "metadata": {},
   "outputs": [
    {
     "name": "stdout",
     "output_type": "stream",
     "text": [
      "R² score: 0.9178251391562919\n",
      "Mean squared error: 36.36805237358584\n",
      "Coefficients:\n",
      "Price_in_USD            0.000433\n",
      "airline_code_AC         0.000000\n",
      "airline_code_AF         0.000000\n",
      "airline_code_AM        -0.000000\n",
      "airline_code_AS        -0.000000\n",
      "                          ...   \n",
      "First_flight_ZAG-CDG   -0.000000\n",
      "First_flight_ZAG-DOH   -0.000000\n",
      "First_flight_ZAG-DXB   -0.000000\n",
      "First_flight_ZAG-FRA   -0.000000\n",
      "First_flight_ZAG-IST   -0.000000\n",
      "Length: 181, dtype: float64\n"
     ]
    }
   ],
   "source": [
    "from sklearn.linear_model import Lasso\n",
    "from sklearn.model_selection import train_test_split\n",
    "from sklearn.metrics import mean_squared_error, r2_score\n",
    "import pandas as pd\n",
    "\n",
    "# Assuming df_reduced is your DataFrame and it's already loaded\n",
    "\n",
    "# Prepare your data: Get dummies for categorical variables\n",
    "X = pd.get_dummies(df_reduced[['airline_code', 'Price_in_USD', 'Detected_Country', 'First_flight']], drop_first=True)\n",
    "y = df_reduced['max_rel_diff_perIDGroup']\n",
    "\n",
    "# Split the dataset into training and testing sets\n",
    "X_train, X_test, y_train, y_test = train_test_split(X, y, test_size=0.2, random_state=42)\n",
    "\n",
    "# Initialize the Lasso regression model\n",
    "# alpha is the regularization strength; larger values specify stronger regularization.\n",
    "lasso_model = Lasso(alpha=0.1)  # You might need to adjust the alpha value\n",
    "\n",
    "# Fit the Lasso model to the training data\n",
    "lasso_model.fit(X_train, y_train)\n",
    "\n",
    "# Predict on the testing set\n",
    "y_pred = lasso_model.predict(X_test)\n",
    "\n",
    "# Evaluate the model\n",
    "print(f\"R² score: {r2_score(y_test, y_pred)}\")\n",
    "print(f\"Mean squared error: {mean_squared_error(y_test, y_pred)}\")\n",
    "\n",
    "# Viewing the coefficients\n",
    "coefficients = pd.Series(lasso_model.coef_, index=X_train.columns)\n",
    "print(\"Coefficients:\")\n",
    "print(coefficients)\n"
   ]
  },
  {
   "cell_type": "code",
   "execution_count": null,
   "metadata": {},
   "outputs": [],
   "source": []
  }
 ],
 "metadata": {
  "kernelspec": {
   "display_name": "playwright-trial-uIq0qThi-py3.12",
   "language": "python",
   "name": "python3"
  },
  "language_info": {
   "codemirror_mode": {
    "name": "ipython",
    "version": 3
   },
   "file_extension": ".py",
   "mimetype": "text/x-python",
   "name": "python",
   "nbconvert_exporter": "python",
   "pygments_lexer": "ipython3",
   "version": "3.12.1"
  }
 },
 "nbformat": 4,
 "nbformat_minor": 2
}
