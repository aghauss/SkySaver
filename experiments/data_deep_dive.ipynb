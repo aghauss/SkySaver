{
 "cells": [
  {
   "cell_type": "markdown",
   "metadata": {},
   "source": [
    "# Imports"
   ]
  },
  {
   "cell_type": "code",
   "execution_count": 93,
   "metadata": {},
   "outputs": [],
   "source": [
    "import pandas as pd\n",
    "import numpy as np\n",
    "import ast\n",
    "from datetime import datetime"
   ]
  },
  {
   "cell_type": "markdown",
   "metadata": {},
   "source": [
    "# Helper functions"
   ]
  },
  {
   "cell_type": "code",
   "execution_count": 94,
   "metadata": {},
   "outputs": [],
   "source": [
    "conversion_rates = {\n",
    "    'CHF': 1.14,  # 1 CHF = 1.134556 USD as of Feb 20, 2024, according to X-Rates\n",
    "    'TRY': 0.032,   # 1 TRY = 0.03230 USD as of Feb 21, 2024, according to Wise\n",
    "    'PLN': 0.25,  # 1 PLN = 0.250338 USD as of Feb 21, 2024, according to Xe.com\n",
    "    'GBP': 1.26,      # Example rate, adjust with the actual rate when available\n",
    "    'JOD': 1.41,      # Example rate, adjust with the actual rate when available\n",
    "    'AUD' : 0.66,\n",
    "    'BRL' : 0.2,\n",
    "    'IDR' : 0.000064,\n",
    "    'USD' : 1.0,\n",
    "    'EUR' : 1.08,\n",
    "    'ALL' : 0.010,\n",
    "    'JPY' : 0.0066,\n",
    "    'BDT' : 0.0091,\n",
    "\n",
    "}\n",
    "\n"
   ]
  },
  {
   "cell_type": "code",
   "execution_count": 95,
   "metadata": {},
   "outputs": [],
   "source": [
    "def convert_to_usd(row, price_col_name, currency_col_name):\n",
    "    price = row[price_col_name]\n",
    "    currency = row[currency_col_name]\n",
    "    price = row['ticket_price']\n",
    "    conversion_rate = conversion_rates.get(currency)\n",
    "\n",
    "    # Check if conversion_rate is None\n",
    "    if conversion_rate is None:\n",
    "        # Handle the error (e.g., return 0, raise an exception, or use a default conversion rate)\n",
    "        raise ValueError(f\"Conversion rate for currency '{currency}' is not available.\")\n",
    "        # Alternatively, you can return 0 or some default value instead of raising an error\n",
    "        # return 0\n",
    "    \n",
    "    return price * conversion_rate\n"
   ]
  },
  {
   "cell_type": "code",
   "execution_count": 96,
   "metadata": {},
   "outputs": [],
   "source": [
    "def clean_fifth_element(lst):\n",
    "    cleaned_lst = []\n",
    "    for item in lst:\n",
    "        if len(item) >= 5:\n",
    "            fifth_element = item[4]\n",
    "            if isinstance(fifth_element, int):\n",
    "                cleaned_lst.append(fifth_element)\n",
    "            else:\n",
    "                try:\n",
    "                    cleaned_lst.append(int(fifth_element))\n",
    "                except ValueError:\n",
    "                    # If the fifth element cannot be converted to an integer, replace it with 0\n",
    "                    cleaned_lst.append(0)\n",
    "        else:\n",
    "            cleaned_lst.append(0)  # If the list is too short, consider the fifth element as 0\n",
    "    return cleaned_lst\n",
    "\n"
   ]
  },
  {
   "cell_type": "code",
   "execution_count": 97,
   "metadata": {},
   "outputs": [],
   "source": [
    "def convert_list_to_datetime(date_list):\n",
    "    # Convert 'null' strings to 0 and other elements to integers\n",
    "    date_list = [0 if element == 'null' else int(element) for element in date_list]\n",
    "    \n",
    "    try:\n",
    "        if len(date_list) == 5:\n",
    "            # If all components are present, unpack the list directly into datetime\n",
    "            return datetime(*date_list)\n",
    "        elif len(date_list) == 4:\n",
    "            # If the minute is missing (or any single component), append 0 for minutes and then convert\n",
    "            return datetime(*(date_list + [0]))\n",
    "        else:\n",
    "            # Return None for lists of unexpected length to indicate an issue\n",
    "            return None\n",
    "    except TypeError:\n",
    "        # Handle cases where the list contents cannot be directly unpacked into datetime\n",
    "        return None\n",
    "\n",
    "\n"
   ]
  },
  {
   "cell_type": "code",
   "execution_count": 98,
   "metadata": {},
   "outputs": [],
   "source": [
    "def clean_fifth_element(lst):\n",
    "    cleaned_lst = []\n",
    "    for item in lst:\n",
    "        if len(item) >= 5:\n",
    "            fifth_element = item[4]\n",
    "            if isinstance(fifth_element, int):\n",
    "                cleaned_lst.append(item[:4] + [fifth_element] + item[5:])\n",
    "            else:\n",
    "                try:\n",
    "                    cleaned_lst.append(item[:4] + [int(fifth_element)] + item[5:])\n",
    "                except ValueError:\n",
    "                    # If the fifth element cannot be converted to an integer, replace it with 0\n",
    "                    cleaned_lst.append(item[:4] + [0] + item[5:])\n",
    "        else:\n",
    "            # If the list is too short, consider the fifth element as 0\n",
    "            cleaned_lst.append(item[:4] + [0])\n",
    "    return cleaned_lst\n",
    "\n"
   ]
  },
  {
   "cell_type": "markdown",
   "metadata": {},
   "source": [
    "# Read and Clean Dataset"
   ]
  },
  {
   "cell_type": "code",
   "execution_count": 99,
   "metadata": {},
   "outputs": [],
   "source": [
    "df = pd.read_csv('../data/query_results/Query4_results_test.csv')"
   ]
  },
  {
   "cell_type": "code",
   "execution_count": 100,
   "metadata": {},
   "outputs": [],
   "source": [
    "for i in ['arrival_date','departure_date']:\n",
    "    df[i] = df[i].apply(ast.literal_eval)"
   ]
  },
  {
   "cell_type": "code",
   "execution_count": 101,
   "metadata": {},
   "outputs": [],
   "source": [
    "df['arrival_date'] = clean_fifth_element(df['arrival_date'])\n",
    "df['departure_date'] = clean_fifth_element(df['departure_date'])"
   ]
  },
  {
   "cell_type": "code",
   "execution_count": 102,
   "metadata": {},
   "outputs": [],
   "source": [
    "for i in ['arrival_date','departure_date']:\n",
    "    df[i] = df[i].apply(convert_list_to_datetime)"
   ]
  },
  {
   "cell_type": "markdown",
   "metadata": {},
   "source": [
    "**Create identifier (FlightID) for identical flights**"
   ]
  },
  {
   "cell_type": "code",
   "execution_count": 103,
   "metadata": {},
   "outputs": [],
   "source": [
    "df['Flight_ID'] = df[['airline_code', 'departure_airport_code', 'destination_airport_code','First_flight','last_flight_code','arrival_date','departure_date', 'departure_time','selling_airline','arrival_time','first_flight_code']].astype(str).agg('-'.join, axis=1)"
   ]
  },
  {
   "cell_type": "code",
   "execution_count": 104,
   "metadata": {},
   "outputs": [],
   "source": [
    "df = df.drop(['departure_time','selling_airline','arrival_time'], axis = 1)"
   ]
  },
  {
   "cell_type": "markdown",
   "metadata": {},
   "source": [
    "**Remove duplicates**"
   ]
  },
  {
   "cell_type": "code",
   "execution_count": 105,
   "metadata": {},
   "outputs": [],
   "source": [
    "df[\"Duplicate_checker\"] = df['Flight_ID'] + df['Detected_Country'] + df[\"Detected_Language\"] + df[\"Detected_Country\"] + str(df[\"ticket_price\"])"
   ]
  },
  {
   "cell_type": "code",
   "execution_count": 106,
   "metadata": {},
   "outputs": [],
   "source": [
    "df_reduced = df.drop_duplicates(subset='Duplicate_checker', keep='first').copy()"
   ]
  },
  {
   "cell_type": "code",
   "execution_count": 107,
   "metadata": {},
   "outputs": [],
   "source": [
    "df_reduced = df_reduced.drop(['Duplicate_checker'], axis = 1)"
   ]
  },
  {
   "cell_type": "markdown",
   "metadata": {},
   "source": [
    "**Remove NaN and erroneous rows**"
   ]
  },
  {
   "cell_type": "code",
   "execution_count": 108,
   "metadata": {},
   "outputs": [],
   "source": [
    "df_reduced.dropna(subset=['Detected_Currency', 'ticket_price', 'Detected_Country'], inplace=True)"
   ]
  },
  {
   "cell_type": "code",
   "execution_count": 109,
   "metadata": {},
   "outputs": [],
   "source": [
    "df_reduced = df_reduced[df_reduced['ticket_price'] >= 10]"
   ]
  },
  {
   "cell_type": "markdown",
   "metadata": {},
   "source": [
    "# Feature engineering"
   ]
  },
  {
   "cell_type": "code",
   "execution_count": 110,
   "metadata": {},
   "outputs": [],
   "source": [
    "df_reduced['Price_in_USD'] = df_reduced.apply(lambda row: convert_to_usd(row, 'ticket_price', 'Detected_Currency'), axis=1)"
   ]
  },
  {
   "cell_type": "markdown",
   "metadata": {},
   "source": [
    "Creating commutime time"
   ]
  },
  {
   "cell_type": "code",
   "execution_count": 111,
   "metadata": {},
   "outputs": [],
   "source": [
    "df_reduced['commute_time'] = (df_reduced['arrival_date'] - df_reduced['departure_date']).dt.total_seconds() / 60"
   ]
  },
  {
   "cell_type": "code",
   "execution_count": 112,
   "metadata": {},
   "outputs": [],
   "source": [
    "df_reduced['query_date'] = pd.Timestamp('2024-02-15')"
   ]
  },
  {
   "cell_type": "code",
   "execution_count": 113,
   "metadata": {},
   "outputs": [],
   "source": [
    "df_reduced['days_until_departure'] = (df_reduced['departure_date'] - df_reduced['query_date']).dt.days"
   ]
  },
  {
   "cell_type": "markdown",
   "metadata": {},
   "source": [
    "**Eliminating queries with little country variance**"
   ]
  },
  {
   "cell_type": "code",
   "execution_count": 114,
   "metadata": {},
   "outputs": [],
   "source": [
    "# Count the number of different countries available per Flight_ID\n",
    "country_count_per_flight = df_reduced.groupby('Flight_ID')['Detected_Country'].nunique().reset_index(name='FlightID_in_Countries_Count')\n",
    "\n",
    "# Merge this count back into the original dataframe\n",
    "df_reduced = df_reduced.merge(country_count_per_flight, on='Flight_ID')\n"
   ]
  },
  {
   "cell_type": "code",
   "execution_count": 115,
   "metadata": {},
   "outputs": [],
   "source": [
    "df_reduced = df_reduced[df_reduced['FlightID_in_Countries_Count'] >= 8]"
   ]
  },
  {
   "cell_type": "markdown",
   "metadata": {},
   "source": [
    "**Creating Journey_ID: Identifier for identical journeys (same departure and destination airport) on same days**"
   ]
  },
  {
   "cell_type": "markdown",
   "metadata": {},
   "source": [
    "Extracting departure and arrival days"
   ]
  },
  {
   "cell_type": "code",
   "execution_count": 116,
   "metadata": {},
   "outputs": [],
   "source": [
    "df_reduced[\"departure_date_day\"] = df_reduced[\"departure_date\"].dt.strftime('%d-%m-%Y')\n",
    "df_reduced[\"arrival_date_day\"] = df_reduced[\"arrival_date\"].dt.strftime('%d-%m-%Y')"
   ]
  },
  {
   "cell_type": "markdown",
   "metadata": {},
   "source": [
    "Creating column for whole Journey"
   ]
  },
  {
   "cell_type": "code",
   "execution_count": 117,
   "metadata": {},
   "outputs": [],
   "source": [
    "df_reduced[\"Journey_route\"] = df_reduced[\"departure_airport_code\"] + \"-\" + df_reduced[\"destination_airport_code\"]"
   ]
  },
  {
   "cell_type": "code",
   "execution_count": 118,
   "metadata": {},
   "outputs": [],
   "source": [
    "df_reduced[\"Journey_ID\"] = df_reduced[\"Journey_route\"] + \": \" + df_reduced[\"departure_date_day\"] + \" \"  + df_reduced[\"arrival_date_day\"]"
   ]
  },
  {
   "cell_type": "markdown",
   "metadata": {},
   "source": [
    "**Creating Variables that analyse price differences between identical Flights**"
   ]
  },
  {
   "cell_type": "code",
   "execution_count": 119,
   "metadata": {},
   "outputs": [],
   "source": [
    "# Group by Flight_ID and calculate max, min prices and their absolute difference\n",
    "price_stats = df_reduced.groupby('Flight_ID')['Price_in_USD'].agg(['max', 'min'])\n",
    "price_stats['max_abs_diff_perIDGroup'] = price_stats['max'] - price_stats['min']\n",
    "\n",
    "# Calculate the relative difference as a percentage of the min price\n",
    "price_stats['max_rel_diff_perIDGroup'] = (price_stats['max_abs_diff_perIDGroup'] / price_stats['min']) * 100"
   ]
  },
  {
   "cell_type": "code",
   "execution_count": 120,
   "metadata": {},
   "outputs": [],
   "source": [
    "df_reduced = pd.merge(df_reduced, price_stats, on='Flight_ID', how='left')"
   ]
  },
  {
   "cell_type": "code",
   "execution_count": 121,
   "metadata": {},
   "outputs": [],
   "source": [
    "df_reduced[\"abs_diff_to_min\"] = df_reduced[\"Price_in_USD\"] - df_reduced[\"min\"]\n",
    "df_reduced[\"rel_diff_to_min\"] = ((df_reduced[\"Price_in_USD\"] /df_reduced[\"min\"] ) -1) * 100\n",
    "df_reduced['price_score_perIDGroup'] = df_reduced['rel_diff_to_min'] / df_reduced['max_rel_diff_perIDGroup']"
   ]
  },
  {
   "cell_type": "markdown",
   "metadata": {},
   "source": [
    "**Creating Variables that analyse price differences between identical Journey**"
   ]
  },
  {
   "cell_type": "code",
   "execution_count": 122,
   "metadata": {},
   "outputs": [],
   "source": [
    "# Group by Flight_ID and calculate max, min prices and their absolute difference\n",
    "price_stats_journey = df_reduced.groupby('Journey_ID')['Price_in_USD'].agg(['max', 'min'])\n",
    "price_stats_journey['max_abs_diff_perIDGroup_Journey'] = price_stats_journey['max'] - price_stats_journey['min']\n",
    "price_stats_journey.columns = ['max_journey', 'min_journey', 'max_abs_diff_perIDGroup_Journey']\n",
    "price_stats_journey['max_rel_diff_perIDGroup_Journey'] = (price_stats_journey['max_abs_diff_perIDGroup_Journey'] / price_stats_journey['min_journey']) * 100"
   ]
  },
  {
   "cell_type": "code",
   "execution_count": 123,
   "metadata": {},
   "outputs": [
    {
     "data": {
      "text/html": [
       "<div>\n",
       "<style scoped>\n",
       "    .dataframe tbody tr th:only-of-type {\n",
       "        vertical-align: middle;\n",
       "    }\n",
       "\n",
       "    .dataframe tbody tr th {\n",
       "        vertical-align: top;\n",
       "    }\n",
       "\n",
       "    .dataframe thead th {\n",
       "        text-align: right;\n",
       "    }\n",
       "</style>\n",
       "<table border=\"1\" class=\"dataframe\">\n",
       "  <thead>\n",
       "    <tr style=\"text-align: right;\">\n",
       "      <th></th>\n",
       "      <th>max_journey</th>\n",
       "      <th>min_journey</th>\n",
       "      <th>max_abs_diff_perIDGroup_Journey</th>\n",
       "      <th>max_rel_diff_perIDGroup_Journey</th>\n",
       "    </tr>\n",
       "    <tr>\n",
       "      <th>Journey_ID</th>\n",
       "      <th></th>\n",
       "      <th></th>\n",
       "      <th></th>\n",
       "      <th></th>\n",
       "    </tr>\n",
       "  </thead>\n",
       "  <tbody>\n",
       "    <tr>\n",
       "      <th>BWI-LUX: 26-02-2024 27-02-2024</th>\n",
       "      <td>4064.94</td>\n",
       "      <td>3515.2500</td>\n",
       "      <td>549.6900</td>\n",
       "      <td>15.637295</td>\n",
       "    </tr>\n",
       "    <tr>\n",
       "      <th>CAN-MUC: 31-05-2024 01-06-2024</th>\n",
       "      <td>3043.26</td>\n",
       "      <td>1397.4900</td>\n",
       "      <td>1645.7700</td>\n",
       "      <td>117.766138</td>\n",
       "    </tr>\n",
       "    <tr>\n",
       "      <th>CAN-MUC: 31-05-2024 31-05-2024</th>\n",
       "      <td>4811.40</td>\n",
       "      <td>1146.4300</td>\n",
       "      <td>3664.9700</td>\n",
       "      <td>319.685458</td>\n",
       "    </tr>\n",
       "    <tr>\n",
       "      <th>CGK-JFK: 15-07-2024 15-07-2024</th>\n",
       "      <td>2602.38</td>\n",
       "      <td>1208.5200</td>\n",
       "      <td>1393.8600</td>\n",
       "      <td>115.336114</td>\n",
       "    </tr>\n",
       "    <tr>\n",
       "      <th>CGK-JFK: 15-07-2024 16-07-2024</th>\n",
       "      <td>2457.84</td>\n",
       "      <td>1353.9100</td>\n",
       "      <td>1103.9300</td>\n",
       "      <td>81.536439</td>\n",
       "    </tr>\n",
       "    <tr>\n",
       "      <th>...</th>\n",
       "      <td>...</td>\n",
       "      <td>...</td>\n",
       "      <td>...</td>\n",
       "      <td>...</td>\n",
       "    </tr>\n",
       "    <tr>\n",
       "      <th>VIE-LED: 15-04-2024 16-04-2024</th>\n",
       "      <td>1391.94</td>\n",
       "      <td>648.9318</td>\n",
       "      <td>743.0082</td>\n",
       "      <td>114.497117</td>\n",
       "    </tr>\n",
       "    <tr>\n",
       "      <th>ZAG-LIM: 19-12-2024 19-12-2024</th>\n",
       "      <td>2704.68</td>\n",
       "      <td>2585.3100</td>\n",
       "      <td>119.3700</td>\n",
       "      <td>4.617241</td>\n",
       "    </tr>\n",
       "    <tr>\n",
       "      <th>ZAG-LIM: 19-12-2024 20-12-2024</th>\n",
       "      <td>2678.28</td>\n",
       "      <td>2559.6200</td>\n",
       "      <td>118.6600</td>\n",
       "      <td>4.635844</td>\n",
       "    </tr>\n",
       "    <tr>\n",
       "      <th>ZAG-NRT: 05-11-2024 06-11-2024</th>\n",
       "      <td>1541.28</td>\n",
       "      <td>985.1000</td>\n",
       "      <td>556.1800</td>\n",
       "      <td>56.459243</td>\n",
       "    </tr>\n",
       "    <tr>\n",
       "      <th>ZAG-NRT: 05-11-2024 07-11-2024</th>\n",
       "      <td>1029.42</td>\n",
       "      <td>985.1000</td>\n",
       "      <td>44.3200</td>\n",
       "      <td>4.499036</td>\n",
       "    </tr>\n",
       "  </tbody>\n",
       "</table>\n",
       "<p>63 rows × 4 columns</p>\n",
       "</div>"
      ],
      "text/plain": [
       "                                max_journey  min_journey  \\\n",
       "Journey_ID                                                 \n",
       "BWI-LUX: 26-02-2024 27-02-2024      4064.94    3515.2500   \n",
       "CAN-MUC: 31-05-2024 01-06-2024      3043.26    1397.4900   \n",
       "CAN-MUC: 31-05-2024 31-05-2024      4811.40    1146.4300   \n",
       "CGK-JFK: 15-07-2024 15-07-2024      2602.38    1208.5200   \n",
       "CGK-JFK: 15-07-2024 16-07-2024      2457.84    1353.9100   \n",
       "...                                     ...          ...   \n",
       "VIE-LED: 15-04-2024 16-04-2024      1391.94     648.9318   \n",
       "ZAG-LIM: 19-12-2024 19-12-2024      2704.68    2585.3100   \n",
       "ZAG-LIM: 19-12-2024 20-12-2024      2678.28    2559.6200   \n",
       "ZAG-NRT: 05-11-2024 06-11-2024      1541.28     985.1000   \n",
       "ZAG-NRT: 05-11-2024 07-11-2024      1029.42     985.1000   \n",
       "\n",
       "                                max_abs_diff_perIDGroup_Journey  \\\n",
       "Journey_ID                                                        \n",
       "BWI-LUX: 26-02-2024 27-02-2024                         549.6900   \n",
       "CAN-MUC: 31-05-2024 01-06-2024                        1645.7700   \n",
       "CAN-MUC: 31-05-2024 31-05-2024                        3664.9700   \n",
       "CGK-JFK: 15-07-2024 15-07-2024                        1393.8600   \n",
       "CGK-JFK: 15-07-2024 16-07-2024                        1103.9300   \n",
       "...                                                         ...   \n",
       "VIE-LED: 15-04-2024 16-04-2024                         743.0082   \n",
       "ZAG-LIM: 19-12-2024 19-12-2024                         119.3700   \n",
       "ZAG-LIM: 19-12-2024 20-12-2024                         118.6600   \n",
       "ZAG-NRT: 05-11-2024 06-11-2024                         556.1800   \n",
       "ZAG-NRT: 05-11-2024 07-11-2024                          44.3200   \n",
       "\n",
       "                                max_rel_diff_perIDGroup_Journey  \n",
       "Journey_ID                                                       \n",
       "BWI-LUX: 26-02-2024 27-02-2024                        15.637295  \n",
       "CAN-MUC: 31-05-2024 01-06-2024                       117.766138  \n",
       "CAN-MUC: 31-05-2024 31-05-2024                       319.685458  \n",
       "CGK-JFK: 15-07-2024 15-07-2024                       115.336114  \n",
       "CGK-JFK: 15-07-2024 16-07-2024                        81.536439  \n",
       "...                                                         ...  \n",
       "VIE-LED: 15-04-2024 16-04-2024                       114.497117  \n",
       "ZAG-LIM: 19-12-2024 19-12-2024                         4.617241  \n",
       "ZAG-LIM: 19-12-2024 20-12-2024                         4.635844  \n",
       "ZAG-NRT: 05-11-2024 06-11-2024                        56.459243  \n",
       "ZAG-NRT: 05-11-2024 07-11-2024                         4.499036  \n",
       "\n",
       "[63 rows x 4 columns]"
      ]
     },
     "execution_count": 123,
     "metadata": {},
     "output_type": "execute_result"
    }
   ],
   "source": [
    "price_stats_journey"
   ]
  },
  {
   "cell_type": "code",
   "execution_count": 124,
   "metadata": {},
   "outputs": [],
   "source": [
    "df_reduced = pd.merge(df_reduced, price_stats_journey, on='Journey_ID', how='left')"
   ]
  },
  {
   "cell_type": "code",
   "execution_count": 125,
   "metadata": {},
   "outputs": [],
   "source": [
    "df_reduced[\"abs_diff_to_min_Journey\"] = df_reduced[\"Price_in_USD\"] - df_reduced[\"min_journey\"]\n",
    "df_reduced[\"rel_diff_to_min_Journey\"] = ((df_reduced[\"Price_in_USD\"] /df_reduced[\"min_journey\"] ) -1) * 100\n",
    "df_reduced['price_score_perIDGroup_Journey'] = df_reduced['rel_diff_to_min_Journey'] / df_reduced['max_rel_diff_perIDGroup_Journey']"
   ]
  },
  {
   "cell_type": "code",
   "execution_count": 126,
   "metadata": {},
   "outputs": [
    {
     "data": {
      "text/plain": [
       "182.5517675268012"
      ]
     },
     "execution_count": 126,
     "metadata": {},
     "output_type": "execute_result"
    }
   ],
   "source": [
    "df_reduced.max_rel_diff_perIDGroup_Journey.mean()"
   ]
  },
  {
   "cell_type": "markdown",
   "metadata": {},
   "source": [
    "**Creating Variables that analyse price differences between identical Journey within the same query-country**"
   ]
  },
  {
   "cell_type": "code",
   "execution_count": 127,
   "metadata": {},
   "outputs": [],
   "source": [
    "price_stats_journey_same_country = df_reduced.groupby(['Journey_ID', 'Detected_Country'])['Price_in_USD'].agg(['max', 'min'])\n",
    "price_stats_journey_same_country['max_abs_diff_perIDGroup_Journey_same_country'] = price_stats_journey_same_country['max'] - price_stats_journey_same_country['min']\n",
    "price_stats_journey_same_country.columns = ['max_journey_same_country', 'min_journey_same_country', 'max_abs_diff_perIDGroup_Journey_same_country']\n",
    "price_stats_journey_same_country['max_rel_diff_perIDGroup_Journey_same_country'] = (price_stats_journey_same_country['max_abs_diff_perIDGroup_Journey_same_country'] / price_stats_journey_same_country['min_journey_same_country']) * 100"
   ]
  },
  {
   "cell_type": "code",
   "execution_count": 128,
   "metadata": {},
   "outputs": [
    {
     "data": {
      "text/html": [
       "<div>\n",
       "<style scoped>\n",
       "    .dataframe tbody tr th:only-of-type {\n",
       "        vertical-align: middle;\n",
       "    }\n",
       "\n",
       "    .dataframe tbody tr th {\n",
       "        vertical-align: top;\n",
       "    }\n",
       "\n",
       "    .dataframe thead th {\n",
       "        text-align: right;\n",
       "    }\n",
       "</style>\n",
       "<table border=\"1\" class=\"dataframe\">\n",
       "  <thead>\n",
       "    <tr style=\"text-align: right;\">\n",
       "      <th></th>\n",
       "      <th></th>\n",
       "      <th>max_journey_same_country</th>\n",
       "      <th>min_journey_same_country</th>\n",
       "      <th>max_abs_diff_perIDGroup_Journey_same_country</th>\n",
       "      <th>max_rel_diff_perIDGroup_Journey_same_country</th>\n",
       "    </tr>\n",
       "    <tr>\n",
       "      <th>Journey_ID</th>\n",
       "      <th>Detected_Country</th>\n",
       "      <th></th>\n",
       "      <th></th>\n",
       "      <th></th>\n",
       "      <th></th>\n",
       "    </tr>\n",
       "  </thead>\n",
       "  <tbody>\n",
       "    <tr>\n",
       "      <th rowspan=\"5\" valign=\"top\">BWI-LUX: 26-02-2024 27-02-2024</th>\n",
       "      <th>Australia</th>\n",
       "      <td>4064.940000</td>\n",
       "      <td>3678.18000</td>\n",
       "      <td>386.760000</td>\n",
       "      <td>10.514983</td>\n",
       "    </tr>\n",
       "    <tr>\n",
       "      <th>Brasil</th>\n",
       "      <td>4004.600000</td>\n",
       "      <td>3623.20000</td>\n",
       "      <td>381.400000</td>\n",
       "      <td>10.526606</td>\n",
       "    </tr>\n",
       "    <tr>\n",
       "      <th>Deutschland</th>\n",
       "      <td>4032.720000</td>\n",
       "      <td>3649.32000</td>\n",
       "      <td>383.400000</td>\n",
       "      <td>10.506067</td>\n",
       "    </tr>\n",
       "    <tr>\n",
       "      <th>Indonesia</th>\n",
       "      <td>4044.615232</td>\n",
       "      <td>3659.44608</td>\n",
       "      <td>385.169152</td>\n",
       "      <td>10.525340</td>\n",
       "    </tr>\n",
       "    <tr>\n",
       "      <th>Polska</th>\n",
       "      <td>4032.750000</td>\n",
       "      <td>3648.75000</td>\n",
       "      <td>384.000000</td>\n",
       "      <td>10.524152</td>\n",
       "    </tr>\n",
       "    <tr>\n",
       "      <th>...</th>\n",
       "      <th>...</th>\n",
       "      <td>...</td>\n",
       "      <td>...</td>\n",
       "      <td>...</td>\n",
       "      <td>...</td>\n",
       "    </tr>\n",
       "    <tr>\n",
       "      <th rowspan=\"5\" valign=\"top\">ZAG-NRT: 05-11-2024 07-11-2024</th>\n",
       "      <th>Polska</th>\n",
       "      <td>1022.000000</td>\n",
       "      <td>1022.00000</td>\n",
       "      <td>0.000000</td>\n",
       "      <td>0.000000</td>\n",
       "    </tr>\n",
       "    <tr>\n",
       "      <th>Schweiz</th>\n",
       "      <td>1029.420000</td>\n",
       "      <td>1029.42000</td>\n",
       "      <td>0.000000</td>\n",
       "      <td>0.000000</td>\n",
       "    </tr>\n",
       "    <tr>\n",
       "      <th>Shqipëri</th>\n",
       "      <td>985.100000</td>\n",
       "      <td>985.10000</td>\n",
       "      <td>0.000000</td>\n",
       "      <td>0.000000</td>\n",
       "    </tr>\n",
       "    <tr>\n",
       "      <th>Türkiye</th>\n",
       "      <td>1020.416000</td>\n",
       "      <td>1020.41600</td>\n",
       "      <td>0.000000</td>\n",
       "      <td>0.000000</td>\n",
       "    </tr>\n",
       "    <tr>\n",
       "      <th>বাংলাদেশ</th>\n",
       "      <td>1023.922900</td>\n",
       "      <td>1023.92290</td>\n",
       "      <td>0.000000</td>\n",
       "      <td>0.000000</td>\n",
       "    </tr>\n",
       "  </tbody>\n",
       "</table>\n",
       "<p>565 rows × 4 columns</p>\n",
       "</div>"
      ],
      "text/plain": [
       "                                                 max_journey_same_country  \\\n",
       "Journey_ID                     Detected_Country                             \n",
       "BWI-LUX: 26-02-2024 27-02-2024 Australia                      4064.940000   \n",
       "                               Brasil                         4004.600000   \n",
       "                               Deutschland                    4032.720000   \n",
       "                               Indonesia                      4044.615232   \n",
       "                               Polska                         4032.750000   \n",
       "...                                                                   ...   \n",
       "ZAG-NRT: 05-11-2024 07-11-2024 Polska                         1022.000000   \n",
       "                               Schweiz                        1029.420000   \n",
       "                               Shqipëri                        985.100000   \n",
       "                               Türkiye                        1020.416000   \n",
       "                               বাংলাদেশ                       1023.922900   \n",
       "\n",
       "                                                 min_journey_same_country  \\\n",
       "Journey_ID                     Detected_Country                             \n",
       "BWI-LUX: 26-02-2024 27-02-2024 Australia                       3678.18000   \n",
       "                               Brasil                          3623.20000   \n",
       "                               Deutschland                     3649.32000   \n",
       "                               Indonesia                       3659.44608   \n",
       "                               Polska                          3648.75000   \n",
       "...                                                                   ...   \n",
       "ZAG-NRT: 05-11-2024 07-11-2024 Polska                          1022.00000   \n",
       "                               Schweiz                         1029.42000   \n",
       "                               Shqipëri                         985.10000   \n",
       "                               Türkiye                         1020.41600   \n",
       "                               বাংলাদেশ                        1023.92290   \n",
       "\n",
       "                                                 max_abs_diff_perIDGroup_Journey_same_country  \\\n",
       "Journey_ID                     Detected_Country                                                 \n",
       "BWI-LUX: 26-02-2024 27-02-2024 Australia                                           386.760000   \n",
       "                               Brasil                                              381.400000   \n",
       "                               Deutschland                                         383.400000   \n",
       "                               Indonesia                                           385.169152   \n",
       "                               Polska                                              384.000000   \n",
       "...                                                                                       ...   \n",
       "ZAG-NRT: 05-11-2024 07-11-2024 Polska                                                0.000000   \n",
       "                               Schweiz                                               0.000000   \n",
       "                               Shqipëri                                              0.000000   \n",
       "                               Türkiye                                               0.000000   \n",
       "                               বাংলাদেশ                                              0.000000   \n",
       "\n",
       "                                                 max_rel_diff_perIDGroup_Journey_same_country  \n",
       "Journey_ID                     Detected_Country                                                \n",
       "BWI-LUX: 26-02-2024 27-02-2024 Australia                                            10.514983  \n",
       "                               Brasil                                               10.526606  \n",
       "                               Deutschland                                          10.506067  \n",
       "                               Indonesia                                            10.525340  \n",
       "                               Polska                                               10.524152  \n",
       "...                                                                                       ...  \n",
       "ZAG-NRT: 05-11-2024 07-11-2024 Polska                                                0.000000  \n",
       "                               Schweiz                                               0.000000  \n",
       "                               Shqipëri                                              0.000000  \n",
       "                               Türkiye                                               0.000000  \n",
       "                               বাংলাদেশ                                              0.000000  \n",
       "\n",
       "[565 rows x 4 columns]"
      ]
     },
     "execution_count": 128,
     "metadata": {},
     "output_type": "execute_result"
    }
   ],
   "source": [
    "price_stats_journey_same_country"
   ]
  },
  {
   "cell_type": "code",
   "execution_count": 129,
   "metadata": {},
   "outputs": [],
   "source": [
    "df_reduced = pd.merge(df_reduced, price_stats_journey_same_country, on=['Journey_ID','Detected_Country'], how='left')"
   ]
  },
  {
   "cell_type": "code",
   "execution_count": 130,
   "metadata": {},
   "outputs": [
    {
     "data": {
      "text/plain": [
       "Index(['airline_code', 'departure_airport_code', 'destination_airport_code',\n",
       "       'ticket_price', 'departure_date', 'arrival_date', 'First_flight',\n",
       "       'first_flight_code', 'last_flight_code', 'Detected_Language',\n",
       "       'Detected_Country', 'Detected_Currency', 'Flight_ID', 'Price_in_USD',\n",
       "       'commute_time', 'query_date', 'days_until_departure',\n",
       "       'FlightID_in_Countries_Count', 'departure_date_day', 'arrival_date_day',\n",
       "       'Journey_route', 'Journey_ID', 'max', 'min', 'max_abs_diff_perIDGroup',\n",
       "       'max_rel_diff_perIDGroup', 'abs_diff_to_min', 'rel_diff_to_min',\n",
       "       'price_score_perIDGroup', 'max_journey', 'min_journey',\n",
       "       'max_abs_diff_perIDGroup_Journey', 'max_rel_diff_perIDGroup_Journey',\n",
       "       'abs_diff_to_min_Journey', 'rel_diff_to_min_Journey',\n",
       "       'price_score_perIDGroup_Journey', 'max_journey_same_country',\n",
       "       'min_journey_same_country',\n",
       "       'max_abs_diff_perIDGroup_Journey_same_country',\n",
       "       'max_rel_diff_perIDGroup_Journey_same_country'],\n",
       "      dtype='object')"
      ]
     },
     "execution_count": 130,
     "metadata": {},
     "output_type": "execute_result"
    }
   ],
   "source": [
    "df_reduced.columns"
   ]
  },
  {
   "cell_type": "code",
   "execution_count": 131,
   "metadata": {},
   "outputs": [],
   "source": [
    "df_reduced[\"price_diff_loc_to_glob_Journey_min\"] = df_reduced[\"min_journey_same_country\"] - df_reduced[\"min_journey\"]"
   ]
  },
  {
   "cell_type": "code",
   "execution_count": 132,
   "metadata": {},
   "outputs": [],
   "source": [
    "df_reduced[\"rel_price_diff_loc_to_glob_Journey_min\"] = (df_reduced[\"price_diff_loc_to_glob_Journey_min\"] / df_reduced[\"min_journey\"]) * 100"
   ]
  },
  {
   "cell_type": "code",
   "execution_count": 134,
   "metadata": {},
   "outputs": [
    {
     "data": {
      "text/plain": [
       "4.509578187892165"
      ]
     },
     "execution_count": 134,
     "metadata": {},
     "output_type": "execute_result"
    }
   ],
   "source": [
    "df_reduced.rel_price_diff_loc_to_glob_Journey_min.mean()"
   ]
  },
  {
   "cell_type": "code",
   "execution_count": 136,
   "metadata": {},
   "outputs": [
    {
     "name": "stdout",
     "output_type": "stream",
     "text": [
      "Detected_Country\n",
      "Australia              7.035948\n",
      "Brasil                 3.084377\n",
      "Deutschland            3.859205\n",
      "Indonesia              3.959648\n",
      "Palestine              4.120533\n",
      "Polska                 3.835188\n",
      "Schweiz                4.383528\n",
      "Shqipëri               0.358481\n",
      "Türkiye                3.597201\n",
      "United Kingdom         7.392782\n",
      "Vereinigte Staaten     4.479632\n",
      "বাংলাদেশ               3.802642\n",
      "日本                    17.559797\n",
      "Name: rel_price_diff_loc_to_glob_Journey_min, dtype: float64\n"
     ]
    }
   ],
   "source": [
    "# Group by 'Detected_Country' and calculate the mean of 'rel_price_diff_loc_to_glob_Journey_min'\n",
    "grouped_means = df_reduced.groupby('Detected_Country')['rel_price_diff_loc_to_glob_Journey_min'].mean()\n",
    "\n",
    "# Display the result\n",
    "print(grouped_means)\n"
   ]
  },
  {
   "cell_type": "code",
   "execution_count": 42,
   "metadata": {},
   "outputs": [
    {
     "data": {
      "text/plain": [
       "Journey_ID                      Detected_Country\n",
       "AMS-MSP: 27-11-2024 27-11-2024  Brasil              18.229855\n",
       "                                Deutschland          0.606673\n",
       "                                Indonesia           18.230197\n",
       "                                Polska              18.209515\n",
       "                                Schweiz             18.259023\n",
       "                                                      ...    \n",
       "ZAG-NRT: 05-11-2024 07-11-2024  Polska               0.000000\n",
       "                                Schweiz              0.000000\n",
       "                                Shqipëri             0.000000\n",
       "                                Türkiye              0.000000\n",
       "                                বাংলাদেশ             0.000000\n",
       "Length: 1009, dtype: float64"
      ]
     },
     "execution_count": 42,
     "metadata": {},
     "output_type": "execute_result"
    }
   ],
   "source": [
    "(price_stats_journey_same_country['max_abs_diff_perIDGroup_Journey_same_country'] / price_stats_journey_same_country['min_journey_same_country']) * 100"
   ]
  },
  {
   "cell_type": "code",
   "execution_count": 43,
   "metadata": {},
   "outputs": [
    {
     "data": {
      "text/plain": [
       "1511.3457881118532"
      ]
     },
     "execution_count": 43,
     "metadata": {},
     "output_type": "execute_result"
    }
   ],
   "source": [
    "df_reduced.Price_in_USD.mean()"
   ]
  },
  {
   "cell_type": "code",
   "execution_count": 44,
   "metadata": {},
   "outputs": [
    {
     "data": {
      "text/plain": [
       "20.389999999999986"
      ]
     },
     "execution_count": 44,
     "metadata": {},
     "output_type": "execute_result"
    }
   ],
   "source": [
    "df_reduced.price_diff_loc_to_glob_Journey_min.median()"
   ]
  },
  {
   "cell_type": "code",
   "execution_count": 45,
   "metadata": {},
   "outputs": [],
   "source": [
    "\n",
    "# Step 1: Filter to get rows where Price_in_USD equals the min for each Flight_ID\n",
    "cheapest_mask_journey = df_reduced['Price_in_USD'] == df_reduced['min_journey']\n",
    "cheapest_journeys = df_reduced[cheapest_mask_journey]\n",
    "\n",
    "# Group by Flight_ID and select the first Detected_Country name alphabetically\n",
    "cheapest_locations_journey = cheapest_journeys.groupby('Journey_ID')['Detected_Country'].min().reset_index()\n",
    "\n",
    "# Rename the column for clarity\n",
    "cheapest_locations_journey.rename(columns={'Detected_Country': 'Cheapest_Location_Journey'}, inplace=True)\n",
    "\n",
    "# Step 2: Merge this information back with the original DataFrame\n",
    "df_reduced = df_reduced.merge(cheapest_locations_journey, on='Journey_ID', how='left')\n"
   ]
  },
  {
   "cell_type": "code",
   "execution_count": 46,
   "metadata": {},
   "outputs": [
    {
     "data": {
      "text/html": [
       "<div>\n",
       "<style scoped>\n",
       "    .dataframe tbody tr th:only-of-type {\n",
       "        vertical-align: middle;\n",
       "    }\n",
       "\n",
       "    .dataframe tbody tr th {\n",
       "        vertical-align: top;\n",
       "    }\n",
       "\n",
       "    .dataframe thead th {\n",
       "        text-align: right;\n",
       "    }\n",
       "</style>\n",
       "<table border=\"1\" class=\"dataframe\">\n",
       "  <thead>\n",
       "    <tr style=\"text-align: right;\">\n",
       "      <th></th>\n",
       "      <th>airline_code</th>\n",
       "      <th>departure_airport_code</th>\n",
       "      <th>destination_airport_code</th>\n",
       "      <th>ticket_price</th>\n",
       "      <th>departure_date</th>\n",
       "      <th>arrival_date</th>\n",
       "      <th>First_flight</th>\n",
       "      <th>first_flight_code</th>\n",
       "      <th>last_flight_code</th>\n",
       "      <th>Detected_Language</th>\n",
       "      <th>...</th>\n",
       "      <th>abs_diff_to_min_Journey</th>\n",
       "      <th>rel_diff_to_min_Journey</th>\n",
       "      <th>price_score_perIDGroup_Journey</th>\n",
       "      <th>max_journey_same_country</th>\n",
       "      <th>min_journey_same_country</th>\n",
       "      <th>max_abs_diff_perIDGroup_Journey_same_country</th>\n",
       "      <th>max_rel_diff_perIDGroup_Journey_same_country</th>\n",
       "      <th>price_diff_loc_to_glob_Journey_min</th>\n",
       "      <th>rel_price_diff_loc_to_glob_Journey_min</th>\n",
       "      <th>Cheapest_Location_Journey</th>\n",
       "    </tr>\n",
       "  </thead>\n",
       "  <tbody>\n",
       "    <tr>\n",
       "      <th>0</th>\n",
       "      <td>AA</td>\n",
       "      <td>CLT</td>\n",
       "      <td>CUN</td>\n",
       "      <td>383</td>\n",
       "      <td>2024-06-26 07:15:00</td>\n",
       "      <td>2024-06-26 09:10:00</td>\n",
       "      <td>CLT-CUN</td>\n",
       "      <td>AA881</td>\n",
       "      <td>AA881</td>\n",
       "      <td>Deutsch</td>\n",
       "      <td>...</td>\n",
       "      <td>16.28</td>\n",
       "      <td>4.097040</td>\n",
       "      <td>0.065677</td>\n",
       "      <td>641.52</td>\n",
       "      <td>413.64</td>\n",
       "      <td>227.88</td>\n",
       "      <td>55.091384</td>\n",
       "      <td>16.28</td>\n",
       "      <td>4.09704</td>\n",
       "      <td>Shqipëri</td>\n",
       "    </tr>\n",
       "    <tr>\n",
       "      <th>1</th>\n",
       "      <td>AA</td>\n",
       "      <td>CLT</td>\n",
       "      <td>CUN</td>\n",
       "      <td>383</td>\n",
       "      <td>2024-06-26 11:50:00</td>\n",
       "      <td>2024-06-26 13:54:00</td>\n",
       "      <td>CLT-CUN</td>\n",
       "      <td>AA886</td>\n",
       "      <td>AA886</td>\n",
       "      <td>Deutsch</td>\n",
       "      <td>...</td>\n",
       "      <td>16.28</td>\n",
       "      <td>4.097040</td>\n",
       "      <td>0.065677</td>\n",
       "      <td>641.52</td>\n",
       "      <td>413.64</td>\n",
       "      <td>227.88</td>\n",
       "      <td>55.091384</td>\n",
       "      <td>16.28</td>\n",
       "      <td>4.09704</td>\n",
       "      <td>Shqipëri</td>\n",
       "    </tr>\n",
       "    <tr>\n",
       "      <th>2</th>\n",
       "      <td>AA</td>\n",
       "      <td>CLT</td>\n",
       "      <td>CUN</td>\n",
       "      <td>383</td>\n",
       "      <td>2024-06-26 13:05:00</td>\n",
       "      <td>2024-06-26 14:59:00</td>\n",
       "      <td>CLT-CUN</td>\n",
       "      <td>AA1778</td>\n",
       "      <td>AA1778</td>\n",
       "      <td>Deutsch</td>\n",
       "      <td>...</td>\n",
       "      <td>16.28</td>\n",
       "      <td>4.097040</td>\n",
       "      <td>0.065677</td>\n",
       "      <td>641.52</td>\n",
       "      <td>413.64</td>\n",
       "      <td>227.88</td>\n",
       "      <td>55.091384</td>\n",
       "      <td>16.28</td>\n",
       "      <td>4.09704</td>\n",
       "      <td>Shqipëri</td>\n",
       "    </tr>\n",
       "    <tr>\n",
       "      <th>3</th>\n",
       "      <td>AA</td>\n",
       "      <td>CLT</td>\n",
       "      <td>CUN</td>\n",
       "      <td>410</td>\n",
       "      <td>2024-06-26 09:05:00</td>\n",
       "      <td>2024-06-26 11:13:00</td>\n",
       "      <td>CLT-CUN</td>\n",
       "      <td>AA895</td>\n",
       "      <td>AA895</td>\n",
       "      <td>Deutsch</td>\n",
       "      <td>...</td>\n",
       "      <td>45.44</td>\n",
       "      <td>11.435474</td>\n",
       "      <td>0.183315</td>\n",
       "      <td>641.52</td>\n",
       "      <td>413.64</td>\n",
       "      <td>227.88</td>\n",
       "      <td>55.091384</td>\n",
       "      <td>16.28</td>\n",
       "      <td>4.09704</td>\n",
       "      <td>Shqipëri</td>\n",
       "    </tr>\n",
       "    <tr>\n",
       "      <th>4</th>\n",
       "      <td>UA</td>\n",
       "      <td>CLT</td>\n",
       "      <td>CUN</td>\n",
       "      <td>401</td>\n",
       "      <td>2024-06-26 10:07:00</td>\n",
       "      <td>2024-06-26 15:51:00</td>\n",
       "      <td>CLT-IAD</td>\n",
       "      <td>UA1361</td>\n",
       "      <td>UA1618</td>\n",
       "      <td>Deutsch</td>\n",
       "      <td>...</td>\n",
       "      <td>35.72</td>\n",
       "      <td>8.989330</td>\n",
       "      <td>0.144102</td>\n",
       "      <td>641.52</td>\n",
       "      <td>413.64</td>\n",
       "      <td>227.88</td>\n",
       "      <td>55.091384</td>\n",
       "      <td>16.28</td>\n",
       "      <td>4.09704</td>\n",
       "      <td>Shqipëri</td>\n",
       "    </tr>\n",
       "  </tbody>\n",
       "</table>\n",
       "<p>5 rows × 43 columns</p>\n",
       "</div>"
      ],
      "text/plain": [
       "  airline_code departure_airport_code destination_airport_code  ticket_price  \\\n",
       "0           AA                    CLT                      CUN           383   \n",
       "1           AA                    CLT                      CUN           383   \n",
       "2           AA                    CLT                      CUN           383   \n",
       "3           AA                    CLT                      CUN           410   \n",
       "4           UA                    CLT                      CUN           401   \n",
       "\n",
       "       departure_date        arrival_date First_flight first_flight_code  \\\n",
       "0 2024-06-26 07:15:00 2024-06-26 09:10:00      CLT-CUN             AA881   \n",
       "1 2024-06-26 11:50:00 2024-06-26 13:54:00      CLT-CUN             AA886   \n",
       "2 2024-06-26 13:05:00 2024-06-26 14:59:00      CLT-CUN            AA1778   \n",
       "3 2024-06-26 09:05:00 2024-06-26 11:13:00      CLT-CUN             AA895   \n",
       "4 2024-06-26 10:07:00 2024-06-26 15:51:00      CLT-IAD            UA1361   \n",
       "\n",
       "  last_flight_code Detected_Language  ... abs_diff_to_min_Journey  \\\n",
       "0            AA881           Deutsch  ...                   16.28   \n",
       "1            AA886           Deutsch  ...                   16.28   \n",
       "2           AA1778           Deutsch  ...                   16.28   \n",
       "3            AA895           Deutsch  ...                   45.44   \n",
       "4           UA1618           Deutsch  ...                   35.72   \n",
       "\n",
       "  rel_diff_to_min_Journey price_score_perIDGroup_Journey  \\\n",
       "0                4.097040                       0.065677   \n",
       "1                4.097040                       0.065677   \n",
       "2                4.097040                       0.065677   \n",
       "3               11.435474                       0.183315   \n",
       "4                8.989330                       0.144102   \n",
       "\n",
       "   max_journey_same_country  min_journey_same_country  \\\n",
       "0                    641.52                    413.64   \n",
       "1                    641.52                    413.64   \n",
       "2                    641.52                    413.64   \n",
       "3                    641.52                    413.64   \n",
       "4                    641.52                    413.64   \n",
       "\n",
       "  max_abs_diff_perIDGroup_Journey_same_country  \\\n",
       "0                                       227.88   \n",
       "1                                       227.88   \n",
       "2                                       227.88   \n",
       "3                                       227.88   \n",
       "4                                       227.88   \n",
       "\n",
       "   max_rel_diff_perIDGroup_Journey_same_country  \\\n",
       "0                                     55.091384   \n",
       "1                                     55.091384   \n",
       "2                                     55.091384   \n",
       "3                                     55.091384   \n",
       "4                                     55.091384   \n",
       "\n",
       "   price_diff_loc_to_glob_Journey_min rel_price_diff_loc_to_glob_Journey_min  \\\n",
       "0                               16.28                                4.09704   \n",
       "1                               16.28                                4.09704   \n",
       "2                               16.28                                4.09704   \n",
       "3                               16.28                                4.09704   \n",
       "4                               16.28                                4.09704   \n",
       "\n",
       "  Cheapest_Location_Journey  \n",
       "0                  Shqipëri  \n",
       "1                  Shqipëri  \n",
       "2                  Shqipëri  \n",
       "3                  Shqipëri  \n",
       "4                  Shqipëri  \n",
       "\n",
       "[5 rows x 43 columns]"
      ]
     },
     "execution_count": 46,
     "metadata": {},
     "output_type": "execute_result"
    }
   ],
   "source": [
    "df_reduced.head()"
   ]
  },
  {
   "cell_type": "code",
   "execution_count": 47,
   "metadata": {},
   "outputs": [],
   "source": [
    "\n",
    "# Step 1: Filter to get rows where Price_in_USD equals the min for each Flight_ID\n",
    "cheapest_mask = df_reduced['Price_in_USD'] == df_reduced['min']\n",
    "cheapest_flights = df_reduced[cheapest_mask]\n",
    "\n",
    "# Group by Flight_ID and select the first Detected_Country name alphabetically\n",
    "cheapest_locations = cheapest_flights.groupby('Flight_ID')['Detected_Country'].min().reset_index()\n",
    "\n",
    "# Rename the column for clarity\n",
    "cheapest_locations.rename(columns={'Detected_Country': 'Cheapest_Location_Flight'}, inplace=True)\n",
    "\n",
    "# Step 2: Merge this information back with the original DataFrame\n",
    "df_reduced = df_reduced.merge(cheapest_locations, on='Flight_ID', how='left')\n"
   ]
  },
  {
   "cell_type": "code",
   "execution_count": 48,
   "metadata": {},
   "outputs": [
    {
     "data": {
      "text/plain": [
       "Cheapest_Location_Flight\n",
       "Shqipëri          3689\n",
       "Brasil             740\n",
       "Polska             180\n",
       "日本                 111\n",
       "Türkiye             57\n",
       "United Kingdom      15\n",
       "Name: count, dtype: int64"
      ]
     },
     "execution_count": 48,
     "metadata": {},
     "output_type": "execute_result"
    }
   ],
   "source": [
    "df_reduced.Cheapest_Location_Flight.value_counts()"
   ]
  },
  {
   "cell_type": "markdown",
   "metadata": {},
   "source": [
    "# Descriptive Statistics"
   ]
  },
  {
   "cell_type": "markdown",
   "metadata": {},
   "source": [
    "**_These countries are connected with higher Prices for identical flights_**"
   ]
  },
  {
   "cell_type": "code",
   "execution_count": 49,
   "metadata": {},
   "outputs": [
    {
     "data": {
      "text/plain": [
       "Detected_Country\n",
       "Schweiz               534\n",
       "Indonesia             416\n",
       "Polska                405\n",
       "Deutschland           332\n",
       "Australia             284\n",
       "বাংলাদেশ              277\n",
       "Türkiye               201\n",
       "Palestine             102\n",
       "United Kingdom         95\n",
       "Vereinigte Staaten     73\n",
       "Brasil                  5\n",
       "Kıbrıs                  4\n",
       "日本                      2\n",
       "Name: count, dtype: int64"
      ]
     },
     "execution_count": 49,
     "metadata": {},
     "output_type": "execute_result"
    }
   ],
   "source": [
    "temp_df_exp = df_reduced[df_reduced['price_score_perIDGroup'] > 0.8]\n",
    "temp_df_exp.Detected_Country.value_counts()"
   ]
  },
  {
   "cell_type": "markdown",
   "metadata": {},
   "source": [
    "**_These countries are connected with lower prices for identical flights_**"
   ]
  },
  {
   "cell_type": "code",
   "execution_count": 50,
   "metadata": {},
   "outputs": [
    {
     "data": {
      "text/plain": [
       "Detected_Country\n",
       "Shqipëri          484\n",
       "Polska              9\n",
       "Türkiye             8\n",
       "Brasil              8\n",
       "বাংলাদেশ            8\n",
       "Indonesia           6\n",
       "Schweiz             6\n",
       "Deutschland         4\n",
       "United Kingdom      1\n",
       "日本                  1\n",
       "Australia           1\n",
       "Name: count, dtype: int64"
      ]
     },
     "execution_count": 50,
     "metadata": {},
     "output_type": "execute_result"
    }
   ],
   "source": [
    "temp_df_cheap = df_reduced[(df_reduced['max_rel_diff_perIDGroup'] > 4) & (df_reduced['price_score_perIDGroup'] < 0.2)]\n",
    "temp_df_cheap.Detected_Country.value_counts()"
   ]
  },
  {
   "cell_type": "markdown",
   "metadata": {},
   "source": [
    "Distribution shows tendency of having more \"expensive\" flights (flights close to max-price) and less variation in general"
   ]
  },
  {
   "cell_type": "code",
   "execution_count": 51,
   "metadata": {},
   "outputs": [
    {
     "data": {
      "image/png": "[encoded data removed]",
      "text/plain": [
       "<Figure size 640x480 with 1 Axes>"
      ]
     },
     "metadata": {},
     "output_type": "display_data"
    }
   ],
   "source": [
    "import pandas as pd\n",
    "import matplotlib.pyplot as plt\n",
    "\n",
    "# Assuming df_reduced is your DataFrame\n",
    "# Plotting the histogram\n",
    "df_reduced['price_score_perIDGroup'].plot.hist(bins=10, range=(0, 1), edgecolor='black')\n",
    "\n",
    "plt.title('Distribution of price_score_perIDGroup')\n",
    "plt.xlabel('Price Score per ID Group')\n",
    "plt.ylabel('Frequency')\n",
    "plt.grid(axis='y', alpha=0.75)  # Optional: Add grid lines for better readability\n",
    "\n",
    "plt.show()"
   ]
  },
  {
   "cell_type": "markdown",
   "metadata": {},
   "source": [
    "** Average indicates that the average maximum relative difference increases with Price**"
   ]
  },
  {
   "cell_type": "code",
   "execution_count": 52,
   "metadata": {},
   "outputs": [
    {
     "data": {
      "text/plain": [
       "Index(['airline_code', 'departure_airport_code', 'destination_airport_code',\n",
       "       'ticket_price', 'departure_date', 'arrival_date', 'First_flight',\n",
       "       'first_flight_code', 'last_flight_code', 'Detected_Language',\n",
       "       'Detected_Country', 'Detected_Currency', 'Flight_ID', 'Price_in_USD',\n",
       "       'commute_time', 'query_date', 'days_until_departure',\n",
       "       'FlightID_in_Countries_Count', 'departure_date_day', 'arrival_date_day',\n",
       "       'Journey_route', 'Journey_ID', 'max', 'min', 'max_abs_diff_perIDGroup',\n",
       "       'max_rel_diff_perIDGroup', 'abs_diff_to_min', 'rel_diff_to_min',\n",
       "       'price_score_perIDGroup', 'max_journey', 'min_journey',\n",
       "       'max_abs_diff_perIDGroup_Journey', 'max_rel_diff_perIDGroup_Journey',\n",
       "       'abs_diff_to_min_Journey', 'rel_diff_to_min_Journey',\n",
       "       'price_score_perIDGroup_Journey', 'max_journey_same_country',\n",
       "       'min_journey_same_country',\n",
       "       'max_abs_diff_perIDGroup_Journey_same_country',\n",
       "       'max_rel_diff_perIDGroup_Journey_same_country',\n",
       "       'price_diff_loc_to_glob_Journey_min',\n",
       "       'rel_price_diff_loc_to_glob_Journey_min', 'Cheapest_Location_Journey',\n",
       "       'Cheapest_Location_Flight'],\n",
       "      dtype='object')"
      ]
     },
     "execution_count": 52,
     "metadata": {},
     "output_type": "execute_result"
    }
   ],
   "source": [
    "df_reduced.columns"
   ]
  },
  {
   "cell_type": "code",
   "execution_count": 53,
   "metadata": {},
   "outputs": [
    {
     "data": {
      "image/png": "[encoded data removed]",
      "text/plain": [
       "<Figure size 1000x600 with 1 Axes>"
      ]
     },
     "metadata": {},
     "output_type": "display_data"
    }
   ],
   "source": [
    "import pandas as pd\n",
    "import seaborn as sns\n",
    "import matplotlib.pyplot as plt\n",
    "\n",
    "# Define the bins and labels for 'Price_in_USD'\n",
    "bins = [0, 100, 500, 1000, float('inf')]\n",
    "labels = ['<100', '100-500', '500-1000', '>1000']\n",
    "\n",
    "# Bin 'Price_in_USD' into the defined categories\n",
    "df_reduced['Price_Category'] = pd.cut(df_reduced['Price_in_USD'], bins=bins, labels=labels)\n",
    "\n",
    "# Group by the new 'Price_Category' and calculate the mean 'rel_diff' for each category\n",
    "avg_rel_diff_by_price_cat = df_reduced.groupby('Price_Category', observed=True)['max_rel_diff_perIDGroup'].mean().reset_index()\n",
    "\n",
    "# Plotting\n",
    "plt.figure(figsize=(10, 6))\n",
    "sns.barplot(data=avg_rel_diff_by_price_cat, x='Price_Category', y='max_rel_diff_perIDGroup')\n",
    "plt.title('Average Relative Difference in Price by Price Category')\n",
    "plt.xlabel('Price in USD Category')\n",
    "plt.ylabel('Average Relative Difference (%)')\n",
    "plt.tight_layout()\n",
    "plt.show()\n"
   ]
  },
  {
   "cell_type": "markdown",
   "metadata": {},
   "source": [
    "** Median doesnt show this effect **"
   ]
  },
  {
   "cell_type": "code",
   "execution_count": 54,
   "metadata": {},
   "outputs": [
    {
     "data": {
      "image/png": "[encoded data removed]",
      "text/plain": [
       "<Figure size 1000x600 with 1 Axes>"
      ]
     },
     "metadata": {},
     "output_type": "display_data"
    }
   ],
   "source": [
    "import pandas as pd\n",
    "import seaborn as sns\n",
    "import matplotlib.pyplot as plt\n",
    "\n",
    "# Define the bins and labels for 'Price_in_USD'\n",
    "bins = [0, 100, 500, 1000, float('inf')]\n",
    "labels = ['<100', '100-500', '500-1000', '>1000']\n",
    "\n",
    "# Bin 'Price_in_USD' into the defined categories\n",
    "df_reduced['Price_Category'] = pd.cut(df_reduced['Price_in_USD'], bins=bins, labels=labels)\n",
    "\n",
    "# Group by the new 'Price_Category' and calculate the mean 'rel_diff' for each category\n",
    "avg_rel_diff_by_price_cat = df_reduced.groupby('Price_Category', observed=True)['max_rel_diff_perIDGroup'].median().reset_index()\n",
    "\n",
    "# Plotting\n",
    "plt.figure(figsize=(10, 6))\n",
    "sns.barplot(data=avg_rel_diff_by_price_cat, x='Price_Category', y='max_rel_diff_perIDGroup')\n",
    "plt.title('Median Relative Difference in Price by Price Category')\n",
    "plt.xlabel('Price in USD Category')\n",
    "plt.ylabel('Average Relative Difference (%)')\n",
    "plt.tight_layout()\n",
    "plt.show()"
   ]
  },
  {
   "cell_type": "markdown",
   "metadata": {},
   "source": [
    "**The average price spread grows with commute time**"
   ]
  },
  {
   "cell_type": "code",
   "execution_count": 55,
   "metadata": {},
   "outputs": [
    {
     "data": {
      "image/png": "[encoded data removed]",
      "text/plain": [
       "<Figure size 1000x600 with 1 Axes>"
      ]
     },
     "metadata": {},
     "output_type": "display_data"
    }
   ],
   "source": [
    "# Adjust bins based on the new categories in minutes\n",
    "bins = [-float('inf'), 120, 240, 480,750, float('inf')]\n",
    "labels = ['<2h', '2-4h', '4-6h','6-8' ,'>8h']\n",
    "\n",
    "# Bin 'commute_time' into categories directly, no need to convert to hours since it's already in minutes\n",
    "df_reduced['Commute_Time_Category'] = pd.cut(df_reduced['commute_time'], bins=bins, labels=labels)\n",
    "\n",
    "# Group by the new 'Commute_Time_Category' and calculate the mean 'max_rel_diff_perIDGroup' for each category\n",
    "avg_rel_diff_by_commute_cat = df_reduced.groupby('Commute_Time_Category', observed = True)['max_rel_diff_perIDGroup'].mean().reset_index()\n",
    "\n",
    "# Plotting the average relative difference by commute time category\n",
    "plt.figure(figsize=(10, 6))\n",
    "sns.barplot(data=avg_rel_diff_by_commute_cat, x='Commute_Time_Category', y='max_rel_diff_perIDGroup')\n",
    "plt.title('Average Relative Difference in Price by Commute Time Category')\n",
    "plt.xlabel('Commute Time Category')\n",
    "plt.ylabel('Average Relative Difference (%)')\n",
    "plt.tight_layout()\n",
    "plt.show()\n"
   ]
  },
  {
   "cell_type": "markdown",
   "metadata": {},
   "source": [
    "**Most Airlines seem to have an average price-spread in between of 3.5 and 4.5**"
   ]
  },
  {
   "cell_type": "code",
   "execution_count": 56,
   "metadata": {},
   "outputs": [
    {
     "data": {
      "image/png": "[encoded data removed]",
      "text/plain": [
       "<Figure size 1000x600 with 1 Axes>"
      ]
     },
     "metadata": {},
     "output_type": "display_data"
    }
   ],
   "source": [
    "import pandas as pd\n",
    "import matplotlib.pyplot as plt\n",
    "import seaborn as sns\n",
    "\n",
    "# Step 1: Calculate the conditional mean of 'rel_diff' for each airline\n",
    "avg_rel_diff_per_airline = df_reduced.groupby('airline_code', observed=True)['max_rel_diff_perIDGroup'].mean().reset_index()\n",
    "\n",
    "# Define bins and labels for the categorized means\n",
    "bins = [0.5, 1.5, 2.5, 3.5, 4.5, 5.5, float('inf')]\n",
    "labels = [ '0.5-1.5', '1.5-2.5', '2.5-3.5', '3.5-4.5', '4.5-5.5', '>5.5']\n",
    "\n",
    "# Step 2: Categorize these averages into the specified bins\n",
    "avg_rel_diff_per_airline['avg_rel_diff_bin'] = pd.cut(avg_rel_diff_per_airline['max_rel_diff_perIDGroup'], bins=bins, labels=labels)\n",
    "\n",
    "# Step 3: Count how many airlines fall into each bin\n",
    "airlines_per_bin = avg_rel_diff_per_airline['avg_rel_diff_bin'].value_counts().sort_index()\n",
    "\n",
    "# Plotting the result\n",
    "airlines_per_bin.plot(kind='bar', figsize=(10, 6), color='skyblue')\n",
    "plt.title('Number of Airlines by Average Relative Difference Bin')\n",
    "plt.xlabel('Average Relative Difference Bin')\n",
    "plt.ylabel('Number of Airlines')\n",
    "plt.xticks(rotation=45)\n",
    "plt.grid(axis='y', linestyle='--')\n",
    "plt.show()\n"
   ]
  },
  {
   "cell_type": "markdown",
   "metadata": {},
   "source": [
    "**Which airlines change their prices based on location**"
   ]
  },
  {
   "cell_type": "code",
   "execution_count": 57,
   "metadata": {},
   "outputs": [
    {
     "name": "stdout",
     "output_type": "stream",
     "text": [
      "  avg_rel_diff_bin                                           Airlines\n",
      "0          0.5-1.5                                       [NK, TU, VJ]\n",
      "1          1.5-2.5                                   [AS, EI, TG, XE]\n",
      "2          2.5-3.5                           [B6, BR, DL, EY, NH, OZ]\n",
      "3          3.5-4.5  [AA, AF, AV, AY, BA, CZ, ET, KE, LA, LH, LO, M...\n",
      "4          4.5-5.5  [AM, AZ, CM, CX, F8, F9, JL, KL, LX, OS, SK, U...\n",
      "5             >5.5                               [AC, EK, IB, QR, UA]\n"
     ]
    },
    {
     "name": "stderr",
     "output_type": "stream",
     "text": [
      "/var/folders/fs/20409g9545qdjn0qhsrcd8q80000gn/T/ipykernel_37947/811506572.py:2: FutureWarning: The default of observed=False is deprecated and will be changed to True in a future version of pandas. Pass observed=False to retain current behavior or observed=True to adopt the future default and silence this warning.\n",
      "  grouped_airlines = avg_rel_diff_per_airline.groupby('avg_rel_diff_bin')['airline_code'].apply(list)\n"
     ]
    }
   ],
   "source": [
    "# Group airlines by their average 'rel_diff' bin\n",
    "grouped_airlines = avg_rel_diff_per_airline.groupby('avg_rel_diff_bin')['airline_code'].apply(list)\n",
    "\n",
    "# Convert to a DataFrame for a nicer display, if desired\n",
    "grouped_airlines_df = grouped_airlines.reset_index().rename(columns={'airline_code': 'Airlines'})\n",
    "\n",
    "\n",
    "# Display the DataFrame\n",
    "print(grouped_airlines_df)\n"
   ]
  },
  {
   "cell_type": "code",
   "execution_count": 58,
   "metadata": {},
   "outputs": [
    {
     "data": {
      "text/html": [
       "<div>\n",
       "<style scoped>\n",
       "    .dataframe tbody tr th:only-of-type {\n",
       "        vertical-align: middle;\n",
       "    }\n",
       "\n",
       "    .dataframe tbody tr th {\n",
       "        vertical-align: top;\n",
       "    }\n",
       "\n",
       "    .dataframe thead th {\n",
       "        text-align: right;\n",
       "    }\n",
       "</style>\n",
       "<table border=\"1\" class=\"dataframe\">\n",
       "  <thead>\n",
       "    <tr style=\"text-align: right;\">\n",
       "      <th></th>\n",
       "      <th>airline_code</th>\n",
       "      <th>max_rel_diff_perIDGroup</th>\n",
       "      <th>avg_rel_diff_bin</th>\n",
       "    </tr>\n",
       "  </thead>\n",
       "  <tbody>\n",
       "    <tr>\n",
       "      <th>0</th>\n",
       "      <td>AA</td>\n",
       "      <td>4.355316</td>\n",
       "      <td>3.5-4.5</td>\n",
       "    </tr>\n",
       "    <tr>\n",
       "      <th>1</th>\n",
       "      <td>AC</td>\n",
       "      <td>14.731301</td>\n",
       "      <td>&gt;5.5</td>\n",
       "    </tr>\n",
       "    <tr>\n",
       "      <th>2</th>\n",
       "      <td>AF</td>\n",
       "      <td>4.239161</td>\n",
       "      <td>3.5-4.5</td>\n",
       "    </tr>\n",
       "    <tr>\n",
       "      <th>3</th>\n",
       "      <td>AM</td>\n",
       "      <td>4.637533</td>\n",
       "      <td>4.5-5.5</td>\n",
       "    </tr>\n",
       "    <tr>\n",
       "      <th>4</th>\n",
       "      <td>AS</td>\n",
       "      <td>2.468050</td>\n",
       "      <td>1.5-2.5</td>\n",
       "    </tr>\n",
       "    <tr>\n",
       "      <th>5</th>\n",
       "      <td>AV</td>\n",
       "      <td>4.488944</td>\n",
       "      <td>3.5-4.5</td>\n",
       "    </tr>\n",
       "    <tr>\n",
       "      <th>6</th>\n",
       "      <td>AY</td>\n",
       "      <td>4.496096</td>\n",
       "      <td>3.5-4.5</td>\n",
       "    </tr>\n",
       "    <tr>\n",
       "      <th>7</th>\n",
       "      <td>AZ</td>\n",
       "      <td>4.604290</td>\n",
       "      <td>4.5-5.5</td>\n",
       "    </tr>\n",
       "    <tr>\n",
       "      <th>8</th>\n",
       "      <td>B6</td>\n",
       "      <td>3.134127</td>\n",
       "      <td>2.5-3.5</td>\n",
       "    </tr>\n",
       "    <tr>\n",
       "      <th>9</th>\n",
       "      <td>BA</td>\n",
       "      <td>3.817349</td>\n",
       "      <td>3.5-4.5</td>\n",
       "    </tr>\n",
       "    <tr>\n",
       "      <th>10</th>\n",
       "      <td>BR</td>\n",
       "      <td>2.550810</td>\n",
       "      <td>2.5-3.5</td>\n",
       "    </tr>\n",
       "    <tr>\n",
       "      <th>11</th>\n",
       "      <td>CM</td>\n",
       "      <td>4.542145</td>\n",
       "      <td>4.5-5.5</td>\n",
       "    </tr>\n",
       "    <tr>\n",
       "      <th>12</th>\n",
       "      <td>CX</td>\n",
       "      <td>4.632271</td>\n",
       "      <td>4.5-5.5</td>\n",
       "    </tr>\n",
       "    <tr>\n",
       "      <th>13</th>\n",
       "      <td>CZ</td>\n",
       "      <td>4.439247</td>\n",
       "      <td>3.5-4.5</td>\n",
       "    </tr>\n",
       "    <tr>\n",
       "      <th>14</th>\n",
       "      <td>DL</td>\n",
       "      <td>3.264153</td>\n",
       "      <td>2.5-3.5</td>\n",
       "    </tr>\n",
       "    <tr>\n",
       "      <th>15</th>\n",
       "      <td>EI</td>\n",
       "      <td>2.339673</td>\n",
       "      <td>1.5-2.5</td>\n",
       "    </tr>\n",
       "    <tr>\n",
       "      <th>16</th>\n",
       "      <td>EK</td>\n",
       "      <td>6.289316</td>\n",
       "      <td>&gt;5.5</td>\n",
       "    </tr>\n",
       "    <tr>\n",
       "      <th>17</th>\n",
       "      <td>ET</td>\n",
       "      <td>4.108390</td>\n",
       "      <td>3.5-4.5</td>\n",
       "    </tr>\n",
       "    <tr>\n",
       "      <th>18</th>\n",
       "      <td>EY</td>\n",
       "      <td>2.721481</td>\n",
       "      <td>2.5-3.5</td>\n",
       "    </tr>\n",
       "    <tr>\n",
       "      <th>19</th>\n",
       "      <td>F8</td>\n",
       "      <td>4.526132</td>\n",
       "      <td>4.5-5.5</td>\n",
       "    </tr>\n",
       "    <tr>\n",
       "      <th>20</th>\n",
       "      <td>F9</td>\n",
       "      <td>4.552570</td>\n",
       "      <td>4.5-5.5</td>\n",
       "    </tr>\n",
       "    <tr>\n",
       "      <th>21</th>\n",
       "      <td>IB</td>\n",
       "      <td>5.766324</td>\n",
       "      <td>&gt;5.5</td>\n",
       "    </tr>\n",
       "    <tr>\n",
       "      <th>22</th>\n",
       "      <td>JL</td>\n",
       "      <td>4.631234</td>\n",
       "      <td>4.5-5.5</td>\n",
       "    </tr>\n",
       "    <tr>\n",
       "      <th>23</th>\n",
       "      <td>KE</td>\n",
       "      <td>3.685751</td>\n",
       "      <td>3.5-4.5</td>\n",
       "    </tr>\n",
       "    <tr>\n",
       "      <th>24</th>\n",
       "      <td>KL</td>\n",
       "      <td>5.239135</td>\n",
       "      <td>4.5-5.5</td>\n",
       "    </tr>\n",
       "    <tr>\n",
       "      <th>25</th>\n",
       "      <td>LA</td>\n",
       "      <td>4.473724</td>\n",
       "      <td>3.5-4.5</td>\n",
       "    </tr>\n",
       "    <tr>\n",
       "      <th>26</th>\n",
       "      <td>LH</td>\n",
       "      <td>3.608504</td>\n",
       "      <td>3.5-4.5</td>\n",
       "    </tr>\n",
       "    <tr>\n",
       "      <th>27</th>\n",
       "      <td>LO</td>\n",
       "      <td>4.448080</td>\n",
       "      <td>3.5-4.5</td>\n",
       "    </tr>\n",
       "    <tr>\n",
       "      <th>28</th>\n",
       "      <td>LX</td>\n",
       "      <td>4.881966</td>\n",
       "      <td>4.5-5.5</td>\n",
       "    </tr>\n",
       "    <tr>\n",
       "      <th>29</th>\n",
       "      <td>MS</td>\n",
       "      <td>3.515535</td>\n",
       "      <td>3.5-4.5</td>\n",
       "    </tr>\n",
       "    <tr>\n",
       "      <th>30</th>\n",
       "      <td>MU</td>\n",
       "      <td>4.437497</td>\n",
       "      <td>3.5-4.5</td>\n",
       "    </tr>\n",
       "    <tr>\n",
       "      <th>31</th>\n",
       "      <td>NH</td>\n",
       "      <td>3.198602</td>\n",
       "      <td>2.5-3.5</td>\n",
       "    </tr>\n",
       "    <tr>\n",
       "      <th>32</th>\n",
       "      <td>NK</td>\n",
       "      <td>1.236773</td>\n",
       "      <td>0.5-1.5</td>\n",
       "    </tr>\n",
       "    <tr>\n",
       "      <th>33</th>\n",
       "      <td>OS</td>\n",
       "      <td>4.510832</td>\n",
       "      <td>4.5-5.5</td>\n",
       "    </tr>\n",
       "    <tr>\n",
       "      <th>34</th>\n",
       "      <td>OZ</td>\n",
       "      <td>3.435653</td>\n",
       "      <td>2.5-3.5</td>\n",
       "    </tr>\n",
       "    <tr>\n",
       "      <th>35</th>\n",
       "      <td>PC</td>\n",
       "      <td>4.111757</td>\n",
       "      <td>3.5-4.5</td>\n",
       "    </tr>\n",
       "    <tr>\n",
       "      <th>36</th>\n",
       "      <td>QR</td>\n",
       "      <td>10.213291</td>\n",
       "      <td>&gt;5.5</td>\n",
       "    </tr>\n",
       "    <tr>\n",
       "      <th>37</th>\n",
       "      <td>SK</td>\n",
       "      <td>4.500885</td>\n",
       "      <td>4.5-5.5</td>\n",
       "    </tr>\n",
       "    <tr>\n",
       "      <th>38</th>\n",
       "      <td>SQ</td>\n",
       "      <td>3.649837</td>\n",
       "      <td>3.5-4.5</td>\n",
       "    </tr>\n",
       "    <tr>\n",
       "      <th>39</th>\n",
       "      <td>TG</td>\n",
       "      <td>2.161548</td>\n",
       "      <td>1.5-2.5</td>\n",
       "    </tr>\n",
       "    <tr>\n",
       "      <th>40</th>\n",
       "      <td>TK</td>\n",
       "      <td>4.300222</td>\n",
       "      <td>3.5-4.5</td>\n",
       "    </tr>\n",
       "    <tr>\n",
       "      <th>41</th>\n",
       "      <td>TP</td>\n",
       "      <td>4.454339</td>\n",
       "      <td>3.5-4.5</td>\n",
       "    </tr>\n",
       "    <tr>\n",
       "      <th>42</th>\n",
       "      <td>TU</td>\n",
       "      <td>0.726877</td>\n",
       "      <td>0.5-1.5</td>\n",
       "    </tr>\n",
       "    <tr>\n",
       "      <th>43</th>\n",
       "      <td>UA</td>\n",
       "      <td>18.025831</td>\n",
       "      <td>&gt;5.5</td>\n",
       "    </tr>\n",
       "    <tr>\n",
       "      <th>44</th>\n",
       "      <td>UX</td>\n",
       "      <td>4.719420</td>\n",
       "      <td>4.5-5.5</td>\n",
       "    </tr>\n",
       "    <tr>\n",
       "      <th>45</th>\n",
       "      <td>VJ</td>\n",
       "      <td>0.857685</td>\n",
       "      <td>0.5-1.5</td>\n",
       "    </tr>\n",
       "    <tr>\n",
       "      <th>46</th>\n",
       "      <td>VY</td>\n",
       "      <td>5.083260</td>\n",
       "      <td>4.5-5.5</td>\n",
       "    </tr>\n",
       "    <tr>\n",
       "      <th>47</th>\n",
       "      <td>W4</td>\n",
       "      <td>4.638016</td>\n",
       "      <td>4.5-5.5</td>\n",
       "    </tr>\n",
       "    <tr>\n",
       "      <th>48</th>\n",
       "      <td>WK</td>\n",
       "      <td>4.766589</td>\n",
       "      <td>4.5-5.5</td>\n",
       "    </tr>\n",
       "    <tr>\n",
       "      <th>49</th>\n",
       "      <td>WS</td>\n",
       "      <td>4.462403</td>\n",
       "      <td>3.5-4.5</td>\n",
       "    </tr>\n",
       "    <tr>\n",
       "      <th>50</th>\n",
       "      <td>XE</td>\n",
       "      <td>1.517413</td>\n",
       "      <td>1.5-2.5</td>\n",
       "    </tr>\n",
       "    <tr>\n",
       "      <th>51</th>\n",
       "      <td>multi</td>\n",
       "      <td>4.399067</td>\n",
       "      <td>3.5-4.5</td>\n",
       "    </tr>\n",
       "  </tbody>\n",
       "</table>\n",
       "</div>"
      ],
      "text/plain": [
       "   airline_code  max_rel_diff_perIDGroup avg_rel_diff_bin\n",
       "0            AA                 4.355316          3.5-4.5\n",
       "1            AC                14.731301             >5.5\n",
       "2            AF                 4.239161          3.5-4.5\n",
       "3            AM                 4.637533          4.5-5.5\n",
       "4            AS                 2.468050          1.5-2.5\n",
       "5            AV                 4.488944          3.5-4.5\n",
       "6            AY                 4.496096          3.5-4.5\n",
       "7            AZ                 4.604290          4.5-5.5\n",
       "8            B6                 3.134127          2.5-3.5\n",
       "9            BA                 3.817349          3.5-4.5\n",
       "10           BR                 2.550810          2.5-3.5\n",
       "11           CM                 4.542145          4.5-5.5\n",
       "12           CX                 4.632271          4.5-5.5\n",
       "13           CZ                 4.439247          3.5-4.5\n",
       "14           DL                 3.264153          2.5-3.5\n",
       "15           EI                 2.339673          1.5-2.5\n",
       "16           EK                 6.289316             >5.5\n",
       "17           ET                 4.108390          3.5-4.5\n",
       "18           EY                 2.721481          2.5-3.5\n",
       "19           F8                 4.526132          4.5-5.5\n",
       "20           F9                 4.552570          4.5-5.5\n",
       "21           IB                 5.766324             >5.5\n",
       "22           JL                 4.631234          4.5-5.5\n",
       "23           KE                 3.685751          3.5-4.5\n",
       "24           KL                 5.239135          4.5-5.5\n",
       "25           LA                 4.473724          3.5-4.5\n",
       "26           LH                 3.608504          3.5-4.5\n",
       "27           LO                 4.448080          3.5-4.5\n",
       "28           LX                 4.881966          4.5-5.5\n",
       "29           MS                 3.515535          3.5-4.5\n",
       "30           MU                 4.437497          3.5-4.5\n",
       "31           NH                 3.198602          2.5-3.5\n",
       "32           NK                 1.236773          0.5-1.5\n",
       "33           OS                 4.510832          4.5-5.5\n",
       "34           OZ                 3.435653          2.5-3.5\n",
       "35           PC                 4.111757          3.5-4.5\n",
       "36           QR                10.213291             >5.5\n",
       "37           SK                 4.500885          4.5-5.5\n",
       "38           SQ                 3.649837          3.5-4.5\n",
       "39           TG                 2.161548          1.5-2.5\n",
       "40           TK                 4.300222          3.5-4.5\n",
       "41           TP                 4.454339          3.5-4.5\n",
       "42           TU                 0.726877          0.5-1.5\n",
       "43           UA                18.025831             >5.5\n",
       "44           UX                 4.719420          4.5-5.5\n",
       "45           VJ                 0.857685          0.5-1.5\n",
       "46           VY                 5.083260          4.5-5.5\n",
       "47           W4                 4.638016          4.5-5.5\n",
       "48           WK                 4.766589          4.5-5.5\n",
       "49           WS                 4.462403          3.5-4.5\n",
       "50           XE                 1.517413          1.5-2.5\n",
       "51        multi                 4.399067          3.5-4.5"
      ]
     },
     "execution_count": 58,
     "metadata": {},
     "output_type": "execute_result"
    }
   ],
   "source": [
    "avg_rel_diff_per_airline"
   ]
  },
  {
   "cell_type": "markdown",
   "metadata": {},
   "source": [
    "Which countries are the cheapest?"
   ]
  },
  {
   "cell_type": "code",
   "execution_count": 59,
   "metadata": {},
   "outputs": [
    {
     "name": "stdout",
     "output_type": "stream",
     "text": [
      "Detected_Country\n",
      "Shqipëri          487\n",
      "Brasil            107\n",
      "Polska             30\n",
      "日本                 15\n",
      "Türkiye            10\n",
      "United Kingdom      2\n",
      "Name: count, dtype: int64\n"
     ]
    }
   ],
   "source": [
    "cheap_df = df_reduced[(df_reduced['min'] == df_reduced['Price_in_USD'] )]\n",
    "\n",
    "# Get the distribution of 'Detected_Country' in the filtered DataFrame\n",
    "country_distribution = cheap_df['Detected_Country'].value_counts()\n",
    "\n",
    "# Display the distribution\n",
    "print(country_distribution)\n"
   ]
  },
  {
   "cell_type": "markdown",
   "metadata": {},
   "source": [
    "**Which countries are more expensive**"
   ]
  },
  {
   "cell_type": "code",
   "execution_count": 60,
   "metadata": {},
   "outputs": [
    {
     "name": "stdout",
     "output_type": "stream",
     "text": [
      "Detected_Country\n",
      "Schweiz               313\n",
      "Australia             251\n",
      "Indonesia              53\n",
      "Vereinigte Staaten     17\n",
      "Palestine              15\n",
      "Deutschland             2\n",
      "United Kingdom          1\n",
      "Polska                  1\n",
      "Name: count, dtype: int64\n"
     ]
    }
   ],
   "source": [
    "\n",
    "expensive_df = df_reduced[(df_reduced['max'] == df_reduced['Price_in_USD'])]\n",
    "\n",
    "# Get the distribution of 'Detected_Country' in the filtered DataFrame\n",
    "country_distribution = expensive_df['Detected_Country'].value_counts()\n",
    "\n",
    "# Display the distribution\n",
    "print(country_distribution)\n"
   ]
  },
  {
   "cell_type": "code",
   "execution_count": 61,
   "metadata": {},
   "outputs": [
    {
     "data": {
      "text/plain": [
       "Index(['airline_code', 'departure_airport_code', 'destination_airport_code',\n",
       "       'ticket_price', 'departure_date', 'arrival_date', 'First_flight',\n",
       "       'first_flight_code', 'last_flight_code', 'Detected_Language',\n",
       "       'Detected_Country', 'Detected_Currency', 'Flight_ID', 'Price_in_USD',\n",
       "       'commute_time', 'query_date', 'days_until_departure',\n",
       "       'FlightID_in_Countries_Count', 'departure_date_day', 'arrival_date_day',\n",
       "       'Journey_route', 'Journey_ID', 'max', 'min', 'max_abs_diff_perIDGroup',\n",
       "       'max_rel_diff_perIDGroup', 'abs_diff_to_min', 'rel_diff_to_min',\n",
       "       'price_score_perIDGroup', 'max_journey', 'min_journey',\n",
       "       'max_abs_diff_perIDGroup_Journey', 'max_rel_diff_perIDGroup_Journey',\n",
       "       'abs_diff_to_min_Journey', 'rel_diff_to_min_Journey',\n",
       "       'price_score_perIDGroup_Journey', 'max_journey_same_country',\n",
       "       'min_journey_same_country',\n",
       "       'max_abs_diff_perIDGroup_Journey_same_country',\n",
       "       'max_rel_diff_perIDGroup_Journey_same_country',\n",
       "       'price_diff_loc_to_glob_Journey_min',\n",
       "       'rel_price_diff_loc_to_glob_Journey_min', 'Cheapest_Location_Journey',\n",
       "       'Cheapest_Location_Flight', 'Price_Category', 'Commute_Time_Category'],\n",
       "      dtype='object')"
      ]
     },
     "execution_count": 61,
     "metadata": {},
     "output_type": "execute_result"
    }
   ],
   "source": [
    "df_reduced.columns"
   ]
  },
  {
   "cell_type": "code",
   "execution_count": 62,
   "metadata": {},
   "outputs": [
    {
     "name": "stdout",
     "output_type": "stream",
     "text": [
      "Statistic: 2767.581632591168, P-value: 0.0\n",
      "Reject the null hypothesis - suggest the median 'rel_diff' differs across departure airports.\n"
     ]
    }
   ],
   "source": [
    "from scipy.stats import kruskal\n",
    "import pandas as pd\n",
    "\n",
    "# Assuming df_reduced exists and has 'departure_airport_code' and 'rel_diff'\n",
    "\n",
    "# Group data by 'departure_airport_code' and extract 'rel_diff' values\n",
    "groups = df_reduced.groupby('departure_airport_code')['max_rel_diff_perIDGroup'].apply(list)\n",
    "\n",
    "# Perform Kruskal-Wallis H-test\n",
    "stat, p = kruskal(*groups)\n",
    "\n",
    "print(f'Statistic: {stat}, P-value: {p}')\n",
    "\n",
    "# Interpret the results\n",
    "alpha = 0.05  # Set a significance level\n",
    "if p < alpha:\n",
    "    print(\"Reject the null hypothesis - suggest the median 'rel_diff' differs across departure airports.\")\n",
    "else:\n",
    "    print(\"Fail to reject the null hypothesis - no evidence that the median 'rel_diff' differs across departure airports.\")\n"
   ]
  },
  {
   "cell_type": "markdown",
   "metadata": {},
   "source": [
    "# Statistical Testing"
   ]
  },
  {
   "cell_type": "code",
   "execution_count": 63,
   "metadata": {},
   "outputs": [
    {
     "name": "stdout",
     "output_type": "stream",
     "text": [
      "ANOVA results:\n",
      "F-statistic: 2507.456455184362\n",
      "p-value: 0.0\n",
      "There are statistically significant differences in mean flight prices among different countries.\n"
     ]
    }
   ],
   "source": [
    "from scipy.stats import f_oneway\n",
    "\n",
    "# Assuming 'flight_data' is your DataFrame containing flight information\n",
    "# 'Price' is the column containing flight prices, and 'Country' is the column containing country information\n",
    "\n",
    "# Extract prices for each country\n",
    "prices_by_country = [group['Price_in_USD'].values for name, group in df_reduced.groupby('Flight_ID')]\n",
    "\n",
    "# Perform ANOVA test\n",
    "f_statistic, p_value = f_oneway(*prices_by_country)\n",
    "\n",
    "# Interpret the results\n",
    "alpha = 0.05  # Significance level\n",
    "print(\"ANOVA results:\")\n",
    "print(\"F-statistic:\", f_statistic)\n",
    "print(\"p-value:\", p_value)\n",
    "\n",
    "if p_value < alpha:\n",
    "    print(\"There are statistically significant differences in mean flight prices among different countries.\")\n",
    "else:\n",
    "    print(\"There are no statistically significant differences in mean flight prices among different countries.\")\n"
   ]
  },
  {
   "cell_type": "code",
   "execution_count": 64,
   "metadata": {},
   "outputs": [
    {
     "name": "stdout",
     "output_type": "stream",
     "text": [
      "ANOVA results:\n",
      "F-statistic: 2507.456455184362\n",
      "p-value: 0.0\n",
      "There are statistically significant differences in mean flight prices among different countries for the same flight route.\n"
     ]
    }
   ],
   "source": [
    "from scipy.stats import f_oneway\n",
    "\n",
    "# Assuming 'df' is your DataFrame containing flight information\n",
    "# 'Price_in_USD' is the column containing flight prices, and 'Assigned_Country' is the column containing country information\n",
    "\n",
    "# Extract prices for each country\n",
    "prices_by_country = [group['Price_in_USD'].values for name, group in df_reduced.groupby('Flight_ID')]\n",
    "\n",
    "# Perform ANOVA test\n",
    "f_statistic, p_value = f_oneway(*prices_by_country)\n",
    "\n",
    "# Interpret the results\n",
    "alpha = 0.05  # Significance level\n",
    "print(\"ANOVA results:\")\n",
    "print(\"F-statistic:\", f_statistic)\n",
    "print(\"p-value:\", p_value)\n",
    "\n",
    "if p_value < alpha:\n",
    "    print(\"There are statistically significant differences in mean flight prices among different countries for the same flight route.\")\n",
    "else:\n",
    "    print(\"There are no statistically significant differences in mean flight prices among different countries for the same flight route.\")\n"
   ]
  },
  {
   "cell_type": "code",
   "execution_count": 65,
   "metadata": {},
   "outputs": [
    {
     "name": "stdout",
     "output_type": "stream",
     "text": [
      "Paired samples t-test results:\n",
      "t-statistic: 8.469501196061369\n",
      "p-value: 1.641996215865534e-16\n",
      "There is a statistically significant difference between the maximum and minimum prices of each Flight_ID.\n"
     ]
    }
   ],
   "source": [
    "from scipy.stats import ttest_rel\n",
    "\n",
    "# Assuming 'df' is your DataFrame containing flight information\n",
    "# 'Price_in_USD' is the column containing flight prices, and 'Flight_ID' is the column containing flight identifiers\n",
    "\n",
    "# Group the data by Flight_ID and calculate the maximum and minimum prices for each group\n",
    "max_prices = df_reduced.groupby('Flight_ID')['Price_in_USD'].max()\n",
    "min_prices = df_reduced.groupby('Flight_ID')['Price_in_USD'].min()\n",
    "\n",
    "# Perform paired samples t-test\n",
    "t_statistic, p_value = ttest_rel(max_prices, min_prices)\n",
    "\n",
    "# Interpret the results\n",
    "alpha = 0.05  # Significance level\n",
    "print(\"Paired samples t-test results:\")\n",
    "print(\"t-statistic:\", t_statistic)\n",
    "print(\"p-value:\", p_value)\n",
    "\n",
    "if p_value < alpha:\n",
    "    print(\"There is a statistically significant difference between the maximum and minimum prices of each Flight_ID.\")\n",
    "else:\n",
    "    print(\"There is no statistically significant difference between the maximum and minimum prices of each Flight_ID.\")\n"
   ]
  },
  {
   "cell_type": "code",
   "execution_count": 66,
   "metadata": {},
   "outputs": [
    {
     "data": {
      "text/plain": [
       "Index(['airline_code', 'departure_airport_code', 'destination_airport_code',\n",
       "       'ticket_price', 'departure_date', 'arrival_date', 'First_flight',\n",
       "       'first_flight_code', 'last_flight_code', 'Detected_Language',\n",
       "       'Detected_Country', 'Detected_Currency', 'Flight_ID', 'Price_in_USD',\n",
       "       'commute_time', 'query_date', 'days_until_departure',\n",
       "       'FlightID_in_Countries_Count', 'departure_date_day', 'arrival_date_day',\n",
       "       'Journey_route', 'Journey_ID', 'max', 'min', 'max_abs_diff_perIDGroup',\n",
       "       'max_rel_diff_perIDGroup', 'abs_diff_to_min', 'rel_diff_to_min',\n",
       "       'price_score_perIDGroup', 'max_journey', 'min_journey',\n",
       "       'max_abs_diff_perIDGroup_Journey', 'max_rel_diff_perIDGroup_Journey',\n",
       "       'abs_diff_to_min_Journey', 'rel_diff_to_min_Journey',\n",
       "       'price_score_perIDGroup_Journey', 'max_journey_same_country',\n",
       "       'min_journey_same_country',\n",
       "       'max_abs_diff_perIDGroup_Journey_same_country',\n",
       "       'max_rel_diff_perIDGroup_Journey_same_country',\n",
       "       'price_diff_loc_to_glob_Journey_min',\n",
       "       'rel_price_diff_loc_to_glob_Journey_min', 'Cheapest_Location_Journey',\n",
       "       'Cheapest_Location_Flight', 'Price_Category', 'Commute_Time_Category'],\n",
       "      dtype='object')"
      ]
     },
     "execution_count": 66,
     "metadata": {},
     "output_type": "execute_result"
    }
   ],
   "source": [
    "df_reduced.columns"
   ]
  },
  {
   "cell_type": "code",
   "execution_count": 67,
   "metadata": {},
   "outputs": [
    {
     "name": "stdout",
     "output_type": "stream",
     "text": [
      "R² score: 0.783612019045469\n",
      "Mean squared error: 0.004884741033939683\n"
     ]
    }
   ],
   "source": [
    "import pandas as pd\n",
    "from sklearn.model_selection import train_test_split\n",
    "from sklearn.linear_model import LinearRegression\n",
    "from sklearn.metrics import mean_squared_error, r2_score\n",
    "\n",
    "\n",
    "# Define independent and dependent variables\n",
    "X = pd.get_dummies(df_reduced[['Journey_route','days_until_departure']], drop_first=True)\n",
    "y = pd.get_dummies(df_reduced['Cheapest_Location_Journey'])\n",
    "\n",
    "# Split the dataset into training and testing sets\n",
    "X_train, X_test, y_train, y_test = train_test_split(X, y, test_size=0.1, random_state=41)\n",
    "\n",
    "# Create and fit the model\n",
    "model = LinearRegression()\n",
    "model.fit(X_train, y_train)\n",
    "\n",
    "# Predict and evaluate\n",
    "y_pred = model.predict(X_test)\n",
    "print(f\"R² score: {r2_score(y_test, y_pred)}\")\n",
    "print(f\"Mean squared error: {mean_squared_error(y_test, y_pred)}\")\n"
   ]
  },
  {
   "cell_type": "code",
   "execution_count": 68,
   "metadata": {},
   "outputs": [
    {
     "data": {
      "text/plain": [
       "Index(['airline_code', 'departure_airport_code', 'destination_airport_code',\n",
       "       'ticket_price', 'departure_date', 'arrival_date', 'First_flight',\n",
       "       'first_flight_code', 'last_flight_code', 'Detected_Language',\n",
       "       'Detected_Country', 'Detected_Currency', 'Flight_ID', 'Price_in_USD',\n",
       "       'commute_time', 'query_date', 'days_until_departure',\n",
       "       'FlightID_in_Countries_Count', 'departure_date_day', 'arrival_date_day',\n",
       "       'Journey_route', 'Journey_ID', 'max', 'min', 'max_abs_diff_perIDGroup',\n",
       "       'max_rel_diff_perIDGroup', 'abs_diff_to_min', 'rel_diff_to_min',\n",
       "       'price_score_perIDGroup', 'max_journey', 'min_journey',\n",
       "       'max_abs_diff_perIDGroup_Journey', 'max_rel_diff_perIDGroup_Journey',\n",
       "       'abs_diff_to_min_Journey', 'rel_diff_to_min_Journey',\n",
       "       'price_score_perIDGroup_Journey', 'max_journey_same_country',\n",
       "       'min_journey_same_country',\n",
       "       'max_abs_diff_perIDGroup_Journey_same_country',\n",
       "       'max_rel_diff_perIDGroup_Journey_same_country',\n",
       "       'price_diff_loc_to_glob_Journey_min',\n",
       "       'rel_price_diff_loc_to_glob_Journey_min', 'Cheapest_Location_Journey',\n",
       "       'Cheapest_Location_Flight', 'Price_Category', 'Commute_Time_Category'],\n",
       "      dtype='object')"
      ]
     },
     "execution_count": 68,
     "metadata": {},
     "output_type": "execute_result"
    }
   ],
   "source": [
    "df_reduced.columns"
   ]
  },
  {
   "cell_type": "code",
   "execution_count": 69,
   "metadata": {},
   "outputs": [],
   "source": [
    "# Calculate the mean of max_rel_diff_perIDGroup for each Flight_ID\n",
    "grouped_means = df_reduced.groupby('FlightID_in_Countries_Count')['rel_price_diff_loc_to_glob_Journey_min'].mean()"
   ]
  },
  {
   "cell_type": "code",
   "execution_count": 70,
   "metadata": {},
   "outputs": [
    {
     "data": {
      "text/plain": [
       "FlightID_in_Countries_Count\n",
       "5      2.229581\n",
       "6      2.585136\n",
       "7      2.598715\n",
       "8      3.316337\n",
       "9      7.284368\n",
       "10     5.933292\n",
       "11    18.155912\n",
       "Name: rel_price_diff_loc_to_glob_Journey_min, dtype: float64"
      ]
     },
     "execution_count": 70,
     "metadata": {},
     "output_type": "execute_result"
    }
   ],
   "source": [
    "grouped_means"
   ]
  },
  {
   "cell_type": "code",
   "execution_count": 71,
   "metadata": {},
   "outputs": [
    {
     "data": {
      "text/plain": [
       "FlightID_in_Countries_Count\n",
       "8     1136\n",
       "7     1085\n",
       "6      876\n",
       "9      729\n",
       "10     650\n",
       "5      305\n",
       "11      11\n",
       "Name: count, dtype: int64"
      ]
     },
     "execution_count": 71,
     "metadata": {},
     "output_type": "execute_result"
    }
   ],
   "source": [
    "df_reduced.FlightID_in_Countries_Count.value_counts()"
   ]
  },
  {
   "cell_type": "code",
   "execution_count": 72,
   "metadata": {},
   "outputs": [
    {
     "data": {
      "text/plain": [
       "257.6895650106965"
      ]
     },
     "execution_count": 72,
     "metadata": {},
     "output_type": "execute_result"
    }
   ],
   "source": [
    "df_reduced.max_rel_diff_perIDGroup.max()"
   ]
  },
  {
   "cell_type": "code",
   "execution_count": 73,
   "metadata": {},
   "outputs": [
    {
     "data": {
      "text/plain": [
       "Price_in_USD\n",
       "124.7500     7\n",
       "125.2800     7\n",
       "120.1300     6\n",
       "124.7400     6\n",
       "126.5400     6\n",
       "            ..\n",
       "3444.3591    1\n",
       "3597.0298    1\n",
       "3796.1287    1\n",
       "4264.2509    1\n",
       "124.2450     1\n",
       "Name: count, Length: 3803, dtype: int64"
      ]
     },
     "execution_count": 73,
     "metadata": {},
     "output_type": "execute_result"
    }
   ],
   "source": [
    "df_reduced.Price_in_USD.value_counts()"
   ]
  },
  {
   "cell_type": "code",
   "execution_count": 74,
   "metadata": {},
   "outputs": [
    {
     "data": {
      "text/html": [
       "<div>\n",
       "<style scoped>\n",
       "    .dataframe tbody tr th:only-of-type {\n",
       "        vertical-align: middle;\n",
       "    }\n",
       "\n",
       "    .dataframe tbody tr th {\n",
       "        vertical-align: top;\n",
       "    }\n",
       "\n",
       "    .dataframe thead th {\n",
       "        text-align: right;\n",
       "    }\n",
       "</style>\n",
       "<table border=\"1\" class=\"dataframe\">\n",
       "  <thead>\n",
       "    <tr style=\"text-align: right;\">\n",
       "      <th></th>\n",
       "      <th>airline_code</th>\n",
       "      <th>departure_airport_code</th>\n",
       "      <th>destination_airport_code</th>\n",
       "      <th>ticket_price</th>\n",
       "      <th>departure_date</th>\n",
       "      <th>arrival_date</th>\n",
       "      <th>First_flight</th>\n",
       "      <th>first_flight_code</th>\n",
       "      <th>last_flight_code</th>\n",
       "      <th>Detected_Language</th>\n",
       "      <th>...</th>\n",
       "      <th>max_journey_same_country</th>\n",
       "      <th>min_journey_same_country</th>\n",
       "      <th>max_abs_diff_perIDGroup_Journey_same_country</th>\n",
       "      <th>max_rel_diff_perIDGroup_Journey_same_country</th>\n",
       "      <th>price_diff_loc_to_glob_Journey_min</th>\n",
       "      <th>rel_price_diff_loc_to_glob_Journey_min</th>\n",
       "      <th>Cheapest_Location_Journey</th>\n",
       "      <th>Cheapest_Location_Flight</th>\n",
       "      <th>Price_Category</th>\n",
       "      <th>Commute_Time_Category</th>\n",
       "    </tr>\n",
       "  </thead>\n",
       "  <tbody>\n",
       "    <tr>\n",
       "      <th>139</th>\n",
       "      <td>AA</td>\n",
       "      <td>BWI</td>\n",
       "      <td>LIM</td>\n",
       "      <td>4787</td>\n",
       "      <td>2024-11-04 06:48:00</td>\n",
       "      <td>2024-11-04 17:55:00</td>\n",
       "      <td>BWI-CLT</td>\n",
       "      <td>AA2758</td>\n",
       "      <td>AA1307</td>\n",
       "      <td>Português (Brasil)</td>\n",
       "      <td>...</td>\n",
       "      <td>1326.4</td>\n",
       "      <td>417.8</td>\n",
       "      <td>908.6</td>\n",
       "      <td>217.472475</td>\n",
       "      <td>12.61</td>\n",
       "      <td>3.11212</td>\n",
       "      <td>Shqipëri</td>\n",
       "      <td>Shqipëri</td>\n",
       "      <td>500-1000</td>\n",
       "      <td>6-8</td>\n",
       "    </tr>\n",
       "    <tr>\n",
       "      <th>140</th>\n",
       "      <td>UA</td>\n",
       "      <td>BWI</td>\n",
       "      <td>LIM</td>\n",
       "      <td>5649</td>\n",
       "      <td>2024-11-04 08:15:00</td>\n",
       "      <td>2024-11-04 23:55:00</td>\n",
       "      <td>BWI-IAH</td>\n",
       "      <td>UA2128</td>\n",
       "      <td>UA854</td>\n",
       "      <td>Português (Brasil)</td>\n",
       "      <td>...</td>\n",
       "      <td>1326.4</td>\n",
       "      <td>417.8</td>\n",
       "      <td>908.6</td>\n",
       "      <td>217.472475</td>\n",
       "      <td>12.61</td>\n",
       "      <td>3.11212</td>\n",
       "      <td>Shqipëri</td>\n",
       "      <td>Shqipëri</td>\n",
       "      <td>&gt;1000</td>\n",
       "      <td>&gt;8h</td>\n",
       "    </tr>\n",
       "    <tr>\n",
       "      <th>141</th>\n",
       "      <td>UA</td>\n",
       "      <td>BWI</td>\n",
       "      <td>LIM</td>\n",
       "      <td>6632</td>\n",
       "      <td>2024-11-04 10:45:00</td>\n",
       "      <td>2024-11-04 23:55:00</td>\n",
       "      <td>BWI-ORD</td>\n",
       "      <td>UA455</td>\n",
       "      <td>UA854</td>\n",
       "      <td>Português (Brasil)</td>\n",
       "      <td>...</td>\n",
       "      <td>1326.4</td>\n",
       "      <td>417.8</td>\n",
       "      <td>908.6</td>\n",
       "      <td>217.472475</td>\n",
       "      <td>12.61</td>\n",
       "      <td>3.11212</td>\n",
       "      <td>Shqipëri</td>\n",
       "      <td>Shqipëri</td>\n",
       "      <td>&gt;1000</td>\n",
       "      <td>&gt;8h</td>\n",
       "    </tr>\n",
       "  </tbody>\n",
       "</table>\n",
       "<p>3 rows × 46 columns</p>\n",
       "</div>"
      ],
      "text/plain": [
       "    airline_code departure_airport_code destination_airport_code  \\\n",
       "139           AA                    BWI                      LIM   \n",
       "140           UA                    BWI                      LIM   \n",
       "141           UA                    BWI                      LIM   \n",
       "\n",
       "     ticket_price      departure_date        arrival_date First_flight  \\\n",
       "139          4787 2024-11-04 06:48:00 2024-11-04 17:55:00      BWI-CLT   \n",
       "140          5649 2024-11-04 08:15:00 2024-11-04 23:55:00      BWI-IAH   \n",
       "141          6632 2024-11-04 10:45:00 2024-11-04 23:55:00      BWI-ORD   \n",
       "\n",
       "    first_flight_code last_flight_code   Detected_Language  ...  \\\n",
       "139            AA2758           AA1307  Português (Brasil)  ...   \n",
       "140            UA2128            UA854  Português (Brasil)  ...   \n",
       "141             UA455            UA854  Português (Brasil)  ...   \n",
       "\n",
       "    max_journey_same_country min_journey_same_country  \\\n",
       "139                   1326.4                    417.8   \n",
       "140                   1326.4                    417.8   \n",
       "141                   1326.4                    417.8   \n",
       "\n",
       "    max_abs_diff_perIDGroup_Journey_same_country  \\\n",
       "139                                        908.6   \n",
       "140                                        908.6   \n",
       "141                                        908.6   \n",
       "\n",
       "     max_rel_diff_perIDGroup_Journey_same_country  \\\n",
       "139                                    217.472475   \n",
       "140                                    217.472475   \n",
       "141                                    217.472475   \n",
       "\n",
       "     price_diff_loc_to_glob_Journey_min  \\\n",
       "139                               12.61   \n",
       "140                               12.61   \n",
       "141                               12.61   \n",
       "\n",
       "    rel_price_diff_loc_to_glob_Journey_min  Cheapest_Location_Journey  \\\n",
       "139                                3.11212                   Shqipëri   \n",
       "140                                3.11212                   Shqipëri   \n",
       "141                                3.11212                   Shqipëri   \n",
       "\n",
       "     Cheapest_Location_Flight Price_Category Commute_Time_Category  \n",
       "139                  Shqipëri       500-1000                   6-8  \n",
       "140                  Shqipëri          >1000                   >8h  \n",
       "141                  Shqipëri          >1000                   >8h  \n",
       "\n",
       "[3 rows x 46 columns]"
      ]
     },
     "execution_count": 74,
     "metadata": {},
     "output_type": "execute_result"
    }
   ],
   "source": [
    "df_reduced.iloc[139:142]"
   ]
  },
  {
   "cell_type": "code",
   "execution_count": 75,
   "metadata": {},
   "outputs": [
    {
     "data": {
      "text/plain": [
       "FlightID_in_Countries_Count\n",
       "8     1136\n",
       "7     1085\n",
       "6      876\n",
       "9      729\n",
       "10     650\n",
       "5      305\n",
       "11      11\n",
       "Name: count, dtype: int64"
      ]
     },
     "execution_count": 75,
     "metadata": {},
     "output_type": "execute_result"
    }
   ],
   "source": [
    "df_reduced.FlightID_in_Countries_Count.value_counts()"
   ]
  },
  {
   "cell_type": "code",
   "execution_count": 76,
   "metadata": {},
   "outputs": [
    {
     "data": {
      "text/plain": [
       "FlightID_in_Countries_Count\n",
       "5      2.229581\n",
       "6      2.585136\n",
       "7      2.598715\n",
       "8      3.316337\n",
       "9      7.284368\n",
       "10     5.933292\n",
       "11    18.155912\n",
       "Name: rel_price_diff_loc_to_glob_Journey_min, dtype: float64"
      ]
     },
     "execution_count": 76,
     "metadata": {},
     "output_type": "execute_result"
    }
   ],
   "source": [
    "grouped_means"
   ]
  },
  {
   "cell_type": "code",
   "execution_count": 77,
   "metadata": {},
   "outputs": [],
   "source": [
    "# Calculate the mean of max_rel_diff_perIDGroup for each Flight_ID\n",
    "grouped_means = df_reduced.groupby('airline_code')['max_rel_diff_perIDGroup'].mean()\n"
   ]
  },
  {
   "cell_type": "code",
   "execution_count": 78,
   "metadata": {},
   "outputs": [
    {
     "data": {
      "text/plain": [
       "52"
      ]
     },
     "execution_count": 78,
     "metadata": {},
     "output_type": "execute_result"
    }
   ],
   "source": [
    "grouped_means.count()"
   ]
  },
  {
   "cell_type": "code",
   "execution_count": 79,
   "metadata": {},
   "outputs": [
    {
     "data": {
      "text/plain": [
       "airline_code\n",
       "UA       18.025831\n",
       "AC       14.731301\n",
       "QR       10.213291\n",
       "EK        6.289316\n",
       "IB        5.766324\n",
       "KL        5.239135\n",
       "VY        5.083260\n",
       "LX        4.881966\n",
       "WK        4.766589\n",
       "UX        4.719420\n",
       "W4        4.638016\n",
       "AM        4.637533\n",
       "CX        4.632271\n",
       "JL        4.631234\n",
       "AZ        4.604290\n",
       "F9        4.552570\n",
       "CM        4.542145\n",
       "F8        4.526132\n",
       "OS        4.510832\n",
       "SK        4.500885\n",
       "AY        4.496096\n",
       "AV        4.488944\n",
       "LA        4.473724\n",
       "WS        4.462403\n",
       "TP        4.454339\n",
       "LO        4.448080\n",
       "CZ        4.439247\n",
       "MU        4.437497\n",
       "multi     4.399067\n",
       "AA        4.355316\n",
       "TK        4.300222\n",
       "AF        4.239161\n",
       "PC        4.111757\n",
       "ET        4.108390\n",
       "BA        3.817349\n",
       "KE        3.685751\n",
       "SQ        3.649837\n",
       "LH        3.608504\n",
       "MS        3.515535\n",
       "OZ        3.435653\n",
       "DL        3.264153\n",
       "NH        3.198602\n",
       "B6        3.134127\n",
       "EY        2.721481\n",
       "BR        2.550810\n",
       "AS        2.468050\n",
       "EI        2.339673\n",
       "TG        2.161548\n",
       "XE        1.517413\n",
       "NK        1.236773\n",
       "VJ        0.857685\n",
       "TU        0.726877\n",
       "Name: max_rel_diff_perIDGroup, dtype: float64"
      ]
     },
     "execution_count": 79,
     "metadata": {},
     "output_type": "execute_result"
    }
   ],
   "source": [
    "grouped_means.sort_values(ascending=False)"
   ]
  },
  {
   "cell_type": "code",
   "execution_count": 80,
   "metadata": {},
   "outputs": [
    {
     "data": {
      "text/plain": [
       "airline_code\n",
       "AA     4.355316\n",
       "AC    14.731301\n",
       "AF     4.239161\n",
       "AM     4.637533\n",
       "AS     2.468050\n",
       "Name: max_rel_diff_perIDGroup, dtype: float64"
      ]
     },
     "execution_count": 80,
     "metadata": {},
     "output_type": "execute_result"
    }
   ],
   "source": [
    "grouped_means.head()"
   ]
  },
  {
   "cell_type": "code",
   "execution_count": 81,
   "metadata": {},
   "outputs": [
    {
     "data": {
      "text/plain": [
       "4.461800185586128"
      ]
     },
     "execution_count": 81,
     "metadata": {},
     "output_type": "execute_result"
    }
   ],
   "source": [
    "df_reduced.max_rel_diff_perIDGroup.median()"
   ]
  },
  {
   "cell_type": "code",
   "execution_count": null,
   "metadata": {},
   "outputs": [],
   "source": []
  },
  {
   "cell_type": "code",
   "execution_count": 82,
   "metadata": {},
   "outputs": [
    {
     "data": {
      "image/png": "[encoded data removed]",
      "text/plain": [
       "<Figure size 640x480 with 1 Axes>"
      ]
     },
     "metadata": {},
     "output_type": "display_data"
    }
   ],
   "source": [
    "import matplotlib.pyplot as plt\n",
    "\n",
    "# Plotting the histogram of the aggregated means\n",
    "plt.hist(grouped_means, bins=10, range=(0, 10), edgecolor='black')\n",
    "plt.title('Distribution of Average max_rel_diff_perIDGroup per Flight_ID')\n",
    "plt.xlabel('Average max_rel_diff_perIDGroup')\n",
    "plt.ylabel('Frequency')\n",
    "plt.show()\n"
   ]
  },
  {
   "cell_type": "code",
   "execution_count": 91,
   "metadata": {},
   "outputs": [
    {
     "data": {
      "text/plain": [
       "Index(['airline_code', 'departure_airport_code', 'destination_airport_code',\n",
       "       'ticket_price', 'departure_date', 'arrival_date', 'First_flight',\n",
       "       'first_flight_code', 'last_flight_code', 'Detected_Language',\n",
       "       'Detected_Country', 'Detected_Currency', 'Flight_ID', 'Price_in_USD',\n",
       "       'commute_time', 'query_date', 'days_until_departure',\n",
       "       'FlightID_in_Countries_Count', 'departure_date_day', 'arrival_date_day',\n",
       "       'Journey_route', 'Journey_ID', 'max', 'min', 'max_abs_diff_perIDGroup',\n",
       "       'max_rel_diff_perIDGroup', 'abs_diff_to_min', 'rel_diff_to_min',\n",
       "       'price_score_perIDGroup', 'max_journey', 'min_journey',\n",
       "       'max_abs_diff_perIDGroup_Journey', 'max_rel_diff_perIDGroup_Journey',\n",
       "       'abs_diff_to_min_Journey', 'rel_diff_to_min_Journey',\n",
       "       'price_score_perIDGroup_Journey', 'max_journey_same_country',\n",
       "       'min_journey_same_country',\n",
       "       'max_abs_diff_perIDGroup_Journey_same_country',\n",
       "       'max_rel_diff_perIDGroup_Journey_same_country',\n",
       "       'price_diff_loc_to_glob_Journey_min',\n",
       "       'rel_price_diff_loc_to_glob_Journey_min', 'Cheapest_Location_Journey',\n",
       "       'Cheapest_Location_Flight', 'Price_Category', 'Commute_Time_Category'],\n",
       "      dtype='object')"
      ]
     },
     "execution_count": 91,
     "metadata": {},
     "output_type": "execute_result"
    }
   ],
   "source": [
    "df_reduced.columns"
   ]
  },
  {
   "cell_type": "code",
   "execution_count": 92,
   "metadata": {},
   "outputs": [
    {
     "data": {
      "image/png": "[encoded data removed]",
      "text/plain": [
       "<Figure size 640x480 with 1 Axes>"
      ]
     },
     "metadata": {},
     "output_type": "display_data"
    }
   ],
   "source": [
    "import pandas as pd\n",
    "import matplotlib.pyplot as plt\n",
    "\n",
    "# Plotting directly from the DataFrame\n",
    "df_reduced['price_diff_loc_to_glob_Journey_min'].hist(bins=10, range=(0, 10))\n",
    "\n",
    "plt.title('Distribution of price_diff_loc_to_glob_Journey_min')\n",
    "plt.xlabel('price_diff_loc_to_glob_Journey_min')\n",
    "plt.ylabel('Frequency')\n",
    "plt.grid(False)  # Optionally disable the grid for a cleaner look\n",
    "plt.show()\n"
   ]
  },
  {
   "cell_type": "code",
   "execution_count": 87,
   "metadata": {},
   "outputs": [
    {
     "data": {
      "text/plain": [
       "Index(['airline_code', 'departure_airport_code', 'destination_airport_code',\n",
       "       'ticket_price', 'departure_date', 'arrival_date', 'First_flight',\n",
       "       'first_flight_code', 'last_flight_code', 'Detected_Language',\n",
       "       'Detected_Country', 'Detected_Currency', 'Flight_ID', 'Price_in_USD',\n",
       "       'commute_time', 'query_date', 'days_until_departure',\n",
       "       'FlightID_in_Countries_Count', 'departure_date_day', 'arrival_date_day',\n",
       "       'Journey_route', 'Journey_ID', 'max', 'min', 'max_abs_diff_perIDGroup',\n",
       "       'max_rel_diff_perIDGroup', 'abs_diff_to_min', 'rel_diff_to_min',\n",
       "       'price_score_perIDGroup', 'max_journey', 'min_journey',\n",
       "       'max_abs_diff_perIDGroup_Journey', 'max_rel_diff_perIDGroup_Journey',\n",
       "       'abs_diff_to_min_Journey', 'rel_diff_to_min_Journey',\n",
       "       'price_score_perIDGroup_Journey', 'max_journey_same_country',\n",
       "       'min_journey_same_country',\n",
       "       'max_abs_diff_perIDGroup_Journey_same_country',\n",
       "       'max_rel_diff_perIDGroup_Journey_same_country',\n",
       "       'price_diff_loc_to_glob_Journey_min',\n",
       "       'rel_price_diff_loc_to_glob_Journey_min', 'Cheapest_Location_Journey',\n",
       "       'Cheapest_Location_Flight', 'Price_Category', 'Commute_Time_Category'],\n",
       "      dtype='object')"
      ]
     },
     "execution_count": 87,
     "metadata": {},
     "output_type": "execute_result"
    }
   ],
   "source": [
    "df_reduced.columns"
   ]
  },
  {
   "cell_type": "code",
   "execution_count": 90,
   "metadata": {},
   "outputs": [
    {
     "name": "stdout",
     "output_type": "stream",
     "text": [
      "T-statistic: 14.811658019146654\n",
      "P-value: 1.441155962821771e-48\n",
      "We reject the null hypothesis. The mean of max_rel_diff_perIDGroup is significantly different from 0.\n"
     ]
    }
   ],
   "source": [
    "from scipy.stats import ttest_1samp\n",
    "import numpy as np\n",
    "\n",
    "# Assuming df_reduced is your DataFrame and max_rel_diff_perIDGroup is the column you're testing\n",
    "data = df_reduced['rel_price_diff_loc_to_glob_Journey_min'].dropna()  # Drop NaN values if any\n",
    "\n",
    "# Perform the one-sample t-test against the null hypothesis that the mean is 0\n",
    "t_statistic, p_value = ttest_1samp(data, 0)\n",
    "\n",
    "print(f\"T-statistic: {t_statistic}\")\n",
    "print(f\"P-value: {p_value}\")\n",
    "\n",
    "# Interpretation\n",
    "if p_value < 0.01:\n",
    "    print(\"We reject the null hypothesis. The mean of max_rel_diff_perIDGroup is significantly different from 0.\")\n",
    "else:\n",
    "    print(\"We fail to reject the null hypothesis. There is not enough evidence to say the mean of max_rel_diff_perIDGroup is significantly different from 0.\")\n"
   ]
  },
  {
   "cell_type": "code",
   "execution_count": 86,
   "metadata": {},
   "outputs": [
    {
     "name": "stdout",
     "output_type": "stream",
     "text": [
      "R² score: 0.87621996714408\n",
      "Mean squared error: 31.10233290195303\n",
      "Coefficients:\n",
      "Price_in_USD            0.000097\n",
      "airline_code_AC         0.000000\n",
      "airline_code_AF        -0.000000\n",
      "airline_code_AM         0.000000\n",
      "airline_code_AS        -0.000000\n",
      "                          ...   \n",
      "First_flight_ZAG-IST   -0.000000\n",
      "First_flight_ZAG-LHR   -0.000000\n",
      "First_flight_ZAG-MUC   -0.000000\n",
      "First_flight_ZAG-VIE    0.000000\n",
      "First_flight_ZAG-WAW   -0.000000\n",
      "Length: 387, dtype: float64\n"
     ]
    }
   ],
   "source": [
    "from sklearn.linear_model import Lasso\n",
    "from sklearn.model_selection import train_test_split\n",
    "from sklearn.metrics import mean_squared_error, r2_score\n",
    "import pandas as pd\n",
    "\n",
    "# Assuming df_reduced is your DataFrame and it's already loaded\n",
    "\n",
    "# Prepare your data: Get dummies for categorical variables\n",
    "X = pd.get_dummies(df_reduced[['airline_code', 'Price_in_USD', 'Detected_Country', 'First_flight']], drop_first=True)\n",
    "y = df_reduced['max_rel_diff_perIDGroup']\n",
    "\n",
    "# Split the dataset into training and testing sets\n",
    "X_train, X_test, y_train, y_test = train_test_split(X, y, test_size=0.2, random_state=42)\n",
    "\n",
    "# Initialize the Lasso regression model\n",
    "# alpha is the regularization strength; larger values specify stronger regularization.\n",
    "lasso_model = Lasso(alpha=0.1)  # You might need to adjust the alpha value\n",
    "\n",
    "# Fit the Lasso model to the training data\n",
    "lasso_model.fit(X_train, y_train)\n",
    "\n",
    "# Predict on the testing set\n",
    "y_pred = lasso_model.predict(X_test)\n",
    "\n",
    "# Evaluate the model\n",
    "print(f\"R² score: {r2_score(y_test, y_pred)}\")\n",
    "print(f\"Mean squared error: {mean_squared_error(y_test, y_pred)}\")\n",
    "\n",
    "# Viewing the coefficients\n",
    "coefficients = pd.Series(lasso_model.coef_, index=X_train.columns)\n",
    "print(\"Coefficients:\")\n",
    "print(coefficients)\n"
   ]
  },
  {
   "cell_type": "code",
   "execution_count": null,
   "metadata": {},
   "outputs": [],
   "source": []
  }
 ],
 "metadata": {
  "kernelspec": {
   "display_name": "playwright-trial-uIq0qThi-py3.12",
   "language": "python",
   "name": "python3"
  },
  "language_info": {
   "codemirror_mode": {
    "name": "ipython",
    "version": 3
   },
   "file_extension": ".py",
   "mimetype": "text/x-python",
   "name": "python",
   "nbconvert_exporter": "python",
   "pygments_lexer": "ipython3",
   "version": "3.12.1"
  }
 },
 "nbformat": 4,
 "nbformat_minor": 2
}
