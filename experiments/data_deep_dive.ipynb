{
 "cells": [
  {
   "cell_type": "markdown",
   "metadata": {},
   "source": [
    "# Imports"
   ]
  },
  {
   "cell_type": "code",
   "execution_count": 1,
   "metadata": {},
   "outputs": [],
   "source": [
    "import pandas as pd\n",
    "import numpy as np\n",
    "import ast\n",
    "from datetime import datetime"
   ]
  },
  {
   "cell_type": "markdown",
   "metadata": {},
   "source": [
    "# Helper functions"
   ]
  },
  {
   "cell_type": "code",
   "execution_count": 2,
   "metadata": {},
   "outputs": [],
   "source": [
    "conversion_rates = {\n",
    "    'CHF': 1.14,  # 1 CHF = 1.134556 USD as of Feb 20, 2024, according to X-Rates\n",
    "    'TRY': 0.032,   # 1 TRY = 0.03230 USD as of Feb 21, 2024, according to Wise\n",
    "    'PLN': 0.25,  # 1 PLN = 0.250338 USD as of Feb 21, 2024, according to Xe.com\n",
    "    'GBP': 1.26,      # Example rate, adjust with the actual rate when available\n",
    "    'JOD': 1.41,      # Example rate, adjust with the actual rate when available\n",
    "    'AUD' : 0.66,\n",
    "    'BRL' : 0.2,\n",
    "    'IDR' : 0.000064,\n",
    "    'USD' : 1.0,\n",
    "    'EUR' : 1.08,\n",
    "    'ALL' : 0.010,\n",
    "    'JPY' : 0.0066,\n",
    "    'BDT' : 0.0091,\n",
    "\n",
    "}\n",
    "\n"
   ]
  },
  {
   "cell_type": "code",
   "execution_count": 3,
   "metadata": {},
   "outputs": [],
   "source": [
    "def convert_to_usd(row, price_col_name, currency_col_name):\n",
    "    price = row[price_col_name]\n",
    "    currency = row[currency_col_name]\n",
    "    price = row['ticket_price']\n",
    "    conversion_rate = conversion_rates.get(currency)\n",
    "\n",
    "    # Check if conversion_rate is None\n",
    "    if conversion_rate is None:\n",
    "        # Handle the error (e.g., return 0, raise an exception, or use a default conversion rate)\n",
    "        raise ValueError(f\"Conversion rate for currency '{currency}' is not available.\")\n",
    "        # Alternatively, you can return 0 or some default value instead of raising an error\n",
    "        # return 0\n",
    "    \n",
    "    return price * conversion_rate\n"
   ]
  },
  {
   "cell_type": "code",
   "execution_count": 4,
   "metadata": {},
   "outputs": [],
   "source": [
    "def clean_fifth_element(lst):\n",
    "    cleaned_lst = []\n",
    "    for item in lst:\n",
    "        if len(item) >= 5:\n",
    "            fifth_element = item[4]\n",
    "            if isinstance(fifth_element, int):\n",
    "                cleaned_lst.append(fifth_element)\n",
    "            else:\n",
    "                try:\n",
    "                    cleaned_lst.append(int(fifth_element))\n",
    "                except ValueError:\n",
    "                    # If the fifth element cannot be converted to an integer, replace it with 0\n",
    "                    cleaned_lst.append(0)\n",
    "        else:\n",
    "            cleaned_lst.append(0)  # If the list is too short, consider the fifth element as 0\n",
    "    return cleaned_lst\n",
    "\n"
   ]
  },
  {
   "cell_type": "code",
   "execution_count": 5,
   "metadata": {},
   "outputs": [],
   "source": [
    "def convert_list_to_datetime(date_list):\n",
    "    # Convert 'null' strings to 0 and other elements to integers\n",
    "    date_list = [0 if element == 'null' else int(element) for element in date_list]\n",
    "    \n",
    "    try:\n",
    "        if len(date_list) == 5:\n",
    "            # If all components are present, unpack the list directly into datetime\n",
    "            return datetime(*date_list)\n",
    "        elif len(date_list) == 4:\n",
    "            # If the minute is missing (or any single component), append 0 for minutes and then convert\n",
    "            return datetime(*(date_list + [0]))\n",
    "        else:\n",
    "            # Return None for lists of unexpected length to indicate an issue\n",
    "            return None\n",
    "    except TypeError:\n",
    "        # Handle cases where the list contents cannot be directly unpacked into datetime\n",
    "        return None\n",
    "\n",
    "\n"
   ]
  },
  {
   "cell_type": "code",
   "execution_count": 6,
   "metadata": {},
   "outputs": [],
   "source": [
    "def clean_fifth_element(lst):\n",
    "    cleaned_lst = []\n",
    "    for item in lst:\n",
    "        if len(item) >= 5:\n",
    "            fifth_element = item[4]\n",
    "            if isinstance(fifth_element, int):\n",
    "                cleaned_lst.append(item[:4] + [fifth_element] + item[5:])\n",
    "            else:\n",
    "                try:\n",
    "                    cleaned_lst.append(item[:4] + [int(fifth_element)] + item[5:])\n",
    "                except ValueError:\n",
    "                    # If the fifth element cannot be converted to an integer, replace it with 0\n",
    "                    cleaned_lst.append(item[:4] + [0] + item[5:])\n",
    "        else:\n",
    "            # If the list is too short, consider the fifth element as 0\n",
    "            cleaned_lst.append(item[:4] + [0])\n",
    "    return cleaned_lst\n",
    "\n"
   ]
  },
  {
   "cell_type": "markdown",
   "metadata": {},
   "source": [
    "# Read and Clean Dataset"
   ]
  },
  {
   "cell_type": "code",
   "execution_count": 7,
   "metadata": {},
   "outputs": [],
   "source": [
    "df = pd.read_csv('../data/query_results/Query4_results_test.csv')"
   ]
  },
  {
   "cell_type": "code",
   "execution_count": 8,
   "metadata": {},
   "outputs": [],
   "source": [
    "for i in ['arrival_date','departure_date']:\n",
    "    df[i] = df[i].apply(ast.literal_eval)"
   ]
  },
  {
   "cell_type": "code",
   "execution_count": 9,
   "metadata": {},
   "outputs": [],
   "source": [
    "df['arrival_date'] = clean_fifth_element(df['arrival_date'])\n",
    "df['departure_date'] = clean_fifth_element(df['departure_date'])"
   ]
  },
  {
   "cell_type": "code",
   "execution_count": 10,
   "metadata": {},
   "outputs": [],
   "source": [
    "for i in ['arrival_date','departure_date']:\n",
    "    df[i] = df[i].apply(convert_list_to_datetime)"
   ]
  },
  {
   "cell_type": "markdown",
   "metadata": {},
   "source": [
    "**Create identifier (FlightID) for identical flights**"
   ]
  },
  {
   "cell_type": "code",
   "execution_count": 11,
   "metadata": {},
   "outputs": [],
   "source": [
    "df['Flight_ID'] = df[['airline_code', 'departure_airport_code', 'destination_airport_code','First_flight','last_flight_code','arrival_date','departure_date', 'departure_time','selling_airline','arrival_time','first_flight_code']].astype(str).agg('-'.join, axis=1)"
   ]
  },
  {
   "cell_type": "code",
   "execution_count": 12,
   "metadata": {},
   "outputs": [],
   "source": [
    "df = df.drop(['departure_time','selling_airline','arrival_time'], axis = 1)"
   ]
  },
  {
   "cell_type": "markdown",
   "metadata": {},
   "source": [
    "**Remove duplicates**"
   ]
  },
  {
   "cell_type": "code",
   "execution_count": 13,
   "metadata": {},
   "outputs": [],
   "source": [
    "df[\"Duplicate_checker\"] = df['Flight_ID'] + df['Detected_Country'] + df[\"Detected_Language\"] + df[\"Detected_Country\"] + str(df[\"ticket_price\"])"
   ]
  },
  {
   "cell_type": "code",
   "execution_count": 14,
   "metadata": {},
   "outputs": [],
   "source": [
    "df_reduced = df.drop_duplicates(subset='Duplicate_checker', keep='first').copy()"
   ]
  },
  {
   "cell_type": "code",
   "execution_count": 15,
   "metadata": {},
   "outputs": [],
   "source": [
    "df_reduced = df_reduced.drop(['Duplicate_checker'], axis = 1)"
   ]
  },
  {
   "cell_type": "markdown",
   "metadata": {},
   "source": [
    "**Remove NaN and erroneous rows**"
   ]
  },
  {
   "cell_type": "code",
   "execution_count": 16,
   "metadata": {},
   "outputs": [],
   "source": [
    "df_reduced.dropna(subset=['Detected_Currency', 'ticket_price', 'Detected_Country'], inplace=True)"
   ]
  },
  {
   "cell_type": "code",
   "execution_count": 17,
   "metadata": {},
   "outputs": [],
   "source": [
    "df_reduced = df_reduced[df_reduced['ticket_price'] >= 10]"
   ]
  },
  {
   "cell_type": "code",
   "execution_count": 18,
   "metadata": {},
   "outputs": [
    {
     "data": {
      "text/plain": [
       "Index(['airline_code', 'departure_airport_code', 'destination_airport_code',\n",
       "       'ticket_price', 'departure_date', 'arrival_date', 'First_flight',\n",
       "       'first_flight_code', 'last_flight_code', 'Detected_Language',\n",
       "       'Detected_Country', 'Detected_Currency', 'Flight_ID'],\n",
       "      dtype='object')"
      ]
     },
     "execution_count": 18,
     "metadata": {},
     "output_type": "execute_result"
    }
   ],
   "source": [
    "df_reduced.columns"
   ]
  },
  {
   "cell_type": "markdown",
   "metadata": {},
   "source": [
    "# Feature engineering"
   ]
  },
  {
   "cell_type": "code",
   "execution_count": 19,
   "metadata": {},
   "outputs": [],
   "source": [
    "df_reduced['Price_in_USD'] = df_reduced.apply(lambda row: convert_to_usd(row, 'ticket_price', 'Detected_Currency'), axis=1)"
   ]
  },
  {
   "cell_type": "markdown",
   "metadata": {},
   "source": [
    "Creating commutime time"
   ]
  },
  {
   "cell_type": "code",
   "execution_count": 52,
   "metadata": {},
   "outputs": [],
   "source": [
    "df_reduced['commute_time'] = (df_reduced['arrival_date'] - df_reduced['departure_date']).dt.total_seconds() / 60"
   ]
  },
  {
   "cell_type": "code",
   "execution_count": 21,
   "metadata": {},
   "outputs": [],
   "source": [
    "df_reduced['query_date'] = pd.Timestamp('2024-02-15')"
   ]
  },
  {
   "cell_type": "code",
   "execution_count": 22,
   "metadata": {},
   "outputs": [],
   "source": [
    "df_reduced['days_until_departure'] = (df_reduced['departure_date'] - df_reduced['query_date']).dt.days"
   ]
  },
  {
   "cell_type": "markdown",
   "metadata": {},
   "source": [
    "**Eliminating Flights with little country variance**"
   ]
  },
  {
   "cell_type": "code",
   "execution_count": 23,
   "metadata": {},
   "outputs": [],
   "source": [
    "# Count the number of different countries available per Flight_ID\n",
    "country_count_per_flight = df_reduced.groupby('Flight_ID')['Detected_Country'].nunique().reset_index(name='FlightID_in_Countries_Count')\n",
    "\n",
    "# Merge this count back into the original dataframe\n",
    "df_reduced = df_reduced.merge(country_count_per_flight, on='Flight_ID')\n"
   ]
  },
  {
   "cell_type": "code",
   "execution_count": 24,
   "metadata": {},
   "outputs": [],
   "source": [
    "df_reduced = df_reduced[df_reduced['FlightID_in_Countries_Count'] >= 5]"
   ]
  },
  {
   "cell_type": "markdown",
   "metadata": {},
   "source": [
    "Creating column for whole Journey"
   ]
  },
  {
   "cell_type": "code",
   "execution_count": 25,
   "metadata": {},
   "outputs": [],
   "source": [
    "df_reduced[\"whole_Journey\"] = df_reduced[\"departure_airport_code\"] + \"-\" + df_reduced[\"destination_airport_code\"]"
   ]
  },
  {
   "cell_type": "code",
   "execution_count": 26,
   "metadata": {},
   "outputs": [
    {
     "data": {
      "text/html": [
       "<div>\n",
       "<style scoped>\n",
       "    .dataframe tbody tr th:only-of-type {\n",
       "        vertical-align: middle;\n",
       "    }\n",
       "\n",
       "    .dataframe tbody tr th {\n",
       "        vertical-align: top;\n",
       "    }\n",
       "\n",
       "    .dataframe thead th {\n",
       "        text-align: right;\n",
       "    }\n",
       "</style>\n",
       "<table border=\"1\" class=\"dataframe\">\n",
       "  <thead>\n",
       "    <tr style=\"text-align: right;\">\n",
       "      <th></th>\n",
       "      <th>airline_code</th>\n",
       "      <th>departure_airport_code</th>\n",
       "      <th>destination_airport_code</th>\n",
       "      <th>ticket_price</th>\n",
       "      <th>departure_date</th>\n",
       "      <th>arrival_date</th>\n",
       "      <th>First_flight</th>\n",
       "      <th>first_flight_code</th>\n",
       "      <th>last_flight_code</th>\n",
       "      <th>Detected_Language</th>\n",
       "      <th>Detected_Country</th>\n",
       "      <th>Detected_Currency</th>\n",
       "      <th>Flight_ID</th>\n",
       "      <th>Price_in_USD</th>\n",
       "      <th>query_date</th>\n",
       "      <th>days_until_departure</th>\n",
       "      <th>FlightID_in_Countries_Count</th>\n",
       "      <th>whole_Journey</th>\n",
       "    </tr>\n",
       "  </thead>\n",
       "  <tbody>\n",
       "    <tr>\n",
       "      <th>0</th>\n",
       "      <td>AA</td>\n",
       "      <td>CLT</td>\n",
       "      <td>CUN</td>\n",
       "      <td>383</td>\n",
       "      <td>2024-06-26 07:15:00</td>\n",
       "      <td>2024-06-26 09:10:00</td>\n",
       "      <td>CLT-CUN</td>\n",
       "      <td>AA881</td>\n",
       "      <td>AA881</td>\n",
       "      <td>Deutsch</td>\n",
       "      <td>Deutschland</td>\n",
       "      <td>EUR</td>\n",
       "      <td>AA-CLT-CUN-CLT-CUN-AA881-2024-06-26 09:10:00-2...</td>\n",
       "      <td>413.64</td>\n",
       "      <td>2024-02-15</td>\n",
       "      <td>132</td>\n",
       "      <td>8</td>\n",
       "      <td>CLT-CUN</td>\n",
       "    </tr>\n",
       "    <tr>\n",
       "      <th>1</th>\n",
       "      <td>AA</td>\n",
       "      <td>CLT</td>\n",
       "      <td>CUN</td>\n",
       "      <td>383</td>\n",
       "      <td>2024-06-26 11:50:00</td>\n",
       "      <td>2024-06-26 13:54:00</td>\n",
       "      <td>CLT-CUN</td>\n",
       "      <td>AA886</td>\n",
       "      <td>AA886</td>\n",
       "      <td>Deutsch</td>\n",
       "      <td>Deutschland</td>\n",
       "      <td>EUR</td>\n",
       "      <td>AA-CLT-CUN-CLT-CUN-AA886-2024-06-26 13:54:00-2...</td>\n",
       "      <td>413.64</td>\n",
       "      <td>2024-02-15</td>\n",
       "      <td>132</td>\n",
       "      <td>8</td>\n",
       "      <td>CLT-CUN</td>\n",
       "    </tr>\n",
       "    <tr>\n",
       "      <th>2</th>\n",
       "      <td>AA</td>\n",
       "      <td>CLT</td>\n",
       "      <td>CUN</td>\n",
       "      <td>383</td>\n",
       "      <td>2024-06-26 13:05:00</td>\n",
       "      <td>2024-06-26 14:59:00</td>\n",
       "      <td>CLT-CUN</td>\n",
       "      <td>AA1778</td>\n",
       "      <td>AA1778</td>\n",
       "      <td>Deutsch</td>\n",
       "      <td>Deutschland</td>\n",
       "      <td>EUR</td>\n",
       "      <td>AA-CLT-CUN-CLT-CUN-AA1778-2024-06-26 14:59:00-...</td>\n",
       "      <td>413.64</td>\n",
       "      <td>2024-02-15</td>\n",
       "      <td>132</td>\n",
       "      <td>8</td>\n",
       "      <td>CLT-CUN</td>\n",
       "    </tr>\n",
       "    <tr>\n",
       "      <th>3</th>\n",
       "      <td>AA</td>\n",
       "      <td>CLT</td>\n",
       "      <td>CUN</td>\n",
       "      <td>410</td>\n",
       "      <td>2024-06-26 09:05:00</td>\n",
       "      <td>2024-06-26 11:13:00</td>\n",
       "      <td>CLT-CUN</td>\n",
       "      <td>AA895</td>\n",
       "      <td>AA895</td>\n",
       "      <td>Deutsch</td>\n",
       "      <td>Deutschland</td>\n",
       "      <td>EUR</td>\n",
       "      <td>AA-CLT-CUN-CLT-CUN-AA895-2024-06-26 11:13:00-2...</td>\n",
       "      <td>442.80</td>\n",
       "      <td>2024-02-15</td>\n",
       "      <td>132</td>\n",
       "      <td>8</td>\n",
       "      <td>CLT-CUN</td>\n",
       "    </tr>\n",
       "    <tr>\n",
       "      <th>4</th>\n",
       "      <td>UA</td>\n",
       "      <td>CLT</td>\n",
       "      <td>CUN</td>\n",
       "      <td>401</td>\n",
       "      <td>2024-06-26 10:07:00</td>\n",
       "      <td>2024-06-26 15:51:00</td>\n",
       "      <td>CLT-IAD</td>\n",
       "      <td>UA1361</td>\n",
       "      <td>UA1618</td>\n",
       "      <td>Deutsch</td>\n",
       "      <td>Deutschland</td>\n",
       "      <td>EUR</td>\n",
       "      <td>UA-CLT-CUN-CLT-IAD-UA1618-2024-06-26 15:51:00-...</td>\n",
       "      <td>433.08</td>\n",
       "      <td>2024-02-15</td>\n",
       "      <td>132</td>\n",
       "      <td>8</td>\n",
       "      <td>CLT-CUN</td>\n",
       "    </tr>\n",
       "  </tbody>\n",
       "</table>\n",
       "</div>"
      ],
      "text/plain": [
       "  airline_code departure_airport_code destination_airport_code  ticket_price  \\\n",
       "0           AA                    CLT                      CUN           383   \n",
       "1           AA                    CLT                      CUN           383   \n",
       "2           AA                    CLT                      CUN           383   \n",
       "3           AA                    CLT                      CUN           410   \n",
       "4           UA                    CLT                      CUN           401   \n",
       "\n",
       "       departure_date        arrival_date First_flight first_flight_code  \\\n",
       "0 2024-06-26 07:15:00 2024-06-26 09:10:00      CLT-CUN             AA881   \n",
       "1 2024-06-26 11:50:00 2024-06-26 13:54:00      CLT-CUN             AA886   \n",
       "2 2024-06-26 13:05:00 2024-06-26 14:59:00      CLT-CUN            AA1778   \n",
       "3 2024-06-26 09:05:00 2024-06-26 11:13:00      CLT-CUN             AA895   \n",
       "4 2024-06-26 10:07:00 2024-06-26 15:51:00      CLT-IAD            UA1361   \n",
       "\n",
       "  last_flight_code Detected_Language Detected_Country Detected_Currency  \\\n",
       "0            AA881           Deutsch      Deutschland               EUR   \n",
       "1            AA886           Deutsch      Deutschland               EUR   \n",
       "2           AA1778           Deutsch      Deutschland               EUR   \n",
       "3            AA895           Deutsch      Deutschland               EUR   \n",
       "4           UA1618           Deutsch      Deutschland               EUR   \n",
       "\n",
       "                                           Flight_ID  Price_in_USD query_date  \\\n",
       "0  AA-CLT-CUN-CLT-CUN-AA881-2024-06-26 09:10:00-2...        413.64 2024-02-15   \n",
       "1  AA-CLT-CUN-CLT-CUN-AA886-2024-06-26 13:54:00-2...        413.64 2024-02-15   \n",
       "2  AA-CLT-CUN-CLT-CUN-AA1778-2024-06-26 14:59:00-...        413.64 2024-02-15   \n",
       "3  AA-CLT-CUN-CLT-CUN-AA895-2024-06-26 11:13:00-2...        442.80 2024-02-15   \n",
       "4  UA-CLT-CUN-CLT-IAD-UA1618-2024-06-26 15:51:00-...        433.08 2024-02-15   \n",
       "\n",
       "   days_until_departure  FlightID_in_Countries_Count whole_Journey  \n",
       "0                   132                            8       CLT-CUN  \n",
       "1                   132                            8       CLT-CUN  \n",
       "2                   132                            8       CLT-CUN  \n",
       "3                   132                            8       CLT-CUN  \n",
       "4                   132                            8       CLT-CUN  "
      ]
     },
     "execution_count": 26,
     "metadata": {},
     "output_type": "execute_result"
    }
   ],
   "source": [
    "df_reduced.head()"
   ]
  },
  {
   "cell_type": "markdown",
   "metadata": {},
   "source": [
    "**Creating Variables that analyse price differences between Flights with identical ID**"
   ]
  },
  {
   "cell_type": "code",
   "execution_count": 28,
   "metadata": {},
   "outputs": [],
   "source": [
    "# Group by Flight_ID and calculate max, min prices and their absolute difference\n",
    "price_stats = df_reduced.groupby('Flight_ID')['Price_in_USD'].agg(['max', 'min'])\n",
    "price_stats['max_abs_diff_perIDGroup'] = price_stats['max'] - price_stats['min']\n",
    "\n",
    "# Calculate the relative difference as a percentage of the min price\n",
    "price_stats['max_rel_diff_perIDGroup'] = (price_stats['max_abs_diff_perIDGroup'] / price_stats['min']) * 100\n",
    "\n",
    "#\"\"\"\n",
    "# Filter to find cases where the relative difference is greater than %\n",
    "#significant_diffs = price_stats[price_stats['max_rel_diff_perIDGroup'] > 4]\n",
    "\n",
    "# If you want to see full details of the flights, merge back with the original df\n",
    "#significant_flight_details = df_reduced.merge(significant_diffs, left_on='Flight_ID', right_index=True)"
   ]
  },
  {
   "cell_type": "code",
   "execution_count": 29,
   "metadata": {},
   "outputs": [
    {
     "data": {
      "text/plain": [
       "Index(['airline_code', 'departure_airport_code', 'destination_airport_code',\n",
       "       'ticket_price', 'departure_date', 'arrival_date', 'First_flight',\n",
       "       'first_flight_code', 'last_flight_code', 'Detected_Language',\n",
       "       'Detected_Country', 'Detected_Currency', 'Flight_ID', 'Price_in_USD',\n",
       "       'query_date', 'days_until_departure', 'FlightID_in_Countries_Count',\n",
       "       'whole_Journey'],\n",
       "      dtype='object')"
      ]
     },
     "execution_count": 29,
     "metadata": {},
     "output_type": "execute_result"
    }
   ],
   "source": [
    "df_reduced.columns"
   ]
  },
  {
   "cell_type": "code",
   "execution_count": 30,
   "metadata": {},
   "outputs": [],
   "source": [
    "df_reduced = pd.merge(df_reduced, price_stats, on='Flight_ID', how='left')"
   ]
  },
  {
   "cell_type": "code",
   "execution_count": 31,
   "metadata": {},
   "outputs": [],
   "source": [
    "df_reduced[\"abs_diff_to_min\"] = df_reduced[\"Price_in_USD\"] - df_reduced[\"min\"]\n",
    "df_reduced[\"rel_diff_to_min\"] = ((df_reduced[\"Price_in_USD\"] /df_reduced[\"min\"] ) -1) * 100\n",
    "df_reduced['price_score_perIDGroup'] = df_reduced['rel_diff_to_min'] / df_reduced['max_rel_diff_perIDGroup']"
   ]
  },
  {
   "cell_type": "code",
   "execution_count": 36,
   "metadata": {},
   "outputs": [
    {
     "data": {
      "text/plain": [
       "0.0"
      ]
     },
     "execution_count": 36,
     "metadata": {},
     "output_type": "execute_result"
    }
   ],
   "source": [
    "df_reduced.rel_diff_to_min.min()"
   ]
  },
  {
   "cell_type": "markdown",
   "metadata": {},
   "source": [
    "# Descriptive Statistics"
   ]
  },
  {
   "cell_type": "markdown",
   "metadata": {},
   "source": [
    "**_These countries are connected with higher Prices for identical flights_**"
   ]
  },
  {
   "cell_type": "code",
   "execution_count": 33,
   "metadata": {},
   "outputs": [
    {
     "data": {
      "text/plain": [
       "Detected_Country\n",
       "Schweiz               534\n",
       "Indonesia             416\n",
       "Polska                405\n",
       "Deutschland           332\n",
       "Australia             284\n",
       "বাংলাদেশ              277\n",
       "Türkiye               201\n",
       "Palestine             102\n",
       "United Kingdom         95\n",
       "Vereinigte Staaten     73\n",
       "Brasil                  5\n",
       "Kıbrıs                  4\n",
       "日本                      2\n",
       "Name: count, dtype: int64"
      ]
     },
     "execution_count": 33,
     "metadata": {},
     "output_type": "execute_result"
    }
   ],
   "source": [
    "temp_df_exp = df_reduced[df_reduced['price_score_perIDGroup'] > 0.8]\n",
    "temp_df_exp.Detected_Country.value_counts()"
   ]
  },
  {
   "cell_type": "markdown",
   "metadata": {},
   "source": [
    "**_These countries are connected with lower prices for identical flights_**"
   ]
  },
  {
   "cell_type": "code",
   "execution_count": 34,
   "metadata": {},
   "outputs": [
    {
     "data": {
      "text/plain": [
       "Detected_Country\n",
       "Shqipëri          484\n",
       "Polska              9\n",
       "Türkiye             8\n",
       "Brasil              8\n",
       "বাংলাদেশ            8\n",
       "Indonesia           6\n",
       "Schweiz             6\n",
       "Deutschland         4\n",
       "United Kingdom      1\n",
       "日本                  1\n",
       "Australia           1\n",
       "Name: count, dtype: int64"
      ]
     },
     "execution_count": 34,
     "metadata": {},
     "output_type": "execute_result"
    }
   ],
   "source": [
    "temp_df_cheap = df_reduced[(df_reduced['max_rel_diff_perIDGroup'] > 4) & (df_reduced['price_score_perIDGroup'] < 0.2)]\n",
    "temp_df_cheap.Detected_Country.value_counts()"
   ]
  },
  {
   "cell_type": "markdown",
   "metadata": {},
   "source": [
    "Distribution shows tendency of having more \"expesnive\" flights (flights close to max-price) and less variation in general"
   ]
  },
  {
   "cell_type": "code",
   "execution_count": 37,
   "metadata": {},
   "outputs": [
    {
     "data": {
      "image/png": "[encoded data removed]",
      "text/plain": [
       "<Figure size 640x480 with 1 Axes>"
      ]
     },
     "metadata": {},
     "output_type": "display_data"
    }
   ],
   "source": [
    "import pandas as pd\n",
    "import matplotlib.pyplot as plt\n",
    "\n",
    "# Assuming df_reduced is your DataFrame\n",
    "# Plotting the histogram\n",
    "df_reduced['price_score_perIDGroup'].plot.hist(bins=10, range=(0, 1), edgecolor='black')\n",
    "\n",
    "plt.title('Distribution of price_score_perIDGroup')\n",
    "plt.xlabel('Price Score per ID Group')\n",
    "plt.ylabel('Frequency')\n",
    "plt.grid(axis='y', alpha=0.75)  # Optional: Add grid lines for better readability\n",
    "\n",
    "plt.show()"
   ]
  },
  {
   "cell_type": "markdown",
   "metadata": {},
   "source": [
    "** Average indicates that the average maximum relative difference increases with Price**"
   ]
  },
  {
   "cell_type": "code",
   "execution_count": 45,
   "metadata": {},
   "outputs": [
    {
     "data": {
      "image/png": "[encoded data removed]",
      "text/plain": [
       "<Figure size 1000x600 with 1 Axes>"
      ]
     },
     "metadata": {},
     "output_type": "display_data"
    }
   ],
   "source": [
    "import pandas as pd\n",
    "import seaborn as sns\n",
    "import matplotlib.pyplot as plt\n",
    "\n",
    "# Define the bins and labels for 'Price_in_USD'\n",
    "bins = [0, 100, 500, 1000, float('inf')]\n",
    "labels = ['<100', '100-500', '500-1000', '>1000']\n",
    "\n",
    "# Bin 'Price_in_USD' into the defined categories\n",
    "df_reduced['Price_Category'] = pd.cut(df_reduced['Price_in_USD'], bins=bins, labels=labels)\n",
    "\n",
    "# Group by the new 'Price_Category' and calculate the mean 'rel_diff' for each category\n",
    "avg_rel_diff_by_price_cat = df_reduced.groupby('Price_Category', observed=True)['max_rel_diff_perIDGroup'].mean().reset_index()\n",
    "\n",
    "# Plotting\n",
    "plt.figure(figsize=(10, 6))\n",
    "sns.barplot(data=avg_rel_diff_by_price_cat, x='Price_Category', y='max_rel_diff_perIDGroup')\n",
    "plt.title('Average Relative Difference in Price by Price Category')\n",
    "plt.xlabel('Price in USD Category')\n",
    "plt.ylabel('Average Relative Difference (%)')\n",
    "plt.tight_layout()\n",
    "plt.show()\n"
   ]
  },
  {
   "cell_type": "markdown",
   "metadata": {},
   "source": [
    "** Median doesnt show this effect **"
   ]
  },
  {
   "cell_type": "code",
   "execution_count": 46,
   "metadata": {},
   "outputs": [
    {
     "data": {
      "image/png": "[encoded data removed]",
      "text/plain": [
       "<Figure size 1000x600 with 1 Axes>"
      ]
     },
     "metadata": {},
     "output_type": "display_data"
    }
   ],
   "source": [
    "import pandas as pd\n",
    "import seaborn as sns\n",
    "import matplotlib.pyplot as plt\n",
    "\n",
    "# Define the bins and labels for 'Price_in_USD'\n",
    "bins = [0, 100, 500, 1000, float('inf')]\n",
    "labels = ['<100', '100-500', '500-1000', '>1000']\n",
    "\n",
    "# Bin 'Price_in_USD' into the defined categories\n",
    "df_reduced['Price_Category'] = pd.cut(df_reduced['Price_in_USD'], bins=bins, labels=labels)\n",
    "\n",
    "# Group by the new 'Price_Category' and calculate the mean 'rel_diff' for each category\n",
    "avg_rel_diff_by_price_cat = df_reduced.groupby('Price_Category', observed=True)['max_rel_diff_perIDGroup'].median().reset_index()\n",
    "\n",
    "# Plotting\n",
    "plt.figure(figsize=(10, 6))\n",
    "sns.barplot(data=avg_rel_diff_by_price_cat, x='Price_Category', y='max_rel_diff_perIDGroup')\n",
    "plt.title('Average Relative Difference in Price by Price Category')\n",
    "plt.xlabel('Price in USD Category')\n",
    "plt.ylabel('Average Relative Difference (%)')\n",
    "plt.tight_layout()\n",
    "plt.show()"
   ]
  },
  {
   "cell_type": "markdown",
   "metadata": {},
   "source": [
    "** The average price spread grows with commute time**"
   ]
  },
  {
   "cell_type": "code",
   "execution_count": 58,
   "metadata": {},
   "outputs": [
    {
     "data": {
      "image/png": "[encoded data removed]",
      "text/plain": [
       "<Figure size 1000x600 with 1 Axes>"
      ]
     },
     "metadata": {},
     "output_type": "display_data"
    }
   ],
   "source": [
    "# Adjust bins based on the new categories in minutes\n",
    "bins = [-float('inf'), 120, 240, 480,750, float('inf')]\n",
    "labels = ['<2h', '2-4h', '4-6h','6-8' ,'>8h']\n",
    "\n",
    "# Bin 'commute_time' into categories directly, no need to convert to hours since it's already in minutes\n",
    "df_reduced['Commute_Time_Category'] = pd.cut(df_reduced['commute_time'], bins=bins, labels=labels)\n",
    "\n",
    "# Group by the new 'Commute_Time_Category' and calculate the mean 'max_rel_diff_perIDGroup' for each category\n",
    "avg_rel_diff_by_commute_cat = df_reduced.groupby('Commute_Time_Category', observed = True)['max_rel_diff_perIDGroup'].mean().reset_index()\n",
    "\n",
    "# Plotting the average relative difference by commute time category\n",
    "plt.figure(figsize=(10, 6))\n",
    "sns.barplot(data=avg_rel_diff_by_commute_cat, x='Commute_Time_Category', y='max_rel_diff_perIDGroup')\n",
    "plt.title('Average Relative Difference in Price by Commute Time Category')\n",
    "plt.xlabel('Commute Time Category')\n",
    "plt.ylabel('Average Relative Difference (%)')\n",
    "plt.tight_layout()\n",
    "plt.show()\n"
   ]
  },
  {
   "cell_type": "markdown",
   "metadata": {},
   "source": [
    "**Most Airlines seem to have an average price-spread in between of 3.5 and 4.5**"
   ]
  },
  {
   "cell_type": "code",
   "execution_count": 59,
   "metadata": {},
   "outputs": [
    {
     "data": {
      "image/png": "[encoded data removed]",
      "text/plain": [
       "<Figure size 1000x600 with 1 Axes>"
      ]
     },
     "metadata": {},
     "output_type": "display_data"
    }
   ],
   "source": [
    "import pandas as pd\n",
    "import matplotlib.pyplot as plt\n",
    "import seaborn as sns\n",
    "\n",
    "# Step 1: Calculate the conditional mean of 'rel_diff' for each airline\n",
    "avg_rel_diff_per_airline = df_reduced.groupby('airline_code', observed=True)['max_rel_diff_perIDGroup'].mean().reset_index()\n",
    "\n",
    "# Define bins and labels for the categorized means\n",
    "bins = [-float('inf'), 0.5, 1.5, 2.5, 3.5, 4.5, 5.5, float('inf')]\n",
    "labels = ['<0.5', '0.5-1.5', '1.5-2.5', '2.5-3.5', '3.5-4.5', '4.5-5.5', '>5.5']\n",
    "\n",
    "# Step 2: Categorize these averages into the specified bins\n",
    "avg_rel_diff_per_airline['avg_rel_diff_bin'] = pd.cut(avg_rel_diff_per_airline['max_rel_diff_perIDGroup'], bins=bins, labels=labels)\n",
    "\n",
    "# Step 3: Count how many airlines fall into each bin\n",
    "airlines_per_bin = avg_rel_diff_per_airline['avg_rel_diff_bin'].value_counts().sort_index()\n",
    "\n",
    "# Plotting the result\n",
    "airlines_per_bin.plot(kind='bar', figsize=(10, 6), color='skyblue')\n",
    "plt.title('Number of Airlines by Average Relative Difference Bin')\n",
    "plt.xlabel('Average Relative Difference Bin')\n",
    "plt.ylabel('Number of Airlines')\n",
    "plt.xticks(rotation=45)\n",
    "plt.grid(axis='y', linestyle='--')\n",
    "plt.show()\n"
   ]
  },
  {
   "cell_type": "code",
   "execution_count": null,
   "metadata": {},
   "outputs": [],
   "source": [
    "# Group airlines by their average 'rel_diff' bin\n",
    "grouped_airlines = avg_rel_diff_per_airline.groupby('avg_rel_diff_bin')['airline_code'].apply(list)\n",
    "\n",
    "# Convert to a DataFrame for a nicer display, if desired\n",
    "grouped_airlines_df = grouped_airlines.reset_index().rename(columns={'airline_code': 'Airlines'})\n",
    "# Adjust display settings\n",
    "pd.set_option('display.max_columns', 15)  # Show all columns\n",
    "pd.set_option('display.max_rows', 15)  # Show all rows\n",
    "pd.set_option('display.max_colwidth', None)  # Show full content of each cell\n",
    "\n",
    "# Display the DataFrame\n",
    "print(grouped_airlines_df)\n"
   ]
  },
  {
   "cell_type": "code",
   "execution_count": null,
   "metadata": {},
   "outputs": [],
   "source": [
    "pd.set_option('display.max_columns', None)"
   ]
  },
  {
   "cell_type": "code",
   "execution_count": null,
   "metadata": {},
   "outputs": [],
   "source": [
    "mask = df_reduced[\"max_rel_diff_perIDGroup\"] >= 7"
   ]
  },
  {
   "cell_type": "code",
   "execution_count": null,
   "metadata": {},
   "outputs": [],
   "source": [
    "a = df_reduced[mask]\n",
    "a.columns"
   ]
  },
  {
   "cell_type": "code",
   "execution_count": null,
   "metadata": {},
   "outputs": [],
   "source": [
    "df_reduced.Assigned_Country.value_counts()"
   ]
  },
  {
   "cell_type": "code",
   "execution_count": null,
   "metadata": {},
   "outputs": [],
   "source": [
    "df_arbitrage = df_reduced[df_reduced['max_rel_diff_perIDGroup']>4]"
   ]
  },
  {
   "cell_type": "code",
   "execution_count": null,
   "metadata": {},
   "outputs": [],
   "source": [
    "df_arbitrage.count()"
   ]
  },
  {
   "cell_type": "code",
   "execution_count": null,
   "metadata": {},
   "outputs": [],
   "source": [
    "df_arbitrage.head()"
   ]
  },
  {
   "cell_type": "markdown",
   "metadata": {},
   "source": [
    "Which countries are the cheapest?"
   ]
  },
  {
   "cell_type": "code",
   "execution_count": null,
   "metadata": {},
   "outputs": [],
   "source": [
    "\n",
    "cheap_df = df_reduced[(df_reduced['rel_diff_to_min'] == 0) & (df_reduced['max_rel_diff_perIDGroup'] > 1)]\n",
    "\n",
    "# Get the distribution of 'Assigned_Country' in the filtered DataFrame\n",
    "country_distribution = cheap_df['Assigned_Country'].value_counts()\n",
    "\n",
    "# Display the distribution\n",
    "print(country_distribution)\n"
   ]
  },
  {
   "cell_type": "code",
   "execution_count": null,
   "metadata": {},
   "outputs": [],
   "source": [
    "df_reduced.Commute_Time_Category.value_counts()"
   ]
  },
  {
   "cell_type": "code",
   "execution_count": null,
   "metadata": {},
   "outputs": [],
   "source": [
    "df_reduced.columns"
   ]
  },
  {
   "cell_type": "code",
   "execution_count": null,
   "metadata": {},
   "outputs": [],
   "source": [
    "df_reduced.FlightID_in_Countries_Count.count()"
   ]
  },
  {
   "cell_type": "code",
   "execution_count": null,
   "metadata": {},
   "outputs": [],
   "source": [
    "df_reduced[(df_reduced['max_rel_diff_perIDGroup'] == df_reduced['rel_diff_to_min'])& (df_reduced['max_abs_diff_perIDGroup'] >= 0)].count()"
   ]
  },
  {
   "cell_type": "code",
   "execution_count": null,
   "metadata": {},
   "outputs": [],
   "source": [
    "\n",
    "expensive_df = df_reduced[(df_reduced['rel_diff_to_min'] == df_reduced['max_rel_diff_perIDGroup']) & (df_reduced['max_abs_diff_perIDGroup'] > 0)]\n",
    "\n",
    "# Get the distribution of 'Assigned_Country' in the filtered DataFrame\n",
    "country_distribution = expensive_df['Assigned_Country'].value_counts()\n",
    "\n",
    "# Display the distribution\n",
    "print(country_distribution)\n"
   ]
  },
  {
   "cell_type": "code",
   "execution_count": null,
   "metadata": {},
   "outputs": [],
   "source": [
    "filtered_df.describe()"
   ]
  },
  {
   "cell_type": "code",
   "execution_count": null,
   "metadata": {},
   "outputs": [],
   "source": []
  },
  {
   "cell_type": "code",
   "execution_count": null,
   "metadata": {},
   "outputs": [],
   "source": [
    "a_sorted = a.sort_values(by=['Flight_ID','rel_diff_to_min'])\n",
    "\n",
    "# Then, select only the predefined columns\n",
    "columns_to_view = ['Flight_ID', 'airline_code', 'First_flight', 'days_until_departure', 'Price_in_USD', 'max', 'min', 'max_abs_diff_perIDGroup', 'max_rel_diff_perIDGroup', 'abs_diff_to_min', 'rel_diff_to_min', 'Assigned_Country']\n",
    "a_sorted_selected = a_sorted[columns_to_view]\n",
    "\n",
    "# Display the sorted and filtered DataFrame\n",
    "a_sorted_selected"
   ]
  },
  {
   "cell_type": "code",
   "execution_count": null,
   "metadata": {},
   "outputs": [],
   "source": [
    "sns.kdeplot(df_reduced['max_rel_diff_perIDGroup'], fill=True)\n",
    "plt.xlabel('rel_diff')\n",
    "plt.title('Density Plot of Column Name')\n",
    "plt.show()"
   ]
  },
  {
   "cell_type": "code",
   "execution_count": null,
   "metadata": {},
   "outputs": [],
   "source": [
    "sns.kdeplot(df_reduced['rel_diff_to_min'], fill=True)\n",
    "plt.xlabel('rel_diff')\n",
    "plt.title('Density Plot of Column Name')\n",
    "plt.show()"
   ]
  },
  {
   "cell_type": "code",
   "execution_count": null,
   "metadata": {},
   "outputs": [],
   "source": [
    "avg_rel_diff_per_airline "
   ]
  },
  {
   "cell_type": "code",
   "execution_count": null,
   "metadata": {},
   "outputs": [],
   "source": [
    "import pandas as pd\n",
    "import matplotlib.pyplot as plt\n",
    "import seaborn as sns\n",
    "\n",
    "# Step 1: Calculate the conditional mean of 'rel_diff' for each airline\n",
    "avg_rel_diff_per_airline = df_reduced.groupby('airline_code')['rel_diff_to_min'].mean().reset_index()\n",
    "\n",
    "# Define bins and labels for the categorized means\n",
    "bins = [-float('inf'), 0.5, 1.5, 2.5, 3.5, 4.5, 5.5, float('inf')]\n",
    "labels = ['<0.5', '0.5-1.5', '1.5-2.5', '2.5-3.5', '3.5-4.5', '4.5-5.5', '>5.5']\n",
    "\n",
    "# Step 2: Categorize these averages into the specified bins\n",
    "avg_rel_diff_per_airline['avg_rel_diff_bin'] = pd.cut(avg_rel_diff_per_airline['rel_diff_to_min'], bins=bins, labels=labels)\n",
    "\n",
    "# Step 3: Count how many airlines fall into each bin\n",
    "airlines_per_bin = avg_rel_diff_per_airline['avg_rel_diff_bin'].value_counts().sort_index()\n",
    "\n",
    "# Plotting the result\n",
    "airlines_per_bin.plot(kind='bar', figsize=(10, 6), color='skyblue')\n",
    "plt.title('Number of Airlines by Average Relative Difference Bin')\n",
    "plt.xlabel('Average Relative Difference Bin')\n",
    "plt.ylabel('Number of Airlines')\n",
    "plt.xticks(rotation=45)\n",
    "plt.grid(axis='y', linestyle='--')\n",
    "plt.show()\n"
   ]
  },
  {
   "cell_type": "code",
   "execution_count": null,
   "metadata": {},
   "outputs": [],
   "source": [
    "import pandas as pd\n",
    "import matplotlib.pyplot as plt\n",
    "import seaborn as sns\n",
    "\n",
    "# Assuming 'df_reduced' and 'days_until_departure' columns are defined correctly above.\n",
    "\n",
    "# Define bins and labels for 'days_until_departure'\n",
    "days_bins = [-1, 30, 90, 180, float('inf')]\n",
    "days_labels = ['Last-minute (<30)', 'Short-term (30-90)', 'Medium-term (90-180)', 'Long-term (>180)']\n",
    "\n",
    "# Bin 'days_until_departure' into the defined categories\n",
    "df_reduced['Departure_Time_Category'] = pd.cut(df_reduced['days_until_departure'], bins=days_bins, labels=days_labels)\n",
    "\n",
    "# Group by the new 'Departure_Time_Category' and calculate the mean 'rel_diff' for each category\n",
    "avg_rel_diff_by_departure_cat = df_reduced.groupby('Departure_Time_Category')['rel_diff'].mean().reset_index()\n",
    "\n",
    "# Plotting\n",
    "plt.figure(figsize=(10, 6))\n",
    "sns.barplot(data=avg_rel_diff_by_departure_cat, x='Departure_Time_Category', y='rel_diff')\n",
    "plt.title('Average Relative Difference in Price by Departure Time Category')\n",
    "plt.xlabel('Departure Time Category')\n",
    "plt.ylabel('Average Relative Difference (%)')\n",
    "plt.xticks(rotation=45)  # Rotate labels for better readability\n",
    "plt.tight_layout()\n",
    "plt.show()\n"
   ]
  },
  {
   "cell_type": "code",
   "execution_count": null,
   "metadata": {},
   "outputs": [],
   "source": [
    "from scipy.stats import kruskal\n",
    "import pandas as pd\n",
    "\n",
    "# Assuming df_reduced exists and has 'departure_airport_code' and 'rel_diff'\n",
    "\n",
    "# Group data by 'departure_airport_code' and extract 'rel_diff' values\n",
    "groups = df_reduced.groupby('departure_airport_code')['rel_diff'].apply(list)\n",
    "\n",
    "# Perform Kruskal-Wallis H-test\n",
    "stat, p = kruskal(*groups)\n",
    "\n",
    "print(f'Statistic: {stat}, P-value: {p}')\n",
    "\n",
    "# Interpret the results\n",
    "alpha = 0.05  # Set a significance level\n",
    "if p < alpha:\n",
    "    print(\"Reject the null hypothesis - suggest the median 'rel_diff' differs across departure airports.\")\n",
    "else:\n",
    "    print(\"Fail to reject the null hypothesis - no evidence that the median 'rel_diff' differs across departure airports.\")\n"
   ]
  },
  {
   "cell_type": "code",
   "execution_count": null,
   "metadata": {},
   "outputs": [],
   "source": [
    "# Assuming 'price_stats' is the DataFrame that contains the relative differences for each Flight_ID\n",
    "# And assuming 'price_stats' already contains the 'rel_diff' column calculated as earlier described\n",
    "\n",
    "# Define the thresholds\n",
    "thresholds = [3, 5, 10]\n",
    "\n",
    "# Initialize a dictionary to hold the counts\n",
    "distribution_counts = {}\n",
    "\n",
    "# Calculate the percentage of total flights for each threshold\n",
    "total_flights = len(price_stats)\n",
    "for threshold in thresholds:\n",
    "    count_above_threshold = len(price_stats[price_stats['rel_diff'] > threshold])\n",
    "    distribution_counts[f\"Above {threshold}%\"] = (count_above_threshold / total_flights) * 100\n",
    "\n",
    "# Print the distribution of flights per category\n",
    "for category, percent in distribution_counts.items():\n",
    "    print(f\"{category}: {percent:.2f}% of total flights\")\n"
   ]
  },
  {
   "cell_type": "code",
   "execution_count": null,
   "metadata": {},
   "outputs": [],
   "source": [
    "import seaborn as sns\n",
    "import matplotlib.pyplot as plt\n",
    "\n",
    "# Filter df_reduced to only include rows where 'rel_diff' > 0.5\n",
    "df_filtered = df_reduced[df_reduced['rel_diff'] > 3]\n",
    "\n",
    "plt.figure(figsize=(12, 8))  # Adjust the figure size as needed\n",
    "# Use df_filtered for the plot to focus on the specified relative differences\n",
    "sns.boxplot(data=df_filtered, x='departure_airport_code', y='rel_diff', palette=\"coolwarm\")\n",
    "plt.xticks(rotation=45)  # Rotate x-axis labels for better readability\n",
    "plt.title('Impact of Departure Airport on Relative Difference (>5)')\n",
    "plt.xlabel('Departure Airport Code')\n",
    "plt.ylabel('Relative Difference')\n",
    "plt.tight_layout()  # Adjust layout to make room for the rotated x-axis labels\n",
    "plt.show()\n",
    "\n"
   ]
  },
  {
   "cell_type": "code",
   "execution_count": null,
   "metadata": {},
   "outputs": [],
   "source": [
    "# Calculate statistics for the original reduced dataset\n",
    "original_stats = {\n",
    "    'mean': df_reduced.Price_in_USD.mean(),\n",
    "    'median': df_reduced.Price_in_USD.median(),\n",
    "    'std_dev': df_reduced.Price_in_USD.std(),\n",
    "    'min': df_reduced.Price_in_USD.min(),\n",
    "    'max': df_reduced.Price_in_USD.max(),\n",
    "    'count': df_reduced.Price_in_USD.count()\n",
    "}\n",
    "\n",
    "# Calculate statistics for the significant differences dataset\n",
    "significant_stats = {\n",
    "    'mean': significant_flight_details.Price_in_USD.mean(),\n",
    "    'median': significant_flight_details.Price_in_USD.median(),\n",
    "    'std_dev': significant_flight_details.Price_in_USD.std(),\n",
    "    'min': significant_flight_details.Price_in_USD.min(),\n",
    "    'max': significant_flight_details.Price_in_USD.max(),\n",
    "    'count': significant_flight_details.Price_in_USD.count()\n",
    "}\n",
    "\n",
    "# Print the comparison\n",
    "print(\"Original Dataset Statistics:\")\n",
    "print(original_stats)\n",
    "print(\"\\nSignificant Differences Dataset Statistics:\")\n",
    "print(significant_stats)\n"
   ]
  },
  {
   "cell_type": "code",
   "execution_count": null,
   "metadata": {},
   "outputs": [],
   "source": [
    "# Get the top 10 'First_flight' for the original reduced dataset\n",
    "top_first_flights_original = df_reduced['First_flight'].value_counts().head(10)\n",
    "\n",
    "# Print the top 10 'First_flight' codes for the original reduced dataset\n",
    "print(\"Top 10 First Flights in Original Dataset:\")\n",
    "print(top_first_flights_original)\n"
   ]
  },
  {
   "cell_type": "code",
   "execution_count": null,
   "metadata": {},
   "outputs": [],
   "source": [
    "# Get the top 10 'First_flight' for the significant differences dataset\n",
    "top_first_flights_significant = significant_flight_details['First_flight'].value_counts().head(10)\n",
    "\n",
    "# Print the top 10 'First_flight' codes for the significant differences dataset\n",
    "print(\"\\nTop 10 First Flights in Significant Differences Dataset:\")\n",
    "print(top_first_flights_significant)\n"
   ]
  },
  {
   "cell_type": "code",
   "execution_count": null,
   "metadata": {},
   "outputs": [],
   "source": [
    "df_reduced.columns"
   ]
  },
  {
   "cell_type": "code",
   "execution_count": null,
   "metadata": {},
   "outputs": [],
   "source": [
    "# Add mean and median of 'commute_time' to the statistics\n",
    "original_stats.update({\n",
    "    'commute_time_min': df_reduced.commute_time.min(),\n",
    "    'commute_time_mean': df_reduced.commute_time.mean(),\n",
    "    'commute_time_median': df_reduced.commute_time.median(),\n",
    "})\n",
    "\n",
    "significant_stats.update({\n",
    "    'commute_time_min': significant_flight_details.commute_time.min(),\n",
    "    'commute_time_mean': significant_flight_details.commute_time.mean(),\n",
    "    'commute_time_median': significant_flight_details.commute_time.median(),\n",
    "})\n",
    "\n",
    "# Print the comparison\n",
    "print(\"Original Dataset Statistics:\")\n",
    "print(original_stats)\n",
    "print(\"\\nSignificant Differences Dataset Statistics:\")\n",
    "print(significant_stats)\n"
   ]
  },
  {
   "cell_type": "code",
   "execution_count": null,
   "metadata": {},
   "outputs": [],
   "source": [
    "# Get the top 10 departure airports for the original reduced dataset\n",
    "top_departure_airports_original = df_reduced.departure_airport_code.value_counts().head(10)\n",
    "top_destination_airports_original = df_reduced.destination_airport_code.value_counts().head(10)\n",
    "\n",
    "# Get the top 10 departure airports for the significant differences dataset\n",
    "top_departure_airports_significant = significant_flight_details.departure_airport_code.value_counts().head(10)\n",
    "top_destination_airports_significant = significant_flight_details.destination_airport_code.value_counts().head(10)\n",
    "\n",
    "# Print the top 10 airports for the original reduced dataset\n",
    "print(\"Top 10 Departure Airports in Original Dataset:\")\n",
    "print(top_departure_airports_original)\n",
    "print(\"\\nTop 10 Destination Airports in Original Dataset:\")\n",
    "print(top_destination_airports_original)\n",
    "\n",
    "# Print the top 10 airports for the significant differences dataset\n",
    "print(\"\\nTop 10 Departure Airports in Significant Differences Dataset:\")\n",
    "print(top_departure_airports_significant)\n",
    "print(\"\\nTop 10 Destination Airports in Significant Differences Dataset:\")\n",
    "print(top_destination_airports_significant)\n"
   ]
  },
  {
   "cell_type": "markdown",
   "metadata": {},
   "source": [
    "# Statistical Testing"
   ]
  },
  {
   "cell_type": "code",
   "execution_count": null,
   "metadata": {},
   "outputs": [],
   "source": [
    "df.to_csv('export.csv')"
   ]
  },
  {
   "cell_type": "code",
   "execution_count": null,
   "metadata": {},
   "outputs": [],
   "source": []
  },
  {
   "cell_type": "code",
   "execution_count": null,
   "metadata": {},
   "outputs": [],
   "source": [
    "from scipy.stats import f_oneway\n",
    "\n",
    "# Assuming 'flight_data' is your DataFrame containing flight information\n",
    "# 'Price' is the column containing flight prices, and 'Country' is the column containing country information\n",
    "\n",
    "# Extract prices for each country\n",
    "prices_by_country = [group['Price_in_USD'].values for name, group in df.groupby('Flight_ID')]\n",
    "\n",
    "# Perform ANOVA test\n",
    "f_statistic, p_value = f_oneway(*prices_by_country)\n",
    "\n",
    "# Interpret the results\n",
    "alpha = 0.05  # Significance level\n",
    "print(\"ANOVA results:\")\n",
    "print(\"F-statistic:\", f_statistic)\n",
    "print(\"p-value:\", p_value)\n",
    "\n",
    "if p_value < alpha:\n",
    "    print(\"There are statistically significant differences in mean flight prices among different countries.\")\n",
    "else:\n",
    "    print(\"There are no statistically significant differences in mean flight prices among different countries.\")\n"
   ]
  },
  {
   "cell_type": "code",
   "execution_count": null,
   "metadata": {},
   "outputs": [],
   "source": [
    "from scipy.stats import f_oneway\n",
    "\n",
    "# Assuming 'df' is your DataFrame containing flight information\n",
    "# 'Price_in_USD' is the column containing flight prices, and 'Assigned_Country' is the column containing country information\n",
    "\n",
    "# Extract prices for each country\n",
    "prices_by_country = [group['Price_in_USD'].values for name, group in df.groupby('Assigned_Country')]\n",
    "\n",
    "# Perform ANOVA test\n",
    "f_statistic, p_value = f_oneway(*prices_by_country)\n",
    "\n",
    "# Interpret the results\n",
    "alpha = 0.05  # Significance level\n",
    "print(\"ANOVA results:\")\n",
    "print(\"F-statistic:\", f_statistic)\n",
    "print(\"p-value:\", p_value)\n",
    "\n",
    "if p_value < alpha:\n",
    "    print(\"There are statistically significant differences in mean flight prices among different countries for the same flight route.\")\n",
    "else:\n",
    "    print(\"There are no statistically significant differences in mean flight prices among different countries for the same flight route.\")\n"
   ]
  },
  {
   "cell_type": "code",
   "execution_count": null,
   "metadata": {},
   "outputs": [],
   "source": [
    "from scipy.stats import f_oneway\n",
    "\n",
    "# Assuming 'df' is your DataFrame containing flight information\n",
    "# 'Price_in_USD' is the column containing flight prices, 'Assigned_Country' is the column containing country information\n",
    "# 'Flight_ID' is the column containing flight identifiers\n",
    "\n",
    "# Extract prices for each flight route and country\n",
    "prices_by_route_and_country = [group['Price_in_USD'].values for name, group in df.groupby(['Flight_ID', 'Assigned_Country'])]\n",
    "\n",
    "# Perform ANOVA test\n",
    "f_statistic, p_value = f_oneway(*prices_by_route_and_country)\n",
    "\n",
    "# Interpret the results\n",
    "alpha = 0.05  # Significance level\n",
    "print(\"ANOVA results:\")\n",
    "print(\"F-statistic:\", f_statistic)\n",
    "print(\"p-value:\", p_value)\n",
    "\n",
    "if p_value < alpha:\n",
    "    print(\"There are statistically significant differences in mean flight prices among different countries for the same flight route.\")\n",
    "else:\n",
    "    print(\"There are no statistically significant differences in mean flight prices among different countries for the same flight route.\")\n"
   ]
  },
  {
   "cell_type": "code",
   "execution_count": null,
   "metadata": {},
   "outputs": [],
   "source": [
    "from scipy.stats import ttest_rel\n",
    "\n",
    "# Assuming 'df' is your DataFrame containing flight information\n",
    "# 'Price_in_USD' is the column containing flight prices, and 'Flight_ID' is the column containing flight identifiers\n",
    "\n",
    "# Group the data by Flight_ID and calculate the maximum and minimum prices for each group\n",
    "max_prices = df.groupby('Flight_ID')['Price_in_USD'].max()\n",
    "min_prices = df.groupby('Flight_ID')['Price_in_USD'].min()\n",
    "\n",
    "# Perform paired samples t-test\n",
    "t_statistic, p_value = ttest_rel(max_prices, min_prices)\n",
    "\n",
    "# Interpret the results\n",
    "alpha = 0.05  # Significance level\n",
    "print(\"Paired samples t-test results:\")\n",
    "print(\"t-statistic:\", t_statistic)\n",
    "print(\"p-value:\", p_value)\n",
    "\n",
    "if p_value < alpha:\n",
    "    print(\"There is a statistically significant difference between the maximum and minimum prices of each Flight_ID.\")\n",
    "else:\n",
    "    print(\"There is no statistically significant difference between the maximum and minimum prices of each Flight_ID.\")\n"
   ]
  },
  {
   "cell_type": "code",
   "execution_count": null,
   "metadata": {},
   "outputs": [],
   "source": [
    "from scipy.stats import chi2_contingency\n",
    "\n",
    "# Create a contingency table\n",
    "contingency_table = pd.crosstab(df['Flight_ID'], df['Assigned_Country'])\n",
    "\n",
    "# Perform chi-square test of independence\n",
    "chi2_statistic, p_value, _, _ = chi2_contingency(contingency_table)\n",
    "\n",
    "# Interpret the results\n",
    "alpha = 0.05  # Significance level\n",
    "print(\"Chi-square test results:\")\n",
    "print(\"Chi-square statistic:\", chi2_statistic)\n",
    "print(\"p-value:\", p_value)\n",
    "\n",
    "if p_value < alpha:\n",
    "    print(\"There is a significant association between Flight_ID and Assigned_Country.\")\n",
    "else:\n",
    "    print(\"There is no significant association between Flight_ID and Assigned_Country.\")\n"
   ]
  },
  {
   "cell_type": "code",
   "execution_count": null,
   "metadata": {},
   "outputs": [],
   "source": [
    "from sklearn.model_selection import train_test_split\n",
    "from sklearn.linear_model import LinearRegression\n",
    "from sklearn.metrics import mean_squared_error, r2_score\n",
    "import numpy as np\n",
    "\n",
    "# Assuming X and y are defined and y is your target variable 'rel_diff'\n",
    "# Convert boolean columns in X to int if they haven't been converted yet\n",
    "X = X.astype(float)\n",
    "\n",
    "# Convert y to float if it hasn't been converted yet\n",
    "y = y.astype(float)\n",
    "\n",
    "# Split the data into training and testing sets\n",
    "X_train, X_test, y_train, y_test = train_test_split(X, y, test_size=0.2, random_state=42)\n"
   ]
  },
  {
   "cell_type": "code",
   "execution_count": null,
   "metadata": {},
   "outputs": [],
   "source": [
    "# Initialize the model\n",
    "model = LinearRegression()\n",
    "\n",
    "# Fit the model\n",
    "model.fit(X_train, y_train)\n",
    "\n",
    "# Predict on the testing set\n",
    "y_pred = model.predict(X_test)\n",
    "\n",
    "# Calculate and print metrics\n",
    "mse = mean_squared_error(y_test, y_pred)\n",
    "r2 = r2_score(y_test, y_pred)\n",
    "\n",
    "print(f'MSE: {mse:.3f}')\n",
    "print(f'R^2: {r2:.3f}')\n"
   ]
  },
  {
   "cell_type": "code",
   "execution_count": null,
   "metadata": {},
   "outputs": [],
   "source": [
    "df_reduced.columns"
   ]
  },
  {
   "cell_type": "code",
   "execution_count": null,
   "metadata": {},
   "outputs": [],
   "source": [
    "df_reduced[\"Price_difference_to_min\"] = df_reduced[\"Price_in_USD\"] - df_reduced[\"min\"] "
   ]
  },
  {
   "cell_type": "code",
   "execution_count": null,
   "metadata": {},
   "outputs": [],
   "source": [
    "df_reduced.columns"
   ]
  },
  {
   "cell_type": "code",
   "execution_count": null,
   "metadata": {},
   "outputs": [],
   "source": [
    "import pandas as pd\n",
    "from sklearn.model_selection import train_test_split\n",
    "from sklearn.linear_model import LinearRegression\n",
    "from sklearn.metrics import mean_squared_error, r2_score\n",
    "\n",
    "\n",
    "\n",
    "# Define independent and dependent variables\n",
    "X = pd.get_dummies(df_reduced[['airline_code','Price_in_USD','Assigned_Country','First_flight','days_until_departure']], drop_first=True)\n",
    "y = df_reduced['max_rel_diff_perIDGroup']\n",
    "\n",
    "# Split the dataset into training and testing sets\n",
    "X_train, X_test, y_train, y_test = train_test_split(X, y, test_size=0.2, random_state=42)\n",
    "\n",
    "# Create and fit the model\n",
    "model = LinearRegression()\n",
    "model.fit(X_train, y_train)\n",
    "\n",
    "# Predict and evaluate\n",
    "y_pred = model.predict(X_test)\n",
    "print(f\"R² score: {r2_score(y_test, y_pred)}\")\n",
    "print(f\"Mean squared error: {mean_squared_error(y_test, y_pred)}\")\n"
   ]
  },
  {
   "cell_type": "code",
   "execution_count": null,
   "metadata": {},
   "outputs": [],
   "source": [
    "# Extract the model intercept\n",
    "intercept = model.intercept_\n",
    "\n",
    "# Extract the model coefficients\n",
    "coefficients = model.coef_\n",
    "\n",
    "# Get the feature names after one-hot encoding\n",
    "feature_names = X_train.columns\n",
    "\n",
    "# Constructing the regression equation as a string\n",
    "regression_equation = f\"y = {intercept:.2f}\"\n",
    "for coef, name in zip(coefficients, feature_names):\n",
    "    regression_equation += f\" + ({coef:.2f})*{name}\"\n",
    "\n",
    "print(\"Regression Equation:\")\n",
    "print(regression_equation)\n"
   ]
  },
  {
   "cell_type": "code",
   "execution_count": null,
   "metadata": {},
   "outputs": [],
   "source": [
    "coefficients_series = pd.Series(model.coef_, index=X_train.columns)\n"
   ]
  },
  {
   "cell_type": "code",
   "execution_count": null,
   "metadata": {},
   "outputs": [],
   "source": [
    "coefficients_series.count()"
   ]
  },
  {
   "cell_type": "code",
   "execution_count": null,
   "metadata": {},
   "outputs": [],
   "source": [
    "abs(coefficients_series ) > 0"
   ]
  },
  {
   "cell_type": "code",
   "execution_count": null,
   "metadata": {},
   "outputs": [],
   "source": [
    "significant_coefficients = coefficients_series[abs(coefficients_series) > 5]\n"
   ]
  },
  {
   "cell_type": "code",
   "execution_count": null,
   "metadata": {},
   "outputs": [],
   "source": [
    "significant_coefficients.count()"
   ]
  },
  {
   "cell_type": "code",
   "execution_count": null,
   "metadata": {},
   "outputs": [],
   "source": [
    "df_reduced.max_rel_diff_perIDGroup.value_counts()"
   ]
  },
  {
   "cell_type": "code",
   "execution_count": null,
   "metadata": {},
   "outputs": [],
   "source": [
    "df_reduced.columns"
   ]
  },
  {
   "cell_type": "code",
   "execution_count": null,
   "metadata": {},
   "outputs": [],
   "source": [
    "# Calculate the mean of max_rel_diff_perIDGroup for each Flight_ID\n",
    "grouped_means = df_reduced.groupby('FlightID_in_Countries_Count')['max_rel_diff_perIDGroup'].mean()"
   ]
  },
  {
   "cell_type": "code",
   "execution_count": null,
   "metadata": {},
   "outputs": [],
   "source": [
    "df_reduced.FlightID_in_Countries_Count.value_counts()"
   ]
  },
  {
   "cell_type": "code",
   "execution_count": null,
   "metadata": {},
   "outputs": [],
   "source": [
    "df_reduced.max_rel_diff_perIDGroup.max()"
   ]
  },
  {
   "cell_type": "code",
   "execution_count": null,
   "metadata": {},
   "outputs": [],
   "source": [
    "df_reduced.Price_in_USD.value_counts()"
   ]
  },
  {
   "cell_type": "code",
   "execution_count": null,
   "metadata": {},
   "outputs": [],
   "source": [
    "df_reduced.iloc[139:142]"
   ]
  },
  {
   "cell_type": "code",
   "execution_count": null,
   "metadata": {},
   "outputs": [],
   "source": [
    "df_reduced.FlightID_in_Countries_Count.value_counts()"
   ]
  },
  {
   "cell_type": "code",
   "execution_count": null,
   "metadata": {},
   "outputs": [],
   "source": [
    "grouped_means"
   ]
  },
  {
   "cell_type": "code",
   "execution_count": null,
   "metadata": {},
   "outputs": [],
   "source": [
    "# Calculate the mean of max_rel_diff_perIDGroup for each Flight_ID\n",
    "grouped_means = df_reduced.groupby('airline_code')['max_rel_diff_perIDGroup'].mean()\n"
   ]
  },
  {
   "cell_type": "code",
   "execution_count": null,
   "metadata": {},
   "outputs": [],
   "source": [
    "grouped_means.count()"
   ]
  },
  {
   "cell_type": "code",
   "execution_count": null,
   "metadata": {},
   "outputs": [],
   "source": [
    "grouped_means.sort_values(ascending=False)"
   ]
  },
  {
   "cell_type": "code",
   "execution_count": null,
   "metadata": {},
   "outputs": [],
   "source": [
    "grouped_means.head()"
   ]
  },
  {
   "cell_type": "code",
   "execution_count": null,
   "metadata": {},
   "outputs": [],
   "source": [
    "df_reduced.max_rel_diff_perIDGroup.median()"
   ]
  },
  {
   "cell_type": "code",
   "execution_count": null,
   "metadata": {},
   "outputs": [],
   "source": [
    "import matplotlib.pyplot as plt\n",
    "\n",
    "# Plotting the histogram of the aggregated means\n",
    "plt.hist(grouped_means, bins=10, range=(0, 10), edgecolor='black')\n",
    "plt.title('Distribution of Average max_rel_diff_perIDGroup per Flight_ID')\n",
    "plt.xlabel('Average max_rel_diff_perIDGroup')\n",
    "plt.ylabel('Frequency')\n",
    "plt.show()\n"
   ]
  },
  {
   "cell_type": "code",
   "execution_count": null,
   "metadata": {},
   "outputs": [],
   "source": [
    "import pandas as pd\n",
    "import matplotlib.pyplot as plt\n",
    "\n",
    "# Plotting directly from the DataFrame\n",
    "df_reduced['max_rel_diff_perIDGroup'].hist(bins=10, range=(0, 10))\n",
    "\n",
    "plt.title('Distribution of max_rel_diff_perIDGroup')\n",
    "plt.xlabel('max_rel_diff_perIDGroup')\n",
    "plt.ylabel('Frequency')\n",
    "plt.grid(False)  # Optionally disable the grid for a cleaner look\n",
    "plt.show()\n"
   ]
  },
  {
   "cell_type": "code",
   "execution_count": null,
   "metadata": {},
   "outputs": [],
   "source": [
    "from scipy.stats import ttest_1samp\n",
    "import numpy as np\n",
    "\n",
    "# Assuming df_reduced is your DataFrame and max_rel_diff_perIDGroup is the column you're testing\n",
    "data = df_reduced['max_rel_diff_perIDGroup'].dropna()  # Drop NaN values if any\n",
    "\n",
    "# Perform the one-sample t-test against the null hypothesis that the mean is 0\n",
    "t_statistic, p_value = ttest_1samp(data, 0)\n",
    "\n",
    "print(f\"T-statistic: {t_statistic}\")\n",
    "print(f\"P-value: {p_value}\")\n",
    "\n",
    "# Interpretation\n",
    "if p_value < 0.05:\n",
    "    print(\"We reject the null hypothesis. The mean of max_rel_diff_perIDGroup is significantly different from 0.\")\n",
    "else:\n",
    "    print(\"We fail to reject the null hypothesis. There is not enough evidence to say the mean of max_rel_diff_perIDGroup is significantly different from 0.\")\n"
   ]
  },
  {
   "cell_type": "code",
   "execution_count": null,
   "metadata": {},
   "outputs": [],
   "source": [
    "top_20_significant = significant_coefficients.abs().sort_values(ascending=False).head(20)\n",
    "# To get the original coefficients (with their signs) in the order of significance:\n",
    "top_20_significant = significant_coefficients.loc[top_20_significant.index]"
   ]
  },
  {
   "cell_type": "code",
   "execution_count": null,
   "metadata": {},
   "outputs": [],
   "source": [
    "top_20_significant"
   ]
  },
  {
   "cell_type": "code",
   "execution_count": null,
   "metadata": {},
   "outputs": [],
   "source": [
    "from sklearn.linear_model import Lasso\n",
    "from sklearn.model_selection import train_test_split\n",
    "from sklearn.metrics import mean_squared_error, r2_score\n",
    "import pandas as pd\n",
    "\n",
    "# Assuming df_reduced is your DataFrame and it's already loaded\n",
    "\n",
    "# Prepare your data: Get dummies for categorical variables\n",
    "X = pd.get_dummies(df_reduced[['airline_code', 'Price_in_USD', 'Assigned_Country', 'First_flight']], drop_first=True)\n",
    "y = df_reduced['max_rel_diff_perIDGroup']\n",
    "\n",
    "# Split the dataset into training and testing sets\n",
    "X_train, X_test, y_train, y_test = train_test_split(X, y, test_size=0.2, random_state=42)\n",
    "\n",
    "# Initialize the Lasso regression model\n",
    "# alpha is the regularization strength; larger values specify stronger regularization.\n",
    "lasso_model = Lasso(alpha=0.1)  # You might need to adjust the alpha value\n",
    "\n",
    "# Fit the Lasso model to the training data\n",
    "lasso_model.fit(X_train, y_train)\n",
    "\n",
    "# Predict on the testing set\n",
    "y_pred = lasso_model.predict(X_test)\n",
    "\n",
    "# Evaluate the model\n",
    "print(f\"R² score: {r2_score(y_test, y_pred)}\")\n",
    "print(f\"Mean squared error: {mean_squared_error(y_test, y_pred)}\")\n",
    "\n",
    "# Viewing the coefficients\n",
    "coefficients = pd.Series(lasso_model.coef_, index=X_train.columns)\n",
    "print(\"Coefficients:\")\n",
    "print(coefficients)\n"
   ]
  },
  {
   "cell_type": "code",
   "execution_count": null,
   "metadata": {},
   "outputs": [],
   "source": []
  }
 ],
 "metadata": {
  "kernelspec": {
   "display_name": "playwright-trial-uIq0qThi-py3.12",
   "language": "python",
   "name": "python3"
  },
  "language_info": {
   "codemirror_mode": {
    "name": "ipython",
    "version": 3
   },
   "file_extension": ".py",
   "mimetype": "text/x-python",
   "name": "python",
   "nbconvert_exporter": "python",
   "pygments_lexer": "ipython3",
   "version": "3.12.1"
  }
 },
 "nbformat": 4,
 "nbformat_minor": 2
}
