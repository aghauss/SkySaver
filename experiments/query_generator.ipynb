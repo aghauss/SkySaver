{
 "cells": [
  {
   "cell_type": "code",
   "execution_count": 1,
   "metadata": {},
   "outputs": [],
   "source": [
    "airport_list = [\"LAX-LIS\", \"PHX-CGH\", \"LHR-CDG\",\"DFW-EWR\",\"MAN-CUN\",\"FRA-YVR\",\"LIM-DEL\",\"CAN-MUC\",\"CGK-JFK\",\"MSY-LIM\", \"MSY-FRA\", \"SCL-MEX\",\"VIE-LED\",\"MIA-PEK\",\"GRU-SAL\"]"
   ]
  },
  {
   "cell_type": "code",
   "execution_count": 2,
   "metadata": {},
   "outputs": [],
   "source": [
    "from datetime import datetime, timedelta\n",
    "import random\n",
    "import json\n",
    "\n",
    "def add_flight_dates_iterated(flight_list, start_date, end_date, iterations=1):\n",
    "    \"\"\"\n",
    "    Adds random departure and return dates to each flight in the list, with the option\n",
    "    to iterate and concatenate the results a specified number of times per entry. Ensures\n",
    "    that the departure date and return date are at least 2 days apart, but no more than\n",
    "    40 days apart.\n",
    "\n",
    "    Parameters:\n",
    "    - flight_list: List of strings with flight routes (e.g., \"FCO-MAD\")\n",
    "    - start_date: The earliest possible departure date as a string in \"dd.mm.yyyy\" format\n",
    "    - end_date: The latest possible return date as a string in \"dd.mm.yyyy\" format\n",
    "    - iterations: Number of times to create dates for each flight\n",
    "\n",
    "    Returns:\n",
    "    - A list of dictionaries, each containing the departure airport, destination airport,\n",
    "      random departure dates, and random return dates within the specified range, \n",
    "      repeated per the 'iterations' parameter.\n",
    "    \"\"\"\n",
    "    formatted_flights = []\n",
    "    start_date_dt = datetime.strptime(start_date, \"%d.%m.%Y\")\n",
    "    end_date_dt = datetime.strptime(end_date, \"%d.%m.%Y\")\n",
    "\n",
    "    for flight in flight_list:\n",
    "        departure, destination = flight.split('-')\n",
    "        for _ in range(iterations):\n",
    "            while True:\n",
    "                random_departure_date = start_date_dt + timedelta(days=random.randint(0, (end_date_dt - start_date_dt).days - 40))\n",
    "                random_return_date = random_departure_date + timedelta(days=random.randint(2, 40))\n",
    "                if random_return_date <= end_date_dt:\n",
    "                    break\n",
    "\n",
    "            formatted_flights.append({\n",
    "                \"departure\": departure,\n",
    "                \"destination\": destination,\n",
    "                \"departure_date\": random_departure_date.strftime(\"%d.%m.%Y\"),\n",
    "                \"return_date\": random_return_date.strftime(\"%d.%m.%Y\")\n",
    "            })\n",
    "\n",
    "    return formatted_flights\n"
   ]
  },
  {
   "cell_type": "code",
   "execution_count": 55,
   "metadata": {},
   "outputs": [],
   "source": [
    "a = add_flight_dates_iterated(airport_list,\"18.03.2024\",\"31.12.2024\",4)"
   ]
  },
  {
   "cell_type": "code",
   "execution_count": 56,
   "metadata": {},
   "outputs": [],
   "source": [
    "with open(\"query_1503\", 'w') as file:\n",
    "        json.dump(a, file, indent=4)"
   ]
  },
  {
   "cell_type": "code",
   "execution_count": 3,
   "metadata": {},
   "outputs": [],
   "source": [
    "b = add_flight_dates_iterated(airport_list,'20.03.2024','18.11.2024',2)"
   ]
  },
  {
   "cell_type": "code",
   "execution_count": 4,
   "metadata": {},
   "outputs": [],
   "source": [
    "with open(\"query_1603\", 'w') as file:\n",
    "        json.dump(b, file, indent=4)"
   ]
  },
  {
   "cell_type": "code",
   "execution_count": null,
   "metadata": {},
   "outputs": [],
   "source": []
  }
 ],
 "metadata": {
  "kernelspec": {
   "display_name": "playwright-trial-uIq0qThi-py3.12",
   "language": "python",
   "name": "python3"
  },
  "language_info": {
   "codemirror_mode": {
    "name": "ipython",
    "version": 3
   },
   "file_extension": ".py",
   "mimetype": "text/x-python",
   "name": "python",
   "nbconvert_exporter": "python",
   "pygments_lexer": "ipython3",
   "version": "3.12.1"
  }
 },
 "nbformat": 4,
 "nbformat_minor": 2
}
